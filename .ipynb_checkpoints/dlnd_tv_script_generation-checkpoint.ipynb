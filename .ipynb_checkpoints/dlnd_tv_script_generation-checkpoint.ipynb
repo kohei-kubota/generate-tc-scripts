{
 "cells": [
  {
   "cell_type": "markdown",
   "metadata": {
    "deletable": true,
    "editable": true
   },
   "source": [
    "# TV Script Generation\n",
    "In this project, you'll generate your own [Simpsons](https://en.wikipedia.org/wiki/The_Simpsons) TV scripts using RNNs.  You'll be using part of the [Simpsons dataset](https://www.kaggle.com/wcukierski/the-simpsons-by-the-data) of scripts from 27 seasons.  The Neural Network you'll build will generate a new TV script for a scene at [Moe's Tavern](https://simpsonswiki.com/wiki/Moe's_Tavern).\n",
    "## Get the Data\n",
    "The data is already provided for you.  You'll be using a subset of the original dataset.  It consists of only the scenes in Moe's Tavern.  This doesn't include other versions of the tavern, like \"Moe's Cavern\", \"Flaming Moe's\", \"Uncle Moe's Family Feed-Bag\", etc.."
   ]
  },
  {
   "cell_type": "code",
   "execution_count": 1,
   "metadata": {
    "collapsed": false,
    "deletable": true,
    "editable": true
   },
   "outputs": [],
   "source": [
    "\"\"\"\n",
    "DON'T MODIFY ANYTHING IN THIS CELL\n",
    "\"\"\"\n",
    "import helper\n",
    "\n",
    "data_dir = './data/simpsons/moes_tavern_lines.txt'\n",
    "text = helper.load_data(data_dir)\n",
    "# Ignore notice, since we don't use it for analysing the data\n",
    "text = text[81:]"
   ]
  },
  {
   "cell_type": "markdown",
   "metadata": {
    "deletable": true,
    "editable": true
   },
   "source": [
    "## Explore the Data\n",
    "Play around with `view_sentence_range` to view different parts of the data."
   ]
  },
  {
   "cell_type": "code",
   "execution_count": 2,
   "metadata": {
    "collapsed": false,
    "deletable": true,
    "editable": true
   },
   "outputs": [
    {
     "name": "stdout",
     "output_type": "stream",
     "text": [
      "Dataset Stats\n",
      "Roughly the number of unique words: 11492\n",
      "Number of scenes: 262\n",
      "Average number of sentences in each scene: 15.248091603053435\n",
      "Number of lines: 4257\n",
      "Average number of words in each line: 11.50434578341555\n",
      "\n",
      "The sentences 0 to 10:\n",
      "Moe_Szyslak: (INTO PHONE) Moe's Tavern. Where the elite meet to drink.\n",
      "Bart_Simpson: Eh, yeah, hello, is Mike there? Last name, Rotch.\n",
      "Moe_Szyslak: (INTO PHONE) Hold on, I'll check. (TO BARFLIES) Mike Rotch. Mike Rotch. Hey, has anybody seen Mike Rotch, lately?\n",
      "Moe_Szyslak: (INTO PHONE) Listen you little puke. One of these days I'm gonna catch you, and I'm gonna carve my name on your back with an ice pick.\n",
      "Moe_Szyslak: What's the matter Homer? You're not your normal effervescent self.\n",
      "Homer_Simpson: I got my problems, Moe. Give me another one.\n",
      "Moe_Szyslak: Homer, hey, you should not drink to forget your problems.\n",
      "Barney_Gumble: Yeah, you should only drink to enhance your social skills.\n",
      "\n",
      "\n"
     ]
    }
   ],
   "source": [
    "view_sentence_range = (0, 10)\n",
    "\n",
    "\"\"\"\n",
    "DON'T MODIFY ANYTHING IN THIS CELL\n",
    "\"\"\"\n",
    "import numpy as np\n",
    "\n",
    "print('Dataset Stats')\n",
    "print('Roughly the number of unique words: {}'.format(len({word: None for word in text.split()})))\n",
    "scenes = text.split('\\n\\n')\n",
    "print('Number of scenes: {}'.format(len(scenes)))\n",
    "sentence_count_scene = [scene.count('\\n') for scene in scenes]\n",
    "print('Average number of sentences in each scene: {}'.format(np.average(sentence_count_scene)))\n",
    "\n",
    "sentences = [sentence for scene in scenes for sentence in scene.split('\\n')]\n",
    "print('Number of lines: {}'.format(len(sentences)))\n",
    "word_count_sentence = [len(sentence.split()) for sentence in sentences]\n",
    "print('Average number of words in each line: {}'.format(np.average(word_count_sentence)))\n",
    "\n",
    "print()\n",
    "print('The sentences {} to {}:'.format(*view_sentence_range))\n",
    "print('\\n'.join(text.split('\\n')[view_sentence_range[0]:view_sentence_range[1]]))"
   ]
  },
  {
   "cell_type": "markdown",
   "metadata": {
    "deletable": true,
    "editable": true
   },
   "source": [
    "## Implement Preprocessing Functions\n",
    "The first thing to do to any dataset is preprocessing.  Implement the following preprocessing functions below:\n",
    "- Lookup Table\n",
    "- Tokenize Punctuation\n",
    "\n",
    "### Lookup Table\n",
    "To create a word embedding, you first need to transform the words to ids.  In this function, create two dictionaries:\n",
    "- Dictionary to go from the words to an id, we'll call `vocab_to_int`\n",
    "- Dictionary to go from the id to word, we'll call `int_to_vocab`\n",
    "\n",
    "Return these dictionaries in the following tuple `(vocab_to_int, int_to_vocab)`"
   ]
  },
  {
   "cell_type": "code",
   "execution_count": 3,
   "metadata": {
    "collapsed": false,
    "deletable": true,
    "editable": true
   },
   "outputs": [
    {
     "name": "stdout",
     "output_type": "stream",
     "text": [
      "{0: 'of', 1: 'gonna', 2: 'tavern', 3: 'effervescent', 4: 'has', 5: 'my', 6: 'hey', 7: 'days', 8: 'forget', 9: 'anybody', 10: 'whats', 11: 'carve', 12: \"you're\", 13: 'normal', 14: 'barney_gumble', 15: 'catch', 16: 'matter', 17: 'self', 18: 'an', 19: 'last', 20: \"i'll\", 21: 'is', 22: 'and', 23: 'moe', 24: 'moe_szyslak', 25: 'ice', 26: 'mike', 27: 'lately', 28: 'to', 29: 'me', 30: 'skills', 31: \"moe's\", 32: 'your', 33: 'one', 34: 'i', 35: 'name', 36: 'you', 37: 'homer_simpson', 38: 'listen', 39: 'another', 40: 'got', 41: 'enhance', 42: 'bart_simpson', 43: 'elite', 44: 'on', 45: 'seen', 46: 'social', 47: 'little', 48: 'rotch', 49: 'problems', 50: 'puke', 51: 'eh', 52: 'these', 53: 'where', 54: 'the', 55: 'pick', 56: 'homer', 57: 'check', 58: 'should', 59: \"i'm\", 60: 'with', 61: 'give', 62: 'yeah', 63: 'not', 64: 'there', 65: 'drink', 66: 'meet', 67: 'hello', 68: 'hold', 69: 'back', 70: 'only'}\n",
      "Tests Passed\n"
     ]
    }
   ],
   "source": [
    "import numpy as np\n",
    "import problem_unittests as tests\n",
    "\n",
    "def create_lookup_tables(text):\n",
    "    \"\"\"\n",
    "    Create lookup tables for vocabulary\n",
    "    :param text: The text of tv scripts split into words\n",
    "    :return: A tuple of dicts (vocab_to_int, int_to_vocab)\n",
    "    \"\"\"\n",
    "    # TODO: Implement Function\n",
    "#     new_text = sorted(list(set(text)))\n",
    "#     vocab_to_int = {word:i for (word, i) in enumerate(new_text)}\n",
    "#     int_to_vocab = {i:word for (word, i) in enumerate(new_text)}\n",
    "#     return (vocab_to_int, int_to_vocab)\n",
    "    vocab = set(text)\n",
    "    vocab_to_int = {word: i for (word, i) in enumerate(vocab)}\n",
    "    int_to_vocab = {i: word for (word, i) in enumerate(vocab)}\n",
    "#     for key in vocab_to_int:\n",
    "#         print(key)\n",
    "    print(vocab_to_int)\n",
    "    return (vocab_to_int, int_to_vocab)\n",
    "\n",
    "\n",
    "\"\"\"\n",
    "DON'T MODIFY ANYTHING IN THIS CELL THAT IS BELOW THIS LINE\n",
    "\"\"\"\n",
    "tests.test_create_lookup_tables(create_lookup_tables)"
   ]
  },
  {
   "cell_type": "markdown",
   "metadata": {
    "deletable": true,
    "editable": true
   },
   "source": [
    "### Tokenize Punctuation\n",
    "We'll be splitting the script into a word array using spaces as delimiters.  However, punctuations like periods and exclamation marks make it hard for the neural network to distinguish between the word \"bye\" and \"bye!\".\n",
    "\n",
    "Implement the function `token_lookup` to return a dict that will be used to tokenize symbols like \"!\" into \"||Exclamation_Mark||\".  Create a dictionary for the following symbols where the symbol is the key and value is the token:\n",
    "- Period ( . )\n",
    "- Comma ( , )\n",
    "- Quotation Mark ( \" )\n",
    "- Semicolon ( ; )\n",
    "- Exclamation mark ( ! )\n",
    "- Question mark ( ? )\n",
    "- Left Parentheses ( ( )\n",
    "- Right Parentheses ( ) )\n",
    "- Dash ( -- )\n",
    "- Return ( \\n )\n",
    "\n",
    "This dictionary will be used to token the symbols and add the delimiter (space) around it.  This separates the symbols as it's own word, making it easier for the neural network to predict on the next word. Make sure you don't use a token that could be confused as a word. Instead of using the token \"dash\", try using something like \"||dash||\"."
   ]
  },
  {
   "cell_type": "code",
   "execution_count": 4,
   "metadata": {
    "collapsed": false,
    "deletable": true,
    "editable": true
   },
   "outputs": [
    {
     "name": "stdout",
     "output_type": "stream",
     "text": [
      "Tests Passed\n"
     ]
    }
   ],
   "source": [
    "def token_lookup():\n",
    "    \"\"\"\n",
    "    Generate a dict to turn punctuation into a token.\n",
    "    :return: Tokenize dictionary where the key is the punctuation and the value is the token\n",
    "    \"\"\"\n",
    "    # TODO: Implement Function\n",
    "    symbols = set(['.', ',', '\"', ';', '!', '?', '(', ')', '--', '\\n', ':']) \n",
    "    token = ['||Period||','||Comma||','||Quotation_Mark||','||Semicolon||','||Exclamation_mark||','||Question_mark||','||Left_Parentheses||','||Right_Parentheses||','||Dash||','||Return||', '||colon||']\n",
    "    lookup_dict = dict(zip(symbols,token))\n",
    "    return lookup_dict\n",
    "\n",
    "\"\"\"\n",
    "DON'T MODIFY ANYTHING IN THIS CELL THAT IS BELOW THIS LINE\n",
    "\"\"\"\n",
    "tests.test_tokenize(token_lookup)"
   ]
  },
  {
   "cell_type": "markdown",
   "metadata": {
    "deletable": true,
    "editable": true
   },
   "source": [
    "## Preprocess all the data and save it\n",
    "Running the code cell below will preprocess all the data and save it to file."
   ]
  },
  {
   "cell_type": "code",
   "execution_count": 5,
   "metadata": {
    "collapsed": false,
    "deletable": true,
    "editable": true
   },
   "outputs": [
    {
     "name": "stdout",
     "output_type": "stream",
     "text": [
      "{0: 'effervescent', 1: 'gel', 2: 'afterglow', 3: 'hearing', 4: 'feet', 5: 're', 6: 'lemme', 7: 'duty', 8: 'alma', 9: 'alcoholic', 10: 'sanitation', 11: 'appointment', 12: 'lush', 13: 'mission', 14: 'hero', 15: 'cash', 16: 'grienke', 17: 'bothered', 18: 'manchego', 19: 'aunt', 20: 'schnapps', 21: 'huhza', 22: 'friends', 23: 'ye', 24: 'boxers', 25: 'television', 26: 'asleep', 27: 'sorts', 28: 'seething', 29: 'e', 30: 'age', 31: 'telegraph', 32: 'tourist', 33: 'wrapped', 34: 'easier', 35: 'odor', 36: 'employment', 37: 'snap', 38: 'however', 39: \"s'pose\", 40: 'faith', 41: 'rebuttal', 42: 'singers', 43: 'luck', 44: 'peeping', 45: 'explain', 46: 'roz', 47: \"tap-pullin'\", 48: 'planet', 49: 'kills', 50: 'wish-meat', 51: 'royal', 52: 'ago', 53: 'famous', 54: 'alarm', 55: 'noticing', 56: 'black', 57: 'squeals', 58: 'husband', 59: 'tying', 60: 'bus', 61: 'eyeing', 62: 'sobriety', 63: 'lady', 64: 'urge', 65: 'stopped', 66: 'comes', 67: 'sticker', 68: 'vengeful', 69: 'fustigation', 70: 'estranged', 71: 'common', 72: 'starving', 73: 'courage', 74: 'past', 75: 'go-near-', 76: 'theatrical', 77: 'karaoke', 78: \"boy's\", 79: 'noise', 80: 'indignant', 81: 'tentative', 82: 'off', 83: 'bastard', 84: 'plant', 85: 'sneaky', 86: 'spanish', 87: 'finance', 88: 'snotball', 89: 'solved', 90: 'bumped', 91: 'harvey', 92: 'personal', 93: 'seven', 94: 'delighted', 95: 'gasp', 96: 'champion', 97: 'stirring', 98: \"'er\", 99: 'they', 100: 'pride', 101: 'madonna', 102: 'i-i-i', 103: 'brunch', 104: 'jesus', 105: 'flailing', 106: 'manatee', 107: 'culkin', 108: 'vehicle', 109: 'beep', 110: 'damned', 111: 'belts', 112: 'book', 113: 'harvard', 114: 'crow', 115: 'bartenders', 116: 'kako', 117: 'pretending', 118: \"'roids\", 119: 'ron_howard', 120: 'explanation', 121: 'meditative', 122: 'espousing', 123: 'short_man', 124: 'glum', 125: 'frankly', 126: 'sympathizer', 127: 'clenched', 128: 'yards', 129: 'load', 130: 'nominated', 131: 'ears', 132: 'bold', 133: 'deliberately', 134: 'an', 135: 'thesaurus', 136: 'risqué', 137: 'seconds', 138: 'choke', 139: 'absorbent', 140: 'karaoke_machine', 141: 'displeased', 142: \"england's\", 143: 'stan', 144: 'industry', 145: 'mock-up', 146: 'online', 147: 'stars', 148: 'attached', 149: 'night', 150: 'fever', 151: 'stein-stengel-', 152: 'stir', 153: 'dipping', 154: \"here's\", 155: 'pleasant', 156: 'conclude', 157: 'jerk', 158: 'tummies', 159: \"depressin'\", 160: 'best', 161: 'pointless', 162: 'temporarily', 163: 'wikipedia', 164: 'multi-national', 165: 'sass', 166: 'pub', 167: 'vermont', 168: 'drug', 169: 'declare', 170: 'slender', 171: 'cell-ee', 172: 'half-back', 173: 'mistakes', 174: 'sieben-gruben', 175: 'banquet', 176: 'cut', 177: 'complete', 178: 'sadistic_barfly', 179: \"doin'\", 180: 'wazoo', 181: 'outs', 182: 'uglier', 183: 'belly', 184: 'unfortunately', 185: 'cheerleaders', 186: 'carny', 187: 'self-made', 188: \"soakin's\", 189: 'charter', 190: 'eighty-five', 191: 'wise', 192: 'popular', 193: 'incredulous', 194: 'fulla', 195: \"y'see\", 196: 'menace', 197: 'shock', 198: \"showin'\", 199: 'selma_bouvier', 200: 'ling', 201: 'terrorizing', 202: 'tanking', 203: \"renee's\", 204: 'heavyset', 205: 'eye-gouger', 206: 'hub', 207: 'formico', 208: 'queer', 209: 'pas', 210: 'lenny', 211: 'chunk', 212: 'specializes', 213: 'understanding', 214: '10', 215: 'fat_tony', 216: 'hello', 217: 'runt', 218: \"pressure's\", 219: 'composer', 220: 'yak', 221: 'overstressed', 222: 'undermine', 223: 'freedom', 224: 'guessing', 225: 'dejected', 226: 'four', 227: 'gamble', 228: 'happens', 229: 'philosophical', 230: 'hangs', 231: 'shutting', 232: 'hear', 233: 'boston', 234: 'searching', 235: 'annual', 236: 'twenty', 237: 'worldly', 238: 'consciousness', 239: 'hiya', 240: 'yup', 241: 'grade', 242: 'option', 243: 'patting', 244: 'face', 245: 'gayer', 246: 'part-time', 247: 'shoulders', 248: 'mortal', 249: 'reading', 250: 'psst', 251: \"wasn't\", 252: 'fit', 253: 'access', 254: 'mmm', 255: 'prison', 256: 'libraries', 257: \"lenny's\", 258: 'kadlubowski', 259: 'kent_brockman', 260: 'white', 261: 'nooo', 262: 'slip', 263: 'patron_#2', 264: 'aerosmith', 265: '15', 266: 'nbc', 267: 'beast', 268: 'raising', 269: 'other_player', 270: 'learn', 271: 'remembered', 272: 'broad', 273: 'cappuccino', 274: 'needs', 275: 'grease', 276: 'complaining', 277: 'thoughtfully', 278: 'lay', 279: 'placed', 280: 'writer', 281: 'dough', 282: 'aah', 283: 'frink-y', 284: 'waist', 285: 'person', 286: 'pizza', 287: 'advertise', 288: 'rods', 289: 'certified', 290: 'jailbird', 291: 'tearfully', 292: 'sneering', 293: 'nose', 294: 'rapidly', 295: 'price', 296: 'dames', 297: 'today/', 298: 'fell', 299: 'mock', 300: 'heliotrope', 301: 'mall', 302: 'poetry', 303: 'restless', 304: 'chow', 305: 'corn', 306: 'deserve', 307: 'hugh', 308: 'fortress', 309: 'colossal', 310: \"men's\", 311: 'abercrombie', 312: 'solely', 313: 'jackass', 314: 'sturdy', 315: \"i'unno\", 316: 'stern', 317: 'jerk-ass', 318: 'drink', 319: 'able', 320: 'african', 321: 'guys', 322: 'musta', 323: 'fellow', 324: 'prove', 325: 'cronies', 326: 'terrible', 327: 'shutup', 328: 'open-casket', 329: 'unlocked', 330: 'crooks', 331: 'going', 332: 'sickly', 333: 'occupancy', 334: 'yello', 335: 'snackie', 336: 'potato', 337: \"b-52's\", 338: 'reynolds', 339: 'navy', 340: 'canyonero', 341: 'dash', 342: 'pinchpenny', 343: 'send', 344: 'ladder', 345: 'may', 346: 'frustrated', 347: 'dramatic', 348: 'playhouse', 349: 'wash', 350: \"it's\", 351: 'proposing', 352: 'go', 353: 'friendly', 354: 'watch', 355: 'glamour', 356: 'entrance', 357: 'wrap', 358: 'restaurants', 359: 'painting', 360: 'fixed', 361: 'fine', 362: 'straight', 363: 'dame', 364: 'justify', 365: 'madman', 366: 'renovations', 367: 'butt', 368: 'improved', 369: 'horrified', 370: 'but', 371: 'button-pusher', 372: \"what're\", 373: 'ho', 374: 'good-looking', 375: 'sixty-nine', 376: \"moe's_thoughts\", 377: 'champ', 378: 'shhh', 379: 'beers', 380: 'instantly', 381: 'cheering', 382: 'fireworks', 383: 'bars', 384: 'muhammad', 385: 'signal', 386: 'professor', 387: 'eaters', 388: 'ding-a-ding-ding-ding-ding-ding-ding', 389: 'index', 390: 'authenticity', 391: 'need', 392: 'firing', 393: 'spotting', 394: \"bar's\", 395: 'team', 396: 'besides', 397: 'yeah', 398: 'tsk', 399: 'hilton', 400: 'sucker', 401: 'promotion', 402: 'demo', 403: 'cobra', 404: 'solves', 405: 'rims', 406: 'traditions', 407: \"hobo's\", 408: 'really', 409: 'appalled', 410: 'groans', 411: 'itchy', 412: 'floated', 413: 'invulnerable', 414: 'third', 415: 'connor', 416: 'booze', 417: \"comin'\", 418: 'yap', 419: 'healthier', 420: 'priest', 421: 'disturbance', 422: 'sudoku', 423: 'pants', 424: 'football', 425: 'wake', 426: 'various', 427: 'liable', 428: 'visas', 429: 'technical', 430: 'pasta', 431: \"coaster's\", 432: 'barkeeps', 433: 'half', 434: \"he'll\", 435: 'wok', 436: 'proves', 437: 'caper', 438: 'milks', 439: 'dynamite', 440: 'tow-joes', 441: 'whiny', 442: \"countin'\", 443: 'acquaintance', 444: 'cozies', 445: 'enjoy', 446: \"fendin'\", 447: 'anti-intellectualism', 448: 'spot', 449: 'decision', 450: 'atlanta', 451: 'germs', 452: 'teacup', 453: 'nards', 454: 'special', 455: 'shot', 456: 'squad', 457: 'important', 458: 'crony', 459: 'gave', 460: 'fox', 461: 'winner', 462: 'memories', 463: \"tinklin'\", 464: 'peanut', 465: 'woooooo', 466: 'garbage', 467: 'unable', 468: 'majority', 469: 'beyond', 470: 'painted', 471: 'bridge', 472: \"watchin'\", 473: 'attach', 474: 'acronyms', 475: 'arab_man', 476: 'pictured', 477: \"how'd\", 478: 'dea-d-d-dead', 479: 'reviews', 480: 'worried', 481: 'nail', 482: 'taylor', 483: 'alfred', 484: \"bo's\", 485: 'myself', 486: 'dollface', 487: 'lear', 488: 'thanksgiving', 489: 'fainted', 490: 'answering', 491: 'digging', 492: 'accurate', 493: 'grim', 494: 'year', 495: 'maggie', 496: 'ram', 497: 'repeated', 498: \"school's\", 499: 'measure', 500: 'treehouse', 501: 'advance', 502: \"livin'\", 503: 'doreen', 504: 'len-ny', 505: 'mostrar', 506: 'prime', 507: 'twelveball', 508: 'angel', 509: 'compared', 510: 'glorious', 511: 'very', 512: 'ballclub', 513: 'bags', 514: 'way', 515: 'fist', 516: 'soul', 517: 'yew', 518: 'noggin', 519: 'groin', 520: 'slipped', 521: 'reckless', 522: '_babcock', 523: 'coherent', 524: 'appropriate', 525: 'skinner', 526: '35', 527: 'studio', 528: 'wooden', 529: 'ehhh', 530: 'open', 531: 'arise', 532: 'certificate', 533: 'law-abiding', 534: 'bounced', 535: 'painless', 536: 'hunger', 537: 'else', 538: 'promised', 539: 'tow-talitarian', 540: 'brief', 541: 'jasper_beardly', 542: 'chastity', 543: 'finished', 544: \"nothin's\", 545: 'joint', 546: 'insurance', 547: 'sex', 548: 'lighter', 549: 'weird', 550: 'whispers', 551: 'wa', 552: 'sees', 553: 'nelson', 554: 'moe', 555: 'bugging', 556: 'stalin', 557: 'bronco', 558: 'terrace', 559: \"drinkin'\", 560: 'peace', 561: 'remaining', 562: 'businessman_#1', 563: 'fabulous', 564: 'hidden', 565: 'reliable', 566: 'issuing', 567: 'brow', 568: \"plank's\", 569: 'little_man', 570: \"idea's\", 571: 'beeps', 572: 'everywhere', 573: 'the_edge', 574: 'chill', 575: 'looting', 576: 'towed', 577: 'marge_simpson', 578: 'pad', 579: 'cutting', 580: 'shipment', 581: 'feed', 582: 'sistine', 583: 'ralphie', 584: 'enough', 585: 'brain-switching', 586: 'strokkur', 587: 'greatest', 588: 'owes', 589: 'shakes', 590: 'bunch', 591: 'dangerous', 592: 'suave', 593: 'slap', 594: 'trolls', 595: 'coney', 596: 'spoken', 597: 'gibson', 598: 'enjoys', 599: 'flophouse', 600: 'sagely', 601: 'swell', 602: 'clears', 603: 'laughs', 604: 'killarney', 605: 'agency', 606: 'huddle', 607: 'moon', 608: \"should've\", 609: 'machine', 610: 'golf', 611: 'reflected', 612: 'fustigate', 613: 'pro', 614: \"toot's\", 615: 'sarcastic', 616: 'parasol', 617: 'leathery', 618: \"linin'\", 619: 'knit', 620: 'cheapskates', 621: 'befriend', 622: 'cooker', 623: \"game's\", 624: 'enthusiastically', 625: 'judgments', 626: 'ground', 627: 'verticality', 628: 'haws', 629: 'gulps', 630: 'rolling', 631: 'arse', 632: 'omigod', 633: 'carve', 634: 'marched', 635: 'sharing', 636: 'beauty', 637: 'woozy', 638: '||period||', 639: 'badmouths', 640: 'prolonged', 641: 'environment', 642: \"g'on\", 643: 'inside', 644: 'hippies', 645: 'rug', 646: 'stories', 647: 'gregor', 648: \"bashir's\", 649: 'awe', 650: 'above', 651: 'releases', 652: 'coast', 653: 'watashi', 654: 'my', 655: 'traitors', 656: 'dog', 657: 'warmth', 658: 'cranberry', 659: 'family-owned', 660: 'guest', 661: 'jazz', 662: 'wad', 663: 'rip-off', 664: 'tomato', 665: 'goodnight', 666: 'ripper', 667: 'compels', 668: 'soap', 669: 'air', 670: 'cent', 671: 'abcs', 672: 'mcbain', 673: 'monorails', 674: 'sanitary', 675: 'incredible', 676: 'bowie', 677: 'wade_boggs', 678: 'gonna', 679: 'hairs', 680: 'sing', 681: 'obama', 682: 'tapered', 683: 'per', 684: 'walk', 685: 'broke', 686: 'chapstick', 687: 'sink', 688: 'fontaine', 689: 'urban', 690: 'super-nice', 691: 'homer', 692: 'raise', 693: 'activity', 694: 'jar', 695: 'paper', 696: 'seeing', 697: 'suit', 698: \"writin'\", 699: 'young_marge', 700: 'was', 701: \"liberty's\", 702: '4x4', 703: 'instead', 704: 'waltz', 705: 'spilled', 706: 'castle', 707: 'wide', 708: 'enterprising', 709: 'breaking', 710: 'indigenous', 711: 'figured', 712: \"plaster's\", 713: 'fights', 714: 'underbridge', 715: 'kinds', 716: 'deep', 717: 'smart', 718: 'prank', 719: 'engine', 720: 'flowers', 721: 'pack', 722: 'cletus_spuckler', 723: 'genius', 724: 'uneasy', 725: 'cheered', 726: 'in-ground', 727: 'taxi', 728: 'lanes', 729: 'terminated', 730: 'average', 731: 'looks', 732: 'handwriting', 733: 'beligerent', 734: 'curiosity', 735: 'train', 736: 'mexicans', 737: 'admit', 738: 'quimby', 739: 'socratic', 740: 'holiday', 741: 'kay', 742: 'brings', 743: 'juke', 744: 'aghast', 745: 'reaction', 746: 'non-american', 747: 'whoa', 748: 'victory', 749: 'starve', 750: 'believer', 751: 'hygienically', 752: 'explaining', 753: 'exchanged', 754: 'spitting', 755: 'blinded', 756: 'showed', 757: 'cheese', 758: 'hm', 759: 'lime', 760: 'ashamed', 761: 'habitrail', 762: 'become', 763: 'colonel', 764: 'lost', 765: 'soft', 766: 'authorized', 767: 'into', 768: \"g'night\", 769: 'hers', 770: 'bide', 771: \"homer'll\", 772: 'other', 773: 'could', 774: 'tail', 775: 'reporter', 776: 'chug-monkeys', 777: 'saint', 778: 'drinking', 779: 'fourth', 780: 'tones', 781: 'deny', 782: 'recommend', 783: 'anyhow', 784: 'gutenberg', 785: 'appearance-altering', 786: 'bury', 787: \"hasn't\", 788: 'aboard', 789: 'declan', 790: 'closed', 791: 'mirthless', 792: 'jeff_gordon', 793: 'julep', 794: 'fish', 795: 'theatah', 796: 'automobiles', 797: 'bartender', 798: 'imaginary', 799: 'bad', 800: 'idea', 801: 'smoke', 802: 'shoo', 803: 'bed', 804: \"burnin'\", 805: 'cyrano', 806: 'ummmmmmmmm', 807: 'fondly', 808: 'wonderful', 809: 'bullet-proof', 810: 'narrator', 811: 'drop', 812: 'ooh', 813: 'scratcher', 814: 'sucking', 815: 'tokens', 816: 'yard', 817: 'aggravated', 818: \"town's\", 819: 'closet', 820: 'paintings', 821: 'listened', 822: 'jolly', 823: 'covers', 824: 'mister', 825: 'front', 826: 'punk', 827: 'for', 828: 'whatchacallit', 829: 'peppy', 830: 'tin', 831: 'lifts', 832: 'teacher', 833: 'throats', 834: 'slogan', 835: 'realizing', 836: 'pep', 837: 'funeral', 838: 'flaking', 839: 'carney', 840: 'scout', 841: 'spouses', 842: 'everyone', 843: 'blood', 844: \"i'm\", 845: 'usual', 846: 'warm_female_voice', 847: 'shuts', 848: 'confused', 849: 'buzz', 850: 'donut', 851: \"'pu\", 852: 'henry', 853: 'gluten', 854: 'exits', 855: 'new_health_inspector', 856: 'dae', 857: 'fledgling', 858: 'safety', 859: 'telephone', 860: 'sternly', 861: 'hammock', 862: 'adjust', 863: 'au', 864: 'took', 865: 'mahatma', 866: 'commission', 867: 'people', 868: \"it'll\", 869: 'masks', 870: 'thighs', 871: 'bupkus', 872: \"askin'\", 873: 'once', 874: 'midnight', 875: 'recorder', 876: 'sack', 877: 'thomas', 878: 'mickey', 879: 'speak', 880: 'prepared', 881: 'cowardly', 882: 'slim', 883: 'ceremony', 884: 'majesty', 885: 'germany', 886: 'vulnerable', 887: 'shrugging', 888: 'mob', 889: 'school', 890: 'careful', 891: 'serious', 892: 'satisfied', 893: 'brassiest', 894: '7-year-old_brockman', 895: 'somebody', 896: 'flame', 897: 'partner', 898: 'beach', 899: 'ohh', 900: 'voicemail', 901: 'uh-oh', 902: 'least', 903: 'low-blow', 904: 'stranger', 905: 'jacques', 906: 'smug', 907: 'billboard', 908: 'platinum', 909: 'eyesore', 910: 'health_inspector', 911: \"i'll\", 912: 'perón', 913: 'bidet', 914: 'completely', 915: \"mcstagger's\", 916: 'meant', 917: 'race', 918: 'knock', 919: 'between', 920: 'chip', 921: 'hurry', 922: 'lessee', 923: 'guess', 924: 'aw', 925: 'kansas', 926: 'alter', 927: 'cushions', 928: 'ball', 929: 'fayed', 930: 'window', 931: 'which', 932: 'nectar', 933: 'gloop', 934: 'white_rabbit', 935: 'jeez', 936: 'wrote', 937: 'hawaii', 938: 'takes', 939: 'possessions', 940: 'yes', 941: 'ancestors', 942: 'steak', 943: 'put', 944: 'surprising', 945: 'losers', 946: 'spamming', 947: 'halloween', 948: 'dum-dum', 949: 'absentmindedly', 950: 'poplar', 951: 'talkative', 952: 'p-k', 953: 'invisible', 954: 'pointy', 955: 'provide', 956: 'buttons', 957: 'gus', 958: 'boyhood', 959: 'dies', 960: 'badge', 961: \"'evening\", 962: 'privacy', 963: 'take-back', 964: 'star', 965: 'public', 966: 'sixty', 967: 'grubby', 968: 'offensive', 969: 'knock-up', 970: 'presided', 971: 'comforting', 972: 'piling', 973: 'clapping', 974: 'rutabaga', 975: 'pawed', 976: 'november', 977: 'x-men', 978: \"rasputin's\", 979: 'sail', 980: 'stored', 981: 'aged_moe', 982: 'flying', 983: 'impeach', 984: 'presumir', 985: \"barney's\", 986: 'coined', 987: 'strap', 988: 'arm-pittish', 989: 'hare-brained', 990: 'encore', 991: 'short', 992: 'raccoons', 993: 'wars', 994: 'unless', 995: 'land', 996: 'wasted', 997: 'gary_chalmers', 998: 'cheap', 999: 'malfeasance', 1000: 'hotline', 1001: 'para', 1002: 'producers', 1003: 'realize', 1004: 'occurrence', 1005: 'reads', 1006: 'newsletter', 1007: \"g'ahead\", 1008: 'american', 1009: 'forget-me-drinks', 1010: 'jubilation', 1011: 'voyager', 1012: 'fl', 1013: 'extinguishers', 1014: 'feelings', 1015: \"snappin'\", 1016: 'hmm', 1017: 'senators', 1018: 'delivery', 1019: 'nasa', 1020: 'mild', 1021: 'lucinda', 1022: 'toys', 1023: 'pontiff', 1024: 'lie', 1025: 'during', 1026: 'seems', 1027: 'tar-paper', 1028: '||right_parentheses||', 1029: \"you've\", 1030: 'geyser', 1031: 'mid-conversation', 1032: 'negative', 1033: \"we'll\", 1034: 'done', 1035: 'amber', 1036: 'examines', 1037: 'medical', 1038: 'gig', 1039: 'loud', 1040: 'crap', 1041: 'screws', 1042: 'hoped', 1043: 'shoot', 1044: 'nice', 1045: 'wishing', 1046: 'rascals', 1047: 'seamstress', 1048: 'polite', 1049: 'little', 1050: 'it', 1051: 'center', 1052: 'strain', 1053: 'glee', 1054: 'gang', 1055: 'ralph_wiggum', 1056: 'square', 1057: 'affection', 1058: 'broadway', 1059: 'ugh', 1060: \"mopin'\", 1061: 'cops', 1062: 'son-of-a', 1063: 'hits', 1064: 'young_moe', 1065: 'stab', 1066: 'kool', 1067: 'snitch', 1068: \"tryin'\", 1069: '||left_parentheses||', 1070: \"can't\", 1071: 'counting', 1072: 'phrase', 1073: 'bears', 1074: 'wine', 1075: 'wha', 1076: 'whatever', 1077: 'gargoyle', 1078: 'blob', 1079: 'spy', 1080: 'never', 1081: 'shush', 1082: 'worthless', 1083: 'surprised', 1084: 'minute', 1085: 'spending', 1086: 'vin', 1087: 'manuel', 1088: 'skeptical', 1089: 'throwing', 1090: 'hunting', 1091: 'suspended', 1092: 'almond', 1093: 'evasive', 1094: 'its', 1095: 'lance', 1096: 'lives', 1097: 'biggest', 1098: 'taken', 1099: 'behavior', 1100: \"patrick's\", 1101: 'admirer', 1102: 'tolerance', 1103: 'low', 1104: 'true', 1105: \"collector's\", 1106: 'liability', 1107: 'mrs', 1108: 'dizer', 1109: 'co-sign', 1110: 'twins', 1111: 'spit-backs', 1112: 'pharmaceutical', 1113: 'decided', 1114: 'sweaty', 1115: 'cookies', 1116: 'acceptance', 1117: 'pickle', 1118: 'taunting', 1119: 'pip', 1120: \"everyone's\", 1121: 'department', 1122: \"chewin'\", 1123: 'grocery', 1124: 'sister', 1125: 'yourse', 1126: 'overflowing', 1127: 'peach', 1128: 'classy', 1129: 'horns', 1130: 'reasons', 1131: \"hangin'\", 1132: 'road', 1133: 'junebug', 1134: 'foil', 1135: 'tidy', 1136: 'sequel', 1137: 'vampires', 1138: 'polishing', 1139: 'entertainer', 1140: 'ballot', 1141: 'bread', 1142: 'following', 1143: 'leave', 1144: 'walks', 1145: 'mm', 1146: 'secret', 1147: 'yogurt', 1148: 'anger', 1149: 'winded', 1150: 'behind', 1151: 'rap', 1152: '7g', 1153: 'brilliant', 1154: 'natural', 1155: 'dammit', 1156: 'same', 1157: 'fox_mulder', 1158: 'effect', 1159: 'tempting', 1160: 'laughter', 1161: \"this'll\", 1162: 'tall', 1163: 'amanda', 1164: 'splattered', 1165: 'corporate', 1166: 'bird', 1167: 'backgammon', 1168: 'studied', 1169: 'hurting', 1170: 'delicate', 1171: 'accusing', 1172: 'clientele', 1173: 'sat', 1174: 'doll', 1175: 'idiot', 1176: 'whatchamacallit', 1177: 'intruding', 1178: 'gasps', 1179: 'sexual', 1180: 'erasers', 1181: 'shriners', 1182: 'golden', 1183: 'driveability', 1184: 'author', 1185: 'forbidden', 1186: 'whispered', 1187: 'stock', 1188: 'sleeps', 1189: 'barney-type', 1190: 'theater', 1191: 'patrons', 1192: 'hole', 1193: 'girlfriend', 1194: 'alcoholism', 1195: 'replace', 1196: 'vigilante', 1197: 'babe', 1198: 'letter', 1199: 'grabbing', 1200: 'perfect', 1201: 'payments', 1202: 'extended', 1203: 'cock', 1204: 'chubby', 1205: 'dice', 1206: 'worst', 1207: 'hah', 1208: 'moe_szyslak', 1209: 'starts', 1210: 'twenty-five', 1211: 'tobacky', 1212: 'elaborate', 1213: 'sharps', 1214: 'quebec', 1215: \"he'd\", 1216: '_kissingher', 1217: \"lookin'\", 1218: \"ma's\", 1219: \"father's\", 1220: 'scully', 1221: 'suru', 1222: 'shirt', 1223: \"fallin'\", 1224: 'disguised', 1225: 'cards', 1226: 'limber', 1227: 'less', 1228: 'money', 1229: 'later', 1230: 'fatso', 1231: 'appreciated', 1232: \"playin'\", 1233: \"aren'tcha\", 1234: 'throw', 1235: 'impress', 1236: 'habit', 1237: 'characteristic', 1238: 'carey', 1239: 'expired', 1240: 'convenient', 1241: 'indifference', 1242: 'attitude', 1243: 'labels', 1244: 'twenty-nine', 1245: 'more', 1246: 'tv_daughter', 1247: 'neighbors', 1248: 'tuborg', 1249: 'follow', 1250: 'decadent', 1251: 'poison', 1252: 'cats', 1253: 'says', 1254: 'dropped', 1255: 'squadron', 1256: 'represent', 1257: 'lee', 1258: 'love-matic', 1259: 'clearly', 1260: 'twenty-two', 1261: 'boxing', 1262: 'business', 1263: 'sinister', 1264: 'regretful', 1265: 'waste', 1266: 'teams', 1267: 'carl_carlson', 1268: 'passenger', 1269: 'bookie', 1270: 'awkwardly', 1271: 'anonymous', 1272: 'charged', 1273: 'refreshingness', 1274: 'scientific', 1275: 'idealistic', 1276: 'dreamily', 1277: \"wallet's\", 1278: 'ungrateful', 1279: 'contest', 1280: 'drinks', 1281: 'sent', 1282: 'massachusetts', 1283: 'hangout', 1284: \"didn't\", 1285: 'grandé', 1286: 'aside', 1287: 'midge', 1288: 'swimmers', 1289: 'crowds', 1290: 'month', 1291: \"takin'\", 1292: 'gary', 1293: 'leno', 1294: 'scooter', 1295: 'lloyd', 1296: \"doctor's\", 1297: 'puke', 1298: 'calling', 1299: 'rummy', 1300: 'easy', 1301: 'bake', 1302: \"rustlin'\", 1303: 'caricature', 1304: 'hotenhoffer', 1305: 'gin', 1306: 'dress', 1307: 'ghouls', 1308: 'doppler', 1309: 'slight', 1310: 'rueful', 1311: 'grammar', 1312: 'harm', 1313: 'frazier', 1314: 'fire', 1315: 'desperate', 1316: 'fires', 1317: 'chosen', 1318: 'edna-lover-one-seventy-two', 1319: 'wife', 1320: 'umm', 1321: 'smiling', 1322: 'richer', 1323: 'allowed', 1324: 'group', 1325: 'specials', 1326: \"weren't\", 1327: 'smells', 1328: 'sinkhole', 1329: 'wuss', 1330: 'illegally', 1331: 'padres', 1332: 'outlive', 1333: \"betsy'll\", 1334: 'düffenbraus', 1335: '||comma||', 1336: 'result', 1337: 'shortcomings', 1338: 'hubub', 1339: 'louisiana', 1340: 'hateful', 1341: \"startin'\", 1342: 'fence', 1343: 'lisa_simpson', 1344: 'intention', 1345: 'fountain', 1346: 'rainier', 1347: 'problemo', 1348: 'reminded', 1349: 'excuse', 1350: 'ze-ro', 1351: 'eternity', 1352: 'ha', 1353: 'revenge', 1354: 'cans', 1355: 'chug', 1356: 'showing', 1357: 'tonic', 1358: 'sports', 1359: 'oooo', 1360: 'chinese', 1361: 'disgrace', 1362: 'aims', 1363: 'jogging', 1364: 'perking', 1365: 'title', 1366: 'disdainful', 1367: 'devils', 1368: 'lifters', 1369: 'hooters', 1370: 'space', 1371: 'stools', 1372: '70', 1373: 'against', 1374: 'exchange', 1375: 'offa', 1376: '3rd_voice', 1377: 'chips', 1378: 'dan_gillick', 1379: \"battin'\", 1380: 'amber_dempsey', 1381: 'byrne', 1382: 'furious', 1383: 'literary', 1384: 'weirded-out', 1385: 'bobo', 1386: 'icy', 1387: \"hadn't\", 1388: 'answered', 1389: 'punches', 1390: 'cup', 1391: 'side', 1392: 'whaddaya', 1393: 'elmer', 1394: 'sheets', 1395: 'gold', 1396: 'aging', 1397: 'sooner', 1398: 'occupied', 1399: 'comeback', 1400: 'homers', 1401: 'tick', 1402: 'jam', 1403: 'in-in-in', 1404: 'sam', 1405: 'nickels', 1406: 'shaved', 1407: 'stops', 1408: 'generously', 1409: 'accelerating', 1410: 'crisis', 1411: 'unexplained', 1412: '_montgomery_burns', 1413: 'municipal', 1414: 'doors', 1415: 'pus-bucket', 1416: '8', 1417: 'power', 1418: 'mouth', 1419: 'boxcars', 1420: 'lindsay_naegle', 1421: \"y'money's\", 1422: 'colorado', 1423: 'friday', 1424: 'drollery', 1425: 'chumbawamba', 1426: 'chipped', 1427: 'shard', 1428: 'dreams', 1429: 'airport', 1430: \"fightin'\", 1431: 'w-a-3-q-i-zed', 1432: 'poet', 1433: 'securities', 1434: 'jerry', 1435: 'kramer', 1436: 'hot-rod', 1437: 'deli', 1438: 'happen', 1439: 'two', 1440: 'life-sized', 1441: 'choking', 1442: \"wouldn't-a\", 1443: 'artist', 1444: 'begin', 1445: 'fly', 1446: 'gum', 1447: 'went', 1448: 'mamma', 1449: 'soot', 1450: 'exploiter', 1451: 'stick', 1452: 'spinning', 1453: 'prejudice', 1454: 'ad', 1455: 'deadly', 1456: 'involved', 1457: 'uh', 1458: 'bit', 1459: 'beautiful', 1460: 'butts', 1461: 'ford', 1462: 'fat-free', 1463: 'written', 1464: 'self-centered', 1465: 'hated', 1466: 'practically', 1467: 'piece', 1468: 'ginger', 1469: 'na', 1470: 'shoes', 1471: 'french', 1472: 'housing', 1473: 'teenage', 1474: 'war', 1475: 'say', 1476: 'blame', 1477: 'proposition', 1478: 'earth', 1479: 'rotch', 1480: 'sour', 1481: 'kicks', 1482: 'tell', 1483: 'whisper', 1484: 'haikus', 1485: 'oh-so-sophisticated', 1486: 'cockroach', 1487: \"murphy's\", 1488: \"wonderin'\", 1489: 'tradition', 1490: 'loss', 1491: 'andrew', 1492: 'lucky', 1493: \"tatum'll\", 1494: 'excitement', 1495: 'wrestle', 1496: 'manage', 1497: 'flew', 1498: 'hardy', 1499: 'helen', 1500: 'janette', 1501: 'cousin', 1502: 'updated', 1503: 'kick-ass', 1504: 'ugliness', 1505: 'tinkle', 1506: \"sittin'\", 1507: 'named', 1508: \"she's\", 1509: \"larry's\", 1510: 'unhappy', 1511: 'mcclure', 1512: 'david_byrne', 1513: 'shout', 1514: 'alpha-crow', 1515: 'malted', 1516: 'him', 1517: 'seymour_skinner', 1518: 'ees', 1519: \"something's\", 1520: 'strategizing', 1521: 'physical', 1522: 'schmoe', 1523: 'blackjack', 1524: 'eight', 1525: 'crowbar', 1526: 'itself', 1527: 'picnic', 1528: 'mulder', 1529: 'reptile', 1530: 'combine', 1531: 'diablo', 1532: 'pills', 1533: 'forgive', 1534: 'proof', 1535: 'disapproving', 1536: 'boozehound', 1537: \"who'll\", 1538: 'remembers', 1539: 'loathe', 1540: 'beans', 1541: 'backing', 1542: 'tomorrow', 1543: 'monkeyshines', 1544: 'intense', 1545: 'cruise', 1546: 'gimme', 1547: 'dreary', 1548: 'shape', 1549: 'volunteer', 1550: \"maggie's\", 1551: 'veteran', 1552: 'survive', 1553: 'tragedy', 1554: 'wanna', 1555: 'tried', 1556: 'notorious', 1557: 'prayers', 1558: 'enemies', 1559: 'mathis', 1560: 'mushy', 1561: 'toss', 1562: 'solid', 1563: 'spoon', 1564: 'conversations', 1565: 'sobo', 1566: 'lib', 1567: 'lindsay', 1568: 'powerful', 1569: 'design', 1570: 'satisfaction', 1571: 'world', 1572: 'panties', 1573: 'melodramatic', 1574: 'nuked', 1575: 'sec_agent_#1', 1576: 'troy', 1577: 'acting', 1578: 'coal', 1579: 'mags', 1580: 'thankful', 1581: \"lisa's\", 1582: 'b', 1583: 'holds', 1584: 'troll', 1585: 'mumbling', 1586: 'suing', 1587: 'old-time', 1588: 'beneath', 1589: 'till', 1590: 'lurks', 1591: 'otherwise', 1592: 'yourself', 1593: 'mayor', 1594: 'skills', 1595: \"wife's\", 1596: 'sledge-hammer', 1597: 'outlook', 1598: 'sizes', 1599: 'mccarthy', 1600: 'sheet', 1601: 'unfair', 1602: 'salary', 1603: 'rid', 1604: 'rosey', 1605: \"how're\", 1606: 'dennis_conroy', 1607: 'somewhere', 1608: 'sunday', 1609: 'found', 1610: 'edge', 1611: 'gosh', 1612: 'kitchen', 1613: 'heart-broken', 1614: 'awww', 1615: 'sensible', 1616: 'schemes', 1617: 'fevered', 1618: 'plastic', 1619: 'championship', 1620: 'kazoo', 1621: 'legal', 1622: 'mind', 1623: 'dean', 1624: 'managed', 1625: 'bigger', 1626: 'bachelorette', 1627: 'led', 1628: 'composite', 1629: 'tv_father', 1630: \"'topes\", 1631: 'dexterous', 1632: 'awkward', 1633: 'horror', 1634: 'planned', 1635: 'out', 1636: 'pledge', 1637: 'banquo', 1638: 'disguise', 1639: 'me', 1640: 'resist', 1641: 'helllp', 1642: 'competitive', 1643: 'without', 1644: 'encouraged', 1645: 'dig', 1646: 'afraid', 1647: 'slurps', 1648: 'iddilies', 1649: 'sleep', 1650: 'crayon', 1651: 'shifty', 1652: 'having', 1653: 'tomahto', 1654: 'figures', 1655: 'selection', 1656: 'guard', 1657: 'procedure', 1658: 'pine', 1659: 'incognito', 1660: 'rainforest', 1661: \"bart's\", 1662: 'l', 1663: 'mostly', 1664: 'tha', 1665: 'ribbon', 1666: \"costume's\", 1667: 'still', 1668: 'moan', 1669: 'pleading', 1670: 'elves', 1671: 'monster', 1672: 'executive', 1673: 'uh-huh', 1674: 'typed', 1675: 'awed', 1676: 'eats', 1677: 'begins', 1678: 'legs', 1679: 'themselves', 1680: 'international', 1681: 'enlightened', 1682: 'pusillanimous', 1683: 'cliff', 1684: \"santa's\", 1685: 'overturned', 1686: 'rounds', 1687: 'burg', 1688: 'champs', 1689: 'health', 1690: \"hell's\", 1691: \"spaghetti-o's\", 1692: 'pool', 1693: \"kids'\", 1694: 'donation', 1695: 'sacajawea', 1696: 'stairs', 1697: 'startup', 1698: 'misconstrue', 1699: 'slightly', 1700: 'size', 1701: 'worth', 1702: 'synthesize', 1703: 'statue', 1704: 'youngsters', 1705: 'gets', 1706: 'better', 1707: 'pained', 1708: 'savvy', 1709: 'grammy', 1710: 'i/you', 1711: 'ominous', 1712: \"industry's\", 1713: 'root', 1714: 'reed', 1715: 'situation', 1716: 'reentering', 1717: 'standing', 1718: 'lookalikes', 1719: 'turn', 1720: 'apply', 1721: 'inflated', 1722: 'scream', 1723: 'stalwart', 1724: 'please', 1725: 'divine', 1726: 'cushion', 1727: 'heaving', 1728: 'dinner', 1729: 'managing', 1730: 'trade', 1731: 'wood', 1732: 'cocking', 1733: 'speech', 1734: 'scruffy_blogger', 1735: 'enemy', 1736: 'homunculus', 1737: 'pronto', 1738: 'bolting', 1739: 'comfortable', 1740: 'other_book_club_member', 1741: 'thought_bubble_lenny', 1742: 'guns', 1743: 'european', 1744: 'degradation', 1745: 'bust', 1746: 'awesome', 1747: 'hardwood', 1748: 'yawns', 1749: 'community', 1750: 'bar_rag', 1751: 'stomach', 1752: 'bought', 1753: 'email', 1754: 'based', 1755: 'penny', 1756: 'nobody', 1757: 'relaxed', 1758: 'dude', 1759: 'pall', 1760: 'barter', 1761: \"'s\", 1762: \"kiddin'\", 1763: 'upgrade', 1764: 'coupon', 1765: 'beefs', 1766: 'ohhhh', 1767: 'disappeared', 1768: 'change', 1769: 'gals', 1770: 'sperm', 1771: 'assassination', 1772: \"stinkin'\", 1773: 'lighting', 1774: 'principal', 1775: 'then', 1776: 'margarita', 1777: 'pretend', 1778: 'super-tough', 1779: 'kyoto', 1780: 'bowled', 1781: 'weep', 1782: 'confession', 1783: 'in', 1784: 'brightening', 1785: 'focus', 1786: 'afford', 1787: 'winks', 1788: 'pathetic', 1789: \"'em\", 1790: 'chew', 1791: 'applicant', 1792: 'feld', 1793: 'smiles', 1794: 'dressing', 1795: 'club', 1796: 'neither', 1797: 'looking', 1798: 'until', 1799: 'torn', 1800: 'away', 1801: 'east', 1802: \"kid's\", 1803: 'quimby_#2', 1804: \"time's\", 1805: 'rafters', 1806: 'sweet', 1807: 'spread', 1808: 'cecil_terwilliger', 1809: 'brainiac', 1810: 'holy', 1811: 'tsking', 1812: 'disappointed', 1813: 'locked', 1814: 'police', 1815: 'gives', 1816: 'scornfully', 1817: 'carlotta', 1818: 'wheel', 1819: 'sighs', 1820: 'seen', 1821: 'seemed', 1822: 'selma', 1823: 'triangle', 1824: 'adrift', 1825: 'skoal', 1826: 'ugliest', 1827: 'joining', 1828: 'meaning', 1829: 'latour', 1830: 'not', 1831: 'enabling', 1832: 'polish', 1833: 'coin', 1834: 'enveloped', 1835: 'roof', 1836: 'jay', 1837: 'fuss', 1838: 'exception', 1839: 'goodwill', 1840: 'recap', 1841: 'graveyard', 1842: 'produce', 1843: 'fast', 1844: 'hide', 1845: 'ignorance', 1846: 'nightmares', 1847: 'crippling', 1848: 'town', 1849: 'vodka', 1850: 'unsourced', 1851: 'chapel', 1852: 'level', 1853: 'flash-fry', 1854: 'mr', 1855: 'naturally', 1856: 'rash', 1857: 'goldarnit', 1858: 'limited', 1859: 'village', 1860: 'clandestine', 1861: 'harmony', 1862: 'gr-aargh', 1863: 'toilet', 1864: 'balls', 1865: \"secret's\", 1866: 'marquee', 1867: 'post-suicide', 1868: 'museum', 1869: 'radio', 1870: 'ashtray', 1871: 'simon', 1872: 'highway', 1873: 'stolen', 1874: 'beating', 1875: 'errrrrrr', 1876: 'pretty', 1877: 'capitalists', 1878: 'snotty', 1879: 'gin-slingers', 1880: 'successful', 1881: 'giving', 1882: 'kicked', 1883: 'chili', 1884: 'double', 1885: 'dispenser', 1886: 'hostages', 1887: 'korea', 1888: 'hate', 1889: 'uhhhh', 1890: 'rector', 1891: \"enjoyin'\", 1892: 'winnings', 1893: 'seek', 1894: 'temper', 1895: 'wave', 1896: 'dreamy', 1897: 'heartless', 1898: 'lotta', 1899: 'distaste', 1900: 'head', 1901: 'retain', 1902: 'plans', 1903: 'plug', 1904: 'own', 1905: 'chest', 1906: 'frontrunner', 1907: 'saved', 1908: 'parenting', 1909: \"pullin'\", 1910: 'quadruple-sec', 1911: \"monroe's\", 1912: 'lease', 1913: 'jams', 1914: 'practice', 1915: 'taste', 1916: 'dive', 1917: 'we', 1918: 'should', 1919: 'e-z', 1920: 'strongly', 1921: \"money's\", 1922: 'including', 1923: 'tofu', 1924: 'so', 1925: 'suds', 1926: 'handshake', 1927: 'increasingly', 1928: 'precious', 1929: 'corner', 1930: 'being', 1931: 'winning', 1932: 'kwik-e-mart', 1933: 'sacrifice', 1934: 'himself', 1935: 'rotten', 1936: 'wooooo', 1937: 'squeeze', 1938: 'frog', 1939: 'microbrew', 1940: \"'ceptin'\", 1941: 'test-', 1942: 'assert', 1943: 'contractors', 1944: 'perfected', 1945: 'good', 1946: 'gumbo', 1947: 'on', 1948: 'bonding', 1949: 'eliminate', 1950: 'wudgy', 1951: 'f-l-a-n-r-d-s', 1952: 'feat', 1953: 'according', 1954: 'slurred', 1955: 'amount', 1956: 'pass', 1957: 'naked', 1958: 'involving', 1959: 'mac-who', 1960: 'flea', 1961: 'etc', 1962: 'wisconsin', 1963: 'given', 1964: 'ehhhhhh', 1965: 'bathed', 1966: 'higher', 1967: 'meteor', 1968: 'undated', 1969: 'atari', 1970: 'trail', 1971: 'she-pu', 1972: 'pushes', 1973: 'floating', 1974: 'right', 1975: 'delivery_man', 1976: 'tells', 1977: 'calculate', 1978: 'occasional', 1979: 'woo-hoo', 1980: 'donated', 1981: 'bum', 1982: 'stripes', 1983: 'angry', 1984: 'insulin', 1985: 'bail', 1986: 'assume', 1987: 'grey', 1988: 'slobbo', 1989: 'ruin', 1990: 'klown', 1991: \"daughter's\", 1992: 'except', 1993: 'exasperated', 1994: 'our', 1995: 'evils', 1996: 'cola', 1997: 'shag', 1998: 'quite', 1999: 'kid', 2000: \"nick's\", 2001: 'chairman', 2002: 'adult', 2003: 'tv_announcer', 2004: 'owned', 2005: 'lurleen_lumpkin', 2006: 'sheepish', 2007: 'part', 2008: 'perhaps', 2009: 'hurts', 2010: 'protecting', 2011: 'dirge-like', 2012: 'dreamed', 2013: 'many', 2014: 'whistling', 2015: 'einstein', 2016: 'choice', 2017: 'd', 2018: 'bluff', 2019: 'sit', 2020: 'greedy', 2021: 'wildest', 2022: 'grammys', 2023: 'oblivious', 2024: 'seymour', 2025: 'anyway', 2026: 'burns', 2027: 'scram', 2028: 'home', 2029: \"drexel's\", 2030: 'kinda', 2031: 'justice', 2032: 'absolut', 2033: 'bright', 2034: 'hideous', 2035: 'eww', 2036: 'fast-paced', 2037: 'reserved', 2038: 'weirder', 2039: 'sport', 2040: 'edner', 2041: 'spend', 2042: 'easy-going', 2043: 'superdad', 2044: 'whatsit', 2045: \"tonight's\", 2046: 'homer_', 2047: 'upn', 2048: 'teenage_barney', 2049: 'multi-purpose', 2050: 'contemptuous', 2051: 'ends', 2052: '_timothy_lovejoy', 2053: 'breakdown', 2054: 'wheeeee', 2055: 'young_barfly', 2056: 'effects', 2057: 'mel', 2058: 'wants', 2059: 'keys', 2060: \"'kay-zugg'\", 2061: 'canoodling', 2062: 'pitcher', 2063: 'sympathetic', 2064: 'menlo', 2065: 'filled', 2066: 'chief', 2067: 'distraught', 2068: 'suspicious', 2069: 'catch', 2070: 'emergency', 2071: 'row', 2072: 'eight-year-old', 2073: 'heave-ho', 2074: 'those', 2075: 'cost', 2076: 'because', 2077: 'fiiiiile', 2078: 'crack', 2079: 'cop', 2080: 'site', 2081: 'stiffening', 2082: 'knows', 2083: 'neon', 2084: '21', 2085: 'voted', 2086: 'considering', 2087: 'meyerhof', 2088: 'france', 2089: 'aidens', 2090: 'finish', 2091: 'dirt', 2092: 'pee', 2093: 'symphonies', 2094: 'butterball', 2095: 'all-all-all', 2096: 'young', 2097: 'bottoms', 2098: 'raggie', 2099: 'die', 2100: \"d'\", 2101: 'overhearing', 2102: 'cracked', 2103: 'adeleine', 2104: 'force', 2105: \"tootin'\", 2106: 'chocolate', 2107: 'feedbag', 2108: 'scornful', 2109: \"blowin'\", 2110: 'youse', 2111: 'project', 2112: 'unjustly', 2113: 'foam', 2114: \"'your\", 2115: 'flexible', 2116: 'fonda', 2117: 'santeria', 2118: 'stingy', 2119: 'jeff', 2120: 'johnny_carson', 2121: 'yo', 2122: 'skinheads', 2123: 'investor', 2124: 'pointedly', 2125: 'genuinely', 2126: 'har', 2127: 'dear', 2128: 'billion', 2129: 'aristotle', 2130: 'purveyor', 2131: \"he's\", 2132: 'wish', 2133: 'szyslak', 2134: 'dregs', 2135: 'gun', 2136: 'balloon', 2137: 'almost', 2138: 'wolverines', 2139: 'sits', 2140: 'forty-nine', 2141: 'skin', 2142: 'deal', 2143: 'floor', 2144: 'jaegermeister', 2145: 'homer_doubles', 2146: 'micronesian', 2147: 'judges', 2148: 'spreads', 2149: 'confidence', 2150: 'walther_hotenhoffer', 2151: 'virtual', 2152: 'evil', 2153: 'fifteen', 2154: 'crab', 2155: 'british', 2156: \"president's\", 2157: 'delays', 2158: 'handler', 2159: 'bugs', 2160: 'pal', 2161: 'mill', 2162: 'waterfront', 2163: 'extreme', 2164: 'togetherness', 2165: 'reserve', 2166: \"cleanin'\", 2167: 'sat-is-fac-tion', 2168: 'joined', 2169: 'doubt', 2170: 'squirrel', 2171: 'whaaa', 2172: 'pickled', 2173: \"ragin'\", 2174: 'score', 2175: 'mirror', 2176: 'quotes', 2177: 'quality', 2178: \"cat's\", 2179: 'bathing', 2180: 'gees', 2181: 'contact', 2182: 'smelling', 2183: 'breakfast', 2184: 'windex', 2185: 'separator', 2186: 'thanks', 2187: 'toxins', 2188: 'lincoln', 2189: 'point', 2190: 'dejected_barfly', 2191: 'portentous', 2192: 'pays', 2193: 'tang', 2194: 'around', 2195: 'warned', 2196: 'chicks', 2197: 'crumble', 2198: 'paid', 2199: 'amid', 2200: 'kickoff', 2201: 'james', 2202: 'ointment', 2203: 'sign', 2204: 'forty-five', 2205: 'squashing', 2206: 'funny', 2207: 'using', 2208: 'remains', 2209: 'product', 2210: 'hammer', 2211: 'looked', 2212: 'showered', 2213: 'barbed', 2214: 'ing', 2215: \"wino's\", 2216: 'flustered', 2217: 'barflies', 2218: 'guilt', 2219: 'pirate', 2220: 'hosting', 2221: 'key', 2222: 'nameless', 2223: 'register', 2224: 'heavyweight', 2225: 'unsafe', 2226: 'hearse', 2227: 'hellhole', 2228: \"tv's\", 2229: 'lily-pond', 2230: 'exact', 2231: 'splendid', 2232: 'smoothly', 2233: 'ew', 2234: 'reach', 2235: 'tiger', 2236: 'sassy', 2237: 'sweetly', 2238: 'smiled', 2239: 'saget', 2240: 'mediterranean', 2241: 'gruff', 2242: 'ahhhh', 2243: \"o'reilly\", 2244: 'handed', 2245: 'reunion', 2246: 'candy', 2247: 'hottest', 2248: 'hired', 2249: 'conditioner', 2250: 'chase', 2251: 'eat', 2252: 'stewart', 2253: \"there's\", 2254: 'training', 2255: 'belt', 2256: \"cheerin'\", 2257: 'tribute', 2258: 'whee', 2259: 'sniffing', 2260: 'grind', 2261: 'ironed', 2262: 'dingy', 2263: 'weather', 2264: 'ireland', 2265: 'bellyaching', 2266: \"liftin'\", 2267: 'kissed', 2268: 'stuff', 2269: 'normals', 2270: 'liar', 2271: 'vincent', 2272: 'ya', 2273: 'single', 2274: 'scary', 2275: 'stares', 2276: 'information', 2277: 'bleeding', 2278: 'help', 2279: 'whenever', 2280: 'ones', 2281: 'chair', 2282: 'thrilled', 2283: 'rugged', 2284: 'flat', 2285: 'joey_kramer', 2286: 'lady-free', 2287: 'wobbly', 2288: 'crystal', 2289: 'banned', 2290: 'shaker', 2291: 'looooooooooooooooooong', 2292: 'freaking', 2293: \"dyin'\", 2294: 'homeland', 2295: 'where', 2296: 'young_homer', 2297: 'bucks', 2298: 'guy', 2299: 'microwave', 2300: 'jumping', 2301: 'beards', 2302: 'scarf', 2303: 'kucinich', 2304: 'clear', 2305: 'graves', 2306: 'benjamin', 2307: 'cakes', 2308: 'experience', 2309: 'men', 2310: \"professor's\", 2311: 'cutest', 2312: 'alien', 2313: 'coy', 2314: 'jamaican', 2315: \"fans'll\", 2316: 'tender', 2317: 'threatening', 2318: 'boozer', 2319: 'spellbinding', 2320: 'briefly', 2321: 'stretch', 2322: 'forecast', 2323: 'moron', 2324: 'blur', 2325: 'assumed', 2326: 'water', 2327: 'steinbrenner', 2328: 'paying', 2329: 'romance', 2330: 'geysir', 2331: 'obvious', 2332: 'prints', 2333: 'nothing', 2334: '_marvin_monroe', 2335: 'breath', 2336: 'grin', 2337: 'wears', 2338: 'ne', 2339: \"feelin's\", 2340: 'remodel', 2341: 'reopen', 2342: 'concentrate', 2343: 'belly-aching', 2344: 'dealie', 2345: 'officials', 2346: 'scene', 2347: \"couldn't\", 2348: 'horrible', 2349: 'puff', 2350: 'enthused', 2351: 'falling', 2352: 'kermit', 2353: 'astronauts', 2354: 'perverse', 2355: 'cannoli', 2356: 'miss_lois_pennycandy', 2357: 'liquor', 2358: 'tied', 2359: 'cuz', 2360: 'steely-eyed', 2361: \"duelin'\", 2362: 'up', 2363: 'full-bodied', 2364: 'occasion', 2365: 'pantsless', 2366: 'cause', 2367: 'mouse', 2368: 'annoying', 2369: \"disrobin'\", 2370: 'lying', 2371: 'heroism', 2372: 'exultant', 2373: 'gunter', 2374: 'clean', 2375: 'stop', 2376: 'gags', 2377: 'skins', 2378: 'bathtub', 2379: 'neighborhood', 2380: 'courts', 2381: 'cricket', 2382: 'patterns', 2383: 'pregnancy', 2384: 'hibbert', 2385: 'handoff', 2386: 'glad', 2387: 'triple-sec', 2388: \"fishin'\", 2389: 'tactful', 2390: 'cockroaches', 2391: 'problems', 2392: 'ditched', 2393: 'o', 2394: 'augustus', 2395: 'driving', 2396: 'hundred', 2397: 'medieval', 2398: 'keep', 2399: 'monkey', 2400: 'u2', 2401: 'whaaaa', 2402: 'stays', 2403: 'chic', 2404: 'kirk_van_houten', 2405: 'happily', 2406: 'helped', 2407: 'hops', 2408: 'prep', 2409: 'innocent', 2410: 'aggie', 2411: 'sometimes', 2412: 'cueball', 2413: 'working', 2414: 'presents', 2415: 'hemorrhage-amundo', 2416: 'greystash', 2417: 'spine', 2418: 'shut', 2419: 'family', 2420: 'booth', 2421: 'landfill', 2422: 'veux', 2423: 'maintenance', 2424: 'indeedy', 2425: 'incriminating', 2426: 'uses', 2427: 'lonely', 2428: 'designated', 2429: 'taught', 2430: 'bully', 2431: 'modern', 2432: 'ventriloquism', 2433: 'process', 2434: 'murmur', 2435: 'seats', 2436: 'booking', 2437: 'sealed', 2438: 'iran', 2439: 'harrowing', 2440: 'hands', 2441: 'slop', 2442: 'pickles', 2443: 'beatings', 2444: 'smuggled', 2445: 'zero', 2446: 'heavens', 2447: \"somethin'\", 2448: 'soaked', 2449: 'sound', 2450: 'frankie', 2451: 'moe-heads', 2452: 'yellow-belly', 2453: 'closer', 2454: 'yammering', 2455: 'dna', 2456: 'oof', 2457: 'close', 2458: \"poundin'\", 2459: 'domestic', 2460: 'scanning', 2461: 'honest', 2462: 'fancy', 2463: 'handle', 2464: 'failed', 2465: 'africa', 2466: \"stayin'\", 2467: 'sob', 2468: 'humanity', 2469: 'bums', 2470: \"beer's\", 2471: 'wordloaf', 2472: 'west', 2473: 'fans', 2474: 'fresh', 2475: 'student', 2476: 'tape', 2477: 'indifferent', 2478: 'fireball', 2479: 'merchants', 2480: 'crowded', 2481: 'is', 2482: 'park', 2483: 'aiden', 2484: 'pop', 2485: 'stacey', 2486: 'full', 2487: 'alec_baldwin', 2488: 'dr', 2489: 'housework', 2490: 'quimbys', 2491: 'neck', 2492: 'vacuum', 2493: 'kissingher', 2494: 'lennyy', 2495: 'tense', 2496: 'stones', 2497: 'charlie', 2498: '2', 2499: 'under', 2500: 'patty_bouvier', 2501: 'michael', 2502: 'stunned', 2503: 'already', 2504: 'cruel', 2505: 'aid', 2506: 'called', 2507: 'accidents', 2508: 'scatter', 2509: 'legally', 2510: 'motor', 2511: 'spooky', 2512: 'sucked', 2513: \"makin'\", 2514: \"raggin'\", 2515: 'texas', 2516: 'buried', 2517: 'bag', 2518: 'nachos', 2519: 'even', 2520: 'faulkner', 2521: 'renders', 2522: 'package', 2523: 'watt', 2524: 'rebuilt', 2525: 'skydiving', 2526: 'cuckoo', 2527: 'loafers', 2528: 'pocket', 2529: 'launch', 2530: 'female_inspector', 2531: 'ooo', 2532: 'grimly', 2533: 'celebrities', 2534: 'sideshow_bob', 2535: 'ken', 2536: 'dentist', 2537: 'pointing', 2538: 'high', 2539: 'adventure', 2540: 'pit', 2541: 'tapping', 2542: 'cheaper', 2543: 'history', 2544: 'living', 2545: 'sued', 2546: 'carolina', 2547: 'fake', 2548: 'upbeat', 2549: 'theme', 2550: 'this', 2551: \"cont'd\", 2552: \"who's\", 2553: 'nigeria', 2554: 'man_with_tree_hat', 2555: 'might', 2556: 'xanders', 2557: 'endorsed', 2558: 'congratulations', 2559: 'ideas', 2560: 'tip', 2561: 'toledo', 2562: 'calvin', 2563: \"tester's\", 2564: 'interested', 2565: 'tow', 2566: 'installed', 2567: 'harv', 2568: 't-shirt', 2569: 'poulet', 2570: 'feisty', 2571: 'clock', 2572: 'mayor_joe_quimby', 2573: 'local', 2574: 'twerpy', 2575: 'lawyer', 2576: 'ziff', 2577: 'rub', 2578: 'average-looking', 2579: 'modestly', 2580: 'founded', 2581: 'limits', 2582: 'beats', 2583: 'arrested', 2584: 'dumbbell', 2585: 'concerned', 2586: 'brandy', 2587: 'bless', 2588: 'mine', 2589: 'whale', 2590: 'english', 2591: 'gay', 2592: 'either', 2593: 'predecessor', 2594: 'foodie', 2595: 'religious', 2596: 'pipe', 2597: 'street', 2598: 'switch', 2599: 'stooges', 2600: 'snake-handler', 2601: 'montrer', 2602: 'anybody', 2603: 'hard', 2604: 'fact', 2605: 'sings', 2606: 'my-y-y-y-y-y', 2607: 'virile', 2608: 'cuff', 2609: 'jewish', 2610: 'irish', 2611: 'books', 2612: 'and-and', 2613: 'aer', 2614: 'awful', 2615: 'someone', 2616: 'slow', 2617: 'rat-like', 2618: 'rough', 2619: 'shaky', 2620: 'gorgeous', 2621: 'guiltily', 2622: \"mtv's\", 2623: 'word', 2624: 'probably', 2625: 'nation', 2626: 'tanked-up', 2627: \"goin'\", 2628: 'closing', 2629: 'unhook', 2630: 'candles', 2631: 'firm', 2632: 'knuckles', 2633: 'envy-tations', 2634: 'hall', 2635: \"moe's\", 2636: 'your', 2637: 'hmmmm', 2638: 'filth', 2639: 'ambrosia', 2640: 'louie', 2641: 'slaves', 2642: 'falsetto', 2643: 'wishful', 2644: 'duff_announcer', 2645: 'boneheaded', 2646: 'copy', 2647: 'tune', 2648: 'brother', 2649: 'bashir', 2650: \"i'd\", 2651: 'necklace', 2652: 'bitter', 2653: 'resigned', 2654: 'johnny', 2655: 'space-time', 2656: 'expense', 2657: 'motorcycle', 2658: 'bret', 2659: 'heaven', 2660: 'friction', 2661: 'disco', 2662: 'tickets', 2663: 'ahh', 2664: \"shan't\", 2665: 'starting', 2666: 'belch', 2667: \"floatin'\", 2668: 'wistful', 2669: 'der', 2670: 'notices', 2671: 'wing', 2672: 'macgregor', 2673: '6', 2674: 'lovejoy', 2675: 'self-esteem', 2676: 'botanical', 2677: 'bill_james', 2678: 'church', 2679: 'hounds', 2680: 'leans', 2681: 'avenue', 2682: 'early', 2683: 'enhance', 2684: 'percent', 2685: 'wreck', 2686: 'k-zug', 2687: 'mechanical', 2688: 'wangs', 2689: 'apu', 2690: 'looser', 2691: 'operation', 2692: 'sentimonies', 2693: 'favor', 2694: 'obese', 2695: 'rock', 2696: '1979', 2697: 'mumble', 2698: 'vacation', 2699: 'iranian', 2700: 'the_rich_texan', 2701: 'anyhoo', 2702: 'oddest', 2703: 'verdict', 2704: 'mount', 2705: 'mull', 2706: 'krusty_the_clown', 2707: 'baseball', 2708: 'stagey', 2709: 'ned_flanders', 2710: 'anymore', 2711: 'tap', 2712: 'wiener', 2713: 'jacksons', 2714: 'holding', 2715: 'appealing', 2716: 'spits', 2717: 'generally', 2718: 'hostile', 2719: 'whup', 2720: 'sweat', 2721: 'aged', 2722: 'after', 2723: 'from', 2724: 'invented', 2725: 'daaaaad', 2726: 'steam', 2727: 'kegs', 2728: \"wearin'\", 2729: 'depository', 2730: 'thousands', 2731: 'issues', 2732: 'happened', 2733: 'duff', 2734: 'soul-crushing', 2735: 'crossed', 2736: 'tv_husband', 2737: 'buddies', 2738: 'want', 2739: 'hook', 2740: 'beaumont', 2741: 'began', 2742: 'awfully', 2743: 'pian-ee', 2744: 'mm-hmm', 2745: 'nah', 2746: 'allow', 2747: '250', 2748: \"somebody's\", 2749: 'underwear', 2750: 'points', 2751: 'reward', 2752: 'wild', 2753: 'windshield', 2754: 'mines', 2755: 'beat', 2756: 'thunder', 2757: 'mug', 2758: 'buffet', 2759: 'drapes', 2760: 'aquafresh', 2761: 'bartholomé', 2762: 'shoe', 2763: 'disturbing', 2764: 'apartment', 2765: 'pity', 2766: 'professor_jonathan_frink', 2767: 'contemporary', 2768: 'death', 2769: 'treat', 2770: 'spied', 2771: 'sweetest', 2772: 'woodchucks', 2773: 'jukebox_record', 2774: 'drives', 2775: 'sloe', 2776: 'duffed', 2777: 'example', 2778: 'therapy', 2779: 'dryer', 2780: 'nicer', 2781: 'jobless', 2782: 'fringe', 2783: 'channel', 2784: 'cab_driver', 2785: 'pinball', 2786: 'billiard', 2787: 'microphone', 2788: 'pancakes', 2789: 'changed', 2790: \"c'mom\", 2791: 'am', 2792: 'hardhat', 2793: 'panicked', 2794: 'months', 2795: 'lifetime', 2796: 'continuum', 2797: 'specific', 2798: 'memory', 2799: 'renee', 2800: 'station', 2801: 'recorded', 2802: 'competing', 2803: 'penmanship', 2804: 'beached', 2805: '_eugene_blatz', 2806: 'souvenir', 2807: 'trenchant', 2808: 'thirsty', 2809: \"aren't\", 2810: 'background', 2811: 'muttering', 2812: 'mansions', 2813: \"how's\", 2814: \"getting'\", 2815: 'million', 2816: 'rasputin', 2817: 'offshoot', 2818: 'grampa_simpson', 2819: 'can', 2820: 'relationship', 2821: 'contemplated', 2822: 'ruint', 2823: 'radical', 2824: 'cerebral', 2825: 'sobs', 2826: 'crappy', 2827: 'belches', 2828: 'movement', 2829: 'pridesters', 2830: 'whistles', 2831: 'simpson', 2832: 'robin', 2833: 'cage', 2834: 'crowd', 2835: 'collapse', 2836: 'don', 2837: \"we'd\", 2838: 'wrecking', 2839: 'rich', 2840: 'hearts', 2841: 'gentleman', 2842: 'deliberate', 2843: 'forbids', 2844: 'unattractive', 2845: 'prettied', 2846: 'williams', 2847: \"i-i'll\", 2848: 'ourselves', 2849: 'achebe', 2850: 'women', 2851: 'junior', 2852: 'peanuts', 2853: 'plain', 2854: 'super-genius', 2855: 'trainers', 2856: 'tax', 2857: 'approval', 2858: 'summer', 2859: 'eyeballs', 2860: 'random', 2861: \"what'd\", 2862: 'cloudy', 2863: 'kentucky', 2864: 'investment', 2865: 'snout', 2866: 'dank', 2867: 'rolled', 2868: 'fail', 2869: 'defected', 2870: 'rip', 2871: 'none', 2872: 'dee-fense', 2873: 'doing', 2874: 'first', 2875: 'salvation', 2876: 'newly-published', 2877: \"aristotle's\", 2878: 'rag', 2879: \"eatin'\", 2880: 'outstanding', 2881: 'blowfish', 2882: 'whining', 2883: 'did', 2884: 'queen', 2885: 'shrieks', 2886: \"what's\", 2887: 'must', 2888: 'god', 2889: 'delicately', 2890: 'media', 2891: 'refinanced', 2892: 'lachrymose', 2893: 'pillows', 2894: 'offended', 2895: 'tommy', 2896: 'hoo', 2897: 'lugs', 2898: 'sunglasses', 2899: 'embarrassing', 2900: 'ali', 2901: 'pleasure', 2902: 'though', 2903: 'polls', 2904: 'store-bought', 2905: 'scrutinizing', 2906: 'beings', 2907: 'next', 2908: 'gear-head', 2909: 'created', 2910: 'flown', 2911: 'popping', 2912: 'ecru', 2913: 'hobo', 2914: 'bitterly', 2915: 'ever', 2916: 'ask', 2917: 'serum', 2918: 'halfway', 2919: 'michelin', 2920: 'text', 2921: 'dad', 2922: 'guff', 2923: 'half-day', 2924: 'deeply', 2925: 'burglary', 2926: 'eyed', 2927: 'cheery', 2928: 'insults', 2929: 'patented', 2930: 'welcome', 2931: 'captain', 2932: 'license', 2933: 'fears', 2934: 'dismissive', 2935: 'nahasapeemapetilon', 2936: 'lock', 2937: 'murderously', 2938: 'throat', 2939: \"brockman's\", 2940: 'ragtime', 2941: 'agents', 2942: 'p', 2943: 'chance', 2944: 'upsetting', 2945: 'milhouse', 2946: 'trapping', 2947: 'devastated', 2948: 'killed', 2949: 'wenceslas', 2950: \"ol'\", 2951: 'hotel', 2952: 'daniel', 2953: 'yell', 2954: 'bills', 2955: 'grenky', 2956: \"it'd\", 2957: 'mike_mills', 2958: \"'cept\", 2959: 'jewelry', 2960: 'elephants', 2961: 'donor', 2962: 'fruit', 2963: 'kl5-4796', 2964: 'boggs', 2965: \"'\", 2966: 'proud', 2967: 'putty', 2968: 'porn', 2969: 'kennedy', 2970: 'trash', 2971: 'lainie', 2972: 'wakede', 2973: 'sniffs', 2974: \"cuckold's\", 2975: 'attractive_woman_#2', 2976: 'abandon', 2977: 'chub', 2978: 'wipes', 2979: 'glitterati', 2980: 'thoughtful', 2981: 'flack', 2982: 'lumpa', 2983: 'cleveland', 2984: 'electronic', 2985: 'rem', 2986: 'getcha', 2987: 'refiero', 2988: 'drove', 2989: 'prince', 2990: 'grunts', 2991: 'motto', 2992: 'three-man', 2993: '-ry', 2994: 'diving', 2995: 'grampa', 2996: 'all', 2997: 'crestfallen', 2998: 'refreshing', 2999: 'wham', 3000: 'manager', 3001: 'oughta', 3002: 'roses', 3003: 'playful', 3004: 'bell', 3005: 'declared', 3006: 'recipe', 3007: 'class', 3008: 'lowering', 3009: 'mail', 3010: 'spacey', 3011: 'furniture', 3012: 'prizefighters', 3013: 'news', 3014: 'minus', 3015: 'kirk', 3016: 'amnesia', 3017: 'shop', 3018: 'hurt', 3019: 'bloodiest', 3020: 'career', 3021: 'bar-boy', 3022: 'sea', 3023: 'forgiven', 3024: 'gift', 3025: 'stupid', 3026: '_hooper', 3027: 'creeps', 3028: 'rob', 3029: 'unattended', 3030: 'honey', 3031: 'play', 3032: 'voters', 3033: \"smokin'_joe_frazier\", 3034: 'weight', 3035: 'introduce', 3036: 'sweeter', 3037: 'kahlua', 3038: 'bagged', 3039: 'highest', 3040: 'application', 3041: 'confidentially', 3042: 'loves', 3043: 'meal', 3044: 'period', 3045: 'quarter', 3046: 'tropical', 3047: 'magnanimous', 3048: 'reader', 3049: 'brine', 3050: 'exciting', 3051: 'unbelievably', 3052: 'ihop', 3053: 'straighten', 3054: 'jackpot-thief', 3055: 'lot', 3056: 'love', 3057: 'show-off', 3058: 'impatient', 3059: 'diapers', 3060: 'normal', 3061: 'sugar', 3062: 'asses', 3063: 'politics', 3064: 'allegiance', 3065: 'rat', 3066: 'buy', 3067: 'car', 3068: 'accept', 3069: 'bones', 3070: 'um', 3071: 'falcons', 3072: 'catholic', 3073: 'worldview', 3074: 'chuck', 3075: \"world's\", 3076: 'pin', 3077: 'freely', 3078: 'walked', 3079: 'check', 3080: 'we-we-we', 3081: \"gettin'\", 3082: 'kidnaps', 3083: 'outrageous', 3084: 'shakespeare', 3085: 'nein', 3086: \"fine-lookin'\", 3087: 'pepsi', 3088: 'comment', 3089: 'plastered', 3090: 'father', 3091: 'just', 3092: 'one-hour', 3093: 'drederick', 3094: 'hillbillies', 3095: 'catching', 3096: 'hoagie', 3097: 'reached', 3098: 'squeal', 3099: 'tease', 3100: 'craft', 3101: 'sec', 3102: 'maxed', 3103: 'eve', 3104: 'ref', 3105: 'shelf', 3106: 'jets', 3107: 'booger', 3108: 'sagacity', 3109: 'work', 3110: 'match', 3111: 'strolled', 3112: 'confidential', 3113: 'congoleum', 3114: 'bachelor', 3115: 'harder', 3116: 'thousand-year', 3117: 'anti-lock', 3118: 'ninety-nine', 3119: 'investigating', 3120: 'jockey', 3121: 'payback', 3122: 'guinea', 3123: 'inspire', 3124: 'evening', 3125: 'hyper-credits', 3126: 'crowned', 3127: 'shoulda', 3128: 'kidney', 3129: 'lemonade', 3130: 'book_club_member', 3131: 'kidneys', 3132: 'turned', 3133: 'cake', 3134: 'brakes', 3135: \"springfield's\", 3136: \"i-i'm\", 3137: 'routine', 3138: 'racially-diverse', 3139: 'huge', 3140: 'fall', 3141: 'slyly', 3142: 'onto', 3143: 'placing', 3144: 'bauer', 3145: \"'now\", 3146: 'popped', 3147: 'leftover', 3148: 'jeers', 3149: 'fools', 3150: 'when', 3151: 'sap', 3152: 'forty', 3153: 'gargoyles', 3154: 'grumbling', 3155: 'a', 3156: 'sold', 3157: 'raises', 3158: 'nigel_bakerbutcher', 3159: 'moe-ron', 3160: 'answer', 3161: 'nervous', 3162: 'jigger', 3163: 'tee', 3164: 'italian', 3165: 'scrutinizes', 3166: 'quickly', 3167: 'restroom', 3168: 'ass', 3169: 'womb', 3170: 'thing', 3171: 'certainly', 3172: 'court', 3173: 'tries', 3174: \"challengin'\", 3175: 'homeless', 3176: 'stevie', 3177: 'shows', 3178: 'blade', 3179: 'county', 3180: 'fudd', 3181: 'plenty', 3182: 'candidate', 3183: 'head-gunk', 3184: 'lowers', 3185: 'changes', 3186: 'santa', 3187: 'paste', 3188: 'cross-country', 3189: 'wells', 3190: 'shells', 3191: 'annoyed', 3192: 'apulina', 3193: 'tastes', 3194: 'irrelevant', 3195: 'wire', 3196: 'blew', 3197: \"heat's\", 3198: 'dashes', 3199: \"treatin'\", 3200: 'banks', 3201: 'position', 3202: 'skirt', 3203: 'regretted', 3204: 'starters', 3205: 'drunkenly', 3206: \"ball's\", 3207: 'orders', 3208: '_burns_heads', 3209: 'presidents', 3210: 'hail', 3211: 'a-b-', 3212: \"stealin'\", 3213: 'flush', 3214: 'pointed', 3215: 'vicious', 3216: 'barkeep', 3217: 'muscle', 3218: 'fica', 3219: 'stink', 3220: 'curious', 3221: 'punching', 3222: 'disappear', 3223: \"havin'\", 3224: 'difference', 3225: 'got', 3226: 'jebediah', 3227: 'philosophic', 3228: 'excuses', 3229: 'ninety-eight', 3230: 'julienne', 3231: 'coming', 3232: \"changin'\", 3233: 'swigmore', 3234: \"s'cuse\", 3235: 'feels', 3236: \"somethin's\", 3237: 'farthest', 3238: 'respect', 3239: 'linda_ronstadt', 3240: 'plus', 3241: 'faded', 3242: 'plotz', 3243: 'clown-like', 3244: 'purse', 3245: 'item', 3246: 'darn', 3247: 'conspiratorial', 3248: 'koi', 3249: 'thirty-nine', 3250: 'th-th-th-the', 3251: 'bannister', 3252: 'minutes', 3253: 'works', 3254: 'fluoroscope', 3255: 'jobs', 3256: 'flames', 3257: 'detail', 3258: 'sense', 3259: 'clipped', 3260: 'hollye', 3261: 'reaching', 3262: 'data', 3263: 'winch', 3264: 'swan', 3265: 'potatoes', 3266: 'look', 3267: 'lobster-politans', 3268: 'continuing', 3269: 'mccall', 3270: 'german', 3271: 'burps', 3272: 'handsome', 3273: 'awake', 3274: 'enter', 3275: \"phone's\", 3276: 'patty', 3277: 'disco_stu', 3278: 'rafter', 3279: 'buzziness', 3280: 'sensitivity', 3281: 'barstools', 3282: 'blimp', 3283: 'dennis', 3284: 'salt', 3285: 'slice', 3286: 'thirteen', 3287: 'smell', 3288: 'christopher', 3289: 'muffled', 3290: 'backbone', 3291: 'cleaning', 3292: 'lately', 3293: 'fund', 3294: 'mind-numbing', 3295: 'apron', 3296: 'arts', 3297: 'promise', 3298: 'steaming', 3299: 'truth', 3300: 'sitar', 3301: 'assistant', 3302: 'groan', 3303: 'teenage_homer', 3304: 'waking-up', 3305: \"talkin'\", 3306: 'a-lug', 3307: 'militia', 3308: 'marry', 3309: 'betty', 3310: 'alternative', 3311: 'judge_snyder', 3312: 'sangre', 3313: 'toms', 3314: 'politician', 3315: \"that's\", 3316: 'yelp', 3317: 'cannot', 3318: \"america's\", 3319: 'tatum', 3320: 'troy_mcclure', 3321: 'benefits', 3322: 'raking', 3323: 'childless', 3324: 'ruined', 3325: \"queen's\", 3326: 'ninety-six', 3327: 'ehhhhhhhh', 3328: 'north', 3329: 'sponsoring', 3330: 'gossipy', 3331: \"bein'\", 3332: \"bringin'\", 3333: 'test', 3334: 'burn', 3335: 'stagy', 3336: 'keeps', 3337: 'anything', 3338: 'slobs', 3339: 'nitwit', 3340: 'mater', 3341: 'gently', 3342: 'football_announcer', 3343: 'rainier_wolfcastle', 3344: 'swear', 3345: 'touch', 3346: 'tomatoes', 3347: 'flower', 3348: 'assent', 3349: 'source', 3350: 'fella', 3351: 'guts', 3352: 'usually', 3353: 'mimes', 3354: 'stole', 3355: 'killjoy', 3356: \"beggin'\", 3357: \"year's\", 3358: 'beverage', 3359: 'leonard', 3360: 'fletcherism', 3361: 'laws', 3362: 'defeated', 3363: 'sugar-me-do', 3364: 'somehow', 3365: 'meaningfully', 3366: 'steel', 3367: 'lisa', 3368: 'railroad', 3369: 'tree', 3370: 'beer-jerks', 3371: 'turning', 3372: 'bucket', 3373: 'delightful', 3374: 'u', 3375: \"you'll\", 3376: 'pardon', 3377: 'specified', 3378: 'hop', 3379: 'died', 3380: 'elocution', 3381: 'progress', 3382: 'united', 3383: 'clench', 3384: 'across', 3385: 'senator', 3386: 'donuts', 3387: 'yep', 3388: 'sober', 3389: 'feel', 3390: 'fleabag', 3391: 'western', 3392: 'fun', 3393: 'them', 3394: 'innocuous', 3395: 'his', 3396: 'officer', 3397: 'trivia', 3398: 'dealer', 3399: 'landlord', 3400: 'fink', 3401: 'heh-heh', 3402: 'bart_simpson', 3403: \"what'll\", 3404: 'fumes', 3405: 'thank', 3406: 'fbi', 3407: 'nods', 3408: 'beef', 3409: 'defiantly', 3410: 'signed', 3411: 'ah', 3412: 'singing/pushing', 3413: 'irishman', 3414: 'broken', 3415: 'joke', 3416: 'lose', 3417: 'saga', 3418: 'terrifying', 3419: 'oils', 3420: 'smokes', 3421: 'heading', 3422: 'savings', 3423: \"table's\", 3424: 'roller', 3425: 'cigarettes', 3426: 'aerospace', 3427: 'direction', 3428: '||exclamation_mark||', 3429: 'researching', 3430: 'repairman', 3431: 'inquiries', 3432: 'lazy', 3433: 'sprawl', 3434: 'princess', 3435: 'clothespins', 3436: 'miserable', 3437: 'mini-beret', 3438: 'hit', 3439: 'sobbing', 3440: 'batmobile', 3441: 'truck', 3442: 'credit', 3443: 'wind', 3444: 'flynt', 3445: 'robot', 3446: 'barn', 3447: 'daughter', 3448: 'zeal', 3449: 'maximum', 3450: 'trustworthy', 3451: 'woulda', 3452: 'strategy', 3453: 'conclusions', 3454: \"scammin'\", 3455: 'badges', 3456: 'krabappel', 3457: \"we've\", 3458: 'big', 3459: 'dateline', 3460: 'unavailable', 3461: 'anarchy', 3462: 'amends', 3463: 'south', 3464: 'committing', 3465: 'supreme', 3466: 'phony', 3467: 'murmurs', 3468: 'agent', 3469: 'beloved', 3470: 'shtick', 3471: 'tough', 3472: 'warranty', 3473: 'federal', 3474: 'mortgage', 3475: 'inexorable', 3476: 'whoops', 3477: 'pour', 3478: 'poisoning', 3479: 'squabbled', 3480: 'schedule', 3481: 'totally', 3482: 'march', 3483: 'relaxing', 3484: 'girl', 3485: 'profiling', 3486: 'broncos', 3487: 'wantcha', 3488: 'lou', 3489: 'bottle', 3490: 'born', 3491: 'boyfriend', 3492: 'whim', 3493: 'depressing', 3494: 'bedbugs', 3495: 'creature', 3496: 'chief_wiggum', 3497: 'rivalry', 3498: 'loaded', 3499: 'inspector', 3500: \"hole'\", 3501: 'accent', 3502: 'mural', 3503: 'weekend', 3504: 'depending', 3505: 'africanized', 3506: \"tree's\", 3507: 'rings', 3508: 'rewound', 3509: 'drift', 3510: 'occurred', 3511: 'shower', 3512: 'waitress', 3513: 'dancing', 3514: 'oh', 3515: 'complaint', 3516: 'macaulay', 3517: 'fanciest', 3518: 'newspaper', 3519: 'sadder', 3520: 'pretzels', 3521: 'railroads', 3522: 'damage', 3523: 'youuu', 3524: 'tabooger', 3525: 'ho-la', 3526: 'sales', 3527: 'join', 3528: 'cupid', 3529: 'stirrers', 3530: 'someplace', 3531: 'tremendous', 3532: 'king', 3533: 'getup', 3534: '_julius_hibbert', 3535: 'card', 3536: 'smitty', 3537: 'network', 3538: 'testing', 3539: 'tubman', 3540: 'yelling', 3541: 'nasty', 3542: 'clinton', 3543: 'bee', 3544: 'warily', 3545: 'bump', 3546: 'screams', 3547: 'job', 3548: 'catty', 3549: 'haplessly', 3550: 'tipsy', 3551: 'impressed', 3552: 'few', 3553: 'civilization', 3554: 'destroyed', 3555: 'skinny', 3556: 'imitating', 3557: 'cadillac', 3558: 'cauliflower', 3559: 'romantic', 3560: 'naively', 3561: 'twelve-step', 3562: 'soaps', 3563: 'milhouses', 3564: 'killer', 3565: \"won't\", 3566: 'du', 3567: 'prize', 3568: 'advice', 3569: 'trust', 3570: 'about', 3571: 'ice', 3572: 'manjula_nahasapeemapetilon', 3573: 'filthy', 3574: 'chateau', 3575: 'boozy', 3576: 'streetlights', 3577: 'radioactive', 3578: 'slays', 3579: 'struggling', 3580: 'laughing', 3581: 'palm', 3582: 'villanova', 3583: 'kisser', 3584: 'felony', 3585: 'brewed', 3586: 'small_boy', 3587: 'cursed', 3588: 'kneeling', 3589: 'er', 3590: 'vestigial', 3591: 'misfire', 3592: \"edna's\", 3593: 'punch', 3594: 'amiable', 3595: 'such', 3596: 'bathroom', 3597: 'take', 3598: 'to', 3599: 'appendectomy', 3600: 'party', 3601: \"elmo's\", 3602: 'greetings', 3603: 'mabel', 3604: 'howya', 3605: 'second', 3606: 'kiss', 3607: 'shreda', 3608: 'boy', 3609: 'meaningful', 3610: 'along', 3611: 'watered-down', 3612: 'fresco', 3613: 'drunk', 3614: 'gesture', 3615: 'sunk', 3616: 'hiring', 3617: 'honor', 3618: 'smurfs', 3619: 'supervising', 3620: 'gardens', 3621: 'marshmallow', 3622: 'bloodball', 3623: 'entirely', 3624: 'mistake', 3625: 'line', 3626: 'betcha', 3627: 'crime', 3628: 'fastest', 3629: 'astrid', 3630: 'lifestyle', 3631: 'conversation', 3632: 'door', 3633: \"payin'\", 3634: 'over', 3635: 'frosty', 3636: \"poisonin'\", 3637: 'developed', 3638: \"soundin'\", 3639: 'vance', 3640: \"s'okay\", 3641: 'imagine', 3642: 'protestantism', 3643: 'couple', 3644: 'youth', 3645: 'manjula', 3646: 'heh', 3647: '/mr', 3648: 'con', 3649: 'coma', 3650: 'wow', 3651: 'gag', 3652: 'unforgettable', 3653: 'five', 3654: \"'tis\", 3655: 'paparazzo', 3656: 'brace', 3657: 'ninth', 3658: 'than', 3659: 'knife', 3660: 'causes', 3661: 'blaze', 3662: 'shrugs', 3663: 'cattle', 3664: 'carmichael', 3665: 'browns', 3666: 'label', 3667: 'wowww', 3668: 'lingus', 3669: 'capuchin', 3670: 'scores', 3671: \"valentine's\", 3672: 'pull', 3673: 'nerd', 3674: 'folks', 3675: 'all-star', 3676: 'murdered', 3677: 'ripcord', 3678: 'great', 3679: 'sale', 3680: 'curds', 3681: 'dilemma', 3682: 'hemoglobin', 3683: 'realized', 3684: 'compare', 3685: 'ironic', 3686: 'sooo', 3687: 'prettiest', 3688: 'tongue', 3689: 'delete', 3690: 'un-sults', 3691: 'wipe', 3692: 'brothers', 3693: 'whole', 3694: 'ura', 3695: 'meatpies', 3696: 'teddy', 3697: 'expose', 3698: 'brains', 3699: 'organ', 3700: 'buds', 3701: 'intrigued', 3702: 'morning-after', 3703: 'stonewall', 3704: 'stocking', 3705: 'advertising', 3706: 'what', 3707: 'easily', 3708: 'small', 3709: 'loser', 3710: \"'til\", 3711: 'mafia', 3712: 'brainheaded', 3713: 'blubberino', 3714: 'fix', 3715: 'furiously', 3716: 'crank', 3717: 'government', 3718: 'pay', 3719: 'swamp', 3720: 'fridge', 3721: 'bonfire', 3722: 'facebook', 3723: 's', 3724: \"car's\", 3725: 'ivana', 3726: 'düff', 3727: 'increased', 3728: 'blow', 3729: 'wolfcastle', 3730: 'winces', 3731: 'how', 3732: 'ignoring', 3733: 'schabadoo', 3734: 'dizzy', 3735: 'elizabeth', 3736: 'busiest', 3737: 'chanting', 3738: 'crunch', 3739: 'outta', 3740: 'disgracefully', 3741: 'koji', 3742: 'illustrates', 3743: 'rig', 3744: 'election', 3745: 'lied', 3746: 'tasimeter', 3747: 'upon', 3748: 'pressure', 3749: 'support', 3750: \"haven't\", 3751: 'mobile', 3752: 'betrayed', 3753: 'clown', 3754: 'fired', 3755: 'novelty', 3756: 'moonshine', 3757: 'steampunk', 3758: 'old_jewish_man', 3759: 'flanders', 3760: 'abusive', 3761: 'moans', 3762: 'swe-ee-ee-ee-eet', 3763: 'eighteen', 3764: 'feminine', 3765: 'rusty', 3766: 'spender', 3767: 'wonder', 3768: 'duh', 3769: 'entering', 3770: 'hootie', 3771: 'ripping', 3772: 'lucius', 3773: 'crew', 3774: 'century', 3775: 'permitting', 3776: 'lottery', 3777: 'sick', 3778: 'spelling', 3779: 'hour', 3780: 'measurements', 3781: 'actress', 3782: 'shelbyville', 3783: 'followed', 3784: 'michael_stipe', 3785: 'killing', 3786: 'relax', 3787: 'play/', 3788: \"knockin'\", 3789: 'bite', 3790: 'lighten', 3791: 'swig', 3792: 'arrest', 3793: 'doooown', 3794: 'emporium', 3795: 'metal', 3796: 'workers', 3797: 'minimum', 3798: 'rules', 3799: 'old', 3800: 'strictly', 3801: 'avalanche', 3802: 'troubles', 3803: 'prompting', 3804: 'ease', 3805: 'especially', 3806: 'endorsement', 3807: 'dishonor', 3808: 'delivery_boy', 3809: 'lots', 3810: 'blessing', 3811: 'regulars', 3812: 'lists', 3813: 'seas', 3814: 'peter_buck', 3815: 'startled', 3816: 'handling', 3817: 'wallet', 3818: 'onion', 3819: 'program', 3820: \"mo'\", 3821: 'hat', 3822: \"y'know\", 3823: 'knocks', 3824: \"d'ya\", 3825: 'meals', 3826: 'brag', 3827: 'injury', 3828: 'taps', 3829: 'longer', 3830: 'snake_jailbird', 3831: 'fixes', 3832: 'poker', 3833: 'souped', 3834: 'mid-seventies', 3835: 'wacky', 3836: 'mckinley', 3837: 'art', 3838: 'owns', 3839: 'file', 3840: 'box', 3841: 'lobster-based', 3842: 'whether', 3843: 'brooklyn', 3844: 'sitting', 3845: 'expression', 3846: 'thinks', 3847: 'mess', 3848: 'gifts', 3849: 'happy', 3850: 'nonsense', 3851: 'donut-shaped', 3852: 'willy', 3853: 'hang', 3854: 'bowling', 3855: 'earpiece', 3856: 'built', 3857: 'america', 3858: 'relative', 3859: 'woo', 3860: 'fishing', 3861: 'shoots', 3862: 'completing', 3863: 'blown', 3864: 'simplest', 3865: 'poorer', 3866: 'marge', 3867: \"yieldin'\", 3868: 'oooh', 3869: 'frozen', 3870: 'laney_fontaine', 3871: 'limericks', 3872: 'alva', 3873: 'official', 3874: 'think', 3875: 'diaper', 3876: 'large', 3877: 'richard', 3878: 'seriously', 3879: 'nuclear', 3880: 'koholic', 3881: 'pick', 3882: 'adjourned', 3883: 'pitch', 3884: 'pair', 3885: 'noose', 3886: 'carb', 3887: 'thoughts', 3888: 'cruiser', 3889: 'mellow', 3890: 'make', 3891: 'bow', 3892: 'klingon', 3893: 'address', 3894: 'hampstead-on-cecil-cecil', 3895: 'sweden', 3896: 'alley', 3897: \"'cause\", 3898: 'ned', 3899: 'powers', 3900: 'fuzzlepitch', 3901: 'sincerely', 3902: 'hockey-fight', 3903: 'diets', 3904: 'counter', 3905: 'england', 3906: 'eighty-one', 3907: 'sadly', 3908: 'uniforms', 3909: 'drawn', 3910: 'louse', 3911: 'mason', 3912: 'ahem', 3913: 'heads', 3914: 'xx', 3915: 'different', 3916: 'ratted', 3917: \"stabbin'\", 3918: 'super', 3919: 'brockman', 3920: 'moolah-stealing', 3921: 'tester', 3922: 'rubs', 3923: 'pugilist', 3924: 'state', 3925: 'yourselves', 3926: 'mindless', 3927: 'yellow', 3928: \"wait'll\", 3929: \"o'clock\", 3930: 'possibly', 3931: 'dignity', 3932: \"summer's\", 3933: 'chin', 3934: 'lights', 3935: 'goo', 3936: 'neanderthal', 3937: 'liver', 3938: 'perch', 3939: 'typing', 3940: 'defensive', 3941: 'flatly', 3942: 'earlier', 3943: 'ohmygod', 3944: 'wins', 3945: 'inserted', 3946: 'eyeball', 3947: 'quietly', 3948: 'fourteen', 3949: 'hans', 3950: 'grandiose', 3951: 'tie', 3952: 'jumps', 3953: 'agnes_skinner', 3954: 'real', 3955: 'plywood', 3956: 'el', 3957: 'puke-holes', 3958: 'morning', 3959: 'what-for', 3960: 'ah-ha', 3961: 'tonight', 3962: 'code', 3963: 'and/or', 3964: 'drunkening', 3965: 'stengel', 3966: 'cigars', 3967: 'director', 3968: 'patient', 3969: 'riding', 3970: 'bon-bons', 3971: 'courteous', 3972: 'pre-columbian', 3973: 'temp', 3974: 'blocked', 3975: 'jury', 3976: 'ab', 3977: 'mary', 3978: 'thousand', 3979: 'bursts', 3980: 'players', 3981: 'othello', 3982: 'thorn', 3983: 'irs', 3984: 'desperately', 3985: 'bites', 3986: 'exactly', 3987: 'parked', 3988: \"renovatin'\", 3989: 'losing', 3990: 'safe', 3991: 'things', 3992: 'test-lady', 3993: 'fuhgetaboutit', 3994: 'kodos', 3995: 'insist', 3996: 'coyly', 3997: 'seem', 3998: 'tank', 3999: 'spare', 4000: 'morlocks', 4001: \"nothin'\", 4002: \"man's_voice\", 4003: 'willing', 4004: 'talking', 4005: 'ech', 4006: 'huh', 4007: 'absolutely', 4008: 'dirty', 4009: 'drawing', 4010: 'eighty-seven', 4011: 'playing', 4012: 'transylvania', 4013: 'planted', 4014: 'pizzicato', 4015: 'grunt', 4016: 'boxing_announcer', 4017: 'everybody', 4018: 'stupidest', 4019: 'eddie', 4020: 'only', 4021: 'of', 4022: \"drivin'\", 4023: 'inspiring', 4024: '||question_mark||', 4025: 'stretches', 4026: 'top', 4027: 'her', 4028: 'always', 4029: 'thought_bubble_homer', 4030: 'versus', 4031: 'human', 4032: 'lager', 4033: 'impending', 4034: \"family's\", 4035: 'army', 4036: 'every', 4037: 'damn', 4038: 'emotion', 4039: 'helicopter', 4040: 'eva', 4041: 'philip', 4042: 'de', 4043: 'pyramid', 4044: 'sniffles', 4045: 'tired', 4046: 'gee', 4047: 'calendars', 4048: 'therefore', 4049: 'musses', 4050: 'shares', 4051: 'also', 4052: 'embarrassed', 4053: 'enthusiasm', 4054: 'hungry', 4055: 'nuts', 4056: 'discriminate', 4057: 'bachelorhood', 4058: 'insulted', 4059: 'further', 4060: 'weak', 4061: 'life', 4062: 'phlegm', 4063: 'subscriptions', 4064: 'terrific', 4065: 'hospital', 4066: 'cecil', 4067: 'enjoyed', 4068: 'sight', 4069: 'dumb-asses', 4070: 'easygoing', 4071: 'dignified', 4072: 'ultimate', 4073: 'back', 4074: 'rice', 4075: 'bull', 4076: 'ignorant', 4077: 'near', 4078: 'hmf', 4079: 'herself', 4080: 'holidays', 4081: 'burt', 4082: 'subject', 4083: 'pink', 4084: 'agh', 4085: \"singin'\", 4086: 'nudge', 4087: \"team's\", 4088: 'photographer', 4089: 'coms', 4090: 'wolveriskey', 4091: 'watered', 4092: 'dumbest', 4093: 'kim_basinger', 4094: 'cover', 4095: 'hiding', 4096: 'mention', 4097: 'hollowed-out', 4098: 'tavern', 4099: \"doesn't\", 4100: 'uncreeped-out', 4101: 'vote', 4102: 'confident', 4103: 'americans', 4104: 'severe', 4105: 'alky', 4106: 'charming', 4107: 'moonlight', 4108: 'poking', 4109: 'kind', 4110: \"children's\", 4111: 'mayan', 4112: 'today', 4113: 'mommy', 4114: 'or', 4115: 'crapmore', 4116: 'arrived', 4117: 'moon-bounce', 4118: 'parking', 4119: 'nap', 4120: 'hunky', 4121: \"man's\", 4122: 'caveman', 4123: 'disappointing', 4124: 'sells', 4125: 'offense', 4126: 'heals', 4127: 'macho', 4128: 'celebrity', 4129: \"tellin'\", 4130: 'asked', 4131: 'fbi_agent', 4132: 'unlucky', 4133: 'listen', 4134: 'remembering', 4135: 'traffic', 4136: 'instrument', 4137: 'sir', 4138: 'roomy', 4139: 'opening', 4140: \"foolin'\", 4141: 'saturday', 4142: 'yoink', 4143: 'game', 4144: \"swishifyin'\", 4145: 'bon', 4146: 'drains', 4147: 'silence', 4148: 'jokes', 4149: 'publishers', 4150: 'notice', 4151: 'boned', 4152: 'boxcar', 4153: 'pigs', 4154: 'hanh', 4155: 'unlike', 4156: 'achem', 4157: 'nordiques', 4158: 'natured', 4159: 'stay-puft', 4160: 'host', 4161: \"friend's\", 4162: 'eyes', 4163: 'held', 4164: 'knowledge', 4165: 'understand', 4166: 'basement', 4167: 'las', 4168: 'hooky', 4169: 'ivanna', 4170: 'grants', 4171: 'dropping', 4172: 'secrets', 4173: 'rupert_murdoch', 4174: 'permanent', 4175: 'jack_larson', 4176: 'rev', 4177: 'specialists', 4178: 'growing', 4179: 'intervention', 4180: 'warren', 4181: 'flush-town', 4182: 'bliss', 4183: 'arimasen', 4184: \"you're\", 4185: 'new', 4186: 'peter', 4187: 'homesick', 4188: 'boo', 4189: 'mither', 4190: 'another', 4191: 'room', 4192: 'sector', 4193: 'wheels', 4194: 'hoping', 4195: 'squirrels', 4196: 'child', 4197: 'plaintive', 4198: \"don'tcha\", 4199: 'touchdown', 4200: 'pulled', 4201: 'worry', 4202: 'feeling', 4203: 'four-star', 4204: 'disgraceful', 4205: 'transmission', 4206: 'equivalent', 4207: 'beginning', 4208: 'learned', 4209: 'bulked', 4210: 'week', 4211: '_powers', 4212: 'mother', 4213: 'diminish', 4214: 'loudly', 4215: 'sweetheart', 4216: 'pronounce', 4217: 'society', 4218: 'recent', 4219: 'pageant', 4220: 'hug', 4221: 'plucked', 4222: \"bettin'\", 4223: \"can't-believe-how-bald-he-is\", 4224: 'lame', 4225: 'nerve', 4226: 'shyly', 4227: 'house', 4228: 'phase', 4229: 'cameras', 4230: 'lend', 4231: 'will', 4232: 'audience', 4233: 'arm', 4234: 'pulling', 4235: \"nixon's\", 4236: 'ons', 4237: 'eightball', 4238: 'disposal', 4239: 'bottles', 4240: 'horribilis', 4241: 'fortensky', 4242: 'arrange', 4243: 'located', 4244: 'bits', 4245: 'punkin', 4246: 'burger', 4247: \"donatin'\", 4248: 'getting', 4249: 'snaps', 4250: 'dearest', 4251: 'sedaris', 4252: 'hourly', 4253: 'bragging', 4254: 'mint', 4255: 'who-o-oa', 4256: 'arguing', 4257: 'talked', 4258: 'forty-seven', 4259: 'here', 4260: \"ain't\", 4261: 'william', 4262: 'storms', 4263: 'yesterday', 4264: 'calmly', 4265: 'down', 4266: 'photo', 4267: 'ate', 4268: 'joe', 4269: 'annus', 4270: 'superpower', 4271: 'wear', 4272: 'reactions', 4273: 'connection', 4274: 'soaking', 4275: 'mini-dumpsters', 4276: 'anniversary', 4277: '||dash||', 4278: 'surgeonnn', 4279: 'casting', 4280: 'plants', 4281: 'slot', 4282: 'attraction', 4283: \"you'd\", 4284: 'stu', 4285: 'finally', 4286: 'makes', 4287: 'm', 4288: 'fortune', 4289: 'saying', 4290: 'pleased', 4291: 'announcer', 4292: 'male_singers', 4293: 'hope', 4294: 'these', 4295: 'haiti', 4296: 'hitler', 4297: 'hundreds', 4298: 'thorough', 4299: 'mariah', 4300: 'nigerian', 4301: 'yee-haw', 4302: 'remorseful', 4303: 'celebration', 4304: 'retired', 4305: 'susie-q', 4306: 'breathalyzer', 4307: 'flips', 4308: 'repressed', 4309: 'gal', 4310: 'shall', 4311: 'refund', 4312: 'thumb', 4313: 'pfft', 4314: 'miracle', 4315: 'maitre', 4316: 'lenny_leonard', 4317: 'anti-crime', 4318: 'yoo', 4319: 'familiar', 4320: 'distract', 4321: 'clothes', 4322: 'jane', 4323: \"where'd\", 4324: 'script', 4325: 'texan', 4326: 'event', 4327: 'underpants', 4328: 'joy', 4329: 'draw', 4330: 'mis-statement', 4331: 'gums', 4332: 'stumble', 4333: 'eggshell', 4334: 'dating', 4335: 'chorus', 4336: 'madison', 4337: 'lump', 4338: 'imported-sounding', 4339: 'quick-like', 4340: 'lobster', 4341: 'sly', 4342: 'unearth', 4343: 'trip', 4344: 'onions', 4345: 'reasonable', 4346: 'fiction', 4347: 'prices', 4348: 'although', 4349: 'believe', 4350: 'sketching', 4351: 'uncomfortable', 4352: 'snide', 4353: 'rhyme', 4354: 'cummerbund', 4355: 'morose', 4356: 'wiggum', 4357: 'pursue', 4358: 'adult_bart', 4359: \"grandmother's\", 4360: \"'ere\", 4361: 'met', 4362: 'talkers', 4363: \"spiffin'\", 4364: 'detecting', 4365: 'dang', 4366: 'debonair', 4367: 'corkscrews', 4368: \"mother's\", 4369: 'naegle', 4370: 'system', 4371: 'vanities', 4372: 'van', 4373: 'luxury', 4374: 'undies', 4375: 'domed', 4376: 'despite', 4377: 'capitol', 4378: 'wife-swapping', 4379: 'whose', 4380: 'admiring', 4381: 'speed', 4382: 'plum', 4383: 'crazy', 4384: 'peaked', 4385: 'presidential', 4386: 'blend', 4387: 'ape-like', 4388: 'charge', 4389: \"buyin'\", 4390: 'left', 4391: 'stationery', 4392: \"'bout\", 4393: \"games'd\", 4394: 'nor', 4395: 'ringing', 4396: 'rope', 4397: 'evergreen', 4398: 'combination', 4399: 'control', 4400: 'poetics', 4401: 'surprised/thrilled', 4402: 'hopeful', 4403: 'gotta', 4404: 'predictable', 4405: 'barney_gumble', 4406: 'fwooof', 4407: 'whoopi', 4408: 'teach', 4409: 'sodas', 4410: 'any', 4411: \"puttin'\", 4412: 'listens', 4413: 'pre-recorded', 4414: 'telling', 4415: 'hillary', 4416: 'writing', 4417: 'knocked', 4418: 'eventually', 4419: 'protesting', 4420: 'blamed', 4421: 'weary', 4422: 'clams', 4423: 'palmerston', 4424: \"jimbo's_dad\", 4425: 'stage', 4426: 'settlement', 4427: 'ride', 4428: 'seat', 4429: 'snail', 4430: 'gheet', 4431: 'obsessive-compulsive', 4432: 'archaeologist', 4433: \"speakin'\", 4434: 'view', 4435: 'academy', 4436: 'odd', 4437: 'victim', 4438: 'as', 4439: 'wednesday', 4440: \"we're\", 4441: 'pretends', 4442: 'languages', 4443: 'eh', 4444: 'whatcha', 4445: 'sumatran', 4446: 'smoker', 4447: 'had', 4448: 'b-day', 4449: 'minister', 4450: \"life's\", 4451: 'singing', 4452: 'collette', 4453: 'civil', 4454: 'nobel', 4455: 'that', 4456: 'catch-phrase', 4457: 'sorry', 4458: 'extremely', 4459: 'brockelstein', 4460: 'camp', 4461: 'cocoa', 4462: 'dutch', 4463: 'scum', 4464: 'touched', 4465: 'pets', 4466: 'haircuts', 4467: 'sideshow', 4468: 'pernt', 4469: 'insightful', 4470: 'ollie', 4471: 'intoxicants', 4472: 'choices', 4473: 'lewis', 4474: 'fraud', 4475: 'reason', 4476: 'pushing', 4477: 'bedroom', 4478: 'bulldozing', 4479: 'belong', 4480: 'puffy', 4481: 'plan', 4482: \"listenin'\", 4483: 'freshened', 4484: 'sounds', 4485: 'choose', 4486: 'ruled', 4487: 'cheer', 4488: 'switched', 4489: 'orifice', 4490: 'wounds', 4491: 'has', 4492: 'tornado', 4493: 'dollars', 4494: 'inherent', 4495: 'onassis', 4496: 'most', 4497: 'absentminded', 4498: 'agreement', 4499: 'fatty', 4500: 'pilsner-pusher', 4501: 'presto', 4502: 'gimmick', 4503: 'write', 4504: 'norway', 4505: 'rickles', 4506: 'inspired', 4507: 'whaddya', 4508: 'nightmare', 4509: 'push', 4510: 'fantasy', 4511: 'twentieth', 4512: 'sticking', 4513: 'darkest', 4514: 'touches', 4515: 'sexy', 4516: 'numbers', 4517: 'urinal', 4518: 'years', 4519: 'delts', 4520: 'wally', 4521: 'list', 4522: 'braun', 4523: 'heck', 4524: 'thrust', 4525: 'serve', 4526: 'fonzie', 4527: \"starla's\", 4528: 'renew', 4529: 'matter', 4530: 'favorite', 4531: 'drawer', 4532: 'washer', 4533: 'premiering', 4534: 'girls', 4535: 'end', 4536: 'r', 4537: 'i-i', 4538: 'sweetie', 4539: 'language', 4540: 'cough', 4541: \"c'mere\", 4542: 'slaps', 4543: 'bindle', 4544: 'let', 4545: 'app', 4546: 'borrow', 4547: 'fistiana', 4548: 'finding', 4549: 'stand', 4550: 'shill', 4551: 'folk', 4552: 'difficult', 4553: 'freaky', 4554: 'rookie', 4555: 'valuable', 4556: 'sniper', 4557: 'action', 4558: 'shindig', 4559: 'examples', 4560: 'island', 4561: 'partners', 4562: 'cosmetics', 4563: 'oughtta', 4564: 'phasing', 4565: 'fifth', 4566: 'numeral', 4567: 'boxer', 4568: 'telemarketing', 4569: \"fun's\", 4570: 'customers', 4571: 'malabar', 4572: 'appear', 4573: 'kissing', 4574: 'doctor', 4575: 'demand', 4576: 'something', 4577: 'sec_agent_#2', 4578: 'private', 4579: 'consoling', 4580: 'conference', 4581: 'edna', 4582: 'apart', 4583: 'corpses', 4584: 'tablecloth', 4585: 'crying', 4586: 'smugglers', 4587: 'booze-bags', 4588: 'simp-sonnnn', 4589: 'oil', 4590: 'life-extension', 4591: 'southern', 4592: 'octa-', 4593: 'backwards', 4594: 'clap', 4595: 'housewife', 4596: 'highball', 4597: 'op', 4598: 'listening', 4599: 'giggle', 4600: 'cries', 4601: 'anxious', 4602: 'maybe', 4603: 'six', 4604: 'yet', 4605: 'socialize', 4606: 'saving', 4607: 'here-here-here', 4608: 'sang', 4609: 'refreshment', 4610: 'offer', 4611: 'watching', 4612: 'ale', 4613: 'sips', 4614: 'breathtaking', 4615: 'and', 4616: 'citizens', 4617: 'corkscrew', 4618: 'disgusted', 4619: 'infor', 4620: 'goods', 4621: 'glasses', 4622: 'bye', 4623: 'social', 4624: 'stood', 4625: 'comedies', 4626: 'hanging', 4627: 'ayyy', 4628: 'form', 4629: \"dimwit's\", 4630: 'hushed', 4631: 'trench', 4632: 'carnival', 4633: 'preparation', 4634: 'moe-near-now', 4635: 'compressions', 4636: 'wang', 4637: 'considers', 4638: 'fire_inspector', 4639: 'peeved', 4640: 'stillwater', 4641: 'hears', 4642: 'de-scramble', 4643: 'ha-ha', 4644: 'shades', 4645: 'bob', 4646: 'champignons', 4647: 'wrong', 4648: 'bleak', 4649: 'consider', 4650: 'lord', 4651: 'fold', 4652: 'hafta', 4653: 'weekly', 4654: 'easter', 4655: 'jelly', 4656: 'planning', 4657: 'customer', 4658: 'answers', 4659: 'tire', 4660: 'repeating', 4661: 'maher', 4662: 'jägermeister', 4663: 'stores', 4664: 'righ', 4665: 'windowshade', 4666: 'nantucket', 4667: 'bender', 4668: 'jukebox', 4669: 'ron', 4670: 'kemi', 4671: 'springfield', 4672: 'insured', 4673: 'stamp', 4674: 'suspiciously', 4675: 'civic', 4676: 'carlson', 4677: 'sub-monkeys', 4678: 'tree_hoper', 4679: 'conversion', 4680: 'ripped', 4681: 'terrified', 4682: 'build', 4683: 'mole', 4684: 'four-drink', 4685: 'trees', 4686: 'buttocks', 4687: \"guy's\", 4688: 'inserts', 4689: 'tasty', 4690: 'eating', 4691: 'declan_desmond', 4692: 'okay', 4693: 'muscles', 4694: 'butter', 4695: \"i've\", 4696: 'barbara', 4697: '||colon||', 4698: 'moe-lennium', 4699: 'panicky', 4700: 'thirty-five', 4701: 'kill', 4702: \"choosin'\", 4703: 'making', 4704: 'luckiest', 4705: 'swishkabobs', 4706: 'emotional', 4707: 'burning', 4708: \"city's\", 4709: 'j', 4710: 'sitcom', 4711: \"i'd'a\", 4712: 'carefully', 4713: 'days', 4714: 'papa', 4715: 'heatherton', 4716: 'trunk', 4717: 'fat_in_the_hat', 4718: 'attractive', 4719: 'cheers', 4720: 'whirlybird', 4721: 'case', 4722: 'chilly', 4723: 'sight-unseen', 4724: 'prefer', 4725: 'forget-me-shot', 4726: 'ugly', 4727: 'miles', 4728: 'disappointment', 4729: 'ronstadt', 4730: 'bald', 4731: 'halvsies', 4732: 'come', 4733: \"now's\", 4734: 'sunny', 4735: 'wage', 4736: 'wieners', 4737: 'george', 4738: 'hawking', 4739: \"brady's\", 4740: 'sponsor', 4741: 'getaway', 4742: 'fool', 4743: 'fair', 4744: 'bedtime', 4745: 'compromise', 4746: 'sesame', 4747: \"tramp's\", 4748: 'priority', 4749: 'swill', 4750: 'donate', 4751: 'brown', 4752: 'tears', 4753: \"man'd\", 4754: \"wouldn't\", 4755: 'putting', 4756: \"drawin'\", 4757: \"smokin'\", 4758: 'dallas', 4759: 'cases', 4760: 'spent', 4761: 'professional', 4762: \"crawlin'\", 4763: 'windelle', 4764: 'over-pronouncing', 4765: 'wings', 4766: 'egg', 4767: 'encores', 4768: 'twin', 4769: 'choked-up', 4770: 'ahhh', 4771: 'buddy', 4772: 'fondest', 4773: 'lovers', 4774: 'likes', 4775: 'states', 4776: 'forgot', 4777: 'andalay', 4778: 'jack', 4779: 'straining', 4780: 'shesh', 4781: 'marriage', 4782: 'faces', 4783: 'life-threatening', 4784: 'pissed', 4785: 'compliment', 4786: \"leavin'\", 4787: 'win', 4788: 'older', 4789: 'maiden', 4790: 'flag', 4791: 'mountain', 4792: 'firmly', 4793: 'jerking', 4794: 'annie', 4795: 'staying', 4796: 'care', 4797: 'a-a-b-b-a', 4798: 'grieving', 4799: 'runners', 4800: 'admitting', 4801: 'cologne', 4802: 'stalking', 4803: 'albert', 4804: 'pretentious_rat_lover', 4805: 'wraps', 4806: 'bras', 4807: \"breakin'\", 4808: 'forced', 4809: 'nurse', 4810: 'jimmy', 4811: 'funniest', 4812: 'ready', 4813: 'shopping', 4814: 'prayer', 4815: 'stayed', 4816: 'billingsley', 4817: 'hank_williams_jr', 4818: 'unsanitary', 4819: 'bedridden', 4820: 'luckily', 4821: 'glowers', 4822: 'coaster', 4823: 'streetcorner', 4824: 'blind', 4825: 'cap', 4826: 'round', 4827: 'wound', 4828: '50-60', 4829: 'treasure', 4830: 'birth', 4831: 'reconsidering', 4832: 'churchill', 4833: 'ton', 4834: 'feast', 4835: 'rumor', 4836: 'sets', 4837: \"'n'\", 4838: 'sixty-five', 4839: 'read', 4840: 'manboobs', 4841: 'toe', 4842: 'nervously', 4843: 'sounded', 4844: 'present', 4845: 'swelling', 4846: 'mixed', 4847: \"department's\", 4848: 'orphan', 4849: 'yours', 4850: \"round's\", 4851: 'fat', 4852: \"workin'\", 4853: 'democrats', 4854: 'now', 4855: 'store', 4856: 'milhouse_van_houten', 4857: 'company', 4858: 'consulting', 4859: 'owner', 4860: 'parrot', 4861: \"tomorrow's\", 4862: 'tale', 4863: 'extract', 4864: 'ambrose', 4865: 'squeezed', 4866: 'detective', 4867: 'forty-two', 4868: 'administration', 4869: 'granted', 4870: 'products', 4871: 'express', 4872: 'labor', 4873: 'busy', 4874: 'raging', 4875: 'soothing', 4876: 'lard', 4877: 'exquisite', 4878: 'experienced', 4879: 'lorre', 4880: \"rentin'\", 4881: 'muslim', 4882: 'knew', 4883: 'cable', 4884: 'puts', 4885: 'busted', 4886: 'h', 4887: 'rumaki', 4888: 'moxie', 4889: 'moment', 4890: 'territorial', 4891: 'denver', 4892: 'accident', 4893: 'phone', 4894: 'ma', 4895: 'life-partner', 4896: 'rump', 4897: \"people's\", 4898: 'zone', 4899: 'elite', 4900: \"ridin'\", 4901: 'crotch', 4902: 'times', 4903: 'neat', 4904: 'dazed', 4905: 'sixteen', 4906: 'waters', 4907: 'flaming', 4908: 'cajun', 4909: 'widow', 4910: 'stats', 4911: 'inches', 4912: 'lotsa', 4913: 'invite', 4914: 'attack', 4915: 'market', 4916: 'shareholder', 4917: 'kang', 4918: 'smile', 4919: 'attracted', 4920: 'anthony_kiedis', 4921: 'happier', 4922: 'be-stainèd', 4923: \"'round\", 4924: \"kearney's_dad\", 4925: 'shaking', 4926: 'some', 4927: 'dads', 4928: 'canyoner-oooo', 4929: 'standards', 4930: 'ordered', 4931: \"spyin'\", 4932: 'trapped', 4933: 'message', 4934: 'crimes', 4935: 'sidekick', 4936: \"that'll\", 4937: 'mean', 4938: 'astronaut', 4939: 'eu', 4940: 'cleaner', 4941: 'helpful', 4942: 'strong', 4943: 'cigarette', 4944: '3', 4945: 'bumblebee_man', 4946: 'thirty-thousand', 4947: 'depressed', 4948: 'stool', 4949: 'teenage_bart', 4950: 'napkins', 4951: 'complicated', 4952: 'glyco-load', 4953: 'passes', 4954: 'tear', 4955: \"who'da\", 4956: \"she'll\", 4957: 'goodbye', 4958: 'grabs', 4959: 'turns', 4960: 'insensitive', 4961: 'minors', 4962: 'alibi', 4963: 'society_matron', 4964: 'courthouse', 4965: 'shooting', 4966: 'reaches', 4967: 'grave', 4968: 'before', 4969: 'name', 4970: 'break', 4971: 'do', 4972: 'rhode', 4973: 'hi', 4974: 'creepy', 4975: 'discuss', 4976: 'non-losers', 4977: 'unfresh', 4978: 'remember', 4979: 'dozen', 4980: 'faceful', 4981: 'chum', 4982: 'novel', 4983: 'dry', 4984: 'together', 4985: 'ivory', 4986: 'violations', 4987: 'rub-a-dub', 4988: 'breaks', 4989: 'britannia', 4990: 'hustle', 4991: 'strains', 4992: 'japanese', 4993: 'rabbits', 4994: 'grumpy', 4995: 'chuckles', 4996: 'clincher', 4997: 'no', 4998: 'binoculars', 4999: 'knives', 5000: 'charm', 5001: 'artie_ziff', 5002: 'flashing', 5003: 'problem', 5004: 'squishee', 5005: 'bad-mouth', 5006: 'ducked', 5007: 'lodge', 5008: 'bridges', 5009: 'valley', 5010: 'ninety-seven', 5011: 'band', 5012: 'actors', 5013: 'fight', 5014: 'stained-glass', 5015: 'drag', 5016: 'steal', 5017: 'presently', 5018: 'decent', 5019: 'coat', 5020: \"'im\", 5021: 'filed', 5022: 'danny', 5023: 'miss', 5024: 'tv', 5025: 'slugger', 5026: 'legoland', 5027: 'perplexed', 5028: 'rent', 5029: 'comic', 5030: 'course', 5031: 'magic', 5032: 'wiggle-frowns', 5033: 'right-handed', 5034: 'woman', 5035: 'politicians', 5036: 'mcstagger', 5037: 'fictional', 5038: \"shootin'\", 5039: 'bart', 5040: 'vulgar', 5041: 'derisive', 5042: 'suppose', 5043: 'three', 5044: '100', 5045: 'jeter', 5046: 'ball-sized', 5047: 'red', 5048: 'cents', 5049: 'bet', 5050: 'bear', 5051: 'grains', 5052: 'movie', 5053: \"ya'\", 5054: 'are', 5055: \"dog's\", 5056: 'stamps', 5057: 'turkey', 5058: 'effervescence', 5059: 'factor', 5060: 'sotto', 5061: 'sucks', 5062: 'up-bup-bup', 5063: 'attractive_woman_#1', 5064: 'nauseous', 5065: 'fast-food', 5066: \"cupid's\", 5067: 'full-blooded', 5068: 'chug-a-lug', 5069: 'à', 5070: 'place', 5071: 'reciting', 5072: 'homie', 5073: 'date', 5074: 'diet', 5075: 'cure', 5076: 'wholeheartedly', 5077: 'moments', 5078: 'free', 5079: 'sacrilicious', 5080: 'quitcher', 5081: 'drivers', 5082: \"tv'll\", 5083: 'ineffective', 5084: 'directions', 5085: 'greatly', 5086: 'dunno', 5087: \"cashin'\", 5088: 'mexican', 5089: 'deals', 5090: 'lipo', 5091: 'sloppy', 5092: 'drown', 5093: 'joey', 5094: 'brought', 5095: '1895', 5096: 'edison', 5097: 'robbers', 5098: 'dyspeptic', 5099: 'hmmm', 5100: 'krusty', 5101: 'focused', 5102: 'venom', 5103: 'shoulder', 5104: 'doom', 5105: 'mmmmm', 5106: 'joking', 5107: 'darjeeling', 5108: 'rolls', 5109: 'cab', 5110: 'order', 5111: 'pantry', 5112: 'lift', 5113: 'runs', 5114: 'macbeth', 5115: \"dolph's_dad\", 5116: 'decency', 5117: 'illegal', 5118: \"isn't\", 5119: 'scam', 5120: 'chinese_restaurateur', 5121: \"handwriting's\", 5122: 'forehead', 5123: 'curse', 5124: 'methinks', 5125: 'ding-a-ding-ding-a-ding-ding', 5126: 'kidding', 5127: 'yee-ha', 5128: 'principles', 5129: 'countryman', 5130: 'day', 5131: 'meaningless', 5132: 'accounta', 5133: 'pudgy', 5134: 'fill', 5135: 'checks', 5136: 'get', 5137: 'bees', 5138: 'sticking-place', 5139: 'ridiculous', 5140: 'edelbrock', 5141: 'rekindle', 5142: 'unrelated', 5143: 'blue', 5144: 'dungeon', 5145: 'judge', 5146: 'packets', 5147: \"sat's\", 5148: 'wittgenstein', 5149: 'pockets', 5150: 'games', 5151: 'forgotten', 5152: 'through', 5153: 'coach', 5154: 'picture', 5155: 'tyson/secretariat', 5156: 'number', 5157: 'glen', 5158: 'drank', 5159: 'lise', 5160: 'alphabet', 5161: 'unkempt', 5162: 'step', 5163: 'sharity', 5164: 'hexa-', 5165: 'glove', 5166: 'initially', 5167: 'gator', 5168: 'emphasis', 5169: 'came', 5170: 'arms', 5171: 'face-macer', 5172: 'lurleen', 5173: 'cowboys', 5174: 'beer', 5175: 'nineteen', 5176: 'resenting', 5177: 'agree', 5178: 'louder', 5179: 'martini', 5180: 'y-you', 5181: 'crayola', 5182: 'paris', 5183: 'girl-bart', 5184: 'paramedic', 5185: 'doy', 5186: 'does', 5187: 'clone', 5188: 'wildfever', 5189: 'supermarket', 5190: 'triumphantly', 5191: 'lovely', 5192: 'ehhhhhhhhh', 5193: \"bladder's\", 5194: 'befouled', 5195: 'sincere', 5196: 'cooler', 5197: 'string', 5198: 'toward', 5199: 'country-fried', 5200: 'voice_on_transmitter', 5201: \"don't\", 5202: 'smooth', 5203: 'suck', 5204: 'corporation', 5205: 'newest', 5206: 'started', 5207: 'wait', 5208: 'advantage', 5209: 'sickened', 5210: 'missed', 5211: \"carl's\", 5212: 'tony', 5213: 'comedy', 5214: 'insecure', 5215: 'tabs', 5216: 'ear', 5217: 'conditioning', 5218: \"seein'\", 5219: 'cotton', 5220: 'ingredient', 5221: 'made', 5222: 'runaway', 5223: 'backward', 5224: 'sabermetrics', 5225: 'dessert', 5226: 'time', 5227: 'law', 5228: 'swings', 5229: 'ladies', 5230: 'carpet', 5231: 'intoxicated', 5232: 'selling', 5233: 'sisters', 5234: 'admiration', 5235: 'choked', 5236: 'perfume', 5237: 'hibachi', 5238: 'unusual', 5239: 'image', 5240: 'two-drink', 5241: 'empty', 5242: 'begging', 5243: 'blobbo', 5244: 'high-definition', 5245: 'polenta', 5246: 'dana_scully', 5247: 'innocence', 5248: '1-800-555-hugs', 5249: 'dime', 5250: 'immiggants', 5251: 'outside', 5252: 'bill', 5253: 'chuckling', 5254: 'musketeers', 5255: 'sympathy', 5256: \"calf's\", 5257: 'pepper', 5258: 'tapestry', 5259: 'fry', 5260: 'sen', 5261: 'understood', 5262: 'mt', 5263: 'marjorie', 5264: 'connor-politan', 5265: 'mom', 5266: 'mozzarella', 5267: 'coward', 5268: 'mmmm', 5269: 'extra', 5270: 'cozy', 5271: 'sell', 5272: 'ticks', 5273: 'trick', 5274: 'lizard', 5275: 'wayne', 5276: 'buddha', 5277: 'tiny', 5278: \"sippin'\", 5279: 'manfred', 5280: 'heather', 5281: 'chained', 5282: 'smallest', 5283: 'son', 5284: 'pigtown', 5285: \"they've\", 5286: 'dinks', 5287: 'indeed', 5288: 'whoo', 5289: 'bank', 5290: 'twelve', 5291: 'available', 5292: 'splash', 5293: 'chapter', 5294: 'thnord', 5295: 'challenge', 5296: 'excavating', 5297: 'speaking', 5298: 'when-i-get-a-hold-of-you', 5299: '&', 5300: 'lungs', 5301: 'murdoch', 5302: 'grinch', 5303: 'wizard', 5304: 'eager', 5305: 'c', 5306: 'aggravazes', 5307: 'fdic', 5308: 'pure', 5309: 'kids', 5310: 'military', 5311: 'tolerable', 5312: 'brave', 5313: 'brain', 5314: 'wagering', 5315: \"stallin'\", 5316: 'gentles', 5317: 'calm', 5318: \"thing's\", 5319: 'albeit', 5320: 'partly', 5321: '||return||', 5322: 'hot', 5323: 'light', 5324: 'exhaust', 5325: 'rancid', 5326: 'know', 5327: 'tenor', 5328: 'little_hibbert_girl', 5329: 'picky', 5330: 'call', 5331: 'ingested', 5332: 'stealings', 5333: 'toasting', 5334: 'clubs', 5335: 'meet', 5336: 'sue', 5337: 'nonchalantly', 5338: 'noosey', 5339: 'weapon', 5340: 'mate', 5341: 'character', 5342: 'brotherhood', 5343: \"bart'd\", 5344: 'correct', 5345: 'gumbel', 5346: 'eminence', 5347: 'stadium', 5348: 'frescas', 5349: 'city', 5350: 'oopsie', 5351: 'cooking', 5352: 'brunswick', 5353: 'faced', 5354: 'urine', 5355: \"o'\", 5356: 'covering', 5357: 'therapist', 5358: \"thinkin'\", 5359: 'try', 5360: 'agent_johnson', 5361: 'disaster', 5362: 'aisle', 5363: 'pussycat', 5364: 'table', 5365: 'wore', 5366: 'babar', 5367: 'nope', 5368: 'laid', 5369: 'nonchalant', 5370: 'five-fifteen', 5371: 'freeze', 5372: 'mustard', 5373: 'unbelievable', 5374: 'cavern', 5375: 'heard', 5376: 'appeals', 5377: 'fragile', 5378: '||semicolon||', 5379: \"football's\", 5380: 'dying', 5381: 'thoughtless', 5382: 'male_inspector', 5383: 'loneliness', 5384: 'princesses', 5385: 'stinger', 5386: 'affects', 5387: 'isotopes', 5388: 'couch', 5389: 'show', 5390: 'partially', 5391: 'finale', 5392: 'padre', 5393: 'dollar', 5394: 'fumigated', 5395: 'agent_miller', 5396: 'anywhere', 5397: 'mystery', 5398: 'wearing', 5399: 'cat', 5400: 'would', 5401: 'dumbass', 5402: 'ratio', 5403: 'supply', 5404: 'taking', 5405: 'why', 5406: '$42', 5407: 'grandmother', 5408: 'foot', 5409: 'sheriff', 5410: \"what'sa\", 5411: 'thirty', 5412: \"today's\", 5413: 'bouquet', 5414: 'taxes', 5415: 'snake', 5416: 'expect', 5417: 'trusted', 5418: 'escort', 5419: 'sees/', 5420: 'blooded', 5421: 'witty', 5422: 'crinkly', 5423: 'frogs', 5424: \"dad's\", 5425: 'superhero', 5426: 'coincidentally', 5427: 'dennis_kucinich', 5428: 'committee', 5429: 'junkyard', 5430: 'timbuk-tee', 5431: 'chick', 5432: 'applesauce', 5433: 'value', 5434: 'lips', 5435: 'exit', 5436: 'earrings', 5437: 'ancient', 5438: 'praise', 5439: 'gore', 5440: 'sneak', 5441: 'self', 5442: 'fierce', 5443: 'muertos', 5444: 'jig', 5445: 'blank', 5446: 'thinking', 5447: 'boisterous', 5448: 'giggles', 5449: 'haw', 5450: 'stinks', 5451: 'literature', 5452: 'steamed', 5453: 'afternoon', 5454: 'world-class', 5455: \"robbin'\", 5456: 'wall', 5457: 'humiliation', 5458: 'gulliver_dark', 5459: 'entire', 5460: 'pipes', 5461: \"buffalo's\", 5462: 'dance', 5463: 'rest', 5464: 'forget', 5465: 'writers', 5466: 'expensive', 5467: 'find', 5468: 'loboto-moth', 5469: \"they'll\", 5470: 'expert', 5471: 'totalitarians', 5472: 'faint', 5473: 'closes', 5474: 'sigh', 5475: 'circus', 5476: 'th', 5477: 'soir', 5478: 'semi-imported', 5479: \"show's\", 5480: 'fury', 5481: 'have', 5482: '14', 5483: 'repay', 5484: 'poke', 5485: 'brother-in-law', 5486: 'reminds', 5487: 'gas', 5488: 'horses', 5489: 'passed', 5490: 'exhale', 5491: 'poor', 5492: 'eaten', 5493: 'monroe', 5494: 'chipper', 5495: 'w', 5496: 'shove', 5497: 'sad', 5498: 'intelligent', 5499: 'sing-song', 5500: 'wiping', 5501: 'newsies', 5502: 'punishment', 5503: 'food', 5504: 'exhibit', 5505: 'us', 5506: 'fingers', 5507: 'opportunity', 5508: 'bono', 5509: 'theory', 5510: 'stagehand', 5511: 'addiction', 5512: 'sauce', 5513: \"meanin'\", 5514: 'caholic', 5515: 'elder', 5516: 'excellent', 5517: 'were', 5518: 'presentable', 5519: 'ingrates', 5520: 'temple', 5521: 'depression', 5522: 'ziffcorp', 5523: 'cobbling', 5524: 'david', 5525: 'rain', 5526: 'witches', 5527: 'i', 5528: 'man_at_bar', 5529: 'lead', 5530: 'uninhibited', 5531: 'cleaned', 5532: 'deeper', 5533: 's-a-u-r-c-e', 5534: 'replaced', 5535: 'lady_duff', 5536: 'sure', 5537: 'noooooooooo', 5538: 'dump', 5539: 'afloat', 5540: 'sun', 5541: 'truck_driver', 5542: 'slit', 5543: 'dumpster', 5544: 'superior', 5545: 'grand', 5546: 'became', 5547: 'talk', 5548: 'raining', 5549: 'videotaped', 5550: 'simpsons', 5551: 're-al', 5552: 'massage', 5553: 'handing', 5554: 'pretzel', 5555: 'worse', 5556: 'simple', 5557: 'results', 5558: 'yuh-huh', 5559: 'nucular', 5560: 'trucks', 5561: 'dumptruck', 5562: 'suburban', 5563: 'two-thirds-empty', 5564: 'song', 5565: 'ivy-covered', 5566: 'barney-shaped_form', 5567: 'breathless', 5568: '1973', 5569: 'stands', 5570: 'stepped', 5571: 'record', 5572: 'silent', 5573: 'eco-fraud', 5574: \"others'\", 5575: 'blows', 5576: 'awareness', 5577: 'poem', 5578: 'burnside', 5579: 'chain', 5580: 'wealthy', 5581: 'pepto-bismol', 5582: 'model', 5583: 'incarcerated', 5584: 'guide', 5585: 'yells', 5586: 'accepting', 5587: 'device', 5588: 'lone', 5589: 'foundation', 5590: 'turlet', 5591: 'neil_gaiman', 5592: 'voodoo', 5593: 'pen', 5594: 'wigs', 5595: \"usin'\", 5596: 'ought', 5597: 'original', 5598: 'prohibit', 5599: 'helpless', 5600: 'mexican_duffman', 5601: 'tons', 5602: 'snorts', 5603: 'twice', 5604: 'beard', 5605: 'tooth', 5606: 'set', 5607: 'temples', 5608: 'waylon_smithers', 5609: 'astonishment', 5610: 'medicine', 5611: 'weeks', 5612: 'bulletin', 5613: 'break-up', 5614: 'kirk_voice_milhouse', 5615: 'means', 5616: 'lofty', 5617: 'proper', 5618: 'cheerier', 5619: 'paints', 5620: 'designer', 5621: 'story', 5622: 'fills', 5623: 'ahead', 5624: 'uncle', 5625: 'positive', 5626: 'dealt', 5627: 'internet', 5628: 'rocks', 5629: 'anderson', 5630: 'vomit', 5631: 'amazing', 5632: 'swimming', 5633: 'finest', 5634: 'gentle', 5635: \"duff's\", 5636: '||quotation_mark||', 5637: 'column', 5638: 'creme', 5639: 'knowingly', 5640: 'cherry', 5641: 'sleeping', 5642: 'bash', 5643: 'recall', 5644: 'jer', 5645: 'badmouth', 5646: 'moved', 5647: 'matter-of-fact', 5648: 'rife', 5649: 'bar', 5650: 'keeping', 5651: 'nfl_narrator', 5652: 'blinds', 5653: 'marvelous', 5654: 'links', 5655: 'dislike', 5656: 'kindly', 5657: \"coffee'll\", 5658: 'badly', 5659: 'darts', 5660: 'drunks', 5661: 'griffith', 5662: 'schorr', 5663: 'mic', 5664: 'whoa-ho', 5665: 'recruiter', 5666: 'low-life', 5667: 'malibu', 5668: 'oh-ho', 5669: 'one', 5670: 'criminal', 5671: 'barely', 5672: 'espn', 5673: 'shark', 5674: 'ga', 5675: 'crushed', 5676: 'words', 5677: 'grain', 5678: 'nagurski', 5679: 'danish', 5680: 'scratching', 5681: 'hooked', 5682: 'selfish', 5683: 'beaumarchais', 5684: 'glitz', 5685: 'newsweek', 5686: 'hats', 5687: 'duel', 5688: 'field', 5689: 'spectacular', 5690: 'jump', 5691: 'andy', 5692: 'casual', 5693: 'beanbag', 5694: 'luv', 5695: 'burt_reynolds', 5696: \"jackpot's\", 5697: 'threw', 5698: 'rented', 5699: 'chuckle', 5700: 'icelandic', 5701: \"marge's\", 5702: 'hoax', 5703: 'material', 5704: 'exclusive', 5705: 'yea', 5706: 'sudden', 5707: 'dramatically', 5708: '50%', 5709: 'man', 5710: 'musical', 5711: 'aww', 5712: 'salad', 5713: 'branding', 5714: \"someone's\", 5715: 'leaving', 5716: 'counterfeit', 5717: 'said', 5718: 'film', 5719: 'infatuation', 5720: 'businessman_#2', 5721: 'hooch', 5722: 'poured', 5723: 'slick', 5724: 'someday', 5725: 'bushes', 5726: 'buying', 5727: 'tv_wife', 5728: 'peppers', 5729: 'sneeze', 5730: 'pope', 5731: 'tv-station_announcer', 5732: 'please/', 5733: 'neighboreeno', 5734: 'allowance', 5735: 'affectations', 5736: 'propose', 5737: 'swatch', 5738: 'correction', 5739: 'give', 5740: 'amazed', 5741: 'motel', 5742: 'milk', 5743: 'fighter', 5744: 'snow', 5745: 'clips', 5746: 'hose', 5747: 'influence', 5748: 'surgery', 5749: 'abolish', 5750: 'shorter', 5751: 'pause', 5752: 'snatch', 5753: 'missing', 5754: 'seminar', 5755: 'cheesecake', 5756: 'glass', 5757: 'geez', 5758: 'chunky', 5759: 'suddenly', 5760: 'wondered', 5761: 'served', 5762: 'release', 5763: \"readin'\", 5764: 'quero', 5765: \"c'mon\", 5766: 'skunk', 5767: 'helps', 5768: 'layer', 5769: 'exited', 5770: 'drop-off', 5771: 'latin', 5772: 'thought', 5773: 'salvador', 5774: 'tips', 5775: 'juan', 5776: 'series', 5777: 'college', 5778: 'published', 5779: 'comic_book_guy', 5780: 'travel', 5781: 'dimly', 5782: 'baloney', 5783: 'cars', 5784: 'lookalike', 5785: 'hours', 5786: 'ring', 5787: 'baritone', 5788: 'term', 5789: 'thanking', 5790: 'bubbles', 5791: 'half-beer', 5792: 'decide', 5793: 'supplying', 5794: 'rom', 5795: 'bush', 5796: 'felt', 5797: 'y', 5798: '/', 5799: 'inclination', 5800: 'infestation', 5801: 'abe', 5802: 'roach', 5803: 'gut', 5804: 'alright', 5805: 'fifty', 5806: 'kick', 5807: 'hates', 5808: 'apology', 5809: 'remain', 5810: 'x', 5811: 'burp', 5812: 'sweater', 5813: 'singer', 5814: 'teeth', 5815: 'unfamiliar', 5816: 'fantastic', 5817: 'boys', 5818: 'swallowed', 5819: 'excited', 5820: 'wussy', 5821: 'error', 5822: 'told', 5823: 'leprechaun', 5824: 'thirty-three', 5825: 'k', 5826: 'hey', 5827: 'both', 5828: 'dead', 5829: 'disillusioned', 5830: \"lovers'\", 5831: 'larson', 5832: 'riveting', 5833: 'sky', 5834: 'jail', 5835: 'neighbor', 5836: 'rather', 5837: 'blossoming', 5838: 'savagely', 5839: 'portfolium', 5840: \"bartender's\", 5841: 'zinged', 5842: 'whip', 5843: 'tenuous', 5844: 'everything', 5845: 'radishes', 5846: 'running', 5847: 'boring', 5848: 'recently', 5849: 'oblongata', 5850: 'president', 5851: 'delightfully', 5852: 'country', 5853: 'seductive', 5854: 'horrors', 5855: 'used', 5856: 'religion', 5857: 'rude', 5858: 'while', 5859: 'roll', 5860: 'press', 5861: 'furry', 5862: 'baby', 5863: \"waitin'\", 5864: 'he', 5865: 'strips', 5866: 'takeaway', 5867: 'liven', 5868: 'rush', 5869: \"gentleman's\", 5870: 'divorced', 5871: 'orgasmville', 5872: 'crawl', 5873: 'roy', 5874: 'walther', 5875: 'priceless', 5876: 'bid', 5877: 'trouble', 5878: 'nick', 5879: 'barney', 5880: 'grace', 5881: 'wh', 5882: 'scum-sucking', 5883: 'too', 5884: 'mistresses', 5885: 'bets', 5886: 'add', 5887: 'forgets', 5888: 'warning', 5889: 'reality', 5890: 'loyal', 5891: 'notch', 5892: 'scotch', 5893: 'linda', 5894: 'mugs', 5895: 'dumb', 5896: 'helping', 5897: 'last', 5898: 'regulations', 5899: 'pre-game', 5900: 'twenty-six', 5901: 'leak', 5902: 'hems', 5903: 'arabs', 5904: 'plums', 5905: 'stupidly', 5906: \"neat's-foot\", 5907: \"ladies'\", 5908: 'often', 5909: 'coughs', 5910: 'fritz', 5911: 'ping-pong', 5912: 'dressed', 5913: 'moving', 5914: 'quarterback', 5915: 'buffalo', 5916: 'lovelorn', 5917: 'dawning', 5918: 'nailed', 5919: 'generosity', 5920: 'distributor', 5921: 'fad', 5922: 'music', 5923: 'attend', 5924: 'interrupting', 5925: 'locklear', 5926: 'start', 5927: 'sidelines', 5928: 'self-satisfied', 5929: 'cheryl', 5930: 'hair', 5931: 'foibles', 5932: 'much', 5933: 'wrestling', 5934: 'flourish', 5935: 'movies', 5936: 'incapable', 5937: 'giant', 5938: 'ebullient', 5939: 'children', 5940: 'use', 5941: 'stickers', 5942: 'funds', 5943: 'knuckle-dragging', 5944: 'spirit', 5945: 'maude', 5946: 'owe', 5947: 'endorse', 5948: 'played', 5949: 'indicates', 5950: \"washin'\", 5951: 'shred', 5952: 'parents', 5953: 'washed', 5954: 'needy', 5955: 'well-wisher', 5956: 'bible', 5957: \"can'tcha\", 5958: \"o'problem\", 5959: 'gruesome', 5960: 'gordon', 5961: 'energy', 5962: 'flayvin', 5963: 'cream', 5964: 'man_with_crazy_beard', 5965: 'supposed', 5966: 'larry', 5967: 'juice', 5968: 'mix', 5969: 'grow', 5970: 'far', 5971: 'alls', 5972: 'unintelligent', 5973: 'kinderhook', 5974: 'chauffeur', 5975: 'frightened', 5976: 'nemo', 5977: 'vampire', 5978: 'crummy', 5979: 'restaurant', 5980: 'spiritual', 5981: 'refresh', 5982: 'ails', 5983: 'engraved', 5984: 'surprise', 5985: 'oak', 5986: 'doof', 5987: 'suspenders', 5988: 'carll', 5989: 'flash', 5990: 'attempting', 5991: 'monday', 5992: 'celebrate', 5993: 'talk-sings', 5994: 'treats', 5995: 'since', 5996: 'ruby-studded', 5997: 'menacing', 5998: \"neighbor's\", 5999: 'dictating', 6000: 'plane', 6001: 'cesss', 6002: 'craphole', 6003: 'cheaped', 6004: 'paint', 6005: 'eighty-three', 6006: 'calls', 6007: 'sketch', 6008: 'cartoons', 6009: 'bunion', 6010: 'conspiracy', 6011: 'solo', 6012: 'save', 6013: 'inning', 6014: 'pig', 6015: 'upset', 6016: 'anyone', 6017: 'hunter', 6018: 'mice', 6019: 'watched', 6020: 'snort', 6021: 'piano', 6022: 'video', 6023: 'night-crawlers', 6024: 'al_gore', 6025: 'smithers', 6026: 'eurotrash', 6027: 'scientists', 6028: 'lap', 6029: 'passion', 6030: 'billy_the_kid', 6031: 'al', 6032: 'suffering', 6033: \"hawkin'\", 6034: 'portuguese', 6035: 'laramie', 6036: 'nearly', 6037: 'appreciate', 6038: 'libido', 6039: 'cocktail', 6040: 'changing', 6041: 'cow', 6042: \"that'd\", 6043: 'feminist', 6044: 'charges', 6045: 'victorious', 6046: 'charity', 6047: 'optimistic', 6048: \"tony's\", 6049: 'friend', 6050: 'huggenkiss', 6051: 'gallon', 6052: 'puke-pail', 6053: 'kent', 6054: 'bumpy-like', 6055: 'science', 6056: 'frat', 6057: 'saucy', 6058: 'contemplates', 6059: 'awwww', 6060: 'utility', 6061: 'saw', 6062: 'grub', 6063: 'nine', 6064: 'sponge', 6065: 'been', 6066: 'adopted', 6067: 'omit', 6068: 'computer_voice_2', 6069: 'suicide', 6070: 'stinky', 6071: 'ho-ly', 6072: 'nash', 6073: 'mmm-hmm', 6074: 'swooning', 6075: 'type', 6076: 'goblins', 6077: 'body', 6078: 'sometime', 6079: 'bike', 6080: 'sanctuary', 6081: 'all-american', 6082: 'generous', 6083: 'viva', 6084: 'actor', 6085: 'statesmanlike', 6086: 'caught', 6087: 'gimmicks', 6088: 'freak', 6089: 'goes', 6090: 'frankenstein', 6091: 'pews', 6092: 'farewell', 6093: 'invited', 6094: 'nursemaid', 6095: 'lecture', 6096: 'radiator', 6097: 'experiments', 6098: 'hyahh', 6099: 'dan', 6100: 'future', 6101: 'churchy', 6102: 'thrown', 6103: 'jerks', 6104: 'maya', 6105: 'argue', 6106: 'honored', 6107: 'harvesting', 6108: 'attention', 6109: 'blues', 6110: 'act', 6111: 'camera', 6112: 'wobble', 6113: 'headhunters', 6114: 'driver', 6115: 'settled', 6116: 'run', 6117: 'alone', 6118: 'starla', 6119: 'teen', 6120: 'artie', 6121: 'represents', 6122: 'website', 6123: 'fausto', 6124: 'statues', 6125: 'christian', 6126: 'with', 6127: 'marguerite', 6128: 'sampler', 6129: 'figure', 6130: 'their', 6131: 'beady', 6132: 'die-hard', 6133: 'acquitted', 6134: 'sister-in-law', 6135: 'throws', 6136: \"they'd\", 6137: 'ore', 6138: 'nos', 6139: 'slab', 6140: 'scoffs', 6141: 'nascar', 6142: 'pint', 6143: 'again', 6144: 'distance', 6145: \"she'd\", 6146: 'patriotic', 6147: 'jacks', 6148: 'faiths', 6149: 'wolfe', 6150: \"pickin'\", 6151: 'return', 6152: 'stuck', 6153: 'shack', 6154: 'warn', 6155: 'ferry', 6156: 'middle', 6157: \"homer's\", 6158: 'informant', 6159: 'winston', 6160: 'publish', 6161: 'virility', 6162: 'diddilies', 6163: 'bride', 6164: \"tab's\", 6165: 'supermodel', 6166: 'shame', 6167: 'noises', 6168: 'laugh', 6169: 'venture', 6170: 'occurs', 6171: 'adequate', 6172: 'page', 6173: 'gabriel', 6174: 'long', 6175: 'sissy', 6176: 'chinua', 6177: 'safely', 6178: 'sandwich', 6179: 'journey', 6180: 'ads', 6181: 'california', 6182: 'edna_krabappel-flanders', 6183: 'simultaneous', 6184: \"son's\", 6185: 'diamond', 6186: 'tom', 6187: 'each', 6188: 'mitts', 6189: 'darkness', 6190: 'inanely', 6191: 'aziz', 6192: 'honeys', 6193: \"narratin'\", 6194: 'move', 6195: 'hydrant', 6196: 'drinker', 6197: 'toy', 6198: 'duffman', 6199: 'olive', 6200: 'if', 6201: 'droning', 6202: 'suspect', 6203: 'desire', 6204: 'sugar-free', 6205: 'bring', 6206: 'stripe', 6207: 'rubbed', 6208: 'slapped', 6209: 'pumping', 6210: 'avec', 6211: 'blurbs', 6212: 'dull', 6213: 'pain', 6214: 'button', 6215: 'gone', 6216: 'moe-clone', 6217: 'doug', 6218: 'nevada', 6219: 'amused', 6220: \"messin'\", 6221: 'discussing', 6222: 'perverted', 6223: 'additional-seating-capacity', 6224: 'não', 6225: 'femininity', 6226: 'count', 6227: 'well', 6228: 'doll-baby', 6229: 'persia', 6230: 'jackson', 6231: 'collateral', 6232: 'chicken', 6233: 'drummer', 6234: \"clancy's\", 6235: 'hispanic_crowd', 6236: 'si-lent', 6237: 'strawberry', 6238: 'supports', 6239: 'manipulation', 6240: 'powered', 6241: 'f', 6242: 'campaign', 6243: 'barney-guarding', 6244: 'reluctantly', 6245: 'deer', 6246: 'cheated', 6247: 'shocked', 6248: 'bartending', 6249: 'unison', 6250: 'kept', 6251: 'cool', 6252: 'question', 6253: 'vengeance', 6254: 'wiggle', 6255: 'kearney_zzyzwicz', 6256: 'snapping', 6257: \"one's\", 6258: 'sideshow_mel', 6259: 'grandkids', 6260: 'syrup', 6261: 'bam', 6262: 'brick', 6263: 'failure', 6264: 'cocks', 6265: 'intimacy', 6266: 'so-ng', 6267: 'eye', 6268: 'ticket', 6269: 'apu_nahasapeemapetilon', 6270: 'ten', 6271: 'dark', 6272: 'strangles', 6273: 'protesters', 6274: 'combines', 6275: 'picked', 6276: 'nelson_muntz', 6277: 'bourbon', 6278: 'zack', 6279: 'by', 6280: 'christmas', 6281: 'kings', 6282: 'you-need-man', 6283: 'derek', 6284: 'fork', 6285: 'pennies', 6286: 'happiness', 6287: 'refill', 6288: 'zoomed', 6289: 'creates', 6290: 'pajamas', 6291: 'letters', 6292: 'opens', 6293: 'hike', 6294: 'worked', 6295: 'proudly', 6296: 'birthday', 6297: 'carl', 6298: 'quit', 6299: 'sausage', 6300: \"yesterday's\", 6301: 'cell', 6302: 'rockers', 6303: 'hand', 6304: 'six-barrel', 6305: 'dracula', 6306: 'caused', 6307: 'sending', 6308: 'legend', 6309: 'hilarious', 6310: 'improv', 6311: \"number's\", 6312: \"fryer's\", 6313: 'blood-thirsty', 6314: 'bubbles-in-my-nose-y', 6315: 'interesting', 6316: \"smackin'\", 6317: 'relieved', 6318: 'rage', 6319: 'schizophrenia', 6320: 'at', 6321: \"i'm-so-stupid\", 6322: 'playoff', 6323: 'syndicate', 6324: 'bottomless', 6325: 'ideal', 6326: 'poin-dexterous', 6327: 'hangover', 6328: '530', 6329: 'pond', 6330: 'sports_announcer', 6331: 'universe', 6332: 'knowing', 6333: 'loan', 6334: 'married', 6335: 'oww', 6336: 'statistician', 6337: 'office', 6338: 'correcting', 6339: 'compadre', 6340: 'lousy', 6341: 'hooray', 6342: 'indecipherable', 6343: 'sickens', 6344: 'nickel', 6345: 'suits', 6346: 'rationalizing', 6347: 'single-mindedness', 6348: 'lenses', 6349: \"callin'\", 6350: 'encouraging', 6351: 'gambler', 6352: 'pages', 6353: 'naval', 6354: 'gotcha', 6355: 'hate-hugs', 6356: 'heartily', 6357: 'dogs', 6358: 'boozebag', 6359: 'remote', 6360: 'transfer', 6361: 'scrape', 6362: 'whoever', 6363: 'patron_#1', 6364: 'moe_recording', 6365: 'hammy', 6366: 'compliments', 6367: 'woman_bystander', 6368: 'woe', 6369: 'barber', 6370: 'lessons', 6371: \"when's\", 6372: 'massive', 6373: 'grab', 6374: 'ocean', 6375: 'deacon', 6376: 'warmly', 6377: 'late', 6378: 'brawled', 6379: 'referee', 6380: 'moustache', 6381: 'so-called', 6382: 'names', 6383: 'gotten', 6384: 'duke', 6385: 'walking', 6386: 'commit', 6387: 'the', 6388: 'due', 6389: 'everyday', 6390: 'eggs', 6391: 'fan', 6392: 'frenchman', 6393: 'needed', 6394: 'st', 6395: \"'morning\", 6396: 'waylon', 6397: 'lushmore', 6398: \"they're\", 6399: 'pulls', 6400: 'total', 6401: 'commanding', 6402: 'spews', 6403: 'trashed', 6404: 'denser', 6405: 'rome', 6406: 'utensils', 6407: 'distinct', 6408: 'washouts', 6409: 'puzzled', 6410: 'clammy', 6411: 'releasing', 6412: 'resolution', 6413: 'effigy', 6414: 'hell', 6415: 'inspection', 6416: 'puzzle', 6417: 'gestated', 6418: 'tab', 6419: 'sleigh-horses', 6420: 'edgy', 6421: 'intriguing', 6422: \"let's\", 6423: 'occupation', 6424: 'alfalfa', 6425: 'cute', 6426: \"where's\", 6427: 'ralph', 6428: 'employees', 6429: 'moesy', 6430: 'asking', 6431: 'multiple', 6432: 'ran', 6433: 'contented', 6434: 'mona_simpson', 6435: 'see', 6436: 'fellas', 6437: 'terror', 6438: 'heart', 6439: 'soup', 6440: 'democracy', 6441: 'glummy', 6442: 'drive', 6443: 'finishing', 6444: 'dials', 6445: \"other's\", 6446: 'necessary', 6447: 'stay', 6448: 'share', 6449: 'detective_homer_simpson', 6450: 'fault', 6451: 'computer', 6452: 'twenty-four', 6453: 'blokes', 6454: 'kisses', 6455: 'la', 6456: 'scare', 6457: 'festival', 6458: 'there', 6459: 'shores', 6460: 'jerky', 6461: 'finger', 6462: 'service', 6463: 'coffee', 6464: 'wondering', 6465: 'birthplace', 6466: 'items', 6467: 'beer-dorf', 6468: 'john', 6469: 'anguished', 6470: 'quarry', 6471: 'color', 6472: 'moonnnnnnnn', 6473: 'teriyaki', 6474: 'wishes', 6475: 'gunk', 6476: 'alive', 6477: \"lady's\", 6478: 'flashbacks', 6479: 'notably', 6480: 'shaken', 6481: 'freed', 6482: 'mouths', 6483: 'longest', 6484: '2nd_voice_on_transmitter', 6485: 'angrily', 6486: 'quick', 6487: 'known', 6488: 'sustain', 6489: 'recreate', 6490: 'groveling', 6491: 'population', 6492: 'wedding', 6493: 'idioms', 6494: '91', 6495: 'live', 6496: 'pulitzer', 6497: 'peabody', 6498: 'won', 6499: \"pope's\", 6500: 'wienerschnitzel', 6501: 'compete', 6502: 'polygon', 6503: 'ways', 6504: 'beam', 6505: 'samples', 6506: 'certain', 6507: 'cuddling', 6508: 'bubble', 6509: 'rainbows', 6510: 'friendship', 6511: 'radiation', 6512: 'delicious', 6513: 'hold', 6514: \"lefty's\", 6515: 'enforced', 6516: 'magazine', 6517: 'dint', 6518: 'gasoline', 6519: 'guttural', 6520: 'grope', 6521: 'mocking', 6522: 'homer_simpson', 6523: 'pats', 6524: 'plow', 6525: 'lover', 6526: 'quiet', 6527: 'softer', 6528: \"homer's_brain\", 6529: 'fighting', 6530: 'eighty-six', 6531: 'thru', 6532: 'scrubbing', 6533: 'scared', 6534: 'mad', 6535: 'ow', 6536: 'photos', 6537: 'safecracker', 6538: 'regret', 6539: 'spite', 6540: 'safer', 6541: 'starlets', 6542: 'nibble', 6543: 'you', 6544: 'infiltrate', 6545: 'cowboy', 6546: 'cheat', 6547: 'actually', 6548: 'gentlemen', 6549: 'expecting', 6550: 'tuna', 6551: \"mecca's\", 6552: 'cold', 6553: 'log', 6554: 'barf', 6555: 'ruuuule', 6556: 'wasting', 6557: 'passports', 6558: 'convinced', 6559: 'isle', 6560: 'cutie', 6561: 'alcohol', 6562: 'clearing', 6563: 'guzzles', 6564: 'jay_leno', 6565: 'costume', 6566: 'daddy', 6567: 'pile', 6568: 'liser', 6569: 'spit', 6570: 'equal', 6571: 'selective', 6572: 'noble', 6573: 'mike', 6574: 'grrrreetings', 6575: 'presses', 6576: 'soon', 6577: 'boat', 6578: 'loved', 6579: 'mailbox', 6580: 'options', 6581: 'full-time', 6582: 'je', 6583: 'idiots', 6584: 'gil_gunderson', 6585: 'leg', 6586: 'kenny', 6587: 'brusque', 6588: 'grateful', 6589: 'eleven', 6590: 'thawing', 6591: 'tracks', 6592: 'lowest', 6593: 'like', 6594: 'rats', 6595: 'payday', 6596: 'wanted', 6597: 'shotgun', 6598: 'hollywood', 6599: 'lis', 6600: 'trying', 6601: 'lenford', 6602: 'continued', 6603: 'elect', 6604: 'vacations', 6605: 'meeting', 6606: 'intakes', 6607: 'determined', 6608: 'gangrene', 6609: 'bottom', 6610: 'maman', 6611: 'cares', 6612: 'laney', 6613: 'smelly', 6614: 'who', 6615: 'tight', 6616: 'mudflap', 6617: 'conditioners', 6618: 'coins', 6619: 'dory', 6620: 'tigers', 6621: 'rule', 6622: 'marmaduke', 6623: \"could've\", 6624: 'unusually', 6625: 'bowl', 6626: '_zander', 6627: 'contract', 6628: 'depressant', 6629: 'grudgingly', 6630: 'hero-phobia', 6631: 'los', 6632: 'swine', 6633: 'voice', 6634: 'shaggy', 6635: 'reluctant', 6636: 'perfunctory', 6637: 'frink', 6638: 'knees', 6639: 'jernt', 6640: 'be', 6641: 'asks', 6642: 'jovial', 6643: 'hunka', 6644: 'mop', 6645: 'buyer', 6646: 'babies', 6647: 'jubilant', 6648: 'screw', 6649: 'animals', 6650: \"high-falutin'\", 6651: 'gol-dangit', 6652: 'bleacher', 6653: 'associate', 6654: 'modest', 6655: 'nature', 6656: 'bumbling', 6657: 'forever', 6658: 'hitchhike', 6659: 'scent', 6660: 'traitor', 6661: 'species', 6662: 'dishrag', 6663: 'goal', 6664: \"must've\", 6665: \"ma'am\", 6666: 'she', 6667: 'poster', 6668: 'dictator', 6669: 'season', 6670: 'violin', 6671: 'broom', 6672: 'checking', 6673: 'marvin', 6674: 'general', 6675: 'settles', 6676: 'meanwhile', 6677: 'sexton', 6678: 'premise', 6679: 'forward', 6680: 'celeste', 6681: \"sayin'\", 6682: 'blissful', 6683: \"shouldn't\", 6684: 'pouring', 6685: 'customers-slash-only', 6686: 'logos', 6687: 'vegas', 6688: \"squeezin'\", 6689: 'germans'}\n"
     ]
    },
    {
     "ename": "KeyError",
     "evalue": "'moe_szyslak'",
     "output_type": "error",
     "traceback": [
      "\u001b[0;31m---------------------------------------------------------------------------\u001b[0m",
      "\u001b[0;31mKeyError\u001b[0m                                  Traceback (most recent call last)",
      "\u001b[0;32m<ipython-input-5-56ccb96c9e1b>\u001b[0m in \u001b[0;36m<module>\u001b[0;34m()\u001b[0m\n\u001b[1;32m      3\u001b[0m \"\"\"\n\u001b[1;32m      4\u001b[0m \u001b[0;31m# Preprocess Training, Validation, and Testing Data\u001b[0m\u001b[0;34m\u001b[0m\u001b[0;34m\u001b[0m\u001b[0m\n\u001b[0;32m----> 5\u001b[0;31m \u001b[0mhelper\u001b[0m\u001b[0;34m.\u001b[0m\u001b[0mpreprocess_and_save_data\u001b[0m\u001b[0;34m(\u001b[0m\u001b[0mdata_dir\u001b[0m\u001b[0;34m,\u001b[0m \u001b[0mtoken_lookup\u001b[0m\u001b[0;34m,\u001b[0m \u001b[0mcreate_lookup_tables\u001b[0m\u001b[0;34m)\u001b[0m\u001b[0;34m\u001b[0m\u001b[0m\n\u001b[0m",
      "\u001b[0;32m/Users/kubotakouhei/udacity/generate-tc-scripts/deep-learning/tv-script-generation/helper.py\u001b[0m in \u001b[0;36mpreprocess_and_save_data\u001b[0;34m(dataset_path, token_lookup, create_lookup_tables)\u001b[0m\n\u001b[1;32m     31\u001b[0m \u001b[0;34m\u001b[0m\u001b[0m\n\u001b[1;32m     32\u001b[0m     \u001b[0mvocab_to_int\u001b[0m\u001b[0;34m,\u001b[0m \u001b[0mint_to_vocab\u001b[0m \u001b[0;34m=\u001b[0m \u001b[0mcreate_lookup_tables\u001b[0m\u001b[0;34m(\u001b[0m\u001b[0mtext\u001b[0m\u001b[0;34m)\u001b[0m\u001b[0;34m\u001b[0m\u001b[0m\n\u001b[0;32m---> 33\u001b[0;31m     \u001b[0mint_text\u001b[0m \u001b[0;34m=\u001b[0m \u001b[0;34m[\u001b[0m\u001b[0mvocab_to_int\u001b[0m\u001b[0;34m[\u001b[0m\u001b[0mword\u001b[0m\u001b[0;34m]\u001b[0m \u001b[0;32mfor\u001b[0m \u001b[0mword\u001b[0m \u001b[0;32min\u001b[0m \u001b[0mtext\u001b[0m\u001b[0;34m]\u001b[0m\u001b[0;34m\u001b[0m\u001b[0m\n\u001b[0m\u001b[1;32m     34\u001b[0m     \u001b[0mpickle\u001b[0m\u001b[0;34m.\u001b[0m\u001b[0mdump\u001b[0m\u001b[0;34m(\u001b[0m\u001b[0;34m(\u001b[0m\u001b[0mint_text\u001b[0m\u001b[0;34m,\u001b[0m \u001b[0mvocab_to_int\u001b[0m\u001b[0;34m,\u001b[0m \u001b[0mint_to_vocab\u001b[0m\u001b[0;34m,\u001b[0m \u001b[0mtoken_dict\u001b[0m\u001b[0;34m)\u001b[0m\u001b[0;34m,\u001b[0m \u001b[0mopen\u001b[0m\u001b[0;34m(\u001b[0m\u001b[0;34m'preprocess.p'\u001b[0m\u001b[0;34m,\u001b[0m \u001b[0;34m'wb'\u001b[0m\u001b[0;34m)\u001b[0m\u001b[0;34m)\u001b[0m\u001b[0;34m\u001b[0m\u001b[0m\n\u001b[1;32m     35\u001b[0m \u001b[0;34m\u001b[0m\u001b[0m\n",
      "\u001b[0;32m/Users/kubotakouhei/udacity/generate-tc-scripts/deep-learning/tv-script-generation/helper.py\u001b[0m in \u001b[0;36m<listcomp>\u001b[0;34m(.0)\u001b[0m\n\u001b[1;32m     31\u001b[0m \u001b[0;34m\u001b[0m\u001b[0m\n\u001b[1;32m     32\u001b[0m     \u001b[0mvocab_to_int\u001b[0m\u001b[0;34m,\u001b[0m \u001b[0mint_to_vocab\u001b[0m \u001b[0;34m=\u001b[0m \u001b[0mcreate_lookup_tables\u001b[0m\u001b[0;34m(\u001b[0m\u001b[0mtext\u001b[0m\u001b[0;34m)\u001b[0m\u001b[0;34m\u001b[0m\u001b[0m\n\u001b[0;32m---> 33\u001b[0;31m     \u001b[0mint_text\u001b[0m \u001b[0;34m=\u001b[0m \u001b[0;34m[\u001b[0m\u001b[0mvocab_to_int\u001b[0m\u001b[0;34m[\u001b[0m\u001b[0mword\u001b[0m\u001b[0;34m]\u001b[0m \u001b[0;32mfor\u001b[0m \u001b[0mword\u001b[0m \u001b[0;32min\u001b[0m \u001b[0mtext\u001b[0m\u001b[0;34m]\u001b[0m\u001b[0;34m\u001b[0m\u001b[0m\n\u001b[0m\u001b[1;32m     34\u001b[0m     \u001b[0mpickle\u001b[0m\u001b[0;34m.\u001b[0m\u001b[0mdump\u001b[0m\u001b[0;34m(\u001b[0m\u001b[0;34m(\u001b[0m\u001b[0mint_text\u001b[0m\u001b[0;34m,\u001b[0m \u001b[0mvocab_to_int\u001b[0m\u001b[0;34m,\u001b[0m \u001b[0mint_to_vocab\u001b[0m\u001b[0;34m,\u001b[0m \u001b[0mtoken_dict\u001b[0m\u001b[0;34m)\u001b[0m\u001b[0;34m,\u001b[0m \u001b[0mopen\u001b[0m\u001b[0;34m(\u001b[0m\u001b[0;34m'preprocess.p'\u001b[0m\u001b[0;34m,\u001b[0m \u001b[0;34m'wb'\u001b[0m\u001b[0;34m)\u001b[0m\u001b[0;34m)\u001b[0m\u001b[0;34m\u001b[0m\u001b[0m\n\u001b[1;32m     35\u001b[0m \u001b[0;34m\u001b[0m\u001b[0m\n",
      "\u001b[0;31mKeyError\u001b[0m: 'moe_szyslak'"
     ]
    }
   ],
   "source": [
    "\"\"\"\n",
    "DON'T MODIFY ANYTHING IN THIS CELL\n",
    "\"\"\"\n",
    "# Preprocess Training, Validation, and Testing Data\n",
    "helper.preprocess_and_save_data(data_dir, token_lookup, create_lookup_tables)"
   ]
  },
  {
   "cell_type": "markdown",
   "metadata": {
    "deletable": true,
    "editable": true
   },
   "source": [
    "# Check Point\n",
    "This is your first checkpoint. If you ever decide to come back to this notebook or have to restart the notebook, you can start from here. The preprocessed data has been saved to disk."
   ]
  },
  {
   "cell_type": "code",
   "execution_count": 6,
   "metadata": {
    "collapsed": false,
    "deletable": true,
    "editable": true
   },
   "outputs": [
    {
     "ename": "FileNotFoundError",
     "evalue": "[Errno 2] No such file or directory: 'preprocess.p'",
     "output_type": "error",
     "traceback": [
      "\u001b[0;31m---------------------------------------------------------------------------\u001b[0m",
      "\u001b[0;31mFileNotFoundError\u001b[0m                         Traceback (most recent call last)",
      "\u001b[0;32m<ipython-input-6-145fea077abe>\u001b[0m in \u001b[0;36m<module>\u001b[0;34m()\u001b[0m\n\u001b[1;32m      6\u001b[0m \u001b[0;32mimport\u001b[0m \u001b[0mproblem_unittests\u001b[0m \u001b[0;32mas\u001b[0m \u001b[0mtests\u001b[0m\u001b[0;34m\u001b[0m\u001b[0m\n\u001b[1;32m      7\u001b[0m \u001b[0;34m\u001b[0m\u001b[0m\n\u001b[0;32m----> 8\u001b[0;31m \u001b[0mint_text\u001b[0m\u001b[0;34m,\u001b[0m \u001b[0mvocab_to_int\u001b[0m\u001b[0;34m,\u001b[0m \u001b[0mint_to_vocab\u001b[0m\u001b[0;34m,\u001b[0m \u001b[0mtoken_dict\u001b[0m \u001b[0;34m=\u001b[0m \u001b[0mhelper\u001b[0m\u001b[0;34m.\u001b[0m\u001b[0mload_preprocess\u001b[0m\u001b[0;34m(\u001b[0m\u001b[0;34m)\u001b[0m\u001b[0;34m\u001b[0m\u001b[0m\n\u001b[0m",
      "\u001b[0;32m/Users/kubotakouhei/udacity/generate-tc-scripts/deep-learning/tv-script-generation/helper.py\u001b[0m in \u001b[0;36mload_preprocess\u001b[0;34m()\u001b[0m\n\u001b[1;32m     39\u001b[0m     \u001b[0mLoad\u001b[0m \u001b[0mthe\u001b[0m \u001b[0mPreprocessed\u001b[0m \u001b[0mTraining\u001b[0m \u001b[0mdata\u001b[0m \u001b[0;32mand\u001b[0m \u001b[0;32mreturn\u001b[0m \u001b[0mthem\u001b[0m \u001b[0;32min\u001b[0m \u001b[0mbatches\u001b[0m \u001b[0mof\u001b[0m \u001b[0;34m<\u001b[0m\u001b[0mbatch_size\u001b[0m\u001b[0;34m>\u001b[0m \u001b[0;32mor\u001b[0m \u001b[0mless\u001b[0m\u001b[0;34m\u001b[0m\u001b[0m\n\u001b[1;32m     40\u001b[0m     \"\"\"\n\u001b[0;32m---> 41\u001b[0;31m     \u001b[0;32mreturn\u001b[0m \u001b[0mpickle\u001b[0m\u001b[0;34m.\u001b[0m\u001b[0mload\u001b[0m\u001b[0;34m(\u001b[0m\u001b[0mopen\u001b[0m\u001b[0;34m(\u001b[0m\u001b[0;34m'preprocess.p'\u001b[0m\u001b[0;34m,\u001b[0m \u001b[0mmode\u001b[0m\u001b[0;34m=\u001b[0m\u001b[0;34m'rb'\u001b[0m\u001b[0;34m)\u001b[0m\u001b[0;34m)\u001b[0m\u001b[0;34m\u001b[0m\u001b[0m\n\u001b[0m\u001b[1;32m     42\u001b[0m \u001b[0;34m\u001b[0m\u001b[0m\n\u001b[1;32m     43\u001b[0m \u001b[0;34m\u001b[0m\u001b[0m\n",
      "\u001b[0;31mFileNotFoundError\u001b[0m: [Errno 2] No such file or directory: 'preprocess.p'"
     ]
    }
   ],
   "source": [
    "\"\"\"\n",
    "DON'T MODIFY ANYTHING IN THIS CELL\n",
    "\"\"\"\n",
    "import helper\n",
    "import numpy as np\n",
    "import problem_unittests as tests\n",
    "\n",
    "int_text, vocab_to_int, int_to_vocab, token_dict = helper.load_preprocess()"
   ]
  },
  {
   "cell_type": "markdown",
   "metadata": {
    "deletable": true,
    "editable": true
   },
   "source": [
    "## Build the Neural Network\n",
    "You'll build the components necessary to build a RNN by implementing the following functions below:\n",
    "- get_inputs\n",
    "- get_init_cell\n",
    "- get_embed\n",
    "- build_rnn\n",
    "- build_nn\n",
    "- get_batches\n",
    "\n",
    "### Check the Version of TensorFlow and Access to GPU"
   ]
  },
  {
   "cell_type": "code",
   "execution_count": null,
   "metadata": {
    "collapsed": false
   },
   "outputs": [],
   "source": [
    "\"\"\"\n",
    "DON'T MODIFY ANYTHING IN THIS CELL\n",
    "\"\"\"\n",
    "from distutils.version import LooseVersion\n",
    "import warnings\n",
    "import tensorflow as tf\n",
    "\n",
    "# Check TensorFlow Version\n",
    "assert LooseVersion(tf.__version__) >= LooseVersion('1.0'), 'Please use TensorFlow version 1.0 or newer'\n",
    "print('TensorFlow Version: {}'.format(tf.__version__))\n",
    "\n",
    "# Check for a GPU\n",
    "if not tf.test.gpu_device_name():\n",
    "    warnings.warn('No GPU found. Please use a GPU to train your neural network.')\n",
    "else:\n",
    "    print('Default GPU Device: {}'.format(tf.test.gpu_device_name()))"
   ]
  },
  {
   "cell_type": "markdown",
   "metadata": {},
   "source": [
    "### Input\n",
    "Implement the `get_inputs()` function to create TF Placeholders for the Neural Network.  It should create the following placeholders:\n",
    "- Input text placeholder named \"input\" using the [TF Placeholder](https://www.tensorflow.org/api_docs/python/tf/placeholder) `name` parameter.\n",
    "- Targets placeholder\n",
    "- Learning Rate placeholder\n",
    "\n",
    "Return the placeholders in the following tuple `(Input, Targets, LearningRate)`"
   ]
  },
  {
   "cell_type": "code",
   "execution_count": null,
   "metadata": {
    "collapsed": false,
    "deletable": true,
    "editable": true
   },
   "outputs": [],
   "source": [
    "def get_inputs():\n",
    "    \"\"\"\n",
    "    Create TF Placeholders for input, targets, and learning rate.\n",
    "    :return: Tuple (input, targets, learning rate)\n",
    "    \"\"\"\n",
    "    # TODO: Implement Function\n",
    "    return None, None, None\n",
    "\n",
    "\n",
    "\"\"\"\n",
    "DON'T MODIFY ANYTHING IN THIS CELL THAT IS BELOW THIS LINE\n",
    "\"\"\"\n",
    "tests.test_get_inputs(get_inputs)"
   ]
  },
  {
   "cell_type": "markdown",
   "metadata": {
    "deletable": true,
    "editable": true
   },
   "source": [
    "### Build RNN Cell and Initialize\n",
    "Stack one or more [`BasicLSTMCells`](https://www.tensorflow.org/api_docs/python/tf/contrib/rnn/BasicLSTMCell) in a [`MultiRNNCell`](https://www.tensorflow.org/api_docs/python/tf/contrib/rnn/MultiRNNCell).\n",
    "- The Rnn size should be set using `rnn_size`\n",
    "- Initalize Cell State using the MultiRNNCell's [`zero_state()`](https://www.tensorflow.org/api_docs/python/tf/contrib/rnn/MultiRNNCell#zero_state) function\n",
    "    - Apply the name \"initial_state\" to the initial state using [`tf.identity()`](https://www.tensorflow.org/api_docs/python/tf/identity)\n",
    "\n",
    "Return the cell and initial state in the following tuple `(Cell, InitialState)`"
   ]
  },
  {
   "cell_type": "code",
   "execution_count": null,
   "metadata": {
    "collapsed": false,
    "deletable": true,
    "editable": true
   },
   "outputs": [],
   "source": [
    "def get_init_cell(batch_size, rnn_size):\n",
    "    \"\"\"\n",
    "    Create an RNN Cell and initialize it.\n",
    "    :param batch_size: Size of batches\n",
    "    :param rnn_size: Size of RNNs\n",
    "    :return: Tuple (cell, initialize state)\n",
    "    \"\"\"\n",
    "    # TODO: Implement Function\n",
    "    return None, None\n",
    "\n",
    "\n",
    "\"\"\"\n",
    "DON'T MODIFY ANYTHING IN THIS CELL THAT IS BELOW THIS LINE\n",
    "\"\"\"\n",
    "tests.test_get_init_cell(get_init_cell)"
   ]
  },
  {
   "cell_type": "markdown",
   "metadata": {
    "deletable": true,
    "editable": true
   },
   "source": [
    "### Word Embedding\n",
    "Apply embedding to `input_data` using TensorFlow.  Return the embedded sequence."
   ]
  },
  {
   "cell_type": "code",
   "execution_count": null,
   "metadata": {
    "collapsed": false,
    "deletable": true,
    "editable": true
   },
   "outputs": [],
   "source": [
    "def get_embed(input_data, vocab_size, embed_dim):\n",
    "    \"\"\"\n",
    "    Create embedding for <input_data>.\n",
    "    :param input_data: TF placeholder for text input.\n",
    "    :param vocab_size: Number of words in vocabulary.\n",
    "    :param embed_dim: Number of embedding dimensions\n",
    "    :return: Embedded input.\n",
    "    \"\"\"\n",
    "    # TODO: Implement Function\n",
    "    return None\n",
    "\n",
    "\n",
    "\"\"\"\n",
    "DON'T MODIFY ANYTHING IN THIS CELL THAT IS BELOW THIS LINE\n",
    "\"\"\"\n",
    "tests.test_get_embed(get_embed)"
   ]
  },
  {
   "cell_type": "markdown",
   "metadata": {
    "deletable": true,
    "editable": true
   },
   "source": [
    "### Build RNN\n",
    "You created a RNN Cell in the `get_init_cell()` function.  Time to use the cell to create a RNN.\n",
    "- Build the RNN using the [`tf.nn.dynamic_rnn()`](https://www.tensorflow.org/api_docs/python/tf/nn/dynamic_rnn)\n",
    " - Apply the name \"final_state\" to the final state using [`tf.identity()`](https://www.tensorflow.org/api_docs/python/tf/identity)\n",
    "\n",
    "Return the outputs and final_state state in the following tuple `(Outputs, FinalState)` "
   ]
  },
  {
   "cell_type": "code",
   "execution_count": null,
   "metadata": {
    "collapsed": false,
    "deletable": true,
    "editable": true
   },
   "outputs": [],
   "source": [
    "def build_rnn(cell, inputs):\n",
    "    \"\"\"\n",
    "    Create a RNN using a RNN Cell\n",
    "    :param cell: RNN Cell\n",
    "    :param inputs: Input text data\n",
    "    :return: Tuple (Outputs, Final State)\n",
    "    \"\"\"\n",
    "    # TODO: Implement Function\n",
    "    return None, None\n",
    "\n",
    "\n",
    "\"\"\"\n",
    "DON'T MODIFY ANYTHING IN THIS CELL THAT IS BELOW THIS LINE\n",
    "\"\"\"\n",
    "tests.test_build_rnn(build_rnn)"
   ]
  },
  {
   "cell_type": "markdown",
   "metadata": {
    "deletable": true,
    "editable": true
   },
   "source": [
    "### Build the Neural Network\n",
    "Apply the functions you implemented above to:\n",
    "- Apply embedding to `input_data` using your `get_embed(input_data, vocab_size, embed_dim)` function.\n",
    "- Build RNN using `cell` and your `build_rnn(cell, inputs)` function.\n",
    "- Apply a fully connected layer with a linear activation and `vocab_size` as the number of outputs.\n",
    "\n",
    "Return the logits and final state in the following tuple (Logits, FinalState) "
   ]
  },
  {
   "cell_type": "code",
   "execution_count": null,
   "metadata": {
    "collapsed": false,
    "deletable": true,
    "editable": true
   },
   "outputs": [],
   "source": [
    "def build_nn(cell, rnn_size, input_data, vocab_size, embed_dim):\n",
    "    \"\"\"\n",
    "    Build part of the neural network\n",
    "    :param cell: RNN cell\n",
    "    :param rnn_size: Size of rnns\n",
    "    :param input_data: Input data\n",
    "    :param vocab_size: Vocabulary size\n",
    "    :param embed_dim: Number of embedding dimensions\n",
    "    :return: Tuple (Logits, FinalState)\n",
    "    \"\"\"\n",
    "    # TODO: Implement Function\n",
    "    return None, None\n",
    "\n",
    "\n",
    "\"\"\"\n",
    "DON'T MODIFY ANYTHING IN THIS CELL THAT IS BELOW THIS LINE\n",
    "\"\"\"\n",
    "tests.test_build_nn(build_nn)"
   ]
  },
  {
   "cell_type": "markdown",
   "metadata": {
    "deletable": true,
    "editable": true
   },
   "source": [
    "### Batches\n",
    "Implement `get_batches` to create batches of input and targets using `int_text`.  The batches should be a Numpy array with the shape `(number of batches, 2, batch size, sequence length)`. Each batch contains two elements:\n",
    "- The first element is a single batch of **input** with the shape `[batch size, sequence length]`\n",
    "- The second element is a single batch of **targets** with the shape `[batch size, sequence length]`\n",
    "\n",
    "If you can't fill the last batch with enough data, drop the last batch.\n",
    "\n",
    "For exmple, `get_batches([1, 2, 3, 4, 5, 6, 7, 8, 9, 10, 11, 12, 13, 14, 15, 16, 17, 18, 19, 20], 3, 2)` would return a Numpy array of the following:\n",
    "```\n",
    "[\n",
    "  # First Batch\n",
    "  [\n",
    "    # Batch of Input\n",
    "    [[ 1  2], [ 7  8], [13 14]]\n",
    "    # Batch of targets\n",
    "    [[ 2  3], [ 8  9], [14 15]]\n",
    "  ]\n",
    "\n",
    "  # Second Batch\n",
    "  [\n",
    "    # Batch of Input\n",
    "    [[ 3  4], [ 9 10], [15 16]]\n",
    "    # Batch of targets\n",
    "    [[ 4  5], [10 11], [16 17]]\n",
    "  ]\n",
    "\n",
    "  # Third Batch\n",
    "  [\n",
    "    # Batch of Input\n",
    "    [[ 5  6], [11 12], [17 18]]\n",
    "    # Batch of targets\n",
    "    [[ 6  7], [12 13], [18  1]]\n",
    "  ]\n",
    "]\n",
    "```\n",
    "\n",
    "Notice that the last target value in the last batch is the first input value of the first batch. In this case, `1`. This is a common technique used when creating sequence batches, although it is rather unintuitive."
   ]
  },
  {
   "cell_type": "code",
   "execution_count": null,
   "metadata": {
    "collapsed": false,
    "deletable": true,
    "editable": true
   },
   "outputs": [],
   "source": [
    "def get_batches(int_text, batch_size, seq_length):\n",
    "    \"\"\"\n",
    "    Return batches of input and target\n",
    "    :param int_text: Text with the words replaced by their ids\n",
    "    :param batch_size: The size of batch\n",
    "    :param seq_length: The length of sequence\n",
    "    :return: Batches as a Numpy array\n",
    "    \"\"\"\n",
    "    # TODO: Implement Function\n",
    "    return None\n",
    "\n",
    "\n",
    "\"\"\"\n",
    "DON'T MODIFY ANYTHING IN THIS CELL THAT IS BELOW THIS LINE\n",
    "\"\"\"\n",
    "tests.test_get_batches(get_batches)"
   ]
  },
  {
   "cell_type": "markdown",
   "metadata": {
    "deletable": true,
    "editable": true
   },
   "source": [
    "## Neural Network Training\n",
    "### Hyperparameters\n",
    "Tune the following parameters:\n",
    "\n",
    "- Set `num_epochs` to the number of epochs.\n",
    "- Set `batch_size` to the batch size.\n",
    "- Set `rnn_size` to the size of the RNNs.\n",
    "- Set `embed_dim` to the size of the embedding.\n",
    "- Set `seq_length` to the length of sequence.\n",
    "- Set `learning_rate` to the learning rate.\n",
    "- Set `show_every_n_batches` to the number of batches the neural network should print progress."
   ]
  },
  {
   "cell_type": "code",
   "execution_count": null,
   "metadata": {
    "collapsed": true,
    "deletable": true,
    "editable": true
   },
   "outputs": [],
   "source": [
    "# Number of Epochs\n",
    "num_epochs = None\n",
    "# Batch Size\n",
    "batch_size = None\n",
    "# RNN Size\n",
    "rnn_size = None\n",
    "# Embedding Dimension Size\n",
    "embed_dim = None\n",
    "# Sequence Length\n",
    "seq_length = None\n",
    "# Learning Rate\n",
    "learning_rate = None\n",
    "# Show stats for every n number of batches\n",
    "show_every_n_batches = None\n",
    "\n",
    "\"\"\"\n",
    "DON'T MODIFY ANYTHING IN THIS CELL THAT IS BELOW THIS LINE\n",
    "\"\"\"\n",
    "save_dir = './save'"
   ]
  },
  {
   "cell_type": "markdown",
   "metadata": {
    "deletable": true,
    "editable": true
   },
   "source": [
    "### Build the Graph\n",
    "Build the graph using the neural network you implemented."
   ]
  },
  {
   "cell_type": "code",
   "execution_count": null,
   "metadata": {
    "collapsed": false,
    "deletable": true,
    "editable": true
   },
   "outputs": [],
   "source": [
    "\"\"\"\n",
    "DON'T MODIFY ANYTHING IN THIS CELL\n",
    "\"\"\"\n",
    "from tensorflow.contrib import seq2seq\n",
    "\n",
    "train_graph = tf.Graph()\n",
    "with train_graph.as_default():\n",
    "    vocab_size = len(int_to_vocab)\n",
    "    input_text, targets, lr = get_inputs()\n",
    "    input_data_shape = tf.shape(input_text)\n",
    "    cell, initial_state = get_init_cell(input_data_shape[0], rnn_size)\n",
    "    logits, final_state = build_nn(cell, rnn_size, input_text, vocab_size, embed_dim)\n",
    "\n",
    "    # Probabilities for generating words\n",
    "    probs = tf.nn.softmax(logits, name='probs')\n",
    "\n",
    "    # Loss function\n",
    "    cost = seq2seq.sequence_loss(\n",
    "        logits,\n",
    "        targets,\n",
    "        tf.ones([input_data_shape[0], input_data_shape[1]]))\n",
    "\n",
    "    # Optimizer\n",
    "    optimizer = tf.train.AdamOptimizer(lr)\n",
    "\n",
    "    # Gradient Clipping\n",
    "    gradients = optimizer.compute_gradients(cost)\n",
    "    capped_gradients = [(tf.clip_by_value(grad, -1., 1.), var) for grad, var in gradients if grad is not None]\n",
    "    train_op = optimizer.apply_gradients(capped_gradients)"
   ]
  },
  {
   "cell_type": "markdown",
   "metadata": {
    "deletable": true,
    "editable": true
   },
   "source": [
    "## Train\n",
    "Train the neural network on the preprocessed data.  If you have a hard time getting a good loss, check the [forums](https://discussions.udacity.com/) to see if anyone is having the same problem."
   ]
  },
  {
   "cell_type": "code",
   "execution_count": null,
   "metadata": {
    "collapsed": false,
    "deletable": true,
    "editable": true
   },
   "outputs": [],
   "source": [
    "\"\"\"\n",
    "DON'T MODIFY ANYTHING IN THIS CELL\n",
    "\"\"\"\n",
    "batches = get_batches(int_text, batch_size, seq_length)\n",
    "\n",
    "with tf.Session(graph=train_graph) as sess:\n",
    "    sess.run(tf.global_variables_initializer())\n",
    "\n",
    "    for epoch_i in range(num_epochs):\n",
    "        state = sess.run(initial_state, {input_text: batches[0][0]})\n",
    "\n",
    "        for batch_i, (x, y) in enumerate(batches):\n",
    "            feed = {\n",
    "                input_text: x,\n",
    "                targets: y,\n",
    "                initial_state: state,\n",
    "                lr: learning_rate}\n",
    "            train_loss, state, _ = sess.run([cost, final_state, train_op], feed)\n",
    "\n",
    "            # Show every <show_every_n_batches> batches\n",
    "            if (epoch_i * len(batches) + batch_i) % show_every_n_batches == 0:\n",
    "                print('Epoch {:>3} Batch {:>4}/{}   train_loss = {:.3f}'.format(\n",
    "                    epoch_i,\n",
    "                    batch_i,\n",
    "                    len(batches),\n",
    "                    train_loss))\n",
    "\n",
    "    # Save Model\n",
    "    saver = tf.train.Saver()\n",
    "    saver.save(sess, save_dir)\n",
    "    print('Model Trained and Saved')"
   ]
  },
  {
   "cell_type": "markdown",
   "metadata": {
    "deletable": true,
    "editable": true
   },
   "source": [
    "## Save Parameters\n",
    "Save `seq_length` and `save_dir` for generating a new TV script."
   ]
  },
  {
   "cell_type": "code",
   "execution_count": null,
   "metadata": {
    "collapsed": false,
    "deletable": true,
    "editable": true
   },
   "outputs": [],
   "source": [
    "\"\"\"\n",
    "DON'T MODIFY ANYTHING IN THIS CELL\n",
    "\"\"\"\n",
    "# Save parameters for checkpoint\n",
    "helper.save_params((seq_length, save_dir))"
   ]
  },
  {
   "cell_type": "markdown",
   "metadata": {
    "deletable": true,
    "editable": true
   },
   "source": [
    "# Checkpoint"
   ]
  },
  {
   "cell_type": "code",
   "execution_count": null,
   "metadata": {
    "collapsed": false,
    "deletable": true,
    "editable": true
   },
   "outputs": [],
   "source": [
    "\"\"\"\n",
    "DON'T MODIFY ANYTHING IN THIS CELL\n",
    "\"\"\"\n",
    "import tensorflow as tf\n",
    "import numpy as np\n",
    "import helper\n",
    "import problem_unittests as tests\n",
    "\n",
    "_, vocab_to_int, int_to_vocab, token_dict = helper.load_preprocess()\n",
    "seq_length, load_dir = helper.load_params()"
   ]
  },
  {
   "cell_type": "markdown",
   "metadata": {
    "deletable": true,
    "editable": true
   },
   "source": [
    "## Implement Generate Functions\n",
    "### Get Tensors\n",
    "Get tensors from `loaded_graph` using the function [`get_tensor_by_name()`](https://www.tensorflow.org/api_docs/python/tf/Graph#get_tensor_by_name).  Get the tensors using the following names:\n",
    "- \"input:0\"\n",
    "- \"initial_state:0\"\n",
    "- \"final_state:0\"\n",
    "- \"probs:0\"\n",
    "\n",
    "Return the tensors in the following tuple `(InputTensor, InitialStateTensor, FinalStateTensor, ProbsTensor)` "
   ]
  },
  {
   "cell_type": "code",
   "execution_count": null,
   "metadata": {
    "collapsed": false,
    "deletable": true,
    "editable": true
   },
   "outputs": [],
   "source": [
    "def get_tensors(loaded_graph):\n",
    "    \"\"\"\n",
    "    Get input, initial state, final state, and probabilities tensor from <loaded_graph>\n",
    "    :param loaded_graph: TensorFlow graph loaded from file\n",
    "    :return: Tuple (InputTensor, InitialStateTensor, FinalStateTensor, ProbsTensor)\n",
    "    \"\"\"\n",
    "    # TODO: Implement Function\n",
    "    return None, None, None, None\n",
    "\n",
    "\n",
    "\"\"\"\n",
    "DON'T MODIFY ANYTHING IN THIS CELL THAT IS BELOW THIS LINE\n",
    "\"\"\"\n",
    "tests.test_get_tensors(get_tensors)"
   ]
  },
  {
   "cell_type": "markdown",
   "metadata": {
    "deletable": true,
    "editable": true
   },
   "source": [
    "### Choose Word\n",
    "Implement the `pick_word()` function to select the next word using `probabilities`."
   ]
  },
  {
   "cell_type": "code",
   "execution_count": null,
   "metadata": {
    "collapsed": false,
    "deletable": true,
    "editable": true
   },
   "outputs": [],
   "source": [
    "def pick_word(probabilities, int_to_vocab):\n",
    "    \"\"\"\n",
    "    Pick the next word in the generated text\n",
    "    :param probabilities: Probabilites of the next word\n",
    "    :param int_to_vocab: Dictionary of word ids as the keys and words as the values\n",
    "    :return: String of the predicted word\n",
    "    \"\"\"\n",
    "    # TODO: Implement Function\n",
    "    return None\n",
    "\n",
    "\n",
    "\"\"\"\n",
    "DON'T MODIFY ANYTHING IN THIS CELL THAT IS BELOW THIS LINE\n",
    "\"\"\"\n",
    "tests.test_pick_word(pick_word)"
   ]
  },
  {
   "cell_type": "markdown",
   "metadata": {
    "deletable": true,
    "editable": true
   },
   "source": [
    "## Generate TV Script\n",
    "This will generate the TV script for you.  Set `gen_length` to the length of TV script you want to generate."
   ]
  },
  {
   "cell_type": "code",
   "execution_count": null,
   "metadata": {
    "collapsed": false,
    "deletable": true,
    "editable": true
   },
   "outputs": [],
   "source": [
    "gen_length = 200\n",
    "# homer_simpson, moe_szyslak, or Barney_Gumble\n",
    "prime_word = 'moe_szyslak'\n",
    "\n",
    "\"\"\"\n",
    "DON'T MODIFY ANYTHING IN THIS CELL THAT IS BELOW THIS LINE\n",
    "\"\"\"\n",
    "loaded_graph = tf.Graph()\n",
    "with tf.Session(graph=loaded_graph) as sess:\n",
    "    # Load saved model\n",
    "    loader = tf.train.import_meta_graph(load_dir + '.meta')\n",
    "    loader.restore(sess, load_dir)\n",
    "\n",
    "    # Get Tensors from loaded model\n",
    "    input_text, initial_state, final_state, probs = get_tensors(loaded_graph)\n",
    "\n",
    "    # Sentences generation setup\n",
    "    gen_sentences = [prime_word + ':']\n",
    "    prev_state = sess.run(initial_state, {input_text: np.array([[1]])})\n",
    "\n",
    "    # Generate sentences\n",
    "    for n in range(gen_length):\n",
    "        # Dynamic Input\n",
    "        dyn_input = [[vocab_to_int[word] for word in gen_sentences[-seq_length:]]]\n",
    "        dyn_seq_length = len(dyn_input[0])\n",
    "\n",
    "        # Get Prediction\n",
    "        probabilities, prev_state = sess.run(\n",
    "            [probs, final_state],\n",
    "            {input_text: dyn_input, initial_state: prev_state})\n",
    "        \n",
    "        pred_word = pick_word(probabilities[dyn_seq_length-1], int_to_vocab)\n",
    "\n",
    "        gen_sentences.append(pred_word)\n",
    "    \n",
    "    # Remove tokens\n",
    "    tv_script = ' '.join(gen_sentences)\n",
    "    for key, token in token_dict.items():\n",
    "        ending = ' ' if key in ['\\n', '(', '\"'] else ''\n",
    "        tv_script = tv_script.replace(' ' + token.lower(), key)\n",
    "    tv_script = tv_script.replace('\\n ', '\\n')\n",
    "    tv_script = tv_script.replace('( ', '(')\n",
    "        \n",
    "    print(tv_script)"
   ]
  },
  {
   "cell_type": "markdown",
   "metadata": {
    "deletable": true,
    "editable": true
   },
   "source": [
    "# The TV Script is Nonsensical\n",
    "It's ok if the TV script doesn't make any sense.  We trained on less than a megabyte of text.  In order to get good results, you'll have to use a smaller vocabulary or get more data.  Luckly there's more data!  As we mentioned in the begging of this project, this is a subset of [another dataset](https://www.kaggle.com/wcukierski/the-simpsons-by-the-data).  We didn't have you train on all the data, because that would take too long.  However, you are free to train your neural network on all the data.  After you complete the project, of course.\n",
    "# Submitting This Project\n",
    "When submitting this project, make sure to run all the cells before saving the notebook. Save the notebook file as \"dlnd_tv_script_generation.ipynb\" and save it as a HTML file under \"File\" -> \"Download as\". Include the \"helper.py\" and \"problem_unittests.py\" files in your submission."
   ]
  }
 ],
 "metadata": {
  "kernelspec": {
   "display_name": "Python 3",
   "language": "python",
   "name": "python3"
  },
  "language_info": {
   "codemirror_mode": {
    "name": "ipython",
    "version": 3
   },
   "file_extension": ".py",
   "mimetype": "text/x-python",
   "name": "python",
   "nbconvert_exporter": "python",
   "pygments_lexer": "ipython3",
   "version": "3.5.3"
  },
  "widgets": {
   "state": {},
   "version": "1.1.2"
  }
 },
 "nbformat": 4,
 "nbformat_minor": 0
}
