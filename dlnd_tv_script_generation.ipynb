{
 "cells": [
  {
   "cell_type": "markdown",
   "metadata": {
    "deletable": true,
    "editable": true
   },
   "source": [
    "# TV Script Generation\n",
    "In this project, you'll generate your own [Simpsons](https://en.wikipedia.org/wiki/The_Simpsons) TV scripts using RNNs.  You'll be using part of the [Simpsons dataset](https://www.kaggle.com/wcukierski/the-simpsons-by-the-data) of scripts from 27 seasons.  The Neural Network you'll build will generate a new TV script for a scene at [Moe's Tavern](https://simpsonswiki.com/wiki/Moe's_Tavern).\n",
    "## Get the Data\n",
    "The data is already provided for you.  You'll be using a subset of the original dataset.  It consists of only the scenes in Moe's Tavern.  This doesn't include other versions of the tavern, like \"Moe's Cavern\", \"Flaming Moe's\", \"Uncle Moe's Family Feed-Bag\", etc.."
   ]
  },
  {
   "cell_type": "code",
   "execution_count": 4,
   "metadata": {
    "collapsed": false,
    "deletable": true,
    "editable": true
   },
   "outputs": [],
   "source": [
    "\"\"\"\n",
    "DON'T MODIFY ANYTHING IN THIS CELL\n",
    "\"\"\"\n",
    "import helper\n",
    "\n",
    "data_dir = './data/simpsons/moes_tavern_lines.txt'\n",
    "text = helper.load_data(data_dir)\n",
    "# Ignore notice, since we don't use it for analysing the data\n",
    "text = text[81:]"
   ]
  },
  {
   "cell_type": "markdown",
   "metadata": {
    "deletable": true,
    "editable": true
   },
   "source": [
    "## Explore the Data\n",
    "Play around with `view_sentence_range` to view different parts of the data."
   ]
  },
  {
   "cell_type": "code",
   "execution_count": 5,
   "metadata": {
    "collapsed": false,
    "deletable": true,
    "editable": true
   },
   "outputs": [
    {
     "name": "stdout",
     "output_type": "stream",
     "text": [
      "Dataset Stats\n",
      "Roughly the number of unique words: 11492\n",
      "Number of scenes: 262\n",
      "Average number of sentences in each scene: 15.248091603053435\n",
      "Number of lines: 4257\n",
      "Average number of words in each line: 11.50434578341555\n",
      "\n",
      "The sentences 0 to 10:\n",
      "Moe_Szyslak: (INTO PHONE) Moe's Tavern. Where the elite meet to drink.\n",
      "Bart_Simpson: Eh, yeah, hello, is Mike there? Last name, Rotch.\n",
      "Moe_Szyslak: (INTO PHONE) Hold on, I'll check. (TO BARFLIES) Mike Rotch. Mike Rotch. Hey, has anybody seen Mike Rotch, lately?\n",
      "Moe_Szyslak: (INTO PHONE) Listen you little puke. One of these days I'm gonna catch you, and I'm gonna carve my name on your back with an ice pick.\n",
      "Moe_Szyslak: What's the matter Homer? You're not your normal effervescent self.\n",
      "Homer_Simpson: I got my problems, Moe. Give me another one.\n",
      "Moe_Szyslak: Homer, hey, you should not drink to forget your problems.\n",
      "Barney_Gumble: Yeah, you should only drink to enhance your social skills.\n",
      "\n",
      "\n"
     ]
    }
   ],
   "source": [
    "view_sentence_range = (0, 10)\n",
    "\n",
    "\"\"\"\n",
    "DON'T MODIFY ANYTHING IN THIS CELL\n",
    "\"\"\"\n",
    "import numpy as np\n",
    "\n",
    "print('Dataset Stats')\n",
    "print('Roughly the number of unique words: {}'.format(len({word: None for word in text.split()})))\n",
    "scenes = text.split('\\n\\n')\n",
    "print('Number of scenes: {}'.format(len(scenes)))\n",
    "sentence_count_scene = [scene.count('\\n') for scene in scenes]\n",
    "print('Average number of sentences in each scene: {}'.format(np.average(sentence_count_scene)))\n",
    "\n",
    "sentences = [sentence for scene in scenes for sentence in scene.split('\\n')]\n",
    "print('Number of lines: {}'.format(len(sentences)))\n",
    "word_count_sentence = [len(sentence.split()) for sentence in sentences]\n",
    "print('Average number of words in each line: {}'.format(np.average(word_count_sentence)))\n",
    "\n",
    "print()\n",
    "print('The sentences {} to {}:'.format(*view_sentence_range))\n",
    "print('\\n'.join(text.split('\\n')[view_sentence_range[0]:view_sentence_range[1]]))"
   ]
  },
  {
   "cell_type": "markdown",
   "metadata": {
    "deletable": true,
    "editable": true
   },
   "source": [
    "## Implement Preprocessing Functions\n",
    "The first thing to do to any dataset is preprocessing.  Implement the following preprocessing functions below:\n",
    "- Lookup Table\n",
    "- Tokenize Punctuation\n",
    "\n",
    "### Lookup Table\n",
    "To create a word embedding, you first need to transform the words to ids.  In this function, create two dictionaries:\n",
    "- Dictionary to go from the words to an id, we'll call `vocab_to_int`\n",
    "- Dictionary to go from the id to word, we'll call `int_to_vocab`\n",
    "\n",
    "Return these dictionaries in the following tuple `(vocab_to_int, int_to_vocab)`"
   ]
  },
  {
   "cell_type": "code",
   "execution_count": 6,
   "metadata": {
    "collapsed": false,
    "deletable": true,
    "editable": true
   },
   "outputs": [
    {
     "name": "stdout",
     "output_type": "stream",
     "text": [
      "{'ice': 20, 'little': 21, 'meet': 22, 'name': 11, 'puke': 24, 'whats': 25, 'give': 26, \"i'm\": 7, \"you're\": 27, 'anybody': 28, 'problems': 8, 'carve': 62, 'eh': 29, 'forget': 30, 'hello': 31, 'moe': 32, 'effervescent': 61, 'drink': 5, 'not': 9, 'i': 34, 'social': 33, 'homer_simpson': 35, 'where': 36, 'of': 37, 'another': 38, 'with': 39, \"moe's\": 23, 'moe_szyslak': 0, 'hey': 10, 'gonna': 12, 'on': 13, 'my': 19, 'skills': 41, 'an': 42, 'you': 2, 'homer': 14, 'only': 59, 'matter': 43, 'enhance': 45, 'elite': 64, 'has': 47, 'days': 48, 'bart_simpson': 49, 'and': 50, 'there': 51, 'me': 53, 'listen': 54, 'tavern': 55, 'your': 3, \"i'll\": 56, 'these': 57, 'seen': 58, 'the': 16, 'mike': 1, 'to': 6, 'got': 60, 'one': 17, 'should': 15, 'pick': 46, 'rotch': 4, 'is': 40, 'check': 44, 'hold': 65, 'self': 70, 'catch': 66, 'yeah': 18, 'barney_gumble': 52, 'normal': 67, 'back': 68, 'last': 69, 'lately': 63}\n",
      "Tests Passed\n"
     ]
    }
   ],
   "source": [
    "import numpy as np\n",
    "import problem_unittests as tests\n",
    "from collections import Counter\n",
    "\n",
    "def create_lookup_tables(text):\n",
    "    \"\"\"\n",
    "    Create lookup tables for vocabulary\n",
    "    :param text: The text of tv scripts split into words\n",
    "    :return: A tuple of dicts (vocab_to_int, int_to_vocab)\n",
    "    \"\"\"\n",
    "    # TODO: Implement Function\n",
    "    counts = Counter(text)\n",
    "    vocab = sorted(counts, key = counts.get, reverse = True)\n",
    "\n",
    "    vocab_to_int = {word: i for i, word in enumerate(vocab, 0)}\n",
    "    int_to_vocab = dict(enumerate(vocab, 0))\n",
    "    print(vocab_to_int)\n",
    "\n",
    "    return vocab_to_int, int_to_vocab\n",
    "\n",
    "\n",
    "\"\"\"\n",
    "DON'T MODIFY ANYTHING IN THIS CELL THAT IS BELOW THIS LINE\n",
    "\"\"\"\n",
    "tests.test_create_lookup_tables(create_lookup_tables)"
   ]
  },
  {
   "cell_type": "markdown",
   "metadata": {
    "deletable": true,
    "editable": true
   },
   "source": [
    "### Tokenize Punctuation\n",
    "We'll be splitting the script into a word array using spaces as delimiters.  However, punctuations like periods and exclamation marks make it hard for the neural network to distinguish between the word \"bye\" and \"bye!\".\n",
    "\n",
    "Implement the function `token_lookup` to return a dict that will be used to tokenize symbols like \"!\" into \"||Exclamation_Mark||\".  Create a dictionary for the following symbols where the symbol is the key and value is the token:\n",
    "- Period ( . )\n",
    "- Comma ( , )\n",
    "- Quotation Mark ( \" )\n",
    "- Semicolon ( ; )\n",
    "- Exclamation mark ( ! )\n",
    "- Question mark ( ? )\n",
    "- Left Parentheses ( ( )\n",
    "- Right Parentheses ( ) )\n",
    "- Dash ( -- )\n",
    "- Return ( \\n )\n",
    "\n",
    "This dictionary will be used to token the symbols and add the delimiter (space) around it.  This separates the symbols as it's own word, making it easier for the neural network to predict on the next word. Make sure you don't use a token that could be confused as a word. Instead of using the token \"dash\", try using something like \"||dash||\"."
   ]
  },
  {
   "cell_type": "code",
   "execution_count": 7,
   "metadata": {
    "collapsed": false,
    "deletable": true,
    "editable": true
   },
   "outputs": [
    {
     "name": "stdout",
     "output_type": "stream",
     "text": [
      "Tests Passed\n"
     ]
    }
   ],
   "source": [
    "def token_lookup():\n",
    "    \"\"\"\n",
    "    Generate a dict to turn punctuation into a token.\n",
    "    :return: Tokenize dictionary where the key is the punctuation and the value is the token\n",
    "    \"\"\"\n",
    "    # TODO: Implement Function\n",
    "    symbols = set(['.', ',', '\"', ';', '!', '?', '(', ')', '--', '\\n', ':']) \n",
    "    token = ['||Period||','||Comma||','||Quotation_Mark||','||Semicolon||','||Exclamation_mark||','||Question_mark||','||Left_Parentheses||','||Right_Parentheses||','||Dash||','||Return||', '||colon||']\n",
    "    lookup_dict = dict(zip(symbols,token))\n",
    "    return lookup_dict\n",
    "\n",
    "\"\"\"\n",
    "DON'T MODIFY ANYTHING IN THIS CELL THAT IS BELOW THIS LINE\n",
    "\"\"\"\n",
    "tests.test_tokenize(token_lookup)"
   ]
  },
  {
   "cell_type": "markdown",
   "metadata": {
    "deletable": true,
    "editable": true
   },
   "source": [
    "## Preprocess all the data and save it\n",
    "Running the code cell below will preprocess all the data and save it to file."
   ]
  },
  {
   "cell_type": "code",
   "execution_count": 8,
   "metadata": {
    "collapsed": false,
    "deletable": true,
    "editable": true
   },
   "outputs": [
    {
     "name": "stdout",
     "output_type": "stream",
     "text": [
      "{'truth': 845, 'hero-phobia': 2889, 'shooting': 1899, 'term': 2890, 'self-satisfied': 5434, 'tune': 847, 'booze': 446, \"neat's-foot\": 2893, 'shows': 1175, 'bars': 1176, 'holidays': 2894, 'too': 105, \"boy's\": 2895, 'impending': 2897, 'belly-aching': 6336, 'whistles': 2742, 'young_homer': 846, 'helped': 1900, 'dyspeptic': 2900, 'methinks': 2901, 'nah': 383, 'adjourned': 2902, 'enemy': 1442, 'mob': 1901, 'quarry': 2903, 'hilarious': 1443, 'whoops': 2904, 'shutup': 2905, 'bear': 1902, 'fondest': 2892, \"tootin'\": 2906, 'kirk_voice_milhouse': 2907, \"spyin'\": 2908, 'root': 1717, 'snackie': 2909, 'german': 1444, 'works': 553, 'join': 668, 'talking': 554, 'negative': 6066, 'diminish': 2910, 'kill': 403, 'stock': 1177, 'publishers': 2911, 'fault': 1445, 'dollface': 2912, 'juice': 1903, 'freedom': 2226, 'asleep': 2913, 'which': 299, 'gator': 1446, 'special': 606, 'justify': 2916, 'idea': 353, 'tapping': 2917, 'covers': 1447, 'fourteen': 2918, 'moe-heads': 2919, 'ridiculous': 1448, 'hope': 320, 'menacing': 6437, 'fantasy': 2920, 'eaten': 2922, 'looser': 2924, 'headhunters': 6070, 'lap': 1904, 'own': 426, \"that's\": 59, 'ah': 119, 'wounds': 2927, 'tidy': 2928, 'investor': 1905, 'combines': 3427, 'per': 1449, 'nineteen': 961, 'incarcerated': 2930, 'authenticity': 4195, 'kissingher': 2932, 'haircuts': 2933, 'explaining': 1179, 'choked-up': 2934, \"'er\": 2935, 'stones': 2936, \"carl's\": 1180, 'forgotten': 2937, 'whose': 1450, 'now': 63, \"homer's\": 336, 'chained': 2938, 'op': 4826, \"tester's\": 1906, 'swelling': 6398, \"goin'\": 354, 'easily': 2940, 'shill': 6428, 'cutting': 962, \"workin'\": 963, \"other's\": 1907, '7-year-old_brockman': 1908, 'visas': 2941, 'scared': 734, 'karaoke': 1909, 'lobster-based': 4439, 'pond': 1910, 'men': 610, 'horrible': 735, 'strain': 4828, 'heroism': 3556, 'clientele': 1451, 'sledge-hammer': 2947, 'prefer': 2554, 'joining': 1911, 'electronic': 1912, 'birthday': 861, 'news': 736, 'breakdown': 2950, 'trustworthy': 2951, 'nudge': 1913, \"y'see\": 2953, 'intimacy': 2954, 'yammering': 2955, \"y'money's\": 6072, 'righ': 2956, 'chug-a-lug': 2957, 'shaky': 2958, 'vegas': 1452, 'boozebag': 2959, 'checking': 1453, 'stretch': 2961, 'magic': 1181, 'wang': 1914, 'kent': 885, 'starting': 1454, \"we'll\": 516, 'nelson': 2963, 'tavern': 337, 'huh': 164, 'marjorie': 2964, 'wolverines': 2965, 'furniture': 2966, 'mind-numbing': 2967, \"what're\": 1915, 'steak': 1916, \"daughter's\": 2968, 'owner': 1917, 'two-thirds-empty': 2969, 'compromise': 2970, 'miserable': 1455, 'bed': 964, 'early': 856, 'sweet': 248, \"she'd\": 2971, 'those': 169, 'peeping': 2972, 'must': 371, 'ling': 2973, 'forced': 2974, 'arm': 670, 'beer-dorf': 2975, 'guttural': 2976, 'gel': 2977, 'release': 1919, 'jeter': 2978, 'quarter': 2979, 'beards': 2980, \"you're\": 62, \"cheerin'\": 3456, 'baritone': 2045, 'politics': 1920, 'bragging': 2984, \"d'ya\": 2985, 'uneasy': 1456, 'out': 52, 'penny': 1921, 'rolls': 6225, 'new': 165, 'dictating': 2986, 'officer': 2988, 'our': 126, 'chest': 1457, 'mission': 2989, 'improved': 3300, 'carmichael': 3515, 'same': 886, 'little_hibbert_girl': 2992, 'twin': 1922, 'mock-up': 2993, 'declare': 2994, 'favorite': 738, 'look': 101, 'gumbel': 848, 'cross-country': 2995, 'sap': 2997, 'rosey': 2998, 'grab': 2055, 'wiggle': 2999, 'winning': 3000, \"coffee'll\": 3001, 'signal': 3002, 'cash': 480, 'emphasis': 6578, 'pep': 3004, 'masks': 3005, 'year': 607, 'perplexed': 3006, 'goodwill': 3007, 'beating': 2557, 'monday': 3008, 'forget-me-drinks': 3009, 'listen': 222, 'safer': 1923, 'class': 849, 'pick': 427, 'blur': 3010, 'furiously': 4201, 'sniper': 3011, 'getcha': 3012, 'sooo': 3013, 'adult_bart': 995, 'chance': 517, 'premise': 3015, 'ringing': 1924, 'angry': 671, 'shack': 3016, 'hmmmm': 3017, \"monroe's\": 1925, 'crow': 3018, 'source': 1459, \"challengin'\": 3019, 'unhook': 3020, 'hour': 1460, \"it's\": 49, 'misfire': 3021, 'pointed': 1182, 'freeze': 2093, 'sack': 2230, 'felt': 965, 'acquitted': 3024, \"askin'\": 3025, 'caholic': 6156, 'spite': 3026, 'warmly': 739, 'creme': 3027, 'warned': 3028, 'push': 1535, 'madman': 5651, 'phase': 3030, 'thanks': 213, 'forgets': 3031, 'portuguese': 3743, 'frescas': 3033, 'fall': 850, 'rancid': 3034, 'undated': 3036, \"school's\": 3037, 'pulitzer': 3038, 'pitch': 1926, 'dawning': 3039, 'friend': 192, 'potato': 1927, 'sued': 3041, 'father': 1183, 'flown': 3042, 'whale': 3043, 'frenchman': 3044, 'wangs': 2112, \"hell's\": 3046, 'seems': 740, 'dracula': 3047, 'sesame': 3048, \"you've\": 186, \"fightin'\": 3049, 'neck': 1234, 'mirthless': 3051, 'germany': 4878, 'glen': 672, \"poundin'\": 3052, 'jägermeister': 2990, 'unintelligent': 3053, \"won't\": 249, 'i-i-i': 2745, 'thawing': 3055, 'pursue': 3056, 'surgery': 1104, 'attitude': 1928, 'because': 270, 'take': 121, 'using': 761, 'ha': 741, 'is': 23, 'weak': 1462, 'seymour_skinner': 204, 'van': 3059, 'aggravazes': 4843, 'pressure': 2132, 'fire': 508, 'schedule': 3063, 'cigars': 3064, 'lottery': 1463, 'cosmetics': 3065, 'please': 200, 'mean': 182, 'sassy': 3066, 'takeaway': 3067, 'stays': 3068, 'hobo': 1930, 'team': 1464, 'actors': 1931, 'bucket': 1932, 'sighs': 283, 'played': 1465, 'relax': 1560, 'speed': 3069, 'prices': 3070, 'commit': 3071, 'wine': 966, 'kazoo': 3072, 'rain': 3073, 'answers': 1933, 'scum': 1466, 'soaps': 3075, 'difference': 3076, 'handing': 1934, 'lovers': 3077, \"we're\": 137, 'fat_in_the_hat': 3078, 'gol-dangit': 3079, \"drawin'\": 1935, 'anthony_kiedis': 3080, 'carlotta': 3081, 'amends': 3082, 'monster': 1184, 'register': 1467, 'airport': 1936, 'giant': 3083, 'sweetest': 3084, 'businessman_#2': 3085, 'peppers': 3086, 'homeless': 3087, 'huggenkiss': 1185, 'placing': 1937, 'wonderful': 967, 'army': 1570, 'lovely': 1939, 'troy': 968, 'putty': 3088, 'stuck': 1940, 'sabermetrics': 1941, \"barney's\": 1468, 'able': 1186, 'low-blow': 3089, 'vomit': 1469, 'eager': 3090, \"treatin'\": 3091, 'ollie': 1942, 'gr-aargh': 3575, 'increased': 3092, \"g'on\": 3093, 'or': 117, 'flush': 3094, 'knowing': 1470, \"game's\": 1943, 'sucking': 3096, 'sketching': 3097, 'shop': 3098, 'tell': 138, 'jerks': 1106, 'nectar': 3100, 'nail': 3101, 'capuchin': 3102, 'coughs': 3103, 'message': 1944, 'phrase': 3104, 'scores': 3105, 'edna-lover-one-seventy-two': 3106, 'owned': 3107, 'promise': 4220, 'kyoto': 1945, '||period||': 5, 'scram': 3108, 'shoes': 3109, 'undermine': 3110, 'casual': 1458, 'sobs': 258, 'parasol': 3111, 'leave': 404, 'wait': 159, 'nigerian': 1947, 'brains': 1472, 'knife': 1948, \"hasn't\": 1949, 'took': 385, 'progress': 3112, 'glass': 310, \"city's\": 3113, 'schnapps': 1950, 'single': 1473, 'prison': 1951, 'blessing': 4480, 'conditioning': 3114, 'cloudy': 3115, 'rock': 1952, 'afford': 1474, 'weary': 1953, 'hall': 1475, 'effervescent': 1954, 'eye-gouger': 3117, 'hunting': 1955, 'prayer': 1956, 'near': 1958, 'dear': 518, 'nein': 969, 'sold': 1187, 'relationship': 1959, 'gentleman': 2254, 'prank': 1476, 'foot': 1518, 'phasing': 3118, 'democracy': 6302, 'wild': 3119, 'beans': 3120, 'post-suicide': 3121, 'gees': 3122, 'confident': 1961, \"tatum'll\": 3124, 'urge': 3126, 'hooters': 5767, 'powerful': 1478, 'intriguing': 3127, 'roses': 2267, \"feelin's\": 3129, 'tempting': 3130, 'formico': 1347, 'shtick': 3132, 'odor': 3133, 'maman': 1962, 'loaded': 1188, 'bite': 1479, 'sugar-free': 3134, 'bottomless': 3135, 'james': 1480, 'guinea': 3136, 'coward': 1963, 'hawking': 1964, 'experience': 3137, 'ocean': 2273, 'dogs': 3139, 'luck': 970, 'kako': 3140, 'leans': 1481, 'animals': 1965, 'arse': 3141, 'supervising': 5465, 'ineffective': 3142, 'bless': 1482, 'marquee': 3143, 'answer': 1189, 'the_rich_texan': 556, 'civil': 3144, 'lear': 3145, 'quickly': 428, 'liquor': 3146, 'encouraged': 4421, 'jacksons': 3148, 'powers': 3149, 'sticking-place': 3150, 'dilemma': 3151, 'cheerier': 3152, 'growing': 3153, 'severe': 1483, 'versus': 3154, 'sinister': 1966, 'population': 3155, 'orphan': 5467, \"o'\": 3157, 'rims': 3158, 'gone': 475, 'bubbles': 1967, 'lee': 3161, 'grudgingly': 3162, 'recorded': 3163, 'contemplated': 3164, 'mustard': 6097, 'mural': 3166, 'salvador': 3167, 'portfolium': 3168, 'ceremony': 3169, 'windelle': 3170, 'freely': 6316, 'graves': 3640, 'taught': 6098, 'guiltily': 3173, 'expense': 3176, 'here': 45, 'rid': 1484, \"someone's\": 2305, 'dee-fense': 1968, 'doll': 2307, 'hushed': 3179, 'partially': 3180, 'endorsement': 3323, '||quotation_mark||': 2, 'over-pronouncing': 3181, 'hare-brained': 3182, 'languages': 3183, 'boyfriend': 1969, 'willing': 3184, 'yellow-belly': 3185, 'grunt': 1748, 'eve': 3187, 'distract': 3188, 'treehouse': 4623, 'crotch': 3189, 'gibson': 3190, 'art': 3191, 'ons': 3192, \"hadn't\": 1970, 'pronto': 3193, 'after': 259, 'newly-published': 3194, 'willy': 1971, 'moonshine': 6128, 'ratio': 4651, 'bank': 1051, 'wobble': 3196, 'muertos': 3197, 'got': 55, 'gruesome': 3198, 'funniest': 4665, 'jubilation': 3199, 'statue': 5988, 'associate': 4672, 'wood': 3200, 'jaegermeister': 3201, 'writer': 4939, 'likes': 1488, 'slap': 852, 'liable': 3203, 'bonfire': 3204, 'party': 373, 'fire_inspector': 3205, 'wins': 1973, 'pantsless': 3206, 'imitating': 5286, 'nobody': 366, 'sun': 3208, 'replace': 3209, 'quick-like': 3210, 'scornful': 3211, 'other_book_club_member': 3212, 'femininity': 3213, 'gary': 1668, 'mexicans': 3214, 'hah': 3215, \"doesn't\": 519, 'erasers': 3216, 'human': 744, 'calculate': 1974, \"lady's\": 3217, 'extremely': 1975, \"son's\": 3218, 'i-i': 972, 'wealthy': 3219, 'begging': 3220, 'buzz': 3221, 'clear': 973, 'sleeps': 1976, \"who'da\": 6105, 'funds': 1977, 'recall': 1978, 'priest': 2369, 'prove': 1979, 'month': 3223, 'diets': 3224, 'vigilante': 3225, 'al_gore': 1489, 'blame': 557, 'lofty': 3226, 'way': 153, 'band': 1190, 'obama': 3227, 'horrified': 974, 'michelin': 4849, 'effect': 3229, 'refresh': 1980, 'runs': 3230, 'donut-shaped': 3231, 'sister': 1259, \"messin'\": 3234, 'banquet': 3235, 'cheapskates': 3236, 'wishes': 1981, 'seek': 2386, 'inserts': 3237, 'koji': 2929, 'outs': 3239, 'media': 1983, 'videotaped': 3240, 'sigh': 558, 'fingers': 976, 'monkeyshines': 3241, 'button': 1490, 'forecast': 3242, 'nonsense': 3243, 'krabappel': 1984, 'raises': 1191, \"o'problem\": 1192, 'word': 745, 'simpson': 311, \"tellin'\": 977, \"stealin'\": 3244, 'secret': 405, 'slightly': 1985, 'stolen': 3245, 'rich': 1193, 'hurting': 3246, 'pine': 3247, 'pfft': 1491, 'wantcha': 3248, 'thunder': 3249, 'riveting': 3250, 'wildfever': 3251, 'babies': 1194, 'brakes': 3252, 'sticker': 3253, 'spiritual': 3254, 'what-for': 3255, 'besides': 3256, 'wenceslas': 5034, 'figured': 1195, 'pyramid': 3257, 'magnanimous': 3258, 'thinks': 608, 'mitts': 3259, 'manipulation': 6519, 'journey': 5072, 'regulations': 3260, 'cream': 1987, 'carey': 3261, 'worry': 429, 'tense': 3262, 'crapmore': 3263, 'enthusiastically': 3264, 'aw': 205, 'frozen': 3265, 'movies': 1196, 'voted': 3266, \"you'll\": 293, 'almond': 3267, 'aggravated': 1988, 'indicates': 3268, 'invulnerable': 3269, 'rumaki': 1989, 'sauce': 979, 'dazed': 3270, 'used': 367, 'morning': 651, 'through': 312, 'terrific': 2567, '1973': 3272, 'get': 56, 'golf': 1990, 'help': 195, 'radioactive': 3273, 'lone': 2944, 'xx': 3274, 'nash': 3275, 'sausage': 1991, 'fevered': 1992, 'wolveriskey': 3276, 'hooky': 5193, 'problem': 368, 'hems': 3278, 'whining': 3280, 'agh': 3281, 'sheet': 3282, 'feat': 6116, 'mmm': 2495, 'equal': 3285, 'umm': 1993, 'vin': 4882, 'tasimeter': 3288, 'anderson': 3289, 'action': 1994, 'demo': 5487, 'hunter': 1582, 'eyed': 6117, 'social': 1995, 'loyal': 3293, 'cameras': 1492, \"mopin'\": 6232, 'met': 1886, 'mr': 187, 'manager': 1996, 'ancient': 1727, 'eaters': 3295, 'pity': 980, 'pain': 1339, 'conspiracy': 3296, 'tickets': 3297, 'drug': 1260, 'meanwhile': 3298, 'that': 19, 'costume': 1997, 'hyahh': 3302, \"car's\": 3303, 'proposing': 1998, 'faint': 6194, 'end': 589, 'dirty': 6122, 'complicated': 3306, 'doom': 3307, 'burt_reynolds': 3308, 'spilled': 3309, 'eyesore': 2073, 'cap': 3311, 'family-owned': 6662, 'sight-unseen': 3312, 'um': 386, 'score': 3313, 'company': 853, 'habitrail': 3314, 'sweetheart': 1999, 'sincere': 1197, 'please/': 3315, 'jury': 3316, 'chipped': 3317, 'once': 338, 'wienerschnitzel': 3318, 'jeff': 2000, 'asked': 981, 'pills': 3319, 'flash': 3320, 'suffering': 3321, 'mobile': 3322, 'talk': 302, 'small': 476, 'paint': 746, 'think': 95, 'hundred': 306, 'fast': 747, 'exhale': 3324, 'libido': 3325, '_zander': 982, 'let': 143, 'u2': 6643, '70': 3327, 'write': 854, 'sperm': 3328, 'chow': 6126, 'meaningfully': 3329, 'consoling': 3330, 'fat-free': 3331, 'pets': 3332, 'distance': 3333, 'pian-ee': 2431, \"they're\": 260, 'eco-fraud': 5496, 'believer': 3335, 'verticality': 3337, 'light': 652, 'hop': 2803, 'no': 33, 'skinner': 448, 'prepared': 2001, 'evening': 983, 'pre-recorded': 3340, 'sidelines': 3341, 'sequel': 5534, 'intruding': 3343, 'tapestry': 3344, 'appearance-altering': 3345, 'plug': 3346, 'depressing': 5390, 'borrow': 2002, 'ivanna': 2923, 'sarcastic': 1199, 'passion': 2003, 'pregnancy': 3350, 'agreement': 2004, 'waist': 3351, 'problems': 520, 'harrowing': 3353, \"ragin'\": 3354, '||dash||': 67, 'exact': 3356, 'fever': 1493, 'atlanta': 2104, 'frogs': 3359, 'does': 234, 'playing': 611, 'paste': 5362, 'i': 7, 'public': 1494, 'bartholomé': 3361, 'strategizing': 3362, 'aid': 3363, 'welcome': 748, 'manage': 2006, 'fist': 3364, 'the_edge': 3365, 'urban': 3624, \"c'mon\": 339, 'bellyaching': 3367, 'us': 147, 'test-lady': 3368, 'awe': 2007, 'almost': 1200, 'scruffy_blogger': 3369, 'villanova': 3370, 'around': 188, 'injury': 3371, 'trainers': 3372, 'sent': 855, 'one': 61, 'video': 1201, 'creepy': 3373, 'goes': 673, 'lloyd': 749, 'advance': 2008, 'announcer': 984, 'highest': 3375, 'ninety-eight': 3376, 'ease': 3377, 'attractive': 3378, 'joined': 2009, 'finance': 3379, 'blood': 674, 'long': 321, 'doll-baby': 3380, 'bumpy-like': 3381, 'hoping': 1203, 'sass': 3382, 'drift': 3383, 'nuts': 477, 'de': 3384, 'spit': 1495, 'temp': 6136, 'right': 69, \"maggie's\": 2010, 'ron_howard': 3387, 'refreshing': 3388, 'surprised/thrilled': 5578, 'sixty': 3390, 'sob': 985, 'called': 521, 'during': 986, 'moesy': 3391, 'meaningless': 3392, 'lard': 3393, 'trunk': 3394, 'shopping': 5993, 'express': 2011, 'also': 987, 'sell': 406, 'judge': 2754, 'pride': 2012, \"he's\": 139, 'tries': 2013, 'record': 2676, \"fans'll\": 3397, 'singer': 3398, 'dollar': 1416, 'phony': 3399, 'emergency': 3400, 'cracked': 3401, 'coming': 522, 'pirate': 2014, 'everything': 370, 'juke': 6048, 'puke-pail': 3402, 'floor': 1708, 'attracted': 3403, 'solves': 3404, 'connor-politan': 3405, 'customer': 1496, 'sustain': 3406, \"renee's\": 3407, 'brother': 1497, 'inflated': 2015, 'bleeding': 3408, 'snort': 1498, \"team's\": 2706, 'onions': 2016, 'frustrated': 1204, 'sexy': 1264, 'acting': 2017, 'fbi': 1205, 'politician': 6067, 'ze-ro': 3410, 'loafers': 3411, 'oopsie': 3412, 'briefly': 3413, \"bartender's\": 2018, \"neighbor's\": 3414, 'emotional': 2019, 'mathis': 4901, '_timothy_lovejoy': 1755, 'eight': 669, 'wholeheartedly': 5507, 'belong': 2724, 'diaper': 3419, 'george': 3420, 'stripes': 3421, 'pizza': 3422, 'uncomfortable': 1500, 'planet': 2020, 'few': 988, 'fired': 3423, 'reason': 1501, 'muslim': 3424, 'awake': 3425, '_julius_hibbert': 857, 'ball-sized': 2542, 'tastes': 1757, 'deli': 5309, 'ways': 1918, 'semi-imported': 6142, 'pillows': 3429, 'haw': 2021, '-ry': 5508, 'dejected': 6143, \"foolin'\": 3431, 'young_barfly': 3432, 'forty-five': 5509, 'falsetto': 3433, 'youth': 3434, 'wise': 3435, 'vicious': 3436, 'boat': 1206, 'linda_ronstadt': 3437, 'comic': 2022, 'walking': 750, 'truck': 1053, 'unkempt': 6145, \"secret's\": 3439, 'even': 163, 'ointment': 3441, 'camera': 449, 'grease': 3442, 'crowded': 3443, 'r': 1502, 'mushy': 3444, 'genius': 2024, 'jebediah': 2025, 'name': 196, 'courteous': 3445, 'adopted': 3446, 'pall': 3447, 'massachusetts': 4272, 'snake-handler': 2026, 'maggie': 387, 'disgracefully': 3449, 'enforced': 3450, 'grumbling': 3451, 'watched': 5381, 'slapped': 3452, 'stationery': 2027, 'toys': 1503, 'menlo': 3453, 'perverted': 3454, 'voicemail': 3455, 'mount': 2028, 'gamble': 3457, 'heavens': 3458, 'morning-after': 3459, \"kiddin'\": 751, 'fountain': 3460, 'conference': 2784, 'thoughtfully': 2029, 'hurt': 430, 'clipped': 3462, 'inning': 3463, 'lewis': 3464, 'joke': 2030, 'ohmygod': 1504, 'reserved': 3465, 'stooges': 3466, 'bagged': 3467, 'restroom': 2031, 'gas': 1421, 'gluten': 3469, 'partly': 2032, 'website': 2033, 'plum': 2034, 'grope': 3470, 'graveyard': 3471, 'wudgy': 3472, 'street': 752, 'show': 268, 'compared': 2035, 'chic': 3473, 'virtual': 2036, 'abcs': 3474, \"bettin'\": 3475, \"we've\": 372, \"s'pose\": 3477, 'waylon': 2037, 'mother': 612, 'with': 37, 'sturdy': 3478, 'thoughts': 1602, 'muffled': 3480, '100': 2806, 'language': 3482, 'reckless': 3483, 'hangout': 3484, 'partner': 1208, 'au': 3485, 'four': 340, 'feelings': 1505, 'arrange': 3486, 'dirge-like': 6308, 'waltz': 2038, 'gossipy': 3487, \"time's\": 3489, 'encores': 3490, 'beam': 2039, 'boozehound': 3491, 'mountain': 3492, 'sisters': 1506, \"blowin'\": 3494, 'business': 355, 'detective_homer_simpson': 990, 'ordered': 1507, \"they've\": 1209, 'excuses': 3495, 'resolution': 3496, 'gosh': 2040, 'a-a-b-b-a': 3497, 'wad': 3498, 'winch': 3499, 'scooter': 2681, 'know': 65, 'texas': 1509, 'intelligent': 3501, 'admiration': 2041, 'aziz': 3502, 'bill_james': 3504, 'frazier': 5518, 'william': 3505, 'boys': 676, 'continuum': 3506, 'unlocked': 3507, 'resist': 3508, 'cheaper': 3509, 'rutabaga': 3648, 'meal': 2043, 'kay': 3511, 'north': 3512, 'hardwood': 3513, 'attempting': 2044, 'baseball': 862, 'break': 450, 'star': 858, 'son': 737, 'again': 223, 'guts': 3516, 'continued': 3517, 'great': 171, 'prizefighters': 3519, 'restaurant': 1210, 'hm': 1211, 'older': 3520, 'alfalfa': 2046, 'girl': 269, 'slogan': 3522, 'eggshell': 3523, 'nickel': 3524, 'jeers': 6386, 'ore': 3525, 'selective': 3526, 'afraid': 753, 'avec': 3527, 'chorus': 3528, 'cocks': 3529, 'forbidden': 2048, \"plank's\": 3530, 'design': 3531, 'turning': 677, 'polish': 3532, 'consider': 1510, \"you'd\": 436, 'balloon': 3533, 'sweden': 3534, 'heliotrope': 3535, 'behind': 523, 'risqué': 3536, 'sacajawea': 3537, 'gun': 2866, 'seven': 478, 'priceless': 3538, 'clothespins': 2049, 'nigeria': 2050, 'disgrace': 2051, 'whatever': 560, 'holding': 859, 'make': 106, 'leaving': 3539, 'sits': 1212, 'sobbing': 1213, 'manboobs': 3540, 'fan': 1214, 'reciting': 3856, 'otherwise': 3542, 'valley': 3543, 'flag': 2052, 'smoke': 2053, 'winston': 3544, 'paying': 1511, 'puzzle': 3545, 'silent': 3546, 'coins': 2054, 'presto': 3547, 'and': 15, 'drop-off': 3548, 'sadistic_barfly': 1760, 'maybe': 176, 'regret': 2056, 'steinbrenner': 3549, \"wasn't\": 524, 'seat': 754, 'super': 479, 'warn': 2057, 'excited': 451, 'lookalikes': 3551, 'carolina': 3553, 'literature': 1512, 'trusted': 2058, 'down': 122, 'cousin': 3555, 'helpful': 2946, 'noise': 201, 'load': 2949, \"'ceptin'\": 3557, 'created': 3558, 'rig': 3559, 'comfortable': 1513, 'smoothly': 2059, 'stained-glass': 3560, \"g'ahead\": 3561, 'prettiest': 3352, 'pink': 3563, 'gear-head': 3564, 'wells': 3565, 'fbi_agent': 3566, 'log': 5234, 'nbc': 3567, 'equivalent': 3568, 'solid': 2086, 'beast': 3569, \"narratin'\": 3570, 'admirer': 3571, \"family's\": 3572, \"betsy'll\": 3573, \"moe's_thoughts\": 1216, 'none': 991, 'test': 1217, 'available': 2061, 'poke': 3574, 'sniffles': 1514, 'cell': 4896, 'divine': 3576, 'large': 2062, 'nauseous': 3577, 'tried': 1515, 'peace': 1516, 'bills': 3578, 'getaway': 3579, 'cadillac': 3580, 'yard': 1218, 'unattractive': 3581, 'priority': 3582, 'walks': 1517, 'cattle': 3583, 'senators': 992, 'throws': 3584, 'wreck': 3585, 'washed': 3586, 'gloop': 5667, \"didn't\": 168, 'shaggy': 2063, 'bags': 2064, 'careful': 1477, 'players': 3587, 'th': 3588, 'surprised': 481, 'joe': 613, 'zeal': 3589, 'goblins': 3590, 'zack': 3591, 'mouths': 3592, 'feedbag': 3599, 'nuclear': 993, 'dennis': 3593, 'jubilant': 1960, 'ironic': 3594, 'part': 994, 'insightful': 2065, 'panties': 3595, 'model': 3596, 'thirty-nine': 3597, 'shells': 3598, 'jump': 1519, 'wears': 3207, 'regretted': 5634, 'miracle': 3600, 'sistine': 3601, 'minors': 2982, 'imaginary': 3602, 'want': 102, 'foodie': 3603, 'vance': 1220, 'anti-crime': 3604, 'grenky': 3605, 'shove': 1520, 'plans': 2067, 'blooded': 3606, 'parking': 1521, 'rough': 1522, 'caveman': 3607, 'africanized': 6165, 'civic': 2068, 'spit-backs': 3608, 'wooooo': 1523, 'spending': 1524, 'information': 6166, 'sacrifice': 3610, 'mccall': 3611, 'shard': 3612, 'robot': 3613, 'when-i-get-a-hold-of-you': 3614, 'tips': 1525, 'lobster-politans': 3615, 'flatly': 1539, 'anyway': 525, 'cops': 2070, 'sneaky': 2071, 'granted': 2072, 'ford': 3310, 'chips': 3616, 'vengeance': 3617, 'ingested': 3618, 'above': 1526, 'newsweek': 3619, 'energy': 2074, 'expression': 2075, 'indecipherable': 3620, 'sanitation': 3349, 'frankly': 1528, 'dames': 2076, 'say': 115, 'splattered': 3623, 'bunch': 1764, 'attack': 2078, 'plan': 863, 'poster': 5519, 'dramatically': 3366, 'yuh-huh': 3625, 'intoxicants': 3627, 'blade': 3628, 'surgeonnn': 3014, 'annie': 3629, 'consulting': 3630, 'remodel': 6171, 'wear': 1221, 'ends': 3631, 'ride': 1222, 'easier': 2080, 'dive': 1527, 'glitz': 3632, 'swishkabobs': 3633, 'trying': 561, 'alma': 3634, 'stomach': 3635, 'science': 3636, 'homesick': 3637, 'television': 3638, 'fuss': 2081, 'wham': 3639, 'barn': 678, \"handwriting's\": 3641, 'repairman': 3642, 'kramer': 2082, 'has': 177, 'fondly': 2083, 'rods': 3643, 'punches': 2347, 'though': 679, 'completely': 3621, 'krusty_the_clown': 294, 'woman': 284, 'judges': 3646, 'yo': 1508, 'defeated': 2084, 'chick': 1223, 'books': 1215, \"stabbin'\": 3649, 'malabar': 3650, 'beefs': 3651, 'dutch': 3652, 'senator': 1224, 'eats': 3653, 'hiding': 3654, 'house': 322, 'viva': 3655, 'wildest': 3656, 'being': 407, \"bo's\": 3657, 'gags': 3658, 'hounds': 3659, 'slab': 3660, 'loves': 482, 'barely': 2085, 'crossed': 2060, 'parrot': 3661, 'dory': 3662, 'satisfaction': 2087, 'lead': 3663, 'tender': 3664, \"donatin'\": 6311, 'jay_leno': 3665, 'scatter': 3666, 'lager': 3667, 'reaching': 2088, 'exasperated': 996, 'his': 90, 'pointedly': 3668, 'industry': 2089, 'harvard': 5932, 'nature': 5003, 'deep': 1225, 'dang': 1226, 'nominated': 3669, 'phlegm': 3622, 'delicious': 1529, 'crazy': 562, 'disappear': 3670, 'bannister': 6175, 'broke': 755, 'brings': 3672, 'november': 3673, 'connection': 3674, 'fink': 3675, 'manchego': 3676, 'queer': 2090, 'first': 227, 'burnside': 3677, 'chapel': 3678, 'slurps': 3679, 'shrugs': 2310, 'thorn': 3680, 'spread': 2092, 'releases': 3681, 'vermont': 3682, 'assert': 3683, 'flailing': 3684, 'pernt': 5294, \"drexel's\": 3022, 'releasing': 3686, 'victory': 2094, 'games': 997, 'personal': 3688, 'alive': 614, 'important': 2095, 'sympathizer': 3689, 'honored': 2102, 'built': 2096, 'kind': 334, 'fica': 3691, 'fragile': 2097, 'philip': 3692, 'saucy': 3693, 'mexican': 3694, 'connor': 3696, 'lend': 3697, 'trench': 2098, 'cure': 3698, 'learn': 581, 'champs': 3699, 'boisterous': 3780, 'agent_miller': 3701, 'regulars': 2099, 'email': 3702, 'pit': 1227, 'bye': 1228, 'cyrano': 3521, 'eyeballs': 3704, 'therapy': 1229, 'presently': 3705, 'value': 2100, 'snaps': 1530, 'hustle': 3706, 'moe-near-now': 3707, 'items': 4894, 'accept': 1531, 'intrigued': 756, 'der': 1765, 'rekindle': 5556, 'sizes': 3840, 'indifference': 3710, \"pickin'\": 3712, 'sucks': 3838, 'moustache': 3713, 'bike': 1608, 'steely-eyed': 3714, 'bluff': 3715, 'sharps': 1000, 'stay': 563, \"lenny's\": 1533, 'sanitary': 3716, 'sweeter': 2134, \"seein'\": 1534, 'tony': 864, 'losers': 763, 'high-definition': 3719, 'legoland': 3720, 'trapping': 3721, 'hemoglobin': 3722, 'taunting': 3723, 'suave': 3724, 'curse': 3725, 'grieving': 4954, 'single-mindedness': 3727, 'vote': 2108, 'dude': 1001, '||right_parentheses||': 4, 'labor': 3029, 'small_boy': 4839, 'experiments': 3730, \"starla's\": 3731, 'king': 680, 'bauer': 3732, 'relieved': 2262, 'peabody': 3734, 'rip-off': 3735, 'pumping': 3961, 'murmur': 2103, 'slit': 3737, 'ab': 4957, 'troubles': 3739, 'haplessly': 5561, 'vengeful': 3740, 'clubs': 3741, 'desperate': 865, 'bugging': 2183, 'hosting': 3742, 'tommy': 2106, 'mailbox': 3032, 'ask': 356, 'whee': 1230, 'smell': 683, 'over': 148, 'plastered': 3744, 'forty-two': 3745, 'twenty': 483, 'pardon': 1538, 'color': 2107, 'you-need-man': 3746, 'quick': 866, 'colorado': 3748, 'nucular': 3749, 'ew': 5565, 'ninety-seven': 3751, 'restless': 5566, 'picked': 3752, 'ghouls': 6134, 'rush': 3753, 'al': 867, 'ball': 758, 'bill': 1231, 'icelandic': 3754, 'screams': 1540, 'helen': 2204, 'stepped': 3756, 'leak': 3757, 'mostly': 3758, 'lemonade': 3759, 'handsome': 1002, 'tubman': 3760, 'chicken': 3761, 'celeste': 3762, \"valentine's\": 1232, 'happens': 3763, 'bar': 110, 'warranty': 3764, 'comforting': 3765, 'poorer': 2960, 'homunculus': 3767, 'huge': 759, 'challenge': 1541, 'alarm': 3769, 'lucinda': 3770, 'loser': 488, 'college': 1003, 'ashamed': 1004, 'married': 615, 'prettied': 3771, 'logos': 3772, 'shall': 868, 'gentle': 3773, 'nagurski': 3774, \"bladder's\": 3775, 'recommend': 1542, 'incriminating': 3776, 'starters': 3777, 'credit': 3778, 'read': 452, 'brine': 3779, 'ahhh': 2110, 'x': 1005, 'character': 1429, 'catch-phrase': 3781, 'comedies': 3783, 'health': 946, 'shrieks': 3784, 'frat': 3785, 'spits': 3786, 'chinua': 3787, 'go': 78, 'principles': 3788, 'hyper-credits': 3789, 'tactful': 3790, 'shoulder': 2259, 'age': 1543, 'label': 1544, \"should've\": 3792, 'forty': 1393, 'went': 437, \"wearin'\": 3793, 'brothers': 2111, 'immiggants': 3045, 'blubberino': 3794, 'sec_agent_#1': 1545, 'sounded': 3795, '_marvin_monroe': 3796, 'hibbert': 2113, \"here's\": 309, 'feminine': 3798, 'helpless': 3799, 'gee': 400, 'napkins': 4966, 'reed': 3801, 'slop': 3802, 'lay': 3803, 'soul': 1038, 'side': 869, 'rainforest': 3804, \"'em\": 197, 'chinese': 1546, 'nobel': 1617, 'macgregor': 3805, 'tones': 3703, 'proud': 1006, 'broken': 2115, 'horribilis': 3807, \"mtv's\": 3808, 'reaction': 3809, 'y-you': 3514, 'sealed': 3811, 'tank': 4390, 'amount': 2116, 'whoa-ho': 3550, 'regretful': 3812, 'lonely': 1547, 'chair': 5893, 'denser': 2291, 'joint': 1150, \"s'okay\": 3813, 'covering': 1548, 'listened': 3116, 'do': 53, 'moon-bounce': 3814, 'compels': 3815, 'cologne': 3816, 'kneeling': 3817, 'spender': 3818, 'discriminate': 3819, 'knew': 431, 'domed': 6198, \"murphy's\": 3708, 'valuable': 6215, 'sixteen': 3822, 'instrument': 3823, \"poisonin'\": 3824, 'f-l-a-n-r-d-s': 3488, 'tying': 3825, 'mayor': 1009, 'fox': 2117, 'ominous': 1235, 'lifts': 5461, 'history': 1549, 'certain': 2118, 'octa-': 3827, \"payin'\": 2119, 'thousand-year': 3828, 'disturbance': 3829, 'dime': 6222, 'tee': 3831, 'stopped': 1550, 'burger': 6548, 'catch': 1010, 'sips': 870, 'buried': 2120, 'they': 80, 'strictly': 3832, 'wow': 231, 'toilet': 1551, 'front': 616, \"takin'\": 2121, 'brave': 2122, 'w': 2123, 'eddie': 1011, 'shaken': 2124, 'duff': 214, 'address': 1237, 'cliff': 6201, 'comes': 341, 'gargoyle': 2126, 'movie': 1012, 'enough': 365, 'witty': 2127, 'misconstrue': 3833, 'store-bought': 3834, 'latour': 3835, 'mugs': 3836, 'hockey-fight': 3837, 'glum': 1552, 'rubbed': 3645, 'pus-bucket': 3839, 'maude': 3842, 'clearing': 3843, 'sandwich': 1929, 'application': 6204, 'leonard': 3845, 'scratcher': 3846, 'coney': 1553, 'arise': 3847, \"clancy's\": 4688, 'feels': 1238, 'royal': 4698, \"i'm-so-stupid\": 1013, 'veux': 3849, 'tenor': 2023, 'hootie': 3850, 'skydiving': 3851, 'navy': 3852, 'aristotle': 3853, 'flea': 6312, 'society': 3854, 'mirror': 3855, 'seamstress': 4729, 'sadly': 533, 'came': 453, 'himself': 765, \"man's_voice\": 4757, 'enterprising': 3857, 'mona_simpson': 2129, 'ram': 3858, 'saint': 2130, 'geysir': 3859, \"pressure's\": 3860, 'plastic': 904, 'cards': 1554, 'begin': 3861, 'coal': 3862, 'next': 313, 'going': 183, 'disaster': 3863, 'dictator': 5127, 'pay': 408, 'gheet': 3864, \"when's\": 3865, 'sleigh-horses': 3866, 'herself': 3867, 'delicate': 3868, 'cuckoo': 3869, 'hammy': 3870, 'aging': 2133, 'glad': 762, 'paid': 2382, 'kicked': 2135, 'hot': 564, 'strangles': 3873, \"livin'\": 1239, 'bourbon': 2136, 'marge': 118, 'cowboys': 2137, \"moe's\": 178, 'bliss': 3874, \"'tis\": 2138, 'start': 565, \"robbin'\": 1555, 'without': 454, 'punkin': 3718, 'apply': 3875, 'dough': 2139, 'number': 764, 'noosey': 5203, 'remain': 3174, \"renovatin'\": 3877, '_powers': 2140, 'marvin': 1556, 'sucked': 1557, 'hostages': 4975, 'alley': 1558, 'bitter': 871, 'colonel': 3879, 'waterfront': 3880, \"what'll\": 1240, 'ate': 3881, 'blend': 2141, 'investigating': 3882, 'tigers': 3883, 'swe-ee-ee-ee-eet': 3884, 'venture': 4952, 'cutie': 2142, 'butts': 766, 'neighbors': 3886, 'quimbys': 3887, 'othello': 5075, 'snout': 5819, 'impress': 3888, 'happily': 1241, 'dingy': 3889, 'liar': 2143, 'fluoroscope': 3890, 'grinch': 4991, 'pleasure': 2421, 'corkscrew': 2145, 'nap': 4335, 'huhza': 3892, 'edison': 1559, 'overflowing': 3893, 'yello': 3894, 'schabadoo': 3476, 'binoculars': 5030, 'beyond': 4710, 'poet': 2146, 'dignity': 3896, 'sen': 3897, 'fellas': 767, 'dramatic': 1327, 'society_matron': 3898, 'mocking': 3899, 'comeback': 3900, 'concentrate': 3901, 'loss': 2148, 'gifts': 2149, 'barf': 2778, 'usually': 1242, 'perón': 3903, 'deer': 1015, 'two-drink': 5074, '1-800-555-hugs': 3904, 'blew': 2150, 'neighborhood': 3905, 'killjoy': 3906, 'scary': 2151, 'hard': 872, 'tired': 1016, 'husband': 1244, 'raise': 2458, 'windowshade': 3907, 'crack': 873, 'shelf': 3908, 'swigmore': 3909, 'ladder': 3910, 'should': 189, 'nigel_bakerbutcher': 874, 'decency': 2152, 'bret': 1017, 'race': 5725, 'tester': 2452, 'sagacity': 3911, 'tire': 5138, 'yap': 1268, 'appointment': 2153, 'lump': 5292, 'names': 1018, 'shoulda': 3913, '50-60': 6218, 'spelling': 3914, 'tight': 3916, 'freshened': 3917, 'tap': 769, 'aged': 3918, 'attraction': 5595, 'choking': 2481, 'lying': 851, 'crayola': 3920, 'voodoo': 3921, 'rainier': 3922, 'kwik-e-mart': 1561, '21': 3923, 'crank': 1562, 'bartender': 526, 'hello': 215, 'forehead': 2423, 'vacation': 2156, 'flower': 1335, 'bums': 2157, 'pickled': 1246, 'oh-so-sophisticated': 3924, 'libraries': 3925, 'village': 2159, \"she'll\": 3926, 'hearts': 3927, 'city': 770, 'blocked': 3729, 'hammer': 3929, 'reader': 3930, 'bras': 3931, 'paris': 1563, 'shush': 3932, 'days': 771, 'unrelated': 6220, 'creature': 3933, \"ma'am\": 2161, 'cup': 3934, 'jerry': 2162, 'troll': 1020, 'abercrombie': 4998, 'orifice': 3936, 'hampstead-on-cecil-cecil': 3937, 'fool': 1564, 'good': 83, 'drapes': 3938, 'hispanic_crowd': 3939, 'ho-la': 3940, 'underpants': 2163, 'mahatma': 5313, 'luckily': 3942, 'spirit': 6223, 'jay': 2164, 'beep': 2165, 'eliminate': 3944, 'darts': 1732, 'sat': 2166, 'bumbling': 3946, 'las': 5351, 'ha-ha': 2167, 'mixed': 2168, 'bad': 224, 'compare': 3948, 'knowledge': 3949, 'glyco-load': 3950, 'gentlemen': 527, \"it'll\": 566, 'exits': 5376, 'eighteen': 3951, 'kicks': 3952, 'bumblebee_man': 6055, 'decided': 3953, 'mither': 3954, 'moment': 1247, 'planned': 3955, 'full-time': 3956, 'trade': 3957, 'chill': 3958, 'oww': 3959, 'limited': 3960, 'sympathy': 3736, 'appalled': 3962, 'greetings': 2170, 'classy': 3963, 'proof': 3964, \"brockman's\": 3966, 'tanked-up': 2171, 'backgammon': 6226, 'bites': 3503, 'bridge': 2172, 'hook': 3967, 'cares': 1345, 'offer': 1248, 'cupid': 3969, 'closet': 3970, 'disguised': 3971, 'doing': 389, 'original': 1249, 'hate-hugs': 3972, 'violin': 2173, 'rugged': 3973, 'conclusions': 5420, 'bastard': 2271, 'type': 2174, 'tow-talitarian': 3975, \"what'd\": 3976, 'loudly': 3123, \"nothin's\": 3978, '2nd_voice_on_transmitter': 3979, 'today/': 3980, 'satisfied': 2175, 'hardy': 3981, 'fainted': 3982, 'puzzled': 1021, 'products': 2177, 'mrs': 772, 'soaked': 3983, 'mt': 3984, 'canyoner-oooo': 3985, 'damned': 3986, 'nervous': 342, 'book_club_member': 1763, 'grow': 1565, 'stinger': 3987, 'princesses': 2179, 'curiosity': 3988, 'grains': 3990, 'talkative': 3991, 'nightmare': 3992, 'sad': 440, 'ape-like': 3993, 'wussy': 3994, 'distributor': 2180, 'honeys': 3995, 'narrator': 773, 'home': 198, 'die': 455, 'matter': 323, 'democrats': 3996, 'buzziness': 3997, 'sub-monkeys': 3928, \"they'd\": 1566, 'kansas': 4852, 'bottom': 1250, 'patterns': 2181, 'panicky': 1567, \"somethin's\": 4000, 'giving': 876, 'marge_simpson': 74, 'coyly': 4001, 'ing': 4002, 'certificate': 4003, 'magazine': 2783, 'margarita': 2182, 'considering': 1536, 'diamond': 2184, 'saying': 774, 'page': 2185, 'wieners': 4005, 'blows': 4006, 'exhaust': 1568, 'novelty': 4007, 'countryman': 5700, 'cent': 2621, 'inches': 4009, 'gentles': 4010, 'whispered': 4011, 'macbeth': 4012, 'relative': 4013, 'fell': 4014, 'dark': 4015, 'england': 4017, 'kick-ass': 4018, 'along': 877, 'host': 4019, 'blue': 630, 'bully': 2186, 'drunkenly': 4021, 'amused': 4022, 'shower': 2187, 'buddies': 4023, 'cents': 1569, 'charge': 909, 'expert': 2189, 'cheer': 1022, 'couch': 1251, 'wazoo': 4024, 'sticking': 4025, 'purveyor': 4026, 'grampa': 757, 'subscriptions': 4027, 'cushion': 4028, 'mistake': 1692, 'sees': 1252, '1979': 4029, \"'cept\": 4030, 'degradation': 2375, 'corpses': 1793, 'gold': 878, 'food': 776, 'nos': 4031, 'plaintive': 4032, 'anyhow': 5697, 'protecting': 4033, 'finger': 1407, 'kitchen': 4035, 'utensils': 4036, 'devils': 4037, 'bitterly': 1572, \"wino's\": 4039, 'fat_tony': 879, 'grammys': 4040, 'position': 5548, 'k-zug': 4042, 'norway': 4043, 'poin-dexterous': 4044, 'extreme': 4045, 'occasion': 4046, 'cerebral': 6237, 'whole': 567, 'checks': 1573, 'radiation': 4047, 'estranged': 4048, 'rueful': 4008, 'tourist': 5610, 'experienced': 4052, 'monroe': 4053, 'grateful': 2996, 'reasonable': 2190, 'film': 1575, 'argue': 4054, 'filed': 4055, 'suspect': 2699, 'typing': 4057, 'average-looking': 4058, 'hippies': 6320, 'crap': 777, 'man_with_tree_hat': 4059, 'sells': 4060, 'feminist': 4061, 'paintings': 4062, 'became': 880, 'firmly': 2191, 'just': 39, 'mcclure': 4063, 'churchill': 2192, 'stand': 568, 'stupidly': 4064, 'student': 4065, 'massage': 4066, 'chanting': 1024, 'standards': 2193, 'dunno': 881, 'steampunk': 4067, 'interrupting': 6421, 'gimme': 409, 'meant': 1576, 'pigs': 2194, 'super-tough': 4068, 'girls': 617, 'die-hard': 4069, 'tick': 2195, 'yup': 2603, 'jelly': 4070, 'perverse': 4071, 'starving': 4072, 'touches': 4073, 'fad': 4074, 'maintenance': 4075, 'elizabeth': 4076, 'self-esteem': 2197, 'meet': 529, 'scotch': 1577, 'wigs': 5054, 'lousy': 618, 'halfway': 4077, 'laws': 2434, \"ain't\": 170, 'in-ground': 4080, 'polite': 1253, 'occupation': 4081, 'boxing': 684, 'ehhhhhh': 4041, 'grampa_simpson': 357, 'pretentious_rat_lover': 4084, 'fumigated': 4085, 'jail': 1578, 'presses': 4086, 'innocent': 1571, 'excellent': 2199, 'flying': 2200, 'treat': 1025, 'cooking': 4020, 'paramedic': 4088, 'bronco': 6267, 'ears': 4089, 'congoleum': 4355, 'stocking': 4091, 'feast': 2201, 'show-off': 4092, 'chase': 2202, 'y': 5006, 'myself': 362, 'knowingly': 4094, 'pleased': 1402, 'jerk-ass': 4095, 'darn': 4096, 'guilt': 4097, 'yeah': 38, \"tomorrow's\": 4098, 'fly': 1580, 'music': 882, 'transfer': 4099, 'hottest': 4100, 'convenient': 4101, 'john': 4102, 'veteran': 6412, 'craft': 4103, 'okay': 87, 'filled': 2203, 'forget': 510, 'abolish': 5593, 'choke': 4104, 'insist': 4105, 'destroyed': 4106, 'complaining': 2109, \"can't\": 93, \"'im\": 2205, 'embarrassed': 1254, 'greystash': 1851, 'poison': 4108, 'stick': 664, 'ratted': 4110, 'tiny': 2207, 'fumes': 1584, 'dreary': 5009, 'specified': 4111, 'swine': 4112, 'peppy': 2209, 'dejected_barfly': 4113, 'tremendous': 4114, 'movement': 4115, 'baloney': 4116, 'guard': 5011, 'curds': 2809, 'cheered': 4119, 'friday': 4120, 'alibi': 4121, 'shut': 271, 'issuing': 4122, 'rub': 1585, 'living': 4123, 'warren': 4124, 'hates': 1586, 'their': 225, 'stamp': 4125, 'lotsa': 4126, 'mel': 1587, 'blackjack': 4127, 'counter': 4128, 'third': 1026, 'artie_ziff': 486, 'dignified': 4129, 'tv_daughter': 4131, 'uh-oh': 570, 'thoughtless': 4132, 'glummy': 5624, 'designer': 4134, 'calendars': 4135, 'absolut': 4136, 'mansions': 6254, 'miss_lois_pennycandy': 4137, 'woooooo': 4138, 'bloodball': 4139, 'wiggle-frowns': 4140, 'all-star': 2210, 'unexplained': 4141, 'half-day': 4142, 'infatuation': 5014, 'lame': 4144, 'cat': 2211, 'astronaut': 2212, 'quebec': 4145, 'bachelor': 4146, 'ken': 1255, 'wing': 2842, 'options': 4147, 'lifetime': 4148, 'environment': 5015, 'oblongata': 4150, 'impatient': 2332, 'smuggled': 4152, 'marmaduke': 2213, 'tale': 2214, 'indeed': 4153, 'annual': 4154, 'neanderthal': 4155, 'darkness': 4156, \"men's\": 1588, 'more': 125, 'pas': 4157, 'morlocks': 2216, 'darkest': 2217, 'ali': 4158, 'transylvania': 4159, 'trick': 2218, 'gums': 2219, 'knuckle-dragging': 4160, 'carl_carlson': 46, 'theatrical': 4161, 'charges': 4162, 'pugilist': 6511, 'pal': 432, 'afterglow': 4164, 'years': 250, 'irishman': 4165, 'heard': 456, 'remote': 4377, 'crooks': 4166, 'barney_gumble': 42, 'flash-fry': 4167, \"doin'\": 358, 'banquo': 2222, 'serious': 685, 'hafta': 4168, 'red': 1168, 'kermit': 1589, 'ashtray': 4170, 'upon': 1619, 'tearfully': 4171, 'whaddya': 4172, 'fridge': 1257, 'intervention': 4173, 'grocery': 4174, 'sharing': 4175, 'shark': 4176, 'ehhh': 5633, 'cleveland': 4178, \"countin'\": 2223, 'brightening': 2224, 'certainly': 4179, 'better': 194, 'landlord': 4181, 'cigarettes': 2225, 'patriotic': 3766, 'hose': 5226, 'doppler': 4184, 'time': 116, 'squeal': 4185, \"we'd\": 883, 'mice': 4186, 'africa': 2443, 'kent_brockman': 235, 'selfish': 4188, 'daniel': 4189, 'japanese': 778, 'hate': 460, \"g'night\": 6234, 'waste': 4190, 'yee-ha': 4191, \"talkin'\": 530, 'mister': 884, 'roach': 4193, 'south': 1178, 'haikus': 4194, 'drunkening': 3347, 'teenage': 1592, 'syndicate': 2926, 'fatty': 2931, 'lincoln': 4196, 'activity': 4197, \"linin'\": 4198, 'pleasant': 2228, 'date': 487, 'hellhole': 4199, 'ummmmmmmmm': 2962, 'domestic': 1356, 'replaced': 4202, 'choose': 4203, 'anxious': 4204, '||comma||': 760, 'doug': 2229, 'liven': 2991, 'totalitarians': 4206, \"idea's\": 4207, 'notice': 4208, 'awareness': 6361, \"edna's\": 4209, 'owes': 4210, 'uninhibited': 3023, 'outta': 324, 'ecru': 4211, 'blimp': 4212, 'thanksgiving': 2232, 'itchy': 4213, \"i-i'm\": 1593, 'dumbest': 4214, 'fine': 457, 'wearing': 1771, 'stranger': 2233, 'carlson': 2234, 'can': 66, 'bar-boy': 1594, 'space': 2235, 'edgy': 4217, 'adjust': 4218, 'sector': 2236, 'shaker': 4219, 'bride': 2237, 'fraud': 1471, 'young': 619, 'twenty-nine': 4221, \"wallet's\": 4222, 'determined': 4223, 'any': 209, 'bump': 1957, 'short': 1028, 'incapable': 4224, 'terrible': 779, 'supposed': 888, 'calvin': 4225, 'sprawl': 4226, 'use': 285, 'housewife': 4227, '||exclamation_mark||': 1, 'marriage': 620, 'bashir': 2238, 'hardhat': 5643, 'voice': 242, 'strong': 896, 'dna': 5644, 'broncos': 4228, 'plenty': 2241, 'moe': 31, 'outstanding': 5645, 'kids': 266, 'radiator': 4229, 'je': 4230, 'desire': 3912, 'loboto-moth': 4232, 'espn': 4233, 'mariah': 4234, 'referee': 4235, 'badmouths': 4236, 'exchanged': 4237, 'line': 1258, 'fortensky': 4238, 'gasps': 621, 'nightmares': 4239, 'snow': 2242, 'plants': 3233, 'volunteer': 6264, 'j': 4241, 'plums': 4242, 'beverage': 4243, 'comic_book_guy': 780, 'los': 4244, 'reynolds': 2244, 'wife': 243, 'bring': 490, 'lookalike': 2245, 'weeks': 1595, 'dies': 4245, 'crystal': 4246, 'its': 1596, \"havin'\": 1597, 'joy': 4247, 'football_announcer': 889, 'chairman': 4248, 'effigy': 2246, 'sink': 5050, 'beeps': 4249, \"mcstagger's\": 4250, 'omit': 4251, 'today': 369, 'farewell': 5647, 'dollars': 388, 'melodramatic': 4254, 'quotes': 2247, 'door': 531, 'unison': 1598, 'market': 1261, 'brother-in-law': 4255, 'raging': 6333, \"tony's\": 4256, 'tomatoes': 3348, 'hearse': 4257, 'still': 190, 'tom': 1262, 'schizophrenia': 4258, 'ow': 295, 'flourish': 4259, 'mortal': 4260, 'crippling': 4261, \"breakin'\": 4262, 'self-made': 2249, 'issues': 4263, 'homer_': 4398, 'plow': 1236, 'damage': 3050, 'whatchacallit': 4265, \"gentleman's\": 1599, 'executive': 4266, 'porn': 2250, 'train': 1263, 'lise': 2251, 'americans': 5036, 'roll': 1499, 'eww': 4268, 'ever': 156, 'yards': 2253, 'attention': 1600, 'confidentially': 4269, 'procedure': 1288, 'caper': 4270, 'kidneys': 4271, 'italian': 3448, 'dump': 571, 'to': 14, 'kisses': 4273, 'point': 622, 'freaky': 4274, 'tow': 4275, 'poem': 2255, 'etc': 781, 'closer': 1601, 'fireball': 1639, 'julienne': 3479, \"ball's\": 4869, 'anything': 303, 'beings': 4277, 'killing': 4278, 'rupert_murdoch': 3493, 'little': 88, 'eating': 890, \"can'tcha\": 4279, 'imported-sounding': 4280, 'many': 375, \"'bout\": 623, 'ran': 1603, 'felony': 4281, \"hawkin'\": 4282, 'forty-nine': 4283, \"doctor's\": 4284, 'goods': 2689, 'see': 103, 'strategy': 2257, 'awwww': 2258, 'synthesize': 4285, 'snapping': 4286, 'metal': 4287, 'bon-bons': 4288, \"o'clock\": 1266, 'filth': 4289, 'rented': 4290, 'cigarette': 1604, 'lot': 304, 'wishing': 4291, 'pantry': 4292, \"b-52's\": 4293, 'poisoning': 4294, 'come': 96, 'glamour': 4295, 'wrecking': 4296, '$42': 4297, \"callin'\": 1031, 'store': 686, 'toe': 4298, 'helping': 4299, 'ground': 1605, 'slugger': 4300, 'expose': 4301, 'operation': 1606, 'victorious': 4303, 'recap': 4304, 'much': 179, 'quitcher': 4305, 'pouring': 2260, \"could've\": 1607, 'gargoyles': 4306, 'quietly': 1032, 'alcoholism': 4307, 'sheets': 2914, 'whup': 4308, 'filthy': 999, 'crunch': 4309, 'expired': 4310, 'reluctantly': 5046, 'beer-jerks': 3733, 'celebrities': 1609, 'tragedy': 4311, 'seemed': 2263, 'ehhhhhhhhh': 4312, 'agree': 2264, \"others'\": 2265, 'easy-going': 4313, 'h': 3768, 'you': 8, 'encore': 4315, 'horrors': 5998, 'wraps': 4316, 'kirk': 6040, 'slyly': 2266, 'buyer': 4318, 'springfield': 251, 'clincher': 4319, 'seeing': 1610, 'months': 1267, 'showed': 4320, 'ditched': 5113, 'care': 410, 'grand': 1034, 'hands': 484, 'sneering': 3128, 'faceful': 4322, 'buddy': 681, 'walther': 3977, 'churchy': 4550, 'recent': 4324, 'tenuous': 4325, 'tape': 532, \"eatin'\": 4326, 'rascals': 4327, 'burp': 1269, 'burglary': 4329, 'artie': 1035, 'fence': 4314, 'browns': 4330, 'illustrates': 4331, 'mid-seventies': 4332, 'shesh': 4333, 'rug': 4334, 'probably': 624, 'toledo': 3800, 'parents': 4336, 'failed': 2268, 'leg': 1611, 'twenty-six': 5665, 'deliberate': 2269, 'feed': 1612, 'fat': 343, 'hits': 1270, 'practice': 4338, 'aerospace': 4339, 'mckinley': 4340, 'nelson_muntz': 4341, 'figures': 4342, 'glasses': 1037, 'shades': 3286, 'waylon_smithers': 344, 'pained': 1613, 'sometimes': 2270, 'fireworks': 4344, 'macho': 4345, 'barney': 131, 'poured': 4346, 'scrutinizes': 4347, 'honey': 891, 'piling': 4348, 'enjoys': 4349, 'apu': 625, 'told': 458, 'rage': 2283, 'puts': 2272, 'nursemaid': 4351, 'mumble': 3711, 'tribute': 4353, 'crime': 1863, 'stink': 4354, 'spend': 572, 'alien': 4356, 'meatpies': 4357, 'layer': 4358, 'delightfully': 4359, 'gal': 1615, 'aside': 1616, 'understand': 1271, 'ah-ha': 2114, 'bow': 892, 'trouble': 534, 'groin': 4361, \"'now\": 4362, \"what's\": 149, 'tv-station_announcer': 4363, 'since': 272, 'conclude': 4231, 'heather': 3138, 'gayer': 4364, 'à': 1273, \"battin'\": 4365, 'oof': 2274, 'fletcherism': 4366, 'middle': 1618, 'ahead': 1279, 'tasty': 4368, 'cuz': 4369, 'retain': 4370, 'aboard': 4371, 'ehhhhhhhh': 4372, 'albert': 4373, 'barbara': 4374, 'curious': 2275, 'tomato': 4375, 'snotty': 4376, 'castle': 1274, 'stumble': 5405, 'witches': 4378, 'fritz': 1027, 'rubs': 4379, 'manuel': 4380, 'jewelry': 4381, 'milk': 893, 'conditioner': 2276, 'chunk': 4382, 'kucinich': 4383, 'forty-seven': 4385, 'burt': 1275, 'chew': 3810, 'stengel': 4386, 'pulling': 2277, 'confession': 4387, 'three': 216, 'written': 2278, 'wolfe': 2279, 'waitress': 4388, 'buds': 4389, 'yep': 1039, 'dumpster': 4317, 'unbelievably': 3171, 'loneliness': 4391, 'such': 626, 'writers': 2657, 'itself': 4392, 'breaks': 4393, 'alky': 4395, 'sour': 4396, 'practically': 4397, \"friend's\": 3228, 'chocolate': 1277, 'bushes': 5674, 'flew': 4400, 'shrugging': 2280, 'tough': 433, 'mmmm': 573, 'till': 459, 'rice': 4401, 'body': 1278, \"nixon's\": 4402, 'wars': 4403, 'sponsoring': 4404, 'wings': 2281, 'white': 2284, 'cleaned': 1040, 'whaaa': 4668, 'suburban': 4407, 'distinct': 4408, 'awkwardly': 4409, 'johnny': 6284, 'pancakes': 6304, 'fires': 4411, 'presided': 4412, 'rolled': 2282, 'pudgy': 4413, 'man_at_bar': 4414, 'hillary': 4415, 'mouth': 434, 'hmf': 4416, 'orgasmville': 4417, 'rationalizing': 4350, 'swimming': 4418, 'donor': 4419, 'backwards': 1620, 'washouts': 4367, 'bowling': 1621, 'stagehand': 4420, 'sucker': 3147, 'sports': 1280, 'hotenhoffer': 4422, 'ziffcorp': 1622, 'your': 27, 'network': 4423, 'pretzels': 4405, 'paper': 4424, 'glowers': 4425, 'customers': 1041, 'germans': 4427, \"tinklin'\": 4428, 'retired': 2285, 'a-b-': 4429, 'blind': 4430, 'lowers': 894, 'wednesday': 4431, 'maxed': 4432, 'test-': 4433, 'professor_jonathan_frink': 535, 'gunk': 4434, 'swings': 4435, 'dae': 4466, \"fendin'\": 4437, 'clips': 4438, 'souvenir': 4441, \"stinkin'\": 1624, 'she': 160, 'elmer': 4442, 'indignant': 1625, 'rivalry': 4443, 'oh-ho': 4444, 'meyerhof': 4445, 'ref': 3695, 'crappy': 4446, 'dank': 1042, 'gimmicks': 5210, 'exquisite': 4447, 'save': 435, 'louie': 2288, 'neat': 2289, 'speaking': 1043, 'system': 1626, 'loathe': 4448, 'hops': 4449, 'series': 6289, 'nation': 1627, 'fwooof': 4450, 'things': 265, 'reconsidering': 4451, 'entire': 1537, 'finish': 6460, 'socratic': 4453, 'everyone': 411, 'supply': 4454, 'worked': 1628, 'daughter': 412, 'burg': 4455, \"'n'\": 4456, 'putting': 2290, 'grim': 1281, 'give': 162, 'advertising': 4457, 'column': 6290, \"disrobin'\": 4458, 'exciting': 4459, 'canoodling': 4460, 'beligerent': 4848, '35': 4461, 'thomas': 4462, 'option': 4463, 'brusque': 4464, 'sam': 4465, 'failure': 4436, 'rickles': 4467, 'lady-free': 4468, 'chuck': 4469, 'sampler': 5066, 'brought': 895, 'hundreds': 3301, 'slobbo': 5102, 'tail': 1282, 'crony': 4472, 'scully': 2292, \"wife's\": 1629, 'pint': 2800, 'aghast': 4473, 'case': 1283, 'savings': 4474, 'gruff': 4475, 'lenny_leonard': 34, 'distaste': 5856, 'office': 4477, 'mint': 4478, 'healthier': 4479, 'woman_bystander': 2338, 'bid': 4481, 'bottles': 2293, 'creates': 5682, 'talk-sings': 1630, 'love-matic': 2294, 'burps': 1284, 'sentimonies': 4711, 'later': 687, 'dumbass': 4483, \"aren'tcha\": 4484, 'turkey': 1632, 'isle': 2295, 'ready': 783, 'someplace': 4485, 'bright': 1633, 'singers': 1634, 'contract': 4486, 'young_moe': 2373, 'platinum': 4942, 'lisa': 286, 'uniforms': 4488, 'perch': 4489, 'cans': 4490, 'cappuccino': 4491, 'break-up': 4492, 'blamed': 5719, 'pool': 1045, 'we-we-we': 4493, 'face': 210, 'harvey': 4778, 'total': 4496, 'tab': 688, 'highball': 4497, 'invented': 887, 'control': 4788, 'carny': 4500, 'law-abiding': 6246, 'scrutinizing': 4501, 'cut': 536, 'hurts': 1635, 'loved': 897, 'wade_boggs': 2367, 'sing': 574, 'nick': 3821, 'quiet': 575, \"man's\": 4502, 'flanders': 785, 'neil_gaiman': 2296, 'slipped': 6298, 'birthplace': 5038, 'candidate': 2297, 'lennyy': 4505, 'guzzles': 4840, 'onion': 5076, 'specialists': 4507, 'dryer': 2286, 'yourse': 4508, 'squeezed': 4509, 'startup': 4510, 'twins': 1286, 'cooler': 2298, 'exactly': 721, 'ya': 112, 'become': 1636, 'internet': 2299, 'hydrant': 4513, 'turns': 537, \"aren't\": 491, 'clean': 485, '14': 4892, 'breaking': 1638, 'aggie': 4514, 'rolling': 2300, 'unforgettable': 5079, 'heh-heh': 4913, 'silence': 4931, 'struggling': 1640, 'characteristic': 4516, 'richer': 4517, 'dashes': 4518, 'brunch': 4519, 'hired': 2301, 'trashed': 4520, 'butterball': 4521, 'junior': 1641, 'du': 4522, 'underwear': 4523, 'hey': 29, 'upn': 4525, \"showin'\": 2302, \"show's\": 4985, 'distraught': 1391, 'kim_basinger': 4527, 'starve': 4528, 'tonic': 4529, 'speak': 1046, 'ruuuule': 4531, 'sleep': 1643, 'infiltrate': 4532, 'johnny_carson': 5000, 'director': 1644, 'tanking': 4533, 'thumb': 1047, \"professor's\": 4534, 'eyeball': 2303, 'wizard': 4535, 'ugly': 555, 'nevada': 4536, \"tramp's\": 4537, \"aristotle's\": 4538, 'tummies': 4539, \"hobo's\": 4540, 'winks': 4541, 'jane': 4542, 'very': 228, \"football's\": 4544, 'focused': 4545, 'raccoons': 2304, 'rewound': 4546, 'twentieth': 4547, 'entering': 4548, 'aisle': 4549, 'interesting': 4576, 'smooth': 1289, \"squeezin'\": 6498, 'keys': 576, 'seriously': 2453, 'stage': 3968, 'harm': 4551, 'dropping': 4552, 'five-fifteen': 4553, 'softer': 4554, 'korea': 4555, 'delicately': 4556, 'bury': 4557, 'rope': 1048, 'rebuttal': 3177, 'rookie': 4558, 'düffenbraus': 6656, 'official': 4559, 'disgraceful': 4561, \"who's\": 287, \"speakin'\": 4562, 'rats': 1645, 'naegle': 4563, 'moonnnnnnnn': 4564, '||return||': 3, 'inserted': 4565, 'frink-y': 4566, 'apulina': 4567, 'mortgage': 2306, 'slick': 4568, 'looked': 1646, 'wants': 359, 'six': 538, 'gag': 1648, 'popped': 5188, 'astrid': 4569, 'freed': 5202, 'kinds': 3178, 'pilsner-pusher': 4571, 'radio': 2506, 'shotgun': 690, 'fixes': 6309, 'assassination': 6087, 'highway': 2308, 'only': 154, \"enjoyin'\": 4575, 'mess': 2309, 'ninety-six': 4577, 'm': 577, 'reentering': 5243, 'thousands': 4579, 'combination': 3797, 'flips': 1291, 'lotta': 1292, 'handle': 2311, '15': 4581, 'sympathetic': 2312, 'junebug': 5980, 'wipes': 4582, 'inspire': 1938, 'loud': 376, 'frink': 1855, 'a': 12, 'maya': 691, 'burns': 377, 'homer': 28, 'souped': 4584, 'benjamin': 2313, 'sly': 1293, 'agency': 4585, 'advantage': 2514, 'humiliation': 5300, 'thrust': 4586, 'coherent': 4587, \"'til\": 1650, 'homer_simpson': 13, 'charged': 5324, 'grandiose': 2314, 'rebuilt': 4589, 'tabs': 4590, 'depressant': 4591, 'foundation': 4592, 'fun': 578, 'leftover': 4593, 'mini-beret': 4594, 'gunter': 2315, 'arms': 1295, \"usin'\": 4595, 'mid-conversation': 4596, 'eat': 492, 'ding-a-ding-ding-ding-ding-ding-ding': 4597, 'trip': 1296, 'el': 4598, 'tyson/secretariat': 5372, 'sugar': 2316, 'storms': 4600, \"queen's\": 4601, 'cheese': 2317, 'song': 602, 'ads': 4602, 'handler': 5404, 'work': 244, 'would': 135, 'beginning': 1651, 'idiots': 5418, 'mind': 692, 'hanh': 4603, 'uhhhh': 4604, 'hmmm': 1744, 'knuckles': 4605, 'radical': 4606, 'teriyaki': 5184, 'celebration': 4607, 'so-ng': 4608, 'pocket': 1652, 'chapstick': 5780, 'found': 693, 'terrace': 4610, 'mouse': 1049, 'tha': 4611, 'sanctuary': 4612, 'minutes': 715, \"'\": 4614, 'forbids': 4615, 'rafters': 4616, 'entirely': 2546, 'crayon': 4617, 'con': 4618, 'beautiful': 413, 'quimby': 4619, 'gary_chalmers': 1653, 'football': 4620, 'routine': 2320, 'gift': 1298, 'kentucky': 4621, 'deliberately': 4622, 'stool': 899, 'corn': 4624, 'whiny': 1299, 'mudflap': 1654, 'jigger': 5708, 'undies': 4626, 'wage': 4627, 'known': 2321, 'watt': 5709, 'lobster': 4629, 'honest': 900, 'choices': 2322, \"startin'\": 4630, 'initially': 4631, 'urine': 4632, 'station': 4633, 'jeff_gordon': 4471, 'the': 6, 'whirlybird': 4634, 'gotta': 120, 'dice': 4635, 'neighbor': 2323, 'lights': 2324, 'winded': 6177, 'laney': 5591, 'direction': 4637, 'bumped': 4638, 'drollery': 4639, 'womb': 4640, 'sponsor': 4641, 'meals': 4642, \"wait'll\": 4700, 'watered': 6319, 'oblivious': 4643, 're-al': 4644, 'won': 901, 'gumbo': 4394, 'pepto-bismol': 4645, 'funeral': 5713, 'celebrity': 2327, \"tree's\": 4647, 'eurotrash': 4650, 'bathed': 3195, 'nickels': 2287, 'bedroom': 2328, 'unhappy': 4653, 'dog': 461, 'cheap': 1486, 'billion': 2329, 'cruise': 3717, 'thought_bubble_homer': 2330, 'perfected': 5715, 'peanut': 2331, \"cont'd\": 4654, 'tradition': 1779, 'repeating': 4655, 'innocuous': 4656, 'barney-guarding': 4657, 'feeling': 462, \"toot's\": 4658, 'guest': 1656, 'fuhgetaboutit': 4659, 'tuna': 4660, 'super-nice': 4661, 'hated': 1121, 'cobbling': 4663, 'judge_snyder': 2333, 'couple': 727, 'lots': 1487, 'screw': 786, 'heart': 579, 'absentminded': 4666, 'aunt': 4667, 'furious': 1300, 'protesters': 4669, 'hiya': 1856, 'intoxicated': 3626, 'cesss': 4670, 'duh': 1052, 'endorse': 1657, 'supermodel': 4671, 'head': 273, 'sign': 463, 'french': 971, 'tar-paper': 4673, 'whim': 4674, 'rent': 4676, 'vacuum': 2660, \"o'reilly\": 4677, 'sunglasses': 4678, 'mater': 4679, 'muttering': 2335, 'part-time': 4680, 'stalin': 4681, 'technical': 3202, 'money': 145, 'fools': 4683, 'confidence': 2336, 'however': 6463, 'recreate': 5098, 'dumb': 902, 'salad': 1658, 'cobra': 4684, \"'kay-zugg'\": 4685, 'caught': 1054, 'stay-puft': 4686, 'motel': 1659, 'question': 1302, 'taxes': 5720, 'tokens': 4512, 'b-day': 4689, 'madonna': 4690, 'goodnight': 704, \"heat's\": 4691, \"kids'\": 1660, 'depending': 4253, 'dreamily': 4692, 'what': 35, 'voyager': 4693, 'fills': 5865, 'brag': 4694, 'cueball': 2339, 'intakes': 6327, 'sitcom': 4696, 'drop': 1661, 'enlightened': 4697, 'including': 3848, 'informant': 2340, 'marry': 4699, 'insulted': 2341, 'shag': 3336, 'prints': 4701, 'born': 1662, 'restaurants': 2342, 'courage': 2343, 'occupied': 4702, 'droning': 4703, 'passports': 4704, 'wanted': 414, 'bleak': 4705, 'fantastic': 4487, 'wife-swapping': 4706, 'ma': 627, 'running': 1056, 'bunion': 4707, 'pause': 1663, 'yee-haw': 1664, 'eminence': 4708, 'smiled': 4709, 'grumpy': 2345, 'workers': 1631, 'saving': 4712, 'license': 1665, 'event': 4713, \"homer'll\": 4714, 'script': 4715, 'specials': 4716, \"buyin'\": 1304, 'tobacky': 4717, 'piano': 4718, 'accelerating': 5726, 'jolly': 1666, 'louse': 4719, \"mecca's\": 4720, 'stops': 5497, 'fonda': 4721, 'jukebox_record': 5425, 'patron_#1': 4723, 'missing': 4725, 'separator': 4726, 'necklace': 4727, 'thing': 133, 'billiard': 5101, 'occurrence': 4728, 'tomorrow': 468, 'last': 206, 'upsetting': 4730, 'co-sign': 4731, 'sunday': 1057, 'proudly': 830, 'multi-purpose': 4732, \"games'd\": 4733, \"tv'll\": 4734, 'infestation': 4735, 'serum': 4736, 'chosen': 4737, 'barber': 4738, 'jovial': 4739, 'pigtown': 4740, 'playoff': 4741, 'deals': 3687, 'picky': 6549, 'arm-pittish': 4742, 'envy-tations': 4743, 'started': 1408, 'all': 36, 'ear': 4744, 'congratulations': 5103, \"dolph's_dad\": 6337, 'rump': 4747, 'having': 1100, 'somebody': 743, 'sending': 4748, 'insults': 4749, 'sideshow': 4959, 'support': 6353, 'disguise': 4751, 'dishonor': 4752, 'frankie': 4753, \"round's\": 5582, 'had': 141, 'greatest': 628, 'fact': 1669, 'pushes': 4754, 'polls': 4755, 'officials': 4756, 'moans': 787, 'exited': 6470, 'drunk': 217, 'alpha-crow': 4758, \"fine-lookin'\": 4759, 'notably': 4760, 'if': 72, 'nailed': 4761, 'respect': 1305, 'measurements': 2349, 'inclination': 4762, 'dynamite': 1854, 'musta': 6342, 'poetics': 4763, 'jets': 2352, 'worldview': 4764, 'laney_fontaine': 2353, 'skinny': 4440, 'reasons': 2355, 'snitch': 4765, 'broadway': 2356, 'innocence': 4932, 'drink': 150, 'sunk': 4767, 'compressions': 4768, '530': 4769, 'causes': 5106, 'marguerite': 2357, 'christian': 4771, 'fringe': 3160, '7g': 5370, 'de-scramble': 4773, 'lowering': 2358, 'robbers': 4774, 'doubt': 1058, 'papa': 4775, 'sing-song': 4776, 'donation': 4777, 'portentous': 4495, 'fella': 4779, \"this'll\": 4780, \"knockin'\": 4781, 'balls': 2360, 'against': 1059, 'necessary': 4782, 'funny': 464, 'religious': 4783, 'right-handed': 4784, 'combine': 2361, 'quality': 2362, \"isn't\": 297, 'job': 314, 'meteor': 4786, 'play': 252, 'gorgeous': 2131, 'noises': 514, \"santa's\": 4787, 'famous': 2363, 'composite': 4499, 'glorious': 4789, 'harder': 2364, 'my-y-y-y-y-y': 4790, 'words': 788, 'gardens': 4792, 'slurred': 4187, 'changes': 2365, 'enjoyed': 6351, 'botanical': 4793, \"lisa's\": 1060, 'youuu': 4794, 'either': 629, 'cartoons': 2921, 'horses': 6525, 'jar': 1061, 'popular': 1671, 'nor': 5734, 'face-macer': 4796, 'suit': 1062, 'snake': 1306, 'spoon': 4797, 'medical': 2366, 'batmobile': 4798, 'mike': 1063, 'published': 5736, 'an': 86, 'bust': 4800, 'engine': 4801, 'lachrymose': 4802, 'cockroaches': 4803, 'shoulders': 4804, 'runaway': 4805, 'badmouth': 4321, 'island': 1285, 'alva': 4806, 'whatchamacallit': 4807, 'dumptruck': 4808, 'wittgenstein': 4809, 'amiable': 4810, 'newspaper': 4811, 'watered-down': 2368, 'strolled': 3222, 'key': 4812, 'catty': 4813, 'blobbo': 4814, 'kl5-4796': 4958, 'ferry': 4815, 'montrer': 4494, \"i'd\": 166, 'gently': 1673, 'result': 4816, 'lighting': 2372, 'worthless': 4817, 'unattended': 4818, 'milhouse_van_houten': 1307, 'space-time': 4819, 'scarf': 4820, 'stern': 2854, 'cooker': 4821, 'grabs': 1782, 'housework': 4822, 'actress': 4823, 'stands': 2376, 'anywhere': 2377, 'gestated': 4824, 'elves': 4825, 'writing': 1066, 'kemi': 384, 'detecting': 2378, 'led': 4827, 'puff': 1674, \"summer's\": 2945, \"rasputin's\": 4829, 'fair': 1675, 'country-fried': 4830, 'damn': 789, 'uh': 60, 'needed': 1308, 'sideshow_mel': 4831, 'utility': 2379, 'deal': 790, 'sets': 5743, 'hooked': 4833, 'measure': 4834, 'easygoing': 4835, 'plucked': 4836, 'tonight': 253, 'grind': 4837, 'buttons': 1309, 'owe': 1067, 'muscle': 4838, 'woo': 391, 'wisconsin': 3035, 'reminded': 4841, 'club': 1068, 'unbelievable': 4842, 'declan_desmond': 1310, 'proper': 3060, 'falcons': 2380, 'predecessor': 4844, \"'s\": 4845, 'nasty': 4846, 'squad': 4847, 'reliable': 2381, 'geez': 539, 'vampires': 2572, 'hugh': 975, 'terrifying': 4850, 'alternative': 4851, 'stuff': 416, 'wakede': 4853, 'effervescence': 6522, 'huddle': 5744, 'barney-shaped_form': 1676, 'world-class': 4855, 'halloween': 4856, 'starlets': 3872, 'jogging': 4857, 'byrne': 4858, 'sensible': 4859, 'photos': 4860, 'lecture': 4861, 'fistiana': 4862, 'minister': 2383, 'strokkur': 4863, 'touchdown': 1678, 'selling': 1311, 'belches': 1312, 'sneak': 4864, 'researching': 4865, 'stupidest': 4866, 'arrived': 4867, 'count': 4868, 'compliment': 1485, 'pants': 417, \"patrick's\": 2384, '||semicolon||': 9, 'drawn': 4870, 'stingy': 4871, 'teenage_barney': 1313, 'most': 392, 'kindly': 2385, 'b': 2467, 'times': 633, 'superdad': 4873, 'based': 1982, 'yet': 695, \"mother's\": 6365, 'hubub': 4874, 'cannot': 1680, 'presumir': 4875, 'ice': 906, 'worldly': 4876, 'pointy': 4877, 'car': 218, 'hats': 2047, 'effects': 2387, 'ye': 2388, 'ungrateful': 4879, 'refreshingness': 4880, \"ladies'\": 2389, 'accidents': 4881, 'lib': 2390, \"tap-pullin'\": 3287, 'hot-rod': 5751, 'clandestine': 4883, 'lou': 791, \"stallin'\": 4884, 'agent': 1314, 'appear': 2392, 'inspection': 1681, \"soundin'\": 5131, \"pullin'\": 4886, 'rather': 1315, 'fausto': 2393, 'blurbs': 4887, 'tsk': 634, 'predictable': 4888, 'dying': 1069, 'singing': 255, 'saget': 4889, 'crushed': 4890, 'booze-bags': 4891, 'vulnerable': 2394, 'jack_larson': 1637, 'bide': 4893, 'romance': 6192, 'forever': 792, 'chub': 4895, 'bedridden': 3747, 'jokes': 4897, 'card': 696, 'i/you': 4898, 'carve': 2395, 'followed': 4899, 'wore': 4900, 'kodos': 3415, 'flynt': 4902, 'ironed': 2396, 'sadder': 1682, 'startled': 4904, 'ugliest': 2221, 'calmly': 2397, 'lemme': 697, 'confidential': 3003, 'beaumarchais': 4907, 'stories': 1070, 'yoink': 4908, 'dinks': 4909, \"money's\": 2398, 'dealer': 6149, 'taylor': 6371, 'sponge': 2399, 'reward': 4911, 'european': 2400, 'three-man': 4912, 'this': 24, 'ruint': 4914, 'neighboreeno': 4915, 'remembered': 2401, 'carnival': 4916, 'influence': 4917, '||question_mark||': 21, 'sports_announcer': 2402, 'nice': 274, 'favor': 1071, 'cage': 4470, 'changed': 1683, 'presents': 4919, 'edner': 4920, \"beer's\": 2403, 'ping-pong': 4921, 'oooo': 4922, \"today's\": 1316, 'crew': 2404, 'torn': 2405, 'naively': 4923, 'koi': 2406, 'hawaii': 4924, 'cheesecake': 4925, 'swig': 6439, 'koholic': 2407, 'answered': 4927, 'nurse': 4928, 'beat': 275, 'midnight': 1684, 'unfresh': 4929, 'gulliver_dark': 4930, 'trucks': 2987, 'd': 2408, 'tip': 907, 'alter': 4933, 'wiggum': 582, 'hateful': 4934, 'hotel': 4935, 'peach': 1685, 'youse': 698, 'hibachi': 4936, 'ees': 4937, \"kid's\": 5660, 'walk': 699, 'skills': 4938, 'wondering': 2409, 'candles': 4940, 'anybody': 700, 'sixty-nine': 1686, \"nothin'\": 326, 'field': 1317, 'lance': 4941, 'pin': 2410, 'row': 2411, 'deadly': 2412, 'not': 64, 'savagely': 4943, 'unable': 4944, 'crinkly': 4945, 'blank': 6270, 'hilton': 4946, 'rhode': 4947, 'ihop': 4948, 'leprechaun': 4949, 'thoughtful': 1318, 'lists': 4950, 'noticing': 1687, 'it': 18, 'vulgar': 4951, 'african': 1072, 'persia': 3885, 'complaint': 2413, 'majesty': 3726, 'grade': 2414, 'newest': 4955, 'behavior': 4956, 'solved': 3738, 'cheery': 2415, 'whoever': 5252, 'dismissive': 2416, 'shoot': 1688, 'timbuk-tee': 4960, 'getting': 378, 'brick': 4961, 'cover': 1319, 'archaeologist': 4962, \"nick's\": 5574, 'statistician': 4963, 'booth': 4964, \"cat's\": 2417, 'sitar': 2418, 'brace': 4965, 'benefits': 2419, 'applesauce': 2915, 'send': 794, 'achem': 2420, 'guys': 108, 'sagely': 6378, 'pulled': 1320, 'quarterback': 4967, 'champignons': 5144, 'apu_nahasapeemapetilon': 245, 'drive': 505, 'shaking': 1073, \"liftin'\": 4969, 'edna': 418, 'locked': 4970, 'kings': 4971, 'shutting': 2641, 'staying': 1689, \"d'\": 4972, 'kidnaps': 4973, 'moe_szyslak': 10, 'facebook': 5754, 'unusual': 4974, 'real': 345, 'try': 393, 'nantucket': 3878, 'incognito': 4976, 'defiantly': 5760, 'agent_johnson': 2144, 'nameless': 4978, 'impressed': 910, 'eighty-five': 4979, 'liver': 1322, 'taking': 701, 'chateau': 4980, 'anguished': 1690, 'shipment': 4981, 'bleacher': 4982, 'flame': 4983, 'recruiter': 4984, 'holiday': 1642, 'eggs': 795, '250': 2422, 'heading': 2155, 'payday': 4986, 'romantic': 911, 'agnes_skinner': 702, 'given': 1074, 'uh-huh': 703, 'limber': 4987, 'hopeful': 1075, 'nfl_narrator': 4988, 'consciousness': 4989, 'knock': 1323, 'employment': 4990, 'belch': 912, 'watching': 583, 'normal': 913, 'thirteen': 2424, 'skin': 2425, \"dyin'\": 2176, 'andy': 1691, 'capitol': 5043, 'be': 44, 'cable': 1324, 'unearth': 4992, 'weep': 4993, 'percent': 2427, 'smokes': 4994, 'snotball': 4995, 'travel': 4996, 'helps': 3175, 'amber_dempsey': 5753, 'realize': 2428, 'forgot': 914, 'lush': 2429, 'past': 1693, 'decadent': 4997, 'photo': 2334, 'soot': 6011, 'ugliness': 4999, 'abandon': 2430, \"y'know\": 540, 'disillusioned': 5001, 'image': 1694, \"shouldn't\": 635, 'butter': 5002, \"she's\": 374, 'taste': 5004, 'milhouse': 1579, 'prime': 1695, 'mole': 5007, 'choked': 5008, 'aww': 1696, 'watch': 390, 'stealings': 2208, 'faces': 4117, 'speech': 1076, 'wobbly': 5764, 'nine': 796, 'demand': 5012, 'liser': 5013, 'punishment': 4143, 'coms': 4149, 'according': 5016, 'tinkle': 915, 'cutest': 5017, 'fight': 494, 'sidekick': 5019, 'clown-like': 5020, 'week': 955, 'yellow': 1325, 'richard': 2432, \"don'tcha\": 5022, 'cookies': 2433, 'book': 346, 'touched': 916, 'arts': 5023, 'switched': 5024, 'noose': 5025, 'evils': 5026, 'kahlua': 5027, 'cozies': 5028, 'grandkids': 5029, 'where': 142, 'sternly': 3895, 'tang': 2436, 'skoal': 5031, 'donuts': 5032, 'scream': 1326, 'trail': 5033, 'letters': 1697, 'naturally': 1986, 'shocked': 636, 'diet': 1698, 'seats': 2437, 'theatah': 5035, 'bold': 2438, 'level': 2252, 'starla': 2647, 'natured': 5037, 'divorced': 5039, 'hit': 917, 'endorsed': 5040, 'fifth': 5041, 'yell': 2440, 'might': 267, 'rife': 5042, 'befriend': 5770, 'non-american': 5045, 'obvious': 2261, 'hat': 6571, 'fit': 5048, 'jumping': 5614, 'stripe': 5049, 'compadre': 4323, \"marge's\": 2147, 'touch': 5051, 'photographer': 5052, 'cough': 1699, 'hear': 327, 'perfect': 637, 'lips': 1328, \"s'cuse\": 5053, 'grabbing': 1700, 'admit': 918, 'attach': 5771, 'murdoch': 6391, 'branding': 4352, 'up-bup-bup': 5055, 'reopen': 5056, 'lifters': 5057, 'half-back': 5058, 'blown': 2441, 'bonding': 5059, 'century': 2442, 'aquafresh': 5060, 'gonna': 79, 'soup': 2444, 'politicians': 5062, 'fail': 5583, 'marched': 5063, 'alright': 805, 'chauffeur': 2445, 'commission': 2446, 'homie': 798, \"i'm\": 25, 'feisty': 5065, 'other': 246, 'black': 799, 'steel': 2447, 'swooning': 6242, 'belly': 1623, 'seen': 305, \"smackin'\": 5067, 'slender': 5068, 'odd': 1701, 'champ': 2448, 'offa': 5070, 'debonair': 5071, 'anymore': 638, 'moving': 5073, 'gotten': 1243, 'hug': 1894, 'pushing': 4504, 'draw': 2449, 'princess': 898, 'triangle': 5077, 'studied': 5078, 'poking': 2450, 'saw': 465, 'yourselves': 2451, 'up': 50, 'sexual': 1702, 'clenched': 6494, 'mindless': 5081, 'telling': 800, 'hitchhike': 5082, 'amazing': 1329, 'dancing': 1591, \"thing's\": 5083, 'wordloaf': 2454, 'stillwater': 1330, 'flack': 5084, 'nothing': 705, 'hospital': 1077, 'forgive': 2455, 'safety': 5085, 'moe-lennium': 5086, 'municipal': 5087, 'season': 1703, \"costume's\": 5088, 'embarrassing': 1704, 'ourselves': 1331, 'dry': 801, 'spent': 2456, 'lost': 328, 'citizens': 5089, 'gay': 1078, 'settlement': 6632, 'clown': 1079, 'unlike': 1655, 'allowed': 2457, 'skins': 5090, 'chuckles': 315, \"burnin'\": 5091, 'thrilled': 5092, 'basement': 5093, 'egg': 1245, 'perhaps': 1706, 'background': 5094, 'peaked': 5095, \"world's\": 1080, 'donated': 5096, 'takes': 919, 'charlie': 1865, 'between': 2337, 'charter': 5099, 'suck': 1707, 'jackass': 5100, 'payments': 2459, 'absolutely': 1055, 'calm': 1081, 'shakespeare': 2198, 'beach': 1082, 'warm_female_voice': 802, 'mock': 1709, 'fictional': 2460, 'culkin': 5010, 'ring': 1710, 'present': 2461, 'recorder': 4745, 'unsanitary': 5104, 'alec_baldwin': 5105, 'theater': 1711, 'least': 584, 'amanda': 1332, 'duty': 2462, 'ned_flanders': 347, \"dad's\": 1333, 'be-stainèd': 4770, 'goldarnit': 5107, 'raggie': 5108, 'fierce': 5109, 'pinchpenny': 5110, 'tabooger': 2463, 'boxing_announcer': 2464, \"'ere\": 5111, 'cronies': 5112, 'asks': 4791, 'não': 5114, 'peeved': 5115, 'patented': 6533, 'kisser': 5116, 'chug': 1083, 'produce': 5117, 'supplying': 5118, 'bigger': 2564, 'badge': 5119, 'judgments': 5120, 'boned': 5121, 'intense': 2466, \"fallin'\": 2654, 'guessing': 5123, 'suspenders': 5124, 'juan': 5125, 'whispers': 5126, 'promotion': 5128, 'until': 1084, 'never': 94, \"larry's\": 5129, 'bloodiest': 5130, 'yew': 6057, 'answering': 2468, 'british': 1713, 'mm': 2469, 'free': 394, 'venom': 4885, 'done': 360, 'copy': 2470, 'protesting': 5782, 'cheerleaders': 5132, 'feld': 5133, 'bridges': 5134, 'lily-pond': 5135, 'tax': 2471, 'professor': 2679, 'larson': 5137, 'toss': 1714, 'mumbling': 2472, 'need': 140, 'aidens': 5139, 'while': 236, 'conspiratorial': 2473, 'schemes': 5140, 'my': 17, 'lawyer': 5141, 'fans': 1715, 'badges': 2834, 'extinguishers': 5143, 'cletus_spuckler': 4968, 'two': 132, 'clinton': 2835, 'deny': 5146, 'grants': 5147, 'spacey': 6664, 'gulps': 5148, 'kirk_van_houten': 493, 'fontaine': 5149, 'snake_jailbird': 585, 'him': 99, 'feet': 706, 'america': 1085, 'microwave': 5151, 'drinks': 639, 'passes': 5152, 'plant': 803, 'inside': 804, 'beady': 5153, 'tolerable': 5018, \"jimbo's_dad\": 5785, 'wake': 2474, 'california': 5155, 'studio': 2475, 'other_player': 5156, 'chum': 2477, 'man_with_crazy_beard': 6046, 's-a-u-r-c-e': 5157, 'hammock': 5158, 'eighty-six': 5064, 'legend': 5159, 'throw': 707, 'gesture': 5160, \"'round\": 5161, 'solo': 2478, 'dumb-asses': 5162, 'britannia': 5163, 'poetry': 5164, 'don': 2479, 'limericks': 5788, 'dress': 2480, 'afternoon': 1716, 'left': 438, 'another': 237, 'piece': 1086, 'taxi': 5167, 'rainbows': 5811, 'pig': 682, 'upset': 541, 'million': 495, 'always': 288, 'jackson': 5168, 'oughtta': 5169, 'shyly': 5170, 'overhearing': 5171, 'high': 542, '_hooper': 1036, 'employees': 5172, 'mines': 5173, 'ayyy': 2482, 'evergreen': 5174, 'temples': 5175, 'wash': 2483, 'hide': 806, 'ingrates': 5176, 'annoying': 5177, 'laughing': 920, 'maitre': 6409, 'ned': 807, 'braun': 5179, 'honor': 2484, 'astronauts': 5180, 'hans': 1334, 'unavailable': 5181, 'rasputin': 5182, 'savvy': 5183, 'fighting': 2128, 'gave': 474, 'jeez': 1019, 'project': 2485, 'perfunctory': 5185, 'apron': 5186, 'bets': 2486, 'bottle': 586, 'espousing': 5187, 'ivana': 1290, 'fatso': 5189, 'idealistic': 5190, 'fresco': 5191, 'soaking': 5192, \"leavin'\": 3277, 'mamma': 5194, 'feel': 254, 'tolerance': 4049, 'unusually': 5196, 'preparation': 5197, 'wiping': 5198, 'find': 261, 'examines': 5199, 'waters': 5200, 'drinker': 5201, 'shakes': 4570, 'yak': 5204, 'belt': 2488, 'yogurt': 2489, 'off': 127, 'flames': 5205, \"playin'\": 5206, 'despite': 1718, 'matter-of-fact': 2490, 'macaulay': 5207, \"springfield's\": 2658, 'patty': 2491, 'life-threatening': 5209, 'virile': 4572, 'points': 439, 'tv_wife': 1087, \"dog's\": 5211, 'back': 73, 'empty': 1088, 'apart': 5212, 'brockman': 1089, 'gimmick': 5213, 'legal': 5214, 'bell': 5215, 'puffy': 5216, 'unfamiliar': 5217, 'elect': 5218, 'bears': 2492, 'sings': 289, \"sippin'\": 5219, 'bounced': 5220, 'dungeon': 2493, 'served': 2494, 'stickers': 6621, 'state': 921, 'murdered': 3284, 'arrested': 5221, 'blood-thirsty': 2496, 'whip': 647, 'hears': 5223, 'brilliant': 1090, 'michael_stipe': 3647, 'throwing': 2497, 'iddilies': 5224, 'stalwart': 5225, 'losing': 1719, 'barter': 5227, 'booking': 5228, 'emporium': 5229, 'painting': 2685, 'grunts': 1720, 'dishrag': 5230, 'kidney': 2498, 'overturned': 5231, 'outlook': 2499, 'looks': 238, 'take-back': 5232, 'greatly': 5233, 'liability': 5235, 'ahhhh': 5236, 'dexterous': 5936, 'bender': 1146, 'orders': 5237, 'author': 5238, 'instead': 719, 'insulin': 5240, 'ga': 5241, 'banned': 5242, 'sangre': 4578, 'cowboy': 5244, 'seas': 2500, 'sharity': 5245, 'nods': 708, 'mmm-hmm': 5246, 'fleabag': 6197, 'tongue': 1091, 'cab_driver': 5247, 'committee': 5248, 'unlucky': 1721, 'strips': 6305, 'hygienically': 5249, 'coffee': 1722, 'ribbon': 5250, 'night': 202, 'hearing': 5251, '50%': 5253, 'girl-bart': 5254, \"coaster's\": 3095, 'usual': 5255, 'keeping': 1723, 'mic': 2502, 'barflies': 316, \"what'sa\": 2661, 'child': 1724, 'size': 1725, 'blinds': 5257, 'laid': 5258, 'hollye': 5259, 'twelve': 1336, 'edelbrock': 5260, 'yawns': 2503, 'cars': 2504, 'dean': 5261, 'act': 1092, 'chili': 5262, 'charm': 2505, 'emotion': 5263, 'booger': 5264, 'earrings': 2939, 'whenever': 2624, '2': 5266, \"number's\": 5515, 'grienke': 2507, 'premiering': 5268, 'from': 76, 'guess': 247, 'uncle': 922, 'shoots': 2633, 'rag': 1337, 'microphone': 5270, \"don't\": 47, 'taps': 2640, 'hoax': 5271, 'partners': 5272, \"father's\": 2677, \"chewin'\": 2509, 'aah': 5274, 'texan': 5275, \"rustlin'\": 5276, 'represents': 5277, 'fayed': 6424, 'cannoli': 5279, 'bar_rag': 588, 'dealt': 5280, 'bits': 6425, 'female_inspector': 5282, 'alfred': 2663, 's': 809, 'commanding': 5283, 'tv_announcer': 2510, 'half': 931, 'like': 40, 'fishing': 4192, 'future': 1726, 'kinda': 496, 'ooh': 239, 'lenny': 172, 'united': 5287, 'perking': 5288, 'wall': 1093, 'zero': 2511, 'vincent': 5289, 'squirrels': 5290, 'cop': 1094, \"it'd\": 2512, 'dropped': 2513, 'fast-paced': 5291, 'plus': 810, 'ruined': 1338, 'twenty-five': 1728, 'virility': 5293, 'happiness': 4107, \"soakin's\": 5295, 'underbridge': 2326, 'weather': 5297, 'anniversary': 1729, 'singing/pushing': 5298, 'guff': 5299, 'says': 325, 'awesome': 2515, 'awkward': 1294, 'si-lent': 5301, 'ooo': 1202, 'profiling': 5302, 'hotline': 2516, 'totally': 1095, 'wrote': 1161, 'bulked': 5303, 'kinderhook': 5304, 'slaves': 5305, 'automobiles': 5306, 'pull': 640, 'hemorrhage-amundo': 5307, 'lied': 5308, 'mcstagger': 2517, 'english': 811, 'dennis_kucinich': 2518, 'gallon': 5310, 'declared': 5311, 'clothes': 1340, 'shortcomings': 5312, 'wagering': 3941, 'brunswick': 5314, 'trash': 5315, 'happen': 543, 'when': 109, 'gregor': 5316, 'saga': 5317, 'died': 1341, 'ballot': 5318, 'housing': 5319, 'blinded': 5320, 'jesus': 1730, 'sight': 5321, 'jerking': 5322, \"ya'\": 5323, 'drives': 5325, 'stan': 5326, 'shoo': 2743, 'brainiac': 5328, 'pridesters': 5329, 'genuinely': 5331, 'glitterati': 5332, 'made': 211, 'picture': 709, 'yells': 5333, 'hail': 2519, 'friendship': 2520, 'ripper': 5334, 'learned': 641, \"england's\": 5335, 'reads': 1731, 'grain': 5336, 'elaborate': 5337, 'voice_on_transmitter': 2521, 'chubby': 5338, 'sweater': 5339, 'tv_husband': 1096, 'exultant': 3945, 'provide': 5340, 'whether': 2522, 'extract': 5341, 'avenue': 4526, 'kegs': 5342, 'pathetic': 1733, 'corkscrews': 5343, 'buy': 264, 'offense': 5344, \"thinkin'\": 5345, 'barney-type': 5346, 'championship': 1342, 'drown': 2523, 'hairs': 5347, 'links': 5348, 'mechanical': 1734, 'straight': 590, 'mellow': 5349, 'tofu': 2524, 'militia': 6266, 'naval': 3947, 'law': 1735, 'prompting': 5352, 'delivery': 2525, 'at': 68, 'deacon': 2526, 'refund': 2527, 'coach': 1736, 'ech': 2528, 'bugs': 2942, 'jig': 5354, 'pepsi': 5355, 'stupid': 298, 'teams': 2529, 'following': 1737, 'monorails': 5356, 'southern': 5809, 'heh': 642, 'already': 544, 'federal': 5359, 'mop': 2530, 'intention': 5360, 'anti-lock': 5361, 'pour': 812, '1895': 2531, 'sunny': 5363, \"president's\": 5364, 'happier': 813, 'privacy': 5365, 'well': 51, 'sweetly': 1738, 'story': 814, 'sir': 497, 'colossal': 5366, 'tv': 208, 'lock': 2532, 'humanity': 5368, 'ass': 710, 'twenty-two': 1857, 'greedy': 2534, 'faced': 5369, 'mad': 498, '_burns_heads': 6610, 'jasper_beardly': 4906, 'pays': 1739, 'fry': 5371, 'exploiter': 6685, 'lenses': 4918, 'disco': 2535, 'griffith': 6240, 'full-blooded': 5374, 'whoopi': 5375, 'american': 711, 'lazy': 2169, 'stored': 5377, 'harmony': 5378, 'disappointed': 1097, \"liberty's\": 5379, 'abe': 6441, 'mail': 2536, 'advertise': 5380, 'christopher': 2537, 'inspired': 2538, 'advice': 815, 'eighty-three': 5382, 'shoe': 5383, 'threatening': 1740, 'six-barrel': 5384, 'rat-like': 5385, 'mimes': 5386, 'theme': 5387, 'rome': 5388, 'spews': 5389, 'steaming': 5391, 'lodge': 5392, 'sales': 5393, 'stiffening': 5394, 'accent': 1098, 'smile': 643, 'micronesian': 5395, 'henry': 2539, 'eight-year-old': 4240, 'reaches': 5397, 'broad': 1099, 'tentative': 2540, 'tablecloth': 5398, 'may': 644, 'person': 645, 'who-o-oa': 1741, 'temper': 5399, 'old-time': 5400, 'oddest': 5401, 'donate': 5817, 'remembers': 5403, 'superior': 2318, 'principal': 923, \"waitin'\": 2541, 'thirty-thousand': 5407, \"let's\": 229, 'duffed': 5409, 'launch': 5410, 'criminal': 5411, 'bachelorhood': 5412, 'safecracker': 5413, 'mulder': 5414, 'rafter': 5415, '||left_parentheses||': 11, 'generally': 5416, 'sotto': 816, 'ten': 632, 'tear': 5419, \"who'll\": 1343, 'ago': 1101, 'mommy': 5421, 'how': 71, 'different': 1344, 'correcting': 2543, 'oughta': 4675, 'comedy': 2545, 'maximum': 5422, 'sweaty': 5473, 'moxie': 5424, 'managed': 5426, 'driving': 1102, 'martini': 5427, 'crying': 2547, 'turn': 348, 'fill': 933, 'smallest': 2548, 'telemarketing': 5429, 'roomy': 2549, 'candy': 2774, 'showing': 1743, 'factor': 5430, 'samples': 5821, 'about': 75, \"duelin'\": 5432, 'yesterday': 1297, 'glee': 5433, 'lurleen': 2550, 'wh': 6688, 'online': 2891, 'open': 712, 'augustus': 5435, 'captain': 2551, 'add': 5822, 'spy': 2552, 'county': 5637, \"i-i'll\": 5437, 'doof': 5222, 'rat': 875, 'deeper': 5438, 'pussycat': 5439, 'inspector': 1745, 'flashbacks': 5440, 'scientists': 5441, 'pretzel': 5442, 'wuss': 5443, 'goal': 2948, 'disco_stu': 5825, 'mayor_joe_quimby': 713, 'ebullient': 3700, 'toms': 5445, 'sumatran': 5446, 'prince': 2981, 'remembering': 2555, 'dads': 5447, 'both': 714, 'ragtime': 2556, 'her': 113, 'starts': 1346, 'bum': 5448, 'extended': 6453, 'stinks': 2558, 'mis-statement': 5353, 'symphonies': 5449, 'oh': 32, 'lowest': 5450, 'force': 2559, 'decision': 3057, 'lindsay_naegle': 1746, 'dea-d-d-dead': 5451, 'casting': 5452, \"'roids\": 3326, 'trivia': 5453, 'shout': 5454, 'helllp': 2560, 'biggest': 1105, 'penmanship': 5455, 'squishee': 5456, 'enabling': 5457, 'easter': 5458, 'iranian': 3099, 'woulda': 5459, 'spectacular': 6679, 'jamaican': 1747, 'idioms': 5460, 'updated': 5462, 'fox_mulder': 2561, 'lucky': 716, 'pitcher': 1276, 'excitement': 2562, 'super-genius': 6580, 'packets': 3131, 'example': 5463, 'assent': 5464, 'cola': 2563, 'weird': 742, 'steamed': 5466, 'war': 591, 'triple-sec': 5828, 'bowl': 649, 'beaumont': 3156, 'refiero': 5468, 'contemplates': 5165, 'than': 184, 'freak': 2565, \"wonderin'\": 2566, 'annoyed': 650, 'belts': 5469, 'dammit': 3186, 'shred': 5470, 'brockelstein': 5471, 'heaven': 924, 'peter_buck': 5472, 'stevie': 2319, 'sobriety': 5474, 'supports': 5475, 'gordon': 5476, 'schmoe': 5477, 'non-losers': 5478, 'hollowed-out': 5479, 'sitting': 817, 'exit': 1749, 'throats': 3974, 'motor': 5480, 'spouses': 5481, 'düff': 5482, 'counterfeit': 5483, 'luv': 5484, 'thousand': 609, 'wikipedia': 3271, 'fourth': 1750, 'enhance': 5486, 'grin': 4215, 'problemo': 5488, 'ancestors': 5489, 'thirsty': 5490, 'kissing': 1751, 'cruel': 2568, 'ambrose': 5491, 'declan': 5492, 'repay': 5493, 'wasting': 1752, 'marshmallow': 5495, 'rummy': 818, 'skunk': 3334, 'difficult': 2569, 'fellow': 1107, 'gasp': 499, 'breath': 1348, 'laugh': 307, 'dennis_conroy': 1349, 'toward': 1753, 'moe-ron': 6529, 'michael': 3357, 'delays': 5498, 'attractive_woman_#2': 5499, 'la': 784, 'edge': 5500, 'fonzie': 5501, 'thank': 317, 'sensitivity': 5502, 'weight': 5503, 'mistresses': 5504, 'craphole': 2570, 'successful': 2571, 'lessons': 1029, 'imagine': 1754, \"snappin'\": 5505, 'drawing': 2573, 'whaddaya': 1198, 'merchants': 5506, \"couldn't\": 500, 'crab': 3416, 'close': 592, 'mickey': 3417, 'moe-clone': 1756, 'christmas': 675, 'permitting': 3430, 'tv_father': 1581, 'adult': 5136, 'multiple': 2574, 'hangover': 5511, 'spanish': 1758, 'cases': 5512, 'adrift': 5513, \"meanin'\": 2575, 'e-z': 6209, '91': 6282, 'multi-national': 5514, 'explain': 2576, 'string': 5516, 'comment': 5517, 'morose': 2042, 'career': 1433, 'fruit': 5520, 'perfume': 5521, 'snorts': 2577, 'beers': 717, 'affects': 5522, 'moments': 1759, 'brandy': 5523, 'secrets': 1381, 'terrorizing': 5524, 'kick': 718, 'have': 48, 'set': 860, 'trenchant': 5525, 'k': 1761, 'charming': 5526, 'thankful': 1762, 'white_rabbit': 5527, 'march': 5528, 'pop': 1109, 'eyes': 467, 'delete': 653, 'permanent': 5529, 'ballclub': 5530, 'expecting': 5531, 'generous': 2578, 'pages': 5532, 'understood': 2178, 'milks': 5533, 'terrified': 1892, 'sudoku': 5535, 'police': 654, 'unsourced': 5536, 'planted': 5537, 'birth': 5538, 'cleaner': 2579, 'kearney_zzyzwicz': 5539, 'pharmaceutical': 5540, 'discuss': 2069, 'yea': 1110, 'hanging': 1111, 'corporation': 2077, 'dentist': 5542, 'foibles': 1350, 'telephone': 5543, 'overstressed': 5544, 'homer_doubles': 5545, 'hunka': 5546, 'offshoot': 5547, 'could': 98, 'steal': 587, 'lift': 5549, 'woe': 5550, 'young_marge': 819, 'blissful': 5551, 'rings': 5552, 'broom': 2580, 'throat': 593, 'device': 5239, 'fudd': 2581, 'alls': 5553, 'groan': 5554, 'coast': 5555, 'omigod': 925, 'mix': 3709, 'represent': 998, 'sudden': 2582, 'aer': 6619, 'thesaurus': 2583, 'cauliflower': 5557, 'why': 111, 'halvsies': 5558, 'life-partner': 5559, 'busiest': 5560, 'eighty-seven': 2105, 'instantly': 3935, 'chain': 5563, \"one's\": 1112, 'male_inspector': 2584, 'tsking': 5564, 'else': 655, 'invited': 1113, 'remains': 2256, 'splash': 4599, 'cleaning': 5567, 'fears': 5568, 'understanding': 1766, 'land': 5569, \"how're\": 5570, 'someday': 2585, 'elephants': 2586, 'ideal': 5571, \"how's\": 1050, 'lessee': 5573, 'cries': 1233, 'socialize': 5575, 'uses': 5576, 'xanders': 5577, 'all-american': 3806, \"fun's\": 5579, 'mine': 1007, \"department's\": 3338, \"children's\": 2728, 'together': 820, 'simpsons': 4360, 'lenford': 5580, 'sniffs': 1767, 'guy': 129, 'rom': 3518, 'gut': 5581, 'themselves': 2487, 'angel': 2544, 'w-a-3-q-i-zed': 5584, 'fastest': 5585, 'complete': 1768, 'drawer': 5586, 'skirt': 2588, 'far': 656, 'chin': 5587, 'smugglers': 2589, 'carefully': 5588, 'quadruple-sec': 3061, 'blossoming': 5590, 'completing': 2590, 'step': 1769, 'children': 1115, 're': 1351, 'heave-ho': 4785, 'east': 5592, 'glove': 768, 'wa': 2591, 'stalking': 5594, 'wheeeee': 3919, 'looting': 5596, 'audience': 2592, 'pickle': 1352, 'clearly': 1353, 'producers': 5597, 'riding': 2593, 'so': 43, 'everyday': 5598, 'carl': 276, 'guns': 1354, 'miss': 720, 'good-looking': 6629, 'sissy': 2594, 'allowance': 5599, 'buttocks': 5600, \"somebody's\": 5601, \"cupid's\": 5602, 'seminar': 3989, 'calling': 501, 'place': 185, 'errrrrrr': 5603, 'ought': 5604, 'therapist': 2596, \"phone's\": 5605, 'unfair': 5606, 'call': 219, 'confused': 1116, 'who': 85, 'cakes': 5607, 'bartending': 2597, 'am': 128, 'weirded-out': 2598, 'oak': 5608, 'gus': 5609, 'doors': 1574, 'latin': 2599, 'aerosmith': 2600, 'cricket': 6689, 'rainier_wolfcastle': 2601, 'smug': 2602, 'in': 20, 'survive': 1117, 'stu': 3999, 'shhh': 5611, 'sea': 2604, 'coupon': 5612, 'hollywood': 2605, 'wacky': 5613, 'pews': 4083, 'swimmers': 4090, 'gambler': 5616, \"elmo's\": 5617, 'frog': 2501, 'cuddling': 5619, 'plane': 5620, 'doy': 5621, 'shuts': 5622, 'promised': 2607, 'strains': 5623, 'slice': 2608, 'modest': 6575, 'conditioners': 4133, 'ivory': 5625, 'mary': 5626, 'night-crawlers': 5627, 'states': 5628, 'dozen': 5629, 'supreme': 6487, 'rounds': 2609, 'switch': 1770, 'crisis': 5630, 'cake': 2610, 'transmission': 5631, 'western': 5632, 'renew': 4177, 'thorough': 4180, 'donut': 5635, 'smurfs': 2611, 'sat-is-fac-tion': 5636, 'been': 107, 'kidding': 1355, 'zone': 4200, \"rentin'\": 5638, 'repressed': 5639, 'neon': 5640, 'live': 594, 'garbage': 1357, 'drains': 4216, 'family': 349, 'pawed': 5641, 'fanciest': 2612, 'prolonged': 5642, 'chilly': 2613, 'squabbled': 5047, 'fixed': 2240, 'laramie': 2748, 'ho-ly': 5646, 'drivers': 1358, 'soothing': 4252, 'peter': 1772, 'soir': 5648, 'lumpa': 5649, 'except': 926, 'road': 1359, 'dad': 256, 'runt': 5652, 'upgrade': 5653, 'illegally': 4652, 'competitive': 5655, 'jukebox': 927, 'love': 123, 'selma': 1118, 'statesmanlike': 5656, \"plaster's\": 5657, 'reach': 2614, 'pennies': 5658, 'thought_bubble_lenny': 6495, 'sense': 1360, 'neither': 2616, 'breathless': 5659, 'billy_the_kid': 1033, 'passenger': 5661, 'angrily': 5485, 'them': 240, 'fulla': 5663, 'vehicle': 5664, 'hole': 1773, 'patrons': 2617, 'lose': 1163, 'spamming': 5666, 'nope': 2618, 'pipes': 1361, 'tons': 5668, 'hair': 928, \"bart'd\": 5669, 'ails': 5670, 'patient': 2619, 'occurred': 5671, 'eyeing': 5672, 'beef': 5673, 'sport': 2620, 'nordiques': 4399, 'occurs': 5675, 'bupkus': 5676, 'less': 657, 'wally': 1119, 'text': 1774, 'yes': 232, 'mom': 502, 'lately': 1775, 'lifestyle': 5677, \"bein'\": 1362, 'searching': 1776, 'puke-holes': 5678, 'but': 41, 'goodbye': 658, 'happy': 277, 'holds': 929, 'bidet': 4476, 'moonlight': 5680, 'peanuts': 821, 'minimum': 1363, 'bobo': 5681, 'punch': 1108, 'malfeasance': 4482, 'ruby-studded': 5683, 'double': 1777, 'remember': 308, 'renee': 528, 'avalanche': 5684, 'spreads': 5685, \"grandmother's\": 5686, 'seymour': 545, 'winnings': 2622, 'chuckling': 5687, 'beached': 3355, 'skeptical': 2623, 'grey': 5688, 'improv': 5689, 'invisible': 5265, 'precious': 1364, 'sometime': 1778, 'traitors': 5690, 'easy': 503, 'sale': 2625, 'goo': 5691, 'slays': 5692, 'incredulous': 1780, 'knocked': 1781, 'motorcycle': 2703, 'here-here-here': 5694, 'literary': 5696, 'polenta': 4580, 'dame': 1120, 'chief': 419, 'pro': 5698, 'aiden': 5699, 'warning': 5406, 'slaps': 5701, 'hand': 504, 'attractive_woman_#1': 5702, 'bartenders': 2626, 'thighs': 2627, 'looking': 226, 'patting': 5703, 'parked': 5704, 'managing': 2628, 'delightful': 5705, 'hold': 395, 'under': 420, 'life-sized': 5706, 'stagy': 1365, 'appeals': 5707, 'simple': 4625, 'sweat': 4628, 'carney': 5710, 'making': 822, 'additional-seating-capacity': 5711, \"cashin'\": 5712, 'brain-switching': 4646, 'danish': 2370, 'boyhood': 5714, 'directions': 1861, 'puke': 1783, 'hell': 319, 'access': 2983, 'boggs': 5716, 'exception': 4662, 'meeting': 1366, 'blob': 5717, \"scammin'\": 5718, 'longer': 1122, 'bedtime': 4426, 'doreen': 1367, 'hurry': 1303, 'pointless': 2629, \"'pu\": 5721, 'williams': 5722, 'swallowed': 5723, 'military': 1784, 'generously': 6505, 'beer': 82, 'lungs': 4130, 'happened': 329, 'coaster': 1065, 'hostile': 5727, 'stein-stengel-': 3755, 'asking': 2630, 'somewhere': 1785, 'driveability': 5728, 'suds': 2631, 'joey': 930, 'duel': 2632, 'teach': 1368, 'susie-q': 5730, 'betcha': 5731, 'heart-broken': 5732, 'pretty': 330, \"tryin'\": 1123, 'burning': 1786, \"jackpot's\": 5733, 'handwriting': 4795, 'albeit': 5735, 'psst': 4799, 'terminated': 5738, 'muhammad': 5269, 'tiger': 5739, 'kenny': 5740, 'chuckle': 290, 'wide': 1787, 'average': 5741, 'involved': 2634, 'hideous': 5742, \"cleanin'\": 3291, 'lie': 1369, 'heaving': 4832, 'keep': 278, 'beauty': 1370, 'lighter': 4854, 'low': 546, 'superhero': 2635, \"listenin'\": 5745, 'bottoms': 5746, 'parenting': 5747, 'blues': 2188, 'allegiance': 5749, 'app': 5750, \"homer's_brain\": 2391, 'unfortunately': 2636, 'knows': 722, 'were': 180, 'x-men': 5752, 'flat': 4905, 'computer': 1371, 'revenge': 5755, 'reserve': 2637, 'adequate': 5756, 'involving': 2638, 'suppose': 1788, 'mostrar': 5757, 'lord': 1124, 'barkeep': 2639, 'especially': 1219, 'awww': 2508, 'diving': 5879, 'rotch': 1372, 'eh': 175, 'pen': 5758, 'folks': 1373, 'gives': 908, 'insurance': 5759, 'coat': 1321, 'assistant': 2642, 'publish': 4977, 'boo': 1789, 'church': 1790, 'finishing': 2643, 'scornfully': 5761, 'yelling': 2644, 'straighten': 5762, 'beneath': 2645, 'drummer': 5763, 'thirty-five': 5273, 'conversation': 2220, 'longest': 5765, 'stadium': 1791, 'vodka': 2646, 'figure': 5766, 'fork': 1792, 'nachos': 5510, 'site': 5768, \"swishifyin'\": 5769, \"weren't\": 2439, 'seething': 5044, 'seem': 1374, 'old': 199, 'fifty': 723, 'dregs': 4384, 'fledgling': 5061, 'alcoholic': 2648, 'admitting': 2649, 'friends': 291, 'nemo': 5772, 'chicks': 2650, 'sickly': 5773, 'backward': 5774, 'knocks': 5775, 'heck': 5776, 'index': 5777, 'lorre': 5778, 'boxcar': 5779, 'whatsit': 4724, 'cheated': 5781, 'dreamed': 2651, 'inspiring': 2652, 'rule': 2653, 'furry': 5122, 'o': 775, 'brawled': 5783, 'ding-a-ding-ding-a-ding-ding': 5150, 'wayne': 1125, 'wrong': 361, 'ralph_wiggum': 5784, 'gutenberg': 5154, 'ne': 5786, 'worried': 595, 'round': 823, 'department': 2655, 'mini-dumpsters': 3386, 'bathtub': 5166, 'clench': 5789, 'anarchy': 1946, 'incredible': 5790, 'said': 233, 'midge': 1375, 'lurleen_lumpkin': 2656, 'dull': 5195, 'cool': 724, 'buffet': 5791, 'actor': 5208, 'life': 174, 'onto': 5792, 'apology': 5793, 'slight': 2659, 'hunger': 5296, 'hoagie': 5795, 'depository': 5796, 'flaming': 506, 'shindig': 5797, 'contractors': 6315, 'possessions': 5798, 'sail': 5256, 'luckiest': 5799, 'assume': 5800, 'nards': 1794, 'cherry': 5801, 'impeach': 5890, 'finding': 1377, 'founded': 5802, 'cold': 808, 'lease': 5803, 'karaoke_machine': 5804, 'watashi': 5805, 'installed': 4648, 'kept': 1795, 'weirder': 2664, 'begins': 2665, 'opening': 1796, '_montgomery_burns': 350, 'calls': 1378, 'strawberry': 5807, 'drank': 2666, 'listening': 2667, 'nerd': 5808, 'professional': 1379, 'marvelous': 5284, 'pictured': 5357, 'newsletter': 3830, 'klown': 5810, \"drinkin'\": 547, 'carll': 2669, 'compliments': 2861, 'haiti': 5812, 'normals': 5813, 'displeased': 5814, 'pasta': 5815, 'mags': 5816, 'every': 241, 'international': 1797, 'denver': 932, 'smiles': 6285, 'afloat': 5402, 'astonishment': 5818, 'amber': 5417, 'pre-game': 5820, 'unless': 1127, 'affection': 5428, 'cruiser': 5431, 'wish': 351, 'eternity': 5436, \"must've\": 5824, 'widow': 5444, 'absentmindedly': 5826, 'pulls': 1380, 'payback': 5827, 'poor': 648, 'musses': 5829, 'justice': 2670, 'chinese_restaurateur': 5830, 'drinking': 442, 'violations': 2671, 'talked': 2672, 'bart': 292, 'hoped': 5831, 'splendid': 5832, '3rd_voice': 4524, 'needs': 1128, 'sickens': 5833, 'killer': 4722, 'dateline': 2673, 'bubbles-in-my-nose-y': 5834, 'shareholder': 5835, 'ultimate': 5836, 'spied': 2674, 'jerky': 2675, \"man'd\": 3396, 'admiring': 2231, 'stinky': 5838, 'lurks': 5839, 'anger': 5840, 'thrown': 5841, \"depressin'\": 5572, 'roof': 2678, 'betrayed': 5842, 'danny': 6539, 'oil': 1798, 'shores': 5844, 'homers': 2587, 'memory': 2682, \"c'mom\": 5845, 'sniffing': 5846, 'dreams': 2683, 'contact': 5847, 'beard': 5848, 'twenty-four': 5849, 'clock': 2005, 'gin-slingers': 2898, 'reached': 2684, 'thirty-three': 5850, 'wolfcastle': 3750, 'butt': 659, '6': 2686, 'press': 5851, 'soap': 2687, 'fold': 2688, 'will': 157, 'hang': 824, 'ambrosia': 2705, 'childless': 5852, 'short_man': 5901, 'jimmy': 5650, 'smitty': 5855, 'aged_moe': 2690, 'shame': 3374, 'dimly': 5857, 'thirty': 934, 'businessman_#1': 2691, 'backbone': 5858, 'so-called': 2692, '3': 5859, 'enthused': 6420, 'daddy': 1129, 'rusty': 5860, 'securities': 2693, 'accurate': 1799, 'thanking': 5861, 'clammy': 6545, 'weapon': 5862, 'wrapped': 5863, 'coin': 5864, 'babar': 4515, 'walked': 5866, 'noble': 5867, 'located': 5868, 'for': 26, 'nahasapeemapetilon': 5869, 'bible': 2694, \"ol'\": 825, 'motto': 5870, 'scientific': 5871, 'supermarket': 5872, 'breathtaking': 5873, 'annus': 5874, 'turned': 660, 'handoff': 5875, 'reviews': 2695, 'betty': 1382, 'salvation': 5876, 'fund': 5877, 'male_singers': 5878, 'wheel': 1023, 'junkyard': 5880, 'brooklyn': 5881, 'slim': 5882, 'sieben-gruben': 5883, 'convinced': 5884, 'whistling': 5885, 'rocks': 5886, 'bullet-proof': 5887, 'jumps': 2696, 'these': 191, 'sheepish': 1383, 'einstein': 5888, 'dizzy': 5889, 'busted': 2697, 'dan_gillick': 1376, 'relaxed': 5891, 'local': 1130, 'cajun': 5892, 'simultaneous': 5330, 'suits': 4056, 'fiction': 5894, 'teddy': 2700, 'situation': 1384, 'museum': 2701, 'pleading': 2702, 'pissed': 1800, 'sleeping': 5895, 'simplest': 5896, 'universe': 5897, 'mozzarella': 5898, 'jernt': 5899, 'dealie': 5900, 'har': 1801, 'charity': 2704, 'sister-in-law': 5853, 'town': 380, 'suru': 5902, 'lives': 935, 'heartless': 5903, 'species': 5904, \"how'd\": 725, \"somethin'\": 507, 'f': 1802, 'rash': 5905, 'faulkner': 5906, 'mayan': 5907, 'safe': 936, 'radishes': 1385, 'brain': 1386, 'scam': 1803, 'toxins': 5908, 'nonchalantly': 5909, 'flaking': 5910, \"getting'\": 5911, \"watchin'\": 1387, 'second': 661, 'choice': 1131, 'computer_voice_2': 5912, 'pajamas': 4406, 'massive': 5914, 'five': 331, 'we': 58, 'kang': 1804, 'square': 2716, 'dearest': 2707, 'squeeze': 5916, 'signed': 5917, 'buddha': 5918, 'channel': 826, 'thinking': 396, 'santa': 2719, 'dating': 2708, 'eighty-one': 2709, 'laughs': 318, 'wallet': 1132, 'nonchalant': 5919, 'cavern': 5920, 'west': 5921, 'administration': 5922, 'jailbird': 2781, 'asses': 5924, 'cheat': 2710, 'therefore': 2711, 'wiener': 1805, 'musketeers': 5925, 'item': 5926, 'are': 57, 'nuked': 5927, 'harvesting': 5928, 'academy': 2248, 'mall': 2712, 'rumor': 5929, 'bought': 1806, 'sec_agent_#2': 2713, 'padres': 5930, 'santeria': 5931, 'camp': 2344, 'cushions': 5915, 'duff_announcer': 5933, 'busy': 1395, 'bulldozing': 5934, 'counting': 1114, 'cell-ee': 5562, 'lisa_simpson': 136, 'amazed': 782, 'horns': 5937, 'delts': 5938, 'shorter': 5939, 'women': 1133, \"'topes\": 2714, 'crumble': 2715, 'finale': 5940, 'cheers': 1832, 'spotting': 5942, 'specializes': 5943, 'pronounce': 5944, 'slot': 5945, 'julep': 5946, 'larry': 548, 'cow': 1134, '_eugene_blatz': 5947, 'shelbyville': 5948, 'indeedy': 5949, 'champion': 3358, 'chumbawamba': 5950, 'as': 91, 'dispenser': 5951, 'ruled': 5952, 'drunks': 1808, \"guy's\": 1135, 'linda': 2766, 'deserve': 2717, \"washin'\": 5954, 'fast-food': 5955, 'ivy-covered': 5956, 'mistakes': 5957, 'realizing': 596, 'killed': 1843, 'boozer': 5959, 'polygon': 5960, 'ladies': 469, 'away': 332, 'bob': 1809, 'contented': 5961, 'painless': 5962, 'began': 2718, \"stayin'\": 5963, 'statues': 5964, \"lookin'\": 549, 'before': 203, 'jam': 5965, 'andrew': 5966, 'salt': 2720, 'breakfast': 5967, 'renovations': 5968, 'earth': 5969, 'boxer': 1810, 'stacey': 5970, 'acronyms': 3554, 'view': 5787, 'prayers': 5973, 'named': 1136, 'tropical': 6478, 'ninety-nine': 5974, 'trapped': 2721, 'training': 5975, 'wrap': 5976, 'finished': 1811, 'spitting': 5977, 'lucius': 631, 'th-th-th-the': 5979, 'helicopter': 1812, 'exclusive': 4264, \"life's\": 5981, '/mr': 5982, 'disdainful': 5983, 'na': 397, 'caused': 2722, 'p': 1137, 'manfred': 5984, 'boxcars': 5985, 'coincidentally': 5986, 'acquaintance': 2808, 'groans': 4636, 'then': 89, 'knives': 5989, 'memories': 2723, 'low-life': 4926, 'accident': 827, 'man': 84, 'legally': 6328, \"mo'\": 3418, 'drag': 5991, 'shriners': 5992, 'meditative': 5589, 'legs': 1138, 'barstools': 5794, 'by': 155, 'snide': 5994, 'blokes': 5995, 'cozy': 2725, 'crimes': 5996, 'scare': 2196, 'jacques': 333, 'theory': 6570, 'occasional': 5997, 'depression': 5923, 'nicer': 5999, 'into': 124, 'relaxing': 6001, 'cecil': 6002, 'tin': 6003, \"beggin'\": 6004, 'yourself': 421, 'code': 2726, \"collector's\": 6005, 'polishing': 6006, 'hike': 6007, 'swan': 6008, 'refinanced': 6009, 'hooray': 6010, 'focus': 1813, 'threw': 1388, 'suddenly': 1139, 'indigenous': 3915, 'check': 279, 'drederick': 1140, 'moon': 6012, 'lushmore': 6013, 'quit': 466, 'bet': 938, 'newsies': 6014, 'stir': 2727, 'hero': 1389, 'slow': 939, \"bart's\": 1814, \"crawlin'\": 2830, 'cab': 6016, 'mexican_duffman': 6017, 'appendectomy': 6018, 'insured': 6019, 'lizard': 6538, 'ripping': 6179, 'crowbar': 6020, 'me': 22, \"'evening\": 6021, 'hitler': 2853, 'oooh': 6023, 'conversations': 6024, 'compete': 6025, 'grave': 2729, 'toy': 6026, 'and-and': 6027, 'ho': 1815, \"table's\": 6028, 'inexorable': 6029, 'swill': 2730, 'schorr': 6030, 'random': 6031, 'bookie': 6032, 'approval': 6033, 'stole': 1672, 'tall': 6035, 'gangrene': 6036, 'trust': 1816, 'son-of-a': 6037, 'germs': 2732, 'traditions': 6038, 'cats': 6039, 'floated': 2239, 'cocktail': 1817, 'ohh': 2733, 'interested': 2734, 'nascar': 6041, 'mild': 6042, 'territorial': 3728, 'bag': 940, 'blaze': 6043, 'authorized': 2735, \"bar's\": 2736, 'lugs': 6044, 'customers-slash-only': 6045, 'driver': 1818, 'awful': 1819, 'sick': 937, 'keeps': 1390, 'crowned': 6047, 'finest': 1820, 'earlier': 3826, 'hangs': 2737, 'boozy': 2738, 'foam': 6049, 'mill': 3426, 'nasa': 2739, 'passed': 2740, 'certified': 6051, 'detail': 6052, 'p-k': 6053, 'buffalo': 1392, 'protestantism': 6054, 'picnic': 5695, 'pointing': 1883, 'prep': 6056, 'dallas': 1103, 'paints': 6058, 'mull': 6059, \"shootin'\": 6060, 'assumed': 6061, 'rector': 6062, 'evil': 1821, 'mabel': 6063, 'win': 470, 'sugar-me-do': 2899, 'roz': 1742, '4x4': 6064, 'remaining': 6065, 'thought': 257, 'sue': 4205, \"raggin'\": 6068, 'file': 6069, 'whatcha': 1835, 'terror': 2925, 'patron_#2': 5327, 'eleven': 1394, 'ingredient': 1413, 'enthusiasm': 6071, 'traitor': 3891, 'cranberry': 6073, 'cecil_terwilliger': 6074, 'self-centered': 3876, 'gotcha': 6075, 'e': 6076, 'dint': 6077, \"industry's\": 6078, 'vestigial': 6079, '_babcock': 1807, 'organ': 2744, 'brotherhood': 6080, \"where'd\": 1822, 'bart_simpson': 151, 'ignorance': 3339, 'changing': 1142, 'flayvin': 6081, 'form': 1823, \"yieldin'\": 6579, 'sloe': 6082, 'derek': 6083, 'knit': 6084, 'raining': 3040, 'invite': 1824, 'olive': 6085, 'giggle': 3054, 'cursed': 6581, 'applicant': 6086, 'moved': 1825, \"yesterday's\": 3062, 'price': 2359, 'alphabet': 2746, 'lindsay': 4574, 'fortress': 6088, 'folk': 2747, 'bit': 662, 'jackpot-thief': 6089, '&': 1532, \"floatin'\": 5806, 'pipe': 1143, 'anonymous': 6090, 'reflected': 6091, 'dinner': 443, 'death': 1826, 'ziff': 2749, 'canyonero': 422, 'cute': 1827, 'bones': 6092, 'spot': 1397, 'fdic': 6094, 'popping': 6095, 'playhouse': 6096, 'andalay': 2750, 'pats': 1828, \"'cause\": 220, 'heals': 3165, 'breathalyzer': 3172, 'zoomed': 6099, 'illegal': 1398, 'developed': 6100, 'verdict': 6101, 'teeth': 1829, 'campaign': 1830, 'closed': 1144, 'proves': 6102, 'there': 81, 'weekend': 6103, 'snail': 6104, 'toasting': 1831, 'bird': 2751, 'anyhoo': 4276, 'sixty-five': 6106, 'boston': 6107, 'jazz': 6108, 'sounds': 398, 'package': 6109, 'owns': 6110, 'oils': 3238, 'delivery_boy': 2752, 'teenage_bart': 1399, 'insensitive': 6112, 'snatch': 6113, 'specific': 6114, 'bake': 6115, 'saved': 978, 'wok': 5541, 'dead': 444, 'woo-hoo': 1833, 'water': 942, 'new_health_inspector': 1400, 'squashing': 3283, 'shares': 1834, 'poplar': 3292, 'pledge': 6118, 'celebrate': 6119, 'worse': 597, 'safely': 3294, 'investment': 6121, 'laughter': 3304, 'self': 598, 'suspiciously': 6123, 'frankenstein': 5729, 'hmm': 828, \"calf's\": 6125, 'needy': 2158, 'grubby': 6127, \"people's\": 3342, 'beatings': 6129, 'settles': 6130, 'twerpy': 6131, 'foil': 2753, 'eye': 559, 'yelp': 3360, 'bail': 6132, 'sex': 943, 'washer': 6133, 'cowardly': 2476, 'wistful': 6135, \"now's\": 3385, 'handshake': 6137, 'darjeeling': 3395, 'diapers': 6138, 'pepper': 6139, 'festival': 2755, 'lis': 6140, 'falling': 6141, 'murmurs': 2756, 'fustigation': 3428, 'clears': 989, 'mac-who': 6144, 'wishful': 3438, 'go-near-': 3440, 'results': 2757, 'natural': 1836, 'forward': 1972, 'sober': 1145, 'true': 399, 'limits': 6147, 'evasive': 6148, 'suing': 2758, 'homeland': 5935, 'queen': 2759, 'offensive': 4337, 'prize': 2760, 'mccarthy': 6150, 'troy_mcclure': 2761, 'fake': 6151, 'crowd': 509, 'physical': 6152, 'wondered': 6600, 'arguing': 6153, \"they'll\": 1838, 'stewart': 6154, 'return': 829, 'accounta': 6155, 'health_inspector': 944, 'kickoff': 3965, 'doctor': 6157, 'hiring': 6158, 'dressed': 1839, 'doooown': 6159, 'little_man': 1147, 'rotten': 6160, 'tears': 1840, 'gum': 2762, 'befouled': 2346, 'capitalists': 6161, 'upbeat': 1401, 'courthouse': 6162, 'material': 6163, 'bedbugs': 2763, 'jams': 6164, 'robin': 5662, 'pack': 3609, 'presidential': 6167, 'raising': 1841, 'smelly': 6168, 'examples': 6169, 'numbers': 945, 'pizzicato': 6170, 'discussing': 2079, 'sure': 130, \"town's\": 2764, 'anti-intellectualism': 6172, 'murderously': 5679, 'milhouses': 6173, 'nerve': 2765, 'outside': 569, 'geyser': 6174, 'center': 1148, 'opens': 3671, 'notch': 5953, 'scene': 1842, 'escort': 6176, 'fuzzlepitch': 3690, 'straining': 2767, 'held': 2768, 'naked': 2769, 'stirring': 1207, 'dig': 6178, 'lighten': 3552, 'coma': 6180, \"hole'\": 6181, 'smiling': 1403, 'baby': 423, 'noooooooooo': 6182, 'dr': 262, 'crowds': 6183, 'committing': 6184, 'sky': 6185, 'pure': 6186, 'dials': 2770, 'allow': 6187, 'bash': 2771, 'coined': 6111, 'outlive': 6188, 'janette': 6189, 'disposal': 6190, 'tree_hoper': 6191, 'bread': 2101, 'luxury': 6193, 'tree': 1126, 'saturday': 1712, 'explanation': 6195, 'appropriate': 6196, 'prohibit': 2348, 'believe': 335, 'plotz': 6606, 'smithers': 441, 'due': 2772, 'recently': 2773, 'praise': 5958, 'fancy': 1844, \"smokin'_joe_frazier\": 1008, 'stretches': 3058, 'summer': 1845, 'quero': 3820, 'four-star': 6199, 'a-lug': 6200, 'heavyweight': 1404, 'bush': 2125, '10': 6202, 'maher': 6203, 'correct': 1405, 'of': 16, 'wasted': 3844, 'cock': 6205, 'france': 1406, 'awfully': 6206, 'service': 1151, 'labels': 2775, 'bulletin': 6207, 'possibly': 2776, \"singin'\": 6208, 'irs': 4530, 'len-ny': 6210, 'accusing': 6611, 'ones': 947, 'er': 6212, 'thru': 2777, 'locklear': 6213, 'haws': 5423, 'pile': 6214, 'flush-town': 3902, 'kills': 3841, 'pope': 2779, 'irrelevant': 6216, 'bam': 2780, 'absorbent': 6217, 't-shirt': 2154, \"sat's\": 6219, 'kiss': 831, 'brassiest': 2160, \"gettin'\": 599, 'madison': 6221, 'squeals': 3943, 'dance': 793, 'grammy': 4082, 'world': 280, 'friendly': 832, 'dislike': 4687, 'screws': 5618, 'howya': 6485, 'game': 363, 'bon': 6227, 'arabs': 6228, 'private': 663, 'rap': 2782, \"changin'\": 6229, 'selma_bouvier': 833, 'all-all-all': 5693, 'presidents': 3998, 'obese': 6231, 'optimistic': 4004, 'someone': 296, 'temple': 6615, 'killarney': 3461, 'slip': 1583, 'fury': 4034, 'atari': 4038, 'addiction': 6235, 'rest': 1030, 'engraved': 6236, 'arab_man': 2066, 'bouquet': 6238, 'uncreeped-out': 6239, 'familiar': 2731, 'hub': 5737, 'stirrers': 3290, 'streetcorner': 6120, 'ahh': 834, 'desperately': 6243, 'leno': 6244, 'corporate': 2785, 'cause': 6245, 'generosity': 4093, 'lanes': 6247, 'tease': 6248, 'stonewall': 6249, 'further': 6250, 'slobs': 3409, \"spaghetti-o's\": 6251, 'majority': 6252, 'wave': 2786, \"america's\": 6253, 'earpiece': 4267, 'dangerous': 948, 'build': 6255, 'moron': 726, 'grandmother': 2787, 'order': 1846, 'gore': 6256, 'ventriloquism': 6257, 'raking': 6258, 'heavyset': 2788, 'crummy': 1847, 'para': 6259, 'ugh': 5724, \"can't-believe-how-bald-he-is\": 5972, 'painted': 6617, 'ignoring': 6261, 'means': 835, 'park': 1152, 'heads': 1848, 'share': 1849, 'serve': 1850, 'move': 836, 'school': 471, 'windex': 2789, 'meaningful': 1409, 'fortune': 6262, 'fl': 5913, 'yours': 2790, \"i'unno\": 6263, 'boy': 212, 'manjula_nahasapeemapetilon': 949, 'quite': 1410, 'often': 4051, 'refreshment': 6265, 'considers': 3468, 'bathroom': 2206, 'contest': 2791, 'babe': 2465, 'higher': 1852, 'grimly': 2371, 'designated': 1153, 'winces': 6269, \"something's\": 4872, \"tv's\": 6271, \"makin'\": 837, 'insecure': 4109, 'increasingly': 2792, 'flowers': 1411, 'duke': 6272, 'appealing': 2793, 'phone': 181, 'sobo': 6273, 'kid': 300, 'ad': 1154, 'turlet': 6622, 'sit': 1265, 'getup': 6275, 'jockey': 2794, \"there's\": 134, 'mate': 2795, 'victim': 6276, 'chunky': 6277, 'wrestle': 6278, 'heartily': 6279, 'aims': 4016, 'mention': 2796, 'ripped': 6280, 'disgusted': 600, 'attend': 6281, 'twice': 2435, 'nooo': 6283, 'stamps': 4410, 'teenage_homer': 2797, 'sorry': 152, 'swamp': 5978, 'play/': 4511, 'medieval': 6286, 'brainheaded': 6287, 'alone': 689, 'diddilies': 6288, 'standing': 2798, 'lime': 4560, 'program': 1649, \"spiffin'\": 6291, 'paparazzo': 6292, 'realized': 2799, 'settled': 6293, \"drivin'\": 1044, 'punching': 6294, 'walther_hotenhoffer': 950, 'put': 221, 'tatum': 1412, \"high-falutin'\": 6295, 'gasoline': 6296, 'suspended': 6297, 'grace': 4503, 'stars': 6299, 'lingus': 6300, \"sayin'\": 951, 'disapproving': 2802, 'badly': 6301, 'opportunity': 1287, 'proposition': 6303, 'clapping': 4543, \"pope's\": 2426, 'idiot': 1853, 'bursts': 6241, 'tapered': 6306, 'detective': 6307, 'shreda': 3305, 'moolah-stealing': 4573, 'surprise': 2350, 'run': 838, 'salary': 6310, 'chastity': 4583, 'room': 511, 'soft': 5367, 'disturbing': 4588, 'urinal': 4903, 'scum-sucking': 4050, 'handed': 6313, 'squirrel': 6314, 'exhibit': 4609, 'rockers': 4613, 'rules': 2804, 'edna_krabappel-flanders': 1155, 'match': 1414, 'brow': 2805, 'courts': 3481, 'sexton': 6317, 'tomahto': 6318, 'teacher': 2325, 'chapter': 4649, 'on': 30, 'railroad': 2807, 'chief_wiggum': 161, 'disappointing': 4664, 'quimby_#2': 5987, 'arrest': 1301, 'stores': 6321, 'sees/': 6322, 'fights': 4118, 'rhyme': 2354, 'apartment': 2810, 'acceptance': 6323, 'appreciate': 6324, 'flustered': 6325, 'gabriel': 2811, 'excuse': 415, 'teacup': 6326, 'tooth': 4695, 'lady': 580, 'unsafe': 6329, 'typed': 6330, 'collapse': 6331, 'best': 230, \"hangin'\": 2533, 'pair': 6332, 'ton': 5080, 'monkey': 2812, 'treasure': 952, 'dana_scully': 6334, 'fix': 1415, 'clap': 6335, 'beanbag': 5990, 'community': 4746, 'ron': 6338, 'wind': 6339, 'sweetie': 6340, 'lover': 2813, 'friction': 6640, 'nearly': 2351, 'shock': 2814, 'rem': 6343, 'roller': 6344, 'accepting': 6345, 'enter': 6346, 'togetherness': 6347, 'yoo': 2815, 'moe_recording': 6348, 'beats': 2816, 'lipo': 6349, 'strongly': 6350, 'ralph': 4766, \"bringin'\": 6352, 'plain': 5069, 'modern': 1647, 'change': 601, 'stats': 6355, 'boring': 1156, 'floating': 5285, 'scoffs': 6356, 'woozy': 2817, 'bull': 6357, 'sickened': 3389, 'creeps': 2818, \"i've\": 100, 'composer': 6358, 'really': 104, 'election': 1858, 'streetlights': 6359, 'weekly': 1417, \"haven't\": 550, 'corner': 1859, 'pad': 2819, 'teen': 6660, 'open-casket': 6360, 'wrestling': 2820, 'wheels': 4953, 'eu': 6362, 'leathery': 6363, 'inherent': 6364, 'cost': 1157, \"ridin'\": 1679, 'adeleine': 1418, 'disappeared': 2821, 'diablo': 6366, 'vacations': 5373, 'wedding': 2822, 'testing': 1014, 'landfill': 6367, 'stood': 6368, 'top': 839, 'heatherton': 6369, 'contemporary': 6370, 'fustigate': 4910, 'mm-hmm': 6372, 'smells': 953, 'sec': 1860, 'talkers': 5358, 'faiths': 6373, 'clone': 1862, 'although': 2823, 'frosty': 2595, 'president': 728, 'grub': 6374, 'musical': 6375, 'szyslak': 954, 'icy': 6376, 'nibble': 6377, 'sorts': 4772, 'list': 1614, 'wonder': 1158, 'treats': 6379, 'twelveball': 6380, 'outrageous': 6381, 'warily': 2824, 'daaaaad': 6382, '8': 6383, 'catching': 2825, 'kadlubowski': 6384, 'iran': 6385, 'hourly': 5408, 'brown': 6387, 'collette': 840, 'fish': 1159, 'selection': 5021, 'malted': 6388, 'bono': 2827, 'stab': 6389, 'dumbbell': 6390, 'whoo': 6000, 'jerk': 1419, 'course': 551, 'spellbinding': 2943, 'philosophic': 6392, 'girlfriend': 1420, 'bathing': 2828, 'in-in-in': 6452, 'buying': 1864, 'one-hour': 6393, 'tuborg': 6394, 'some': 92, 'sacrilicious': 6395, 'closes': 2829, 'krusty': 512, 'government': 1160, 'dizer': 6396, 'billingsley': 5097, 'squadron': 6124, 'shaved': 6397, 'frightened': 6399, 'irish': 2831, 'pretend': 6400, 'sooner': 2832, 'wooden': 2833, 'well-wisher': 5142, 'four-drink': 4078, \"'your\": 5145, 'general': 1866, 'ronstadt': 6401, 'cummerbund': 6647, 'joey_kramer': 2836, 'ahem': 6403, 'rob': 1422, 'youngsters': 6404, 'holy': 6405, 'subject': 1461, 'stagey': 6406, 'disappointment': 6407, 'hooch': 6408, 'swell': 5178, 'truck_driver': 6410, 'warmth': 6411, 'whisper': 1423, 'dirt': 1867, 'bachelorette': 6413, 'kool': 6414, 'indifferent': 6415, 'process': 6416, 'agents': 6417, \"year's\": 1868, 'god': 167, 'c': 301, 'caricature': 6268, 'was': 54, 'golden': 6418, 'mediterranean': 6419, 'bucks': 401, 'expect': 1705, \"writin'\": 5267, 'makes': 424, 'potatoes': 6422, 'forgiven': 6423, 'enjoy': 1424, 'dum-dum': 5278, 'fighter': 5281, 'joking': 2837, 'each': 552, 'sodas': 2838, 'hungry': 1425, 'hours': 603, 'poulet': 6426, 'cotton': 2839, 'ignorant': 6427, 'stools': 1677, 'tie': 2553, 'scrape': 2840, 'freaking': 6429, 'hillbillies': 4506, 'onassis': 6430, 'sketch': 6431, 'digging': 6432, 'seductive': 6433, 'poker': 2841, 'runners': 6434, 'jobless': 4343, 'surprising': 6435, 'sound': 402, 'scanning': 6436, 'late': 665, 'david_byrne': 1256, 'rude': 3232, 'rip': 6438, 'notices': 5971, 'conversion': 4328, 'and/or': 6440, 'bees': 1426, 'entrance': 6015, 'blow': 1427, 'bus': 1869, 'smoker': 5615, 'she-pu': 6442, 'duffman': 281, 'enveloped': 6443, \"cuckold's\": 6444, 'somehow': 2843, 'follow': 1428, 'achebe': 6445, 'flashing': 4151, 'horror': 6446, 'frontrunner': 6447, 'pageant': 1870, 'dreamy': 6448, 'artist': 6449, 'barkeeps': 6450, 'occupancy': 6451, 'chug-monkeys': 3299, \"readin'\": 2606, 'inanely': 6454, 'groveling': 6455, 'entertainer': 6456, 'anyone': 513, 'waking-up': 6457, \"that'd\": 5748, 'mike_mills': 6458, 'seconds': 956, 'microbrew': 6459, 'hi': 447, 'grandé': 6461, 'collateral': 6462, 'placed': 5494, 'hunky': 6464, 'pinball': 6465, 'decide': 1871, 'mason': 6661, 'grrrreetings': 6467, 'plywood': 2844, 'klingon': 2845, 'simp-sonnnn': 2846, 'infor': 6468, 'button-pusher': 6469, 'faded': 3510, 'ralphie': 4163, \"tonight's\": 3685, 'philosophical': 6471, 'everywhere': 6472, 'elder': 1872, 'manjula': 2847, \"bashir's\": 6474, 'knees': 2848, 'correction': 6475, 'propose': 6476, 'reminds': 1873, 'mcbain': 2215, 'padre': 2849, 'error': 6477, \"i'll\": 97, 'lovelorn': 3644, 'missed': 2850, 'concerned': 1670, \"lovers'\": 5005, 'traffic': 1874, 'pockets': 1875, 'jewish': 6479, 'wish-meat': 6480, 'court': 6481, 'roy': 6482, \"shan't\": 2851, 'sideshow_bob': 6483, 'title': 2852, 'across': 957, 'derisive': 6022, 'bothered': 6484, 'cocking': 5396, 'uglier': 6486, 'wha': 1162, 'pickles': 4087, 'dipping': 6488, 'thnord': 6489, 'jer': 6490, 'ireland': 6491, 'voters': 6492, 'chipper': 6493, 'reading': 379, 'wound': 5654, 'david': 2615, 'harv': 666, 'railroads': 5350, 'stop': 352, 'mafia': 1876, 'actually': 364, 'farthest': 6496, 'shot': 729, 'habit': 6497, 'temporarily': 4498, 'brief': 6499, \"tab's\": 6500, 'swatch': 6501, 'handling': 6502, 'appreciated': 6503, 'ohhhh': 6504, 'vampire': 3074, 'loan': 1877, 'reptile': 6224, \"kearney's_dad\": 6506, 'forget-me-shot': 1430, 'panicked': 6507, 'lovejoy': 6508, 'tells': 1878, 'maiden': 6509, 'looooooooooooooooooong': 6510, 'half-beer': 4682, 'closing': 1396, 'decent': 2855, 'reality': 6512, 'crawl': 1879, 'hers': 6513, 'skinheads': 6514, 'renders': 6515, 'prejudice': 5941, 'cheaped': 6516, 'product': 2856, \"choosin'\": 6517, 'power': 958, 'trees': 6518, 'lainie': 3871, 'attached': 6520, 'firing': 6521, 'worst': 905, 'sedaris': 6523, 'scent': 6524, 'menace': 6526, 'tied': 6527, 'telegraph': 6528, 'people': 173, 'tow-joes': 6530, 'crestfallen': 6531, \"he'll\": 841, 'mmmmm': 6532, 'cheryl': 6534, 'jacks': 6535, 'manatee': 6536, \"puttin'\": 6537, 'louisiana': 5837, 'miles': 2857, 'encouraging': 5843, 'common': 6540, 'bowled': 6541, 'boneheaded': 2858, 'refill': 6542, 'billboard': 1431, 'bald': 1432, 'dressing': 6543, 'competing': 6544, 'everybody': 263, 'coy': 6146, 'suicide': 1164, 'soul-crushing': 6546, 'carpet': 6547, \"sittin'\": 1149, 'stairs': 4452, 'showered': 6034, 'finally': 842, 'tracks': 6550, 'scrubbing': 6551, 'flophouse': 6552, 'muscles': 6553, 'table': 797, 'sang': 6555, \"fishin'\": 6556, 'reporter': 1880, 'patty_bouvier': 730, \"wouldn't\": 381, 'simon': 6557, 'fiiiiile': 6558, 'pretending': 2859, 'catholic': 6559, 'gig': 6560, 'pre-columbian': 6561, 'dessert': 2860, 'carb': 6562, 'data': 6674, 'sneeze': 6563, \"dimwit's\": 6564, 'twelve-step': 6565, 'abusive': 6566, 'racially-diverse': 6567, 'period': 6568, 'l': 1881, 'inquiries': 6569, 'whoa': 207, 'window': 1165, 'extra': 1882, 'gin': 1434, \"everyone's\": 1272, 'drove': 2952, 'pip': 6572, 'triumphantly': 6573, 'stares': 6574, 'ticket': 731, 'hoo': 472, 'repeated': 6093, 'air': 667, 'exchange': 2662, 'isotopes': 1166, 'civilization': 2741, 'listens': 5854, 'working': 1435, 'introduce': 6577, 'bee': 1167, 'gang': 2801, 'group': 941, 'cockroach': 4169, 'pass': 903, 'stayed': 1667, 'resigned': 6582, 'fresh': 2862, \"where's\": 425, 'alcohol': 515, 'reactions': 6583, 'notorious': 6584, 'circus': 6585, 'pretends': 6586, 'meaning': 6587, \"'morning\": 6588, 'amnesia': 6589, 'scout': 6590, 'novel': 3782, 'did': 114, 'ducked': 6591, 'letter': 732, 'rabbits': 6592, \"brady's\": 6593, 'pub': 1437, 'full-bodied': 6594, 'zinged': 6595, 'playful': 2863, 'spinning': 1884, 'cocoa': 6596, 'knock-up': 6597, 'smelling': 6598, 'delighted': 1885, 'sinkhole': 6599, 'banks': 1837, 'tornado': 6601, 'adventure': 6602, 'firm': 6603, 'reluctant': 6604, 'wanna': 193, 'bolting': 6605, 'clams': 6576, 'gil_gunderson': 4302, \"fryer's\": 5823, 'expensive': 6607, \"c'mere\": 1887, 'backing': 6608, 'noggin': 6609, 'un-sults': 2864, 'burn': 489, 'flexible': 6230, 'syrup': 2865, 'country': 6211, 'gets': 473, 'superpower': 3279, 'planning': 2867, 'presentable': 6612, 'nitwit': 6613, 'cheering': 4750, 'strap': 1169, \"ma's\": 6614, 'st': 6233, 'solely': 3159, \"he'd\": 1170, 'nose': 1438, 'sincerely': 6616, 'deeply': 2868, 'minus': 6260, 'woodchucks': 6618, 'continuing': 2869, 'bubble': 2886, '_kissingher': 1888, 'kissed': 6620, 'malibu': 3500, 'enemies': 1889, 'sheriff': 6274, 'louder': 2870, 'defensive': 1890, 'eightball': 6623, 'pee': 6624, 'elite': 6625, 'delivery_man': 6626, 'purse': 2680, 'excavating': 6681, 'numeral': 6628, 'swear': 1171, 'ale': 2698, 'defected': 6630, 'ticks': 6631, 'elocution': 3791, 'cuff': 3562, 'eva': 6633, 'devastated': 2091, 'bowie': 6634, 'hank_williams_jr': 959, 'arimasen': 6635, 'kennedy': 6636, 'reunion': 6637, 'nervously': 6638, 'obsessive-compulsive': 6639, 'mystery': 6341, 'old_jewish_man': 6641, \"smokin'\": 6642, 'grammar': 6354, 'trolls': 2871, '||colon||': 0, 'guide': 2872, 'u': 1439, 'minute': 282, '/': 70, 'worth': 2873, 'day': 158, 'sloppy': 6644, 'wipe': 1891, \"lefty's\": 6645, 'punk': 2874, 'he': 77, 'towed': 2826, 'blowfish': 6646, 'ura': 6050, 'tipsy': 445, \"buffalo's\": 2875, 'jack': 1172, 'rapidly': 6402, 'dan': 2876, 'powered': 6648, 'wire': 843, 'modestly': 6649, 'windshield': 6650, 'hidden': 6651, 'various': 6554, 'chip': 6652, 'shifty': 4182, 'vanities': 6653, 'soon': 646, 'brewed': 2877, 'resenting': 6654, 'barbed': 6655, 'contemptuous': 4183, 'affectations': 6657, 'stunned': 1064, 'lady_duff': 6658, 'positive': 2878, 'life-extension': 6659, 'offended': 1141, 'wowww': 6466, 'hexa-': 6473, 'ginger': 2227, 'pusillanimous': 6663, 'palmerston': 1893, \"duff's\": 3541, 'smart': 2668, 'spooky': 6665, 'winner': 6666, 'palm': 2879, 'remorseful': 6667, 'unjustly': 6668, \"wouldn't-a\": 6669, 'whaaaa': 6670, 'scratching': 6671, 'ideas': 2896, 'amid': 1436, 'rub-a-dub': 6672, 'beloved': 1173, \"i'd'a\": 6673, 'giggles': 2880, 'pontiff': 6686, 'awed': 2881, 'big': 144, 'head-gunk': 4079, 'fabulous': 2882, 'recipe': 6675, 'bad-mouth': 6687, 'spoken': 1895, 'taken': 1896, 'dash': 6676, 'full': 844, 'steam': 6677, 'jobs': 2883, \"that'll\": 960, 'rev': 733, 'faith': 6678, 'machine': 604, 'fifteen': 1440, 'depressed': 6680, 'bindle': 6627, 'moan': 605, 'ruin': 1897, 'spare': 6682, 'box': 694, 'ripcord': 2884, 'shape': 1898, 'gals': 2885, \"comin'\": 382, 'spine': 6683, 'ninth': 6684, 'something': 146, 'boxers': 3125, 'suspicious': 2243, 'mug': 1441, 'religion': 1590, 'eventually': 2887, 'medicine': 2374, 'snap': 2888, 'shirt': 1174}\n"
     ]
    }
   ],
   "source": [
    "\"\"\"\n",
    "DON'T MODIFY ANYTHING IN THIS CELL\n",
    "\"\"\"\n",
    "# Preprocess Training, Validation, and Testing Data\n",
    "helper.preprocess_and_save_data(data_dir, token_lookup, create_lookup_tables)"
   ]
  },
  {
   "cell_type": "markdown",
   "metadata": {
    "deletable": true,
    "editable": true
   },
   "source": [
    "# Check Point\n",
    "This is your first checkpoint. If you ever decide to come back to this notebook or have to restart the notebook, you can start from here. The preprocessed data has been saved to disk."
   ]
  },
  {
   "cell_type": "code",
   "execution_count": 9,
   "metadata": {
    "collapsed": false,
    "deletable": true,
    "editable": true
   },
   "outputs": [],
   "source": [
    "\"\"\"\n",
    "DON'T MODIFY ANYTHING IN THIS CELL\n",
    "\"\"\"\n",
    "import helper\n",
    "import numpy as np\n",
    "import problem_unittests as tests\n",
    "\n",
    "int_text, vocab_to_int, int_to_vocab, token_dict = helper.load_preprocess()"
   ]
  },
  {
   "cell_type": "markdown",
   "metadata": {
    "deletable": true,
    "editable": true
   },
   "source": [
    "## Build the Neural Network\n",
    "You'll build the components necessary to build a RNN by implementing the following functions below:\n",
    "- get_inputs\n",
    "- get_init_cell\n",
    "- get_embed\n",
    "- build_rnn\n",
    "- build_nn\n",
    "- get_batches\n",
    "\n",
    "### Check the Version of TensorFlow and Access to GPU"
   ]
  },
  {
   "cell_type": "code",
   "execution_count": 10,
   "metadata": {
    "collapsed": false,
    "deletable": true,
    "editable": true
   },
   "outputs": [
    {
     "name": "stdout",
     "output_type": "stream",
     "text": [
      "TensorFlow Version: 1.0.0\n",
      "Default GPU Device: /gpu:0\n"
     ]
    }
   ],
   "source": [
    "\"\"\"\n",
    "DON'T MODIFY ANYTHING IN THIS CELL\n",
    "\"\"\"\n",
    "from distutils.version import LooseVersion\n",
    "import warnings\n",
    "import tensorflow as tf\n",
    "\n",
    "# Check TensorFlow Version\n",
    "assert LooseVersion(tf.__version__) >= LooseVersion('1.0'), 'Please use TensorFlow version 1.0 or newer'\n",
    "print('TensorFlow Version: {}'.format(tf.__version__))\n",
    "\n",
    "# Check for a GPU\n",
    "if not tf.test.gpu_device_name():\n",
    "    warnings.warn('No GPU found. Please use a GPU to train your neural network.')\n",
    "else:\n",
    "    print('Default GPU Device: {}'.format(tf.test.gpu_device_name()))"
   ]
  },
  {
   "cell_type": "markdown",
   "metadata": {
    "deletable": true,
    "editable": true
   },
   "source": [
    "### Input\n",
    "Implement the `get_inputs()` function to create TF Placeholders for the Neural Network.  It should create the following placeholders:\n",
    "- Input text placeholder named \"input\" using the [TF Placeholder](https://www.tensorflow.org/api_docs/python/tf/placeholder) `name` parameter.\n",
    "- Targets placeholder\n",
    "- Learning Rate placeholder\n",
    "\n",
    "Return the placeholders in the following tuple `(Input, Targets, LearningRate)`"
   ]
  },
  {
   "cell_type": "code",
   "execution_count": 11,
   "metadata": {
    "collapsed": false,
    "deletable": true,
    "editable": true
   },
   "outputs": [
    {
     "name": "stdout",
     "output_type": "stream",
     "text": [
      "Tests Passed\n"
     ]
    }
   ],
   "source": [
    "def get_inputs():\n",
    "    \"\"\"\n",
    "    Create TF Placeholders for input, targets, and learning rate.\n",
    "    :return: Tuple (input, targets, learning rate)\n",
    "    \"\"\"\n",
    "    # TODO: Implement Function\n",
    "    input = tf.placeholder(tf.int32, [None, None], name='input')\n",
    "    targets = tf.placeholder(tf.int32, [None, None], name='targets')\n",
    "    learning_rate = tf.placeholder(tf.float32, None, name='learning_rate')\n",
    "    return input, targets, learning_rate\n",
    "\n",
    "\n",
    "\"\"\"\n",
    "DON'T MODIFY ANYTHING IN THIS CELL THAT IS BELOW THIS LINE\n",
    "\"\"\"\n",
    "tests.test_get_inputs(get_inputs)"
   ]
  },
  {
   "cell_type": "markdown",
   "metadata": {
    "deletable": true,
    "editable": true
   },
   "source": [
    "### Build RNN Cell and Initialize\n",
    "Stack one or more [`BasicLSTMCells`](https://www.tensorflow.org/api_docs/python/tf/contrib/rnn/BasicLSTMCell) in a [`MultiRNNCell`](https://www.tensorflow.org/api_docs/python/tf/contrib/rnn/MultiRNNCell).\n",
    "- The Rnn size should be set using `rnn_size`\n",
    "- Initalize Cell State using the MultiRNNCell's [`zero_state()`](https://www.tensorflow.org/api_docs/python/tf/contrib/rnn/MultiRNNCell#zero_state) function\n",
    "    - Apply the name \"initial_state\" to the initial state using [`tf.identity()`](https://www.tensorflow.org/api_docs/python/tf/identity)\n",
    "\n",
    "Return the cell and initial state in the following tuple `(Cell, InitialState)`"
   ]
  },
  {
   "cell_type": "code",
   "execution_count": 12,
   "metadata": {
    "collapsed": false,
    "deletable": true,
    "editable": true
   },
   "outputs": [
    {
     "name": "stdout",
     "output_type": "stream",
     "text": [
      "Tests Passed\n"
     ]
    }
   ],
   "source": [
    "def get_init_cell(batch_size, rnn_size):\n",
    "    \"\"\"\n",
    "    Create an RNN Cell and initialize it.\n",
    "    :param batch_size: Size of batches\n",
    "    :param rnn_size: Size of RNNs\n",
    "    :return: Tuple (cell, initialize state)\n",
    "    \"\"\"\n",
    "    # TODO: Implement Function\n",
    "    lstm = tf.contrib.rnn.BasicLSTMCell(rnn_size)\n",
    "    cell = tf.contrib.rnn.MultiRNNCell([lstm])\n",
    "\n",
    "    initial_state = tf.identity(cell.zero_state(batch_size, tf.float32), name='initial_state')\n",
    "    return cell, initial_state\n",
    "\n",
    "\n",
    "\"\"\"\n",
    "DON'T MODIFY ANYTHING IN THIS CELL THAT IS BELOW THIS LINE\n",
    "\"\"\"\n",
    "tests.test_get_init_cell(get_init_cell)"
   ]
  },
  {
   "cell_type": "markdown",
   "metadata": {
    "deletable": true,
    "editable": true
   },
   "source": [
    "### Word Embedding\n",
    "Apply embedding to `input_data` using TensorFlow.  Return the embedded sequence."
   ]
  },
  {
   "cell_type": "code",
   "execution_count": 13,
   "metadata": {
    "collapsed": false,
    "deletable": true,
    "editable": true
   },
   "outputs": [
    {
     "name": "stdout",
     "output_type": "stream",
     "text": [
      "Tests Passed\n"
     ]
    }
   ],
   "source": [
    "def get_embed(input_data, vocab_size, embed_dim):\n",
    "    \"\"\"\n",
    "    Create embedding for <input_data>.\n",
    "    :param input_data: TF placeholder for text input.\n",
    "    :param vocab_size: Number of words in vocabulary.\n",
    "    :param embed_dim: Number of embedding dimensions\n",
    "    :return: Embedded input.\n",
    "    \"\"\"\n",
    "    # TODO: Implement Function\n",
    "    embedding = tf.Variable(tf.random_uniform((vocab_size, embed_dim), -1, 1))\n",
    "    embed = tf.nn.embedding_lookup(embedding, input_data)\n",
    "    \n",
    "    return embed\n",
    "\n",
    "\n",
    "\"\"\"\n",
    "DON'T MODIFY ANYTHING IN THIS CELL THAT IS BELOW THIS LINE\n",
    "\"\"\"\n",
    "tests.test_get_embed(get_embed)"
   ]
  },
  {
   "cell_type": "markdown",
   "metadata": {
    "deletable": true,
    "editable": true
   },
   "source": [
    "### Build RNN\n",
    "You created a RNN Cell in the `get_init_cell()` function.  Time to use the cell to create a RNN.\n",
    "- Build the RNN using the [`tf.nn.dynamic_rnn()`](https://www.tensorflow.org/api_docs/python/tf/nn/dynamic_rnn)\n",
    " - Apply the name \"final_state\" to the final state using [`tf.identity()`](https://www.tensorflow.org/api_docs/python/tf/identity)\n",
    "\n",
    "Return the outputs and final_state state in the following tuple `(Outputs, FinalState)` "
   ]
  },
  {
   "cell_type": "code",
   "execution_count": 14,
   "metadata": {
    "collapsed": false,
    "deletable": true,
    "editable": true
   },
   "outputs": [
    {
     "name": "stdout",
     "output_type": "stream",
     "text": [
      "Tests Passed\n"
     ]
    }
   ],
   "source": [
    "def build_rnn(cell, inputs):\n",
    "    \"\"\"\n",
    "    Create a RNN using a RNN Cell\n",
    "    :param cell: RNN Cell\n",
    "    :param inputs: Input text data\n",
    "    :return: Tuple (Outputs, Final State)\n",
    "    \"\"\"\n",
    "    # TODO: Implement Function\n",
    "    outputs, state = tf.nn.dynamic_rnn(cell, inputs, dtype=tf.float32)\n",
    "    final_state = tf.identity(state, name='final_state')\n",
    "\n",
    "    return outputs, final_state\n",
    "\n",
    "\n",
    "\"\"\"\n",
    "DON'T MODIFY ANYTHING IN THIS CELL THAT IS BELOW THIS LINE\n",
    "\"\"\"\n",
    "tests.test_build_rnn(build_rnn)"
   ]
  },
  {
   "cell_type": "markdown",
   "metadata": {
    "deletable": true,
    "editable": true
   },
   "source": [
    "### Build the Neural Network\n",
    "Apply the functions you implemented above to:\n",
    "- Apply embedding to `input_data` using your `get_embed(input_data, vocab_size, embed_dim)` function.\n",
    "- Build RNN using `cell` and your `build_rnn(cell, inputs)` function.\n",
    "- Apply a fully connected layer with a linear activation and `vocab_size` as the number of outputs.\n",
    "\n",
    "Return the logits and final state in the following tuple (Logits, FinalState) "
   ]
  },
  {
   "cell_type": "code",
   "execution_count": 15,
   "metadata": {
    "collapsed": false,
    "deletable": true,
    "editable": true
   },
   "outputs": [
    {
     "name": "stdout",
     "output_type": "stream",
     "text": [
      "Tests Passed\n"
     ]
    }
   ],
   "source": [
    "def build_nn(cell, rnn_size, input_data, vocab_size, embed_dim):\n",
    "    \"\"\"\n",
    "    Build part of the neural network\n",
    "    :param cell: RNN cell\n",
    "    :param rnn_size: Size of rnns\n",
    "    :param input_data: Input data\n",
    "    :param vocab_size: Vocabulary size\n",
    "    :param embed_dim: Number of embedding dimensions\n",
    "    :return: Tuple (Logits, FinalState)\n",
    "    \"\"\"\n",
    "    # TODO: Implement Function\n",
    "    embedded = get_embed(input_data, vocab_size, rnn_size)\n",
    "    outputs, final_state = build_rnn(cell, embedded)\n",
    "    logits = tf.contrib.layers.fully_connected(\n",
    "        inputs = outputs,\\\n",
    "        num_outputs = vocab_size,\\\n",
    "        activation_fn = None,\\\n",
    "        weights_initializer=tf.truncated_normal_initializer(stddev= 0.1),\\\n",
    "        biases_initializer=tf.zeros_initializer())\n",
    "\n",
    "    return logits, final_state\n",
    "\n",
    "\n",
    "\"\"\"\n",
    "DON'T MODIFY ANYTHING IN THIS CELL THAT IS BELOW THIS LINE\n",
    "\"\"\"\n",
    "tests.test_build_nn(build_nn)"
   ]
  },
  {
   "cell_type": "markdown",
   "metadata": {
    "deletable": true,
    "editable": true
   },
   "source": [
    "### Batches\n",
    "Implement `get_batches` to create batches of input and targets using `int_text`.  The batches should be a Numpy array with the shape `(number of batches, 2, batch size, sequence length)`. Each batch contains two elements:\n",
    "- The first element is a single batch of **input** with the shape `[batch size, sequence length]`\n",
    "- The second element is a single batch of **targets** with the shape `[batch size, sequence length]`\n",
    "\n",
    "If you can't fill the last batch with enough data, drop the last batch.\n",
    "\n",
    "For exmple, `get_batches([1, 2, 3, 4, 5, 6, 7, 8, 9, 10, 11, 12, 13, 14, 15, 16, 17, 18, 19, 20], 3, 2)` would return a Numpy array of the following:\n",
    "```\n",
    "[\n",
    "  # First Batch\n",
    "  [\n",
    "    # Batch of Input\n",
    "    [[ 1  2], [ 7  8], [13 14]]\n",
    "    # Batch of targets\n",
    "    [[ 2  3], [ 8  9], [14 15]]\n",
    "  ]\n",
    "\n",
    "  # Second Batch\n",
    "  [\n",
    "    # Batch of Input\n",
    "    [[ 3  4], [ 9 10], [15 16]]\n",
    "    # Batch of targets\n",
    "    [[ 4  5], [10 11], [16 17]]\n",
    "  ]\n",
    "\n",
    "  # Third Batch\n",
    "  [\n",
    "    # Batch of Input\n",
    "    [[ 5  6], [11 12], [17 18]]\n",
    "    # Batch of targets\n",
    "    [[ 6  7], [12 13], [18  1]]\n",
    "  ]\n",
    "]\n",
    "```\n",
    "\n",
    "Notice that the last target value in the last batch is the first input value of the first batch. In this case, `1`. This is a common technique used when creating sequence batches, although it is rather unintuitive."
   ]
  },
  {
   "cell_type": "code",
   "execution_count": 16,
   "metadata": {
    "collapsed": false,
    "deletable": true,
    "editable": true
   },
   "outputs": [
    {
     "name": "stdout",
     "output_type": "stream",
     "text": [
      "Tests Passed\n"
     ]
    }
   ],
   "source": [
    "def get_batches(int_text, batch_size, seq_length):\n",
    "    \"\"\"\n",
    "    Return batches of input and target\n",
    "    :param int_text: Text with the words replaced by their ids\n",
    "    :param batch_size: The size of batch\n",
    "    :param seq_length: The length of sequence\n",
    "    :return: Batches as a Numpy array\n",
    "    \"\"\"\n",
    "    # TODO: Implement Function\n",
    "    n_batches = len(int_text)//(batch_size*seq_length)\n",
    "    inputs = np.array(int_text[:n_batches*(batch_size*seq_length)])\n",
    "    targets = np.array(int_text[1:n_batches*(batch_size*seq_length)+1])\n",
    "    targets[-1] = inputs[0]\n",
    "    input_batches = np.split(inputs.reshape(batch_size, -1), n_batches, 1)\n",
    "    target_batches = np.split(targets.reshape(batch_size, -1), n_batches, 1)\n",
    "\n",
    "    output = np.array(list(zip(input_batches, target_batches)))\n",
    "    return output\n",
    "\n",
    "\n",
    "\"\"\"\n",
    "DON'T MODIFY ANYTHING IN THIS CELL THAT IS BELOW THIS LINE\n",
    "\"\"\"\n",
    "tests.test_get_batches(get_batches)"
   ]
  },
  {
   "cell_type": "markdown",
   "metadata": {
    "deletable": true,
    "editable": true
   },
   "source": [
    "## Neural Network Training\n",
    "### Hyperparameters\n",
    "Tune the following parameters:\n",
    "\n",
    "- Set `num_epochs` to the number of epochs.\n",
    "- Set `batch_size` to the batch size.\n",
    "- Set `rnn_size` to the size of the RNNs.\n",
    "- Set `embed_dim` to the size of the embedding.\n",
    "- Set `seq_length` to the length of sequence.\n",
    "- Set `learning_rate` to the learning rate.\n",
    "- Set `show_every_n_batches` to the number of batches the neural network should print progress."
   ]
  },
  {
   "cell_type": "code",
   "execution_count": 17,
   "metadata": {
    "collapsed": true,
    "deletable": true,
    "editable": true
   },
   "outputs": [],
   "source": [
    "# Number of Epochs\n",
    "num_epochs = 200\n",
    "# Batch Size\n",
    "batch_size = 256\n",
    "# RNN Size\n",
    "rnn_size = 256\n",
    "# Embedding Dimension Size\n",
    "embed_dim = 300\n",
    "# Sequence Length\n",
    "seq_length = 16\n",
    "# Learning Rate\n",
    "learning_rate = 0.01\n",
    "# Show stats for every n number of batches\n",
    "show_every_n_batches = 16\n",
    "\n",
    "\"\"\"\n",
    "DON'T MODIFY ANYTHING IN THIS CELL THAT IS BELOW THIS LINE\n",
    "\"\"\"\n",
    "save_dir = './save'"
   ]
  },
  {
   "cell_type": "markdown",
   "metadata": {
    "deletable": true,
    "editable": true
   },
   "source": [
    "### Build the Graph\n",
    "Build the graph using the neural network you implemented."
   ]
  },
  {
   "cell_type": "code",
   "execution_count": 18,
   "metadata": {
    "collapsed": false,
    "deletable": true,
    "editable": true
   },
   "outputs": [],
   "source": [
    "\"\"\"\n",
    "DON'T MODIFY ANYTHING IN THIS CELL\n",
    "\"\"\"\n",
    "from tensorflow.contrib import seq2seq\n",
    "\n",
    "train_graph = tf.Graph()\n",
    "with train_graph.as_default():\n",
    "    vocab_size = len(int_to_vocab)\n",
    "    input_text, targets, lr = get_inputs()\n",
    "    input_data_shape = tf.shape(input_text)\n",
    "    cell, initial_state = get_init_cell(input_data_shape[0], rnn_size)\n",
    "    logits, final_state = build_nn(cell, rnn_size, input_text, vocab_size, embed_dim)\n",
    "\n",
    "    # Probabilities for generating words\n",
    "    probs = tf.nn.softmax(logits, name='probs')\n",
    "\n",
    "    # Loss function\n",
    "    cost = seq2seq.sequence_loss(\n",
    "        logits,\n",
    "        targets,\n",
    "        tf.ones([input_data_shape[0], input_data_shape[1]]))\n",
    "\n",
    "    # Optimizer\n",
    "    optimizer = tf.train.AdamOptimizer(lr)\n",
    "\n",
    "    # Gradient Clipping\n",
    "    gradients = optimizer.compute_gradients(cost)\n",
    "    capped_gradients = [(tf.clip_by_value(grad, -1., 1.), var) for grad, var in gradients if grad is not None]\n",
    "    train_op = optimizer.apply_gradients(capped_gradients)"
   ]
  },
  {
   "cell_type": "markdown",
   "metadata": {
    "deletable": true,
    "editable": true
   },
   "source": [
    "## Train\n",
    "Train the neural network on the preprocessed data.  If you have a hard time getting a good loss, check the [forms](https://discussions.udacity.com/) to see if anyone is having the same problem."
   ]
  },
  {
   "cell_type": "code",
   "execution_count": 19,
   "metadata": {
    "collapsed": false,
    "deletable": true,
    "editable": true
   },
   "outputs": [
    {
     "name": "stdout",
     "output_type": "stream",
     "text": [
      "Epoch   0 Batch    0/17   train_loss = 8.820\n",
      "Epoch   0 Batch   16/17   train_loss = 5.313\n",
      "Epoch   1 Batch   15/17   train_loss = 4.480\n",
      "Epoch   2 Batch   14/17   train_loss = 4.099\n",
      "Epoch   3 Batch   13/17   train_loss = 3.674\n",
      "Epoch   4 Batch   12/17   train_loss = 3.408\n",
      "Epoch   5 Batch   11/17   train_loss = 3.123\n",
      "Epoch   6 Batch   10/17   train_loss = 2.838\n",
      "Epoch   7 Batch    9/17   train_loss = 2.615\n",
      "Epoch   8 Batch    8/17   train_loss = 2.394\n",
      "Epoch   9 Batch    7/17   train_loss = 2.216\n",
      "Epoch  10 Batch    6/17   train_loss = 2.096\n",
      "Epoch  11 Batch    5/17   train_loss = 1.924\n",
      "Epoch  12 Batch    4/17   train_loss = 1.744\n",
      "Epoch  13 Batch    3/17   train_loss = 1.651\n",
      "Epoch  14 Batch    2/17   train_loss = 1.493\n",
      "Epoch  15 Batch    1/17   train_loss = 1.374\n",
      "Epoch  16 Batch    0/17   train_loss = 1.286\n",
      "Epoch  16 Batch   16/17   train_loss = 1.198\n",
      "Epoch  17 Batch   15/17   train_loss = 1.178\n",
      "Epoch  18 Batch   14/17   train_loss = 1.071\n",
      "Epoch  19 Batch   13/17   train_loss = 1.013\n",
      "Epoch  20 Batch   12/17   train_loss = 0.924\n",
      "Epoch  21 Batch   11/17   train_loss = 0.904\n",
      "Epoch  22 Batch   10/17   train_loss = 0.814\n",
      "Epoch  23 Batch    9/17   train_loss = 0.769\n",
      "Epoch  24 Batch    8/17   train_loss = 0.749\n",
      "Epoch  25 Batch    7/17   train_loss = 0.725\n",
      "Epoch  26 Batch    6/17   train_loss = 0.694\n",
      "Epoch  27 Batch    5/17   train_loss = 0.659\n",
      "Epoch  28 Batch    4/17   train_loss = 0.604\n",
      "Epoch  29 Batch    3/17   train_loss = 0.545\n",
      "Epoch  30 Batch    2/17   train_loss = 0.533\n",
      "Epoch  31 Batch    1/17   train_loss = 0.519\n",
      "Epoch  32 Batch    0/17   train_loss = 0.468\n",
      "Epoch  32 Batch   16/17   train_loss = 0.446\n",
      "Epoch  33 Batch   15/17   train_loss = 0.450\n",
      "Epoch  34 Batch   14/17   train_loss = 0.412\n",
      "Epoch  35 Batch   13/17   train_loss = 0.411\n",
      "Epoch  36 Batch   12/17   train_loss = 0.393\n",
      "Epoch  37 Batch   11/17   train_loss = 0.385\n",
      "Epoch  38 Batch   10/17   train_loss = 0.363\n",
      "Epoch  39 Batch    9/17   train_loss = 0.352\n",
      "Epoch  40 Batch    8/17   train_loss = 0.347\n",
      "Epoch  41 Batch    7/17   train_loss = 0.322\n",
      "Epoch  42 Batch    6/17   train_loss = 0.332\n",
      "Epoch  43 Batch    5/17   train_loss = 0.312\n",
      "Epoch  44 Batch    4/17   train_loss = 0.306\n",
      "Epoch  45 Batch    3/17   train_loss = 0.302\n",
      "Epoch  46 Batch    2/17   train_loss = 0.303\n",
      "Epoch  47 Batch    1/17   train_loss = 0.307\n",
      "Epoch  48 Batch    0/17   train_loss = 0.282\n",
      "Epoch  48 Batch   16/17   train_loss = 0.272\n",
      "Epoch  49 Batch   15/17   train_loss = 0.295\n",
      "Epoch  50 Batch   14/17   train_loss = 0.262\n",
      "Epoch  51 Batch   13/17   train_loss = 0.270\n",
      "Epoch  52 Batch   12/17   train_loss = 0.263\n",
      "Epoch  53 Batch   11/17   train_loss = 0.263\n",
      "Epoch  54 Batch   10/17   train_loss = 0.260\n",
      "Epoch  55 Batch    9/17   train_loss = 0.246\n",
      "Epoch  56 Batch    8/17   train_loss = 0.244\n",
      "Epoch  57 Batch    7/17   train_loss = 0.225\n",
      "Epoch  58 Batch    6/17   train_loss = 0.255\n",
      "Epoch  59 Batch    5/17   train_loss = 0.225\n",
      "Epoch  60 Batch    4/17   train_loss = 0.213\n",
      "Epoch  61 Batch    3/17   train_loss = 0.218\n",
      "Epoch  62 Batch    2/17   train_loss = 0.228\n",
      "Epoch  63 Batch    1/17   train_loss = 0.217\n",
      "Epoch  64 Batch    0/17   train_loss = 0.212\n",
      "Epoch  64 Batch   16/17   train_loss = 0.206\n",
      "Epoch  65 Batch   15/17   train_loss = 0.222\n",
      "Epoch  66 Batch   14/17   train_loss = 0.210\n",
      "Epoch  67 Batch   13/17   train_loss = 0.209\n",
      "Epoch  68 Batch   12/17   train_loss = 0.212\n",
      "Epoch  69 Batch   11/17   train_loss = 0.219\n",
      "Epoch  70 Batch   10/17   train_loss = 0.220\n",
      "Epoch  71 Batch    9/17   train_loss = 0.213\n",
      "Epoch  72 Batch    8/17   train_loss = 0.210\n",
      "Epoch  73 Batch    7/17   train_loss = 0.195\n",
      "Epoch  74 Batch    6/17   train_loss = 0.225\n",
      "Epoch  75 Batch    5/17   train_loss = 0.201\n",
      "Epoch  76 Batch    4/17   train_loss = 0.192\n",
      "Epoch  77 Batch    3/17   train_loss = 0.197\n",
      "Epoch  78 Batch    2/17   train_loss = 0.216\n",
      "Epoch  79 Batch    1/17   train_loss = 0.207\n",
      "Epoch  80 Batch    0/17   train_loss = 0.204\n",
      "Epoch  80 Batch   16/17   train_loss = 0.201\n",
      "Epoch  81 Batch   15/17   train_loss = 0.215\n",
      "Epoch  82 Batch   14/17   train_loss = 0.206\n",
      "Epoch  83 Batch   13/17   train_loss = 0.205\n",
      "Epoch  84 Batch   12/17   train_loss = 0.208\n",
      "Epoch  85 Batch   11/17   train_loss = 0.216\n",
      "Epoch  86 Batch   10/17   train_loss = 0.217\n",
      "Epoch  87 Batch    9/17   train_loss = 0.210\n",
      "Epoch  88 Batch    8/17   train_loss = 0.207\n",
      "Epoch  89 Batch    7/17   train_loss = 0.192\n",
      "Epoch  90 Batch    6/17   train_loss = 0.222\n",
      "Epoch  91 Batch    5/17   train_loss = 0.199\n",
      "Epoch  92 Batch    4/17   train_loss = 0.189\n",
      "Epoch  93 Batch    3/17   train_loss = 0.195\n",
      "Epoch  94 Batch    2/17   train_loss = 0.214\n",
      "Epoch  95 Batch    1/17   train_loss = 0.205\n",
      "Epoch  96 Batch    0/17   train_loss = 0.202\n",
      "Epoch  96 Batch   16/17   train_loss = 0.199\n",
      "Epoch  97 Batch   15/17   train_loss = 0.213\n",
      "Epoch  98 Batch   14/17   train_loss = 0.204\n",
      "Epoch  99 Batch   13/17   train_loss = 0.204\n",
      "Epoch 100 Batch   12/17   train_loss = 0.206\n",
      "Epoch 101 Batch   11/17   train_loss = 0.215\n",
      "Epoch 102 Batch   10/17   train_loss = 0.216\n",
      "Epoch 103 Batch    9/17   train_loss = 0.208\n",
      "Epoch 104 Batch    8/17   train_loss = 0.205\n",
      "Epoch 105 Batch    7/17   train_loss = 0.191\n",
      "Epoch 106 Batch    6/17   train_loss = 0.221\n",
      "Epoch 107 Batch    5/17   train_loss = 0.197\n",
      "Epoch 108 Batch    4/17   train_loss = 0.188\n",
      "Epoch 109 Batch    3/17   train_loss = 0.194\n",
      "Epoch 110 Batch    2/17   train_loss = 0.213\n",
      "Epoch 111 Batch    1/17   train_loss = 0.204\n",
      "Epoch 112 Batch    0/17   train_loss = 0.201\n",
      "Epoch 112 Batch   16/17   train_loss = 0.197\n",
      "Epoch 113 Batch   15/17   train_loss = 0.211\n",
      "Epoch 114 Batch   14/17   train_loss = 0.203\n",
      "Epoch 115 Batch   13/17   train_loss = 0.203\n",
      "Epoch 116 Batch   12/17   train_loss = 0.205\n",
      "Epoch 117 Batch   11/17   train_loss = 0.214\n",
      "Epoch 118 Batch   10/17   train_loss = 0.216\n",
      "Epoch 119 Batch    9/17   train_loss = 0.207\n",
      "Epoch 120 Batch    8/17   train_loss = 0.204\n",
      "Epoch 121 Batch    7/17   train_loss = 0.190\n",
      "Epoch 122 Batch    6/17   train_loss = 0.220\n",
      "Epoch 123 Batch    5/17   train_loss = 0.196\n",
      "Epoch 124 Batch    4/17   train_loss = 0.187\n",
      "Epoch 125 Batch    3/17   train_loss = 0.193\n",
      "Epoch 126 Batch    2/17   train_loss = 0.212\n",
      "Epoch 127 Batch    1/17   train_loss = 0.204\n",
      "Epoch 128 Batch    0/17   train_loss = 0.201\n",
      "Epoch 128 Batch   16/17   train_loss = 0.196\n",
      "Epoch 129 Batch   15/17   train_loss = 0.210\n",
      "Epoch 130 Batch   14/17   train_loss = 0.202\n",
      "Epoch 131 Batch   13/17   train_loss = 0.202\n",
      "Epoch 132 Batch   12/17   train_loss = 0.205\n",
      "Epoch 133 Batch   11/17   train_loss = 0.214\n",
      "Epoch 134 Batch   10/17   train_loss = 0.215\n",
      "Epoch 135 Batch    9/17   train_loss = 0.207\n",
      "Epoch 136 Batch    8/17   train_loss = 0.203\n",
      "Epoch 137 Batch    7/17   train_loss = 0.189\n",
      "Epoch 138 Batch    6/17   train_loss = 0.219\n",
      "Epoch 139 Batch    5/17   train_loss = 0.196\n",
      "Epoch 140 Batch    4/17   train_loss = 0.187\n",
      "Epoch 141 Batch    3/17   train_loss = 0.192\n",
      "Epoch 142 Batch    2/17   train_loss = 0.211\n",
      "Epoch 143 Batch    1/17   train_loss = 0.203\n",
      "Epoch 144 Batch    0/17   train_loss = 0.200\n",
      "Epoch 144 Batch   16/17   train_loss = 0.196\n",
      "Epoch 145 Batch   15/17   train_loss = 0.209\n",
      "Epoch 146 Batch   14/17   train_loss = 0.202\n",
      "Epoch 147 Batch   13/17   train_loss = 0.201\n",
      "Epoch 148 Batch   12/17   train_loss = 0.204\n",
      "Epoch 149 Batch   11/17   train_loss = 0.213\n",
      "Epoch 150 Batch   10/17   train_loss = 0.215\n",
      "Epoch 151 Batch    9/17   train_loss = 0.206\n",
      "Epoch 152 Batch    8/17   train_loss = 0.203\n",
      "Epoch 153 Batch    7/17   train_loss = 0.189\n",
      "Epoch 154 Batch    6/17   train_loss = 0.220\n",
      "Epoch 155 Batch    5/17   train_loss = 0.195\n",
      "Epoch 156 Batch    4/17   train_loss = 0.187\n",
      "Epoch 157 Batch    3/17   train_loss = 0.192\n",
      "Epoch 158 Batch    2/17   train_loss = 0.218\n",
      "Epoch 159 Batch    1/17   train_loss = 0.872\n",
      "Epoch 160 Batch    0/17   train_loss = 2.503\n",
      "Epoch 160 Batch   16/17   train_loss = 2.291\n",
      "Epoch 161 Batch   15/17   train_loss = 1.710\n",
      "Epoch 162 Batch   14/17   train_loss = 1.311\n",
      "Epoch 163 Batch   13/17   train_loss = 1.004\n",
      "Epoch 164 Batch   12/17   train_loss = 0.843\n",
      "Epoch 165 Batch   11/17   train_loss = 0.712\n",
      "Epoch 166 Batch   10/17   train_loss = 0.594\n",
      "Epoch 167 Batch    9/17   train_loss = 0.510\n",
      "Epoch 168 Batch    8/17   train_loss = 0.447\n",
      "Epoch 169 Batch    7/17   train_loss = 0.390\n",
      "Epoch 170 Batch    6/17   train_loss = 0.371\n",
      "Epoch 171 Batch    5/17   train_loss = 0.328\n",
      "Epoch 172 Batch    4/17   train_loss = 0.296\n",
      "Epoch 173 Batch    3/17   train_loss = 0.272\n",
      "Epoch 174 Batch    2/17   train_loss = 0.275\n",
      "Epoch 175 Batch    1/17   train_loss = 0.264\n",
      "Epoch 176 Batch    0/17   train_loss = 0.246\n",
      "Epoch 176 Batch   16/17   train_loss = 0.241\n",
      "Epoch 177 Batch   15/17   train_loss = 0.253\n",
      "Epoch 178 Batch   14/17   train_loss = 0.233\n",
      "Epoch 179 Batch   13/17   train_loss = 0.233\n",
      "Epoch 180 Batch   12/17   train_loss = 0.233\n",
      "Epoch 181 Batch   11/17   train_loss = 0.235\n",
      "Epoch 182 Batch   10/17   train_loss = 0.238\n",
      "Epoch 183 Batch    9/17   train_loss = 0.224\n",
      "Epoch 184 Batch    8/17   train_loss = 0.221\n",
      "Epoch 185 Batch    7/17   train_loss = 0.203\n",
      "Epoch 186 Batch    6/17   train_loss = 0.231\n",
      "Epoch 187 Batch    5/17   train_loss = 0.207\n",
      "Epoch 188 Batch    4/17   train_loss = 0.196\n",
      "Epoch 189 Batch    3/17   train_loss = 0.202\n",
      "Epoch 190 Batch    2/17   train_loss = 0.219\n",
      "Epoch 191 Batch    1/17   train_loss = 0.211\n",
      "Epoch 192 Batch    0/17   train_loss = 0.208\n",
      "Epoch 192 Batch   16/17   train_loss = 0.204\n",
      "Epoch 193 Batch   15/17   train_loss = 0.216\n",
      "Epoch 194 Batch   14/17   train_loss = 0.208\n",
      "Epoch 195 Batch   13/17   train_loss = 0.208\n",
      "Epoch 196 Batch   12/17   train_loss = 0.210\n",
      "Epoch 197 Batch   11/17   train_loss = 0.219\n",
      "Epoch 198 Batch   10/17   train_loss = 0.220\n",
      "Epoch 199 Batch    9/17   train_loss = 0.211\n",
      "Model Trained and Saved\n"
     ]
    }
   ],
   "source": [
    "\"\"\"\n",
    "DON'T MODIFY ANYTHING IN THIS CELL\n",
    "\"\"\"\n",
    "batches = get_batches(int_text, batch_size, seq_length)\n",
    "\n",
    "with tf.Session(graph=train_graph) as sess:\n",
    "    sess.run(tf.global_variables_initializer())\n",
    "\n",
    "    for epoch_i in range(num_epochs):\n",
    "        state = sess.run(initial_state, {input_text: batches[0][0]})\n",
    "\n",
    "        for batch_i, (x, y) in enumerate(batches):\n",
    "            feed = {\n",
    "                input_text: x,\n",
    "                targets: y,\n",
    "                initial_state: state,\n",
    "                lr: learning_rate}\n",
    "            train_loss, state, _ = sess.run([cost, final_state, train_op], feed)\n",
    "\n",
    "            # Show every <show_every_n_batches> batches\n",
    "            if (epoch_i * len(batches) + batch_i) % show_every_n_batches == 0:\n",
    "                print('Epoch {:>3} Batch {:>4}/{}   train_loss = {:.3f}'.format(\n",
    "                    epoch_i,\n",
    "                    batch_i,\n",
    "                    len(batches),\n",
    "                    train_loss))\n",
    "\n",
    "    # Save Model\n",
    "    saver = tf.train.Saver()\n",
    "    saver.save(sess, save_dir)\n",
    "    print('Model Trained and Saved')"
   ]
  },
  {
   "cell_type": "markdown",
   "metadata": {
    "deletable": true,
    "editable": true
   },
   "source": [
    "## Save Parameters\n",
    "Save `seq_length` and `save_dir` for generating a new TV script."
   ]
  },
  {
   "cell_type": "code",
   "execution_count": 20,
   "metadata": {
    "collapsed": false,
    "deletable": true,
    "editable": true
   },
   "outputs": [],
   "source": [
    "\"\"\"\n",
    "DON'T MODIFY ANYTHING IN THIS CELL\n",
    "\"\"\"\n",
    "# Save parameters for checkpoint\n",
    "helper.save_params((seq_length, save_dir))"
   ]
  },
  {
   "cell_type": "markdown",
   "metadata": {
    "deletable": true,
    "editable": true
   },
   "source": [
    "# Checkpoint"
   ]
  },
  {
   "cell_type": "code",
   "execution_count": 21,
   "metadata": {
    "collapsed": false,
    "deletable": true,
    "editable": true
   },
   "outputs": [],
   "source": [
    "\"\"\"\n",
    "DON'T MODIFY ANYTHING IN THIS CELL\n",
    "\"\"\"\n",
    "import tensorflow as tf\n",
    "import numpy as np\n",
    "import helper\n",
    "import problem_unittests as tests\n",
    "\n",
    "_, vocab_to_int, int_to_vocab, token_dict = helper.load_preprocess()\n",
    "seq_length, load_dir = helper.load_params()"
   ]
  },
  {
   "cell_type": "markdown",
   "metadata": {
    "deletable": true,
    "editable": true
   },
   "source": [
    "## Implement Generate Functions\n",
    "### Get Tensors\n",
    "Get tensors from `loaded_graph` using the function [`get_tensor_by_name()`](https://www.tensorflow.org/api_docs/python/tf/Graph#get_tensor_by_name).  Get the tensors using the following names:\n",
    "- \"input:0\"\n",
    "- \"initial_state:0\"\n",
    "- \"final_state:0\"\n",
    "- \"probs:0\"\n",
    "\n",
    "Return the tensors in the following tuple `(InputTensor, InitialStateTensor, FinalStateTensor, ProbsTensor)` "
   ]
  },
  {
   "cell_type": "code",
   "execution_count": 22,
   "metadata": {
    "collapsed": false,
    "deletable": true,
    "editable": true
   },
   "outputs": [
    {
     "name": "stdout",
     "output_type": "stream",
     "text": [
      "Tests Passed\n"
     ]
    }
   ],
   "source": [
    "def get_tensors(loaded_graph):\n",
    "    \"\"\"\n",
    "    Get input, initial state, final state, and probabilities tensor from <loaded_graph>\n",
    "    :param loaded_graph: TensorFlow graph loaded from file\n",
    "    :return: Tuple (InputTensor, InitialStateTensor, FinalStateTensor, ProbsTensor)\n",
    "    \"\"\"\n",
    "    # TODO: Implement Function\n",
    "    input = loaded_graph.get_tensor_by_name(\"input:0\")\n",
    "    initial_state = loaded_graph.get_tensor_by_name(\"initial_state:0\")\n",
    "    final_state = loaded_graph.get_tensor_by_name(\"final_state:0\")\n",
    "    probs = loaded_graph.get_tensor_by_name(\"probs:0\")\n",
    "    \n",
    "    return input, initial_state, final_state, probs\n",
    "\n",
    "\n",
    "\"\"\"\n",
    "DON'T MODIFY ANYTHING IN THIS CELL THAT IS BELOW THIS LINE\n",
    "\"\"\"\n",
    "tests.test_get_tensors(get_tensors)"
   ]
  },
  {
   "cell_type": "markdown",
   "metadata": {
    "deletable": true,
    "editable": true
   },
   "source": [
    "### Choose Word\n",
    "Implement the `pick_word()` function to select the next word using `probabilities`."
   ]
  },
  {
   "cell_type": "code",
   "execution_count": 23,
   "metadata": {
    "collapsed": false,
    "deletable": true,
    "editable": true
   },
   "outputs": [
    {
     "name": "stdout",
     "output_type": "stream",
     "text": [
      "Tests Passed\n"
     ]
    }
   ],
   "source": [
    "def pick_word(probabilities, int_to_vocab):\n",
    "    \"\"\"\n",
    "    Pick the next word in the generated text\n",
    "    :param probabilities: Probabilites of the next word\n",
    "    :param int_to_vocab: Dictionary of word ids as the keys and words as the values\n",
    "    :return: String of the predicted word\n",
    "    \"\"\"\n",
    "    # TODO: Implement Function\n",
    "    t = np.cumsum(probabilities)\n",
    "    rand_s = np.sum(probabilities) * np.random.rand(1)\n",
    "    pred_word = int_to_vocab[int(np.searchsorted(t, rand_s))]\n",
    "    \n",
    "    return pred_word\n",
    "\n",
    "\n",
    "\"\"\"\n",
    "DON'T MODIFY ANYTHING IN THIS CELL THAT IS BELOW THIS LINE\n",
    "\"\"\"\n",
    "tests.test_pick_word(pick_word)"
   ]
  },
  {
   "cell_type": "markdown",
   "metadata": {
    "deletable": true,
    "editable": true
   },
   "source": [
    "## Generate TV Script\n",
    "This will generate the TV script for you.  Set `gen_length` to the length of TV script you want to generate."
   ]
  },
  {
   "cell_type": "code",
   "execution_count": 25,
   "metadata": {
    "collapsed": false,
    "deletable": true,
    "editable": true
   },
   "outputs": [
    {
     "name": "stdout",
     "output_type": "stream",
     "text": [
      "moe_szyslak: well, i gotta hand it to you, homer. you're really brave to skinner.\n",
      "man_with_crazy_beard:(voice in) don't you slap to go.\n",
      "homer_simpson: geez moe.\n",
      "moe_szyslak:(into phone) hold on, i'll check.(to barflies) shut up and that.\n",
      "homer_simpson: so you know, i was thinking with you, and. i know your brother and...(frustrated noise)\n",
      "\n",
      "\n",
      "homer_simpson:(moans) i'd do anything.\n",
      "\n",
      "\n",
      "homer_simpson: havin' a party, moe. i'll need your name, measurements and turn ons.\n",
      "moe_szyslak: what is it, moe. but it's never going to sell a dad who shows up the time.\n",
      "homer_simpson: why not your pay!\n",
      "barney_gumble:(in moe's face) lord palmerston!\n",
      "\n",
      "\n",
      "barney_gumble:(amazed) wow.\n",
      "homer_simpson: oh, okay.\n",
      "marge_simpson:(surprised) you wanna help me?\n",
      "moe_szyslak: i'm spiffin' up the place! jeez,\n"
     ]
    }
   ],
   "source": [
    "gen_length = 200\n",
    "# homer_simpson, moe_szyslak, or Barney_Gumble\n",
    "prime_word = 'moe_szyslak'\n",
    "\n",
    "\"\"\"\n",
    "DON'T MODIFY ANYTHING IN THIS CELL THAT IS BELOW THIS LINE\n",
    "\"\"\"\n",
    "loaded_graph = tf.Graph()\n",
    "with tf.Session(graph=loaded_graph) as sess:\n",
    "    # Load saved model\n",
    "    loader = tf.train.import_meta_graph(load_dir + '.meta')\n",
    "    loader.restore(sess, load_dir)\n",
    "\n",
    "    # Get Tensors from loaded model\n",
    "    input_text, initial_state, final_state, probs = get_tensors(loaded_graph)\n",
    "\n",
    "    # Sentences generation setup\n",
    "    gen_sentences = [prime_word]\n",
    "    prev_state = sess.run(initial_state, {input_text: np.array([[1]])})\n",
    "\n",
    "    # Generate sentences\n",
    "    for n in range(gen_length):\n",
    "        # Dynamic Input\n",
    "        dyn_input = [[vocab_to_int[word] for word in gen_sentences[-seq_length:]]]\n",
    "        dyn_seq_length = len(dyn_input[0])\n",
    "\n",
    "        # Get Prediction\n",
    "        probabilities, prev_state = sess.run(\n",
    "            [probs, final_state],\n",
    "            {input_text: dyn_input, initial_state: prev_state})\n",
    "        \n",
    "        pred_word = pick_word(probabilities[dyn_seq_length-1], int_to_vocab)\n",
    "\n",
    "        gen_sentences.append(pred_word)\n",
    "    \n",
    "    # Remove tokens\n",
    "    tv_script = ' '.join(gen_sentences)\n",
    "    for key, token in token_dict.items():\n",
    "        ending = ' ' if key in ['\\n', '(', '\"'] else ''\n",
    "        tv_script = tv_script.replace(' ' + token.lower(), key)\n",
    "    tv_script = tv_script.replace('\\n ', '\\n')\n",
    "    tv_script = tv_script.replace('( ', '(')\n",
    "        \n",
    "    print(tv_script)"
   ]
  },
  {
   "cell_type": "markdown",
   "metadata": {
    "deletable": true,
    "editable": true
   },
   "source": [
    "# The TV Script is Nonsensical\n",
    "It's ok if the TV script doesn't make any sense.  We trained on less than a megabyte of text.  In order to get good results, you'll have to use a smaller vocabulary or get more data.  Luckly there's more data!  As we mentioned in the begging of this project, this is a subset of [another dataset](https://www.kaggle.com/wcukierski/the-simpsons-by-the-data).  We didn't have you train on all the data, because that would take too long.  However, you are free to train your neural network on all the data.  After you complete the project, of course.\n",
    "# Submitting This Project\n",
    "When submitting this project, make sure to run all the cells before saving the notebook. Save the notebook file as \"dlnd_tv_script_generation.ipynb\" and save it as a HTML file under \"File\" -> \"Download as\". Include the \"helper.py\" and \"problem_unittests.py\" files in your submission."
   ]
  },
  {
   "cell_type": "code",
   "execution_count": null,
   "metadata": {
    "collapsed": true
   },
   "outputs": [],
   "source": []
  }
 ],
 "metadata": {
  "kernelspec": {
   "display_name": "Python 3",
   "language": "python",
   "name": "python3"
  },
  "language_info": {
   "codemirror_mode": {
    "name": "ipython",
    "version": 3
   },
   "file_extension": ".py",
   "mimetype": "text/x-python",
   "name": "python",
   "nbconvert_exporter": "python",
   "pygments_lexer": "ipython3",
   "version": "3.5.2"
  },
  "widgets": {
   "state": {},
   "version": "1.1.2"
  }
 },
 "nbformat": 4,
 "nbformat_minor": 0
}
